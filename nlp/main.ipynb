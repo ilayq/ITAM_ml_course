{
 "cells": [
  {
   "cell_type": "code",
   "execution_count": 613,
   "metadata": {
    "collapsed": true
   },
   "outputs": [],
   "source": [
    "import pandas as pd\n"
   ]
  },
  {
   "cell_type": "code",
   "execution_count": 614,
   "outputs": [],
   "source": [
    "train = pd.read_csv('train.csv')\n",
    "test = pd.read_csv('test.csv')"
   ],
   "metadata": {
    "collapsed": false
   }
  },
  {
   "cell_type": "code",
   "execution_count": 615,
   "outputs": [
    {
     "data": {
      "text/plain": "     id                                               text  label\n0  4925    We can go 4 e normal pilates after our intro...    0.0\n1  2349              That seems unnecessarily affectionate    0.0\n2  1396  Thats cool! I am a gentleman and will treat yo...    0.0\n3   475  Nice line said by a broken heart- Plz don't cu...    0.0\n4  1473  Just sent you an email – to an address with in...    0.0",
      "text/html": "<div>\n<style scoped>\n    .dataframe tbody tr th:only-of-type {\n        vertical-align: middle;\n    }\n\n    .dataframe tbody tr th {\n        vertical-align: top;\n    }\n\n    .dataframe thead th {\n        text-align: right;\n    }\n</style>\n<table border=\"1\" class=\"dataframe\">\n  <thead>\n    <tr style=\"text-align: right;\">\n      <th></th>\n      <th>id</th>\n      <th>text</th>\n      <th>label</th>\n    </tr>\n  </thead>\n  <tbody>\n    <tr>\n      <th>0</th>\n      <td>4925</td>\n      <td>We can go 4 e normal pilates after our intro...</td>\n      <td>0.0</td>\n    </tr>\n    <tr>\n      <th>1</th>\n      <td>2349</td>\n      <td>That seems unnecessarily affectionate</td>\n      <td>0.0</td>\n    </tr>\n    <tr>\n      <th>2</th>\n      <td>1396</td>\n      <td>Thats cool! I am a gentleman and will treat yo...</td>\n      <td>0.0</td>\n    </tr>\n    <tr>\n      <th>3</th>\n      <td>475</td>\n      <td>Nice line said by a broken heart- Plz don't cu...</td>\n      <td>0.0</td>\n    </tr>\n    <tr>\n      <th>4</th>\n      <td>1473</td>\n      <td>Just sent you an email – to an address with in...</td>\n      <td>0.0</td>\n    </tr>\n  </tbody>\n</table>\n</div>"
     },
     "execution_count": 615,
     "metadata": {},
     "output_type": "execute_result"
    }
   ],
   "source": [
    "train.head()"
   ],
   "metadata": {
    "collapsed": false
   }
  },
  {
   "cell_type": "code",
   "execution_count": 616,
   "outputs": [
    {
     "data": {
      "text/plain": "(4180, 3)"
     },
     "execution_count": 616,
     "metadata": {},
     "output_type": "execute_result"
    }
   ],
   "source": [
    "train.shape"
   ],
   "metadata": {
    "collapsed": false
   }
  },
  {
   "cell_type": "code",
   "execution_count": 617,
   "outputs": [
    {
     "data": {
      "text/plain": "0    We can go 4 e normal pilates after our intro...\nName: text, dtype: object"
     },
     "execution_count": 617,
     "metadata": {},
     "output_type": "execute_result"
    }
   ],
   "source": [
    "train[train.id == 4925].text"
   ],
   "metadata": {
    "collapsed": false
   }
  },
  {
   "cell_type": "code",
   "execution_count": 618,
   "outputs": [
    {
     "data": {
      "text/plain": "     id                                               text\n0   111           What is the plural of the noun research?\n1  4574  \"URGENT! This is the 2nd attempt to contact U!...\n2  2325                                            Ok lor.\n3  3635  Its a big difference. &lt;#&gt; versus &lt;#&g...\n4  2412                        Come to me right now, Ahmad",
      "text/html": "<div>\n<style scoped>\n    .dataframe tbody tr th:only-of-type {\n        vertical-align: middle;\n    }\n\n    .dataframe tbody tr th {\n        vertical-align: top;\n    }\n\n    .dataframe thead th {\n        text-align: right;\n    }\n</style>\n<table border=\"1\" class=\"dataframe\">\n  <thead>\n    <tr style=\"text-align: right;\">\n      <th></th>\n      <th>id</th>\n      <th>text</th>\n    </tr>\n  </thead>\n  <tbody>\n    <tr>\n      <th>0</th>\n      <td>111</td>\n      <td>What is the plural of the noun research?</td>\n    </tr>\n    <tr>\n      <th>1</th>\n      <td>4574</td>\n      <td>\"URGENT! This is the 2nd attempt to contact U!...</td>\n    </tr>\n    <tr>\n      <th>2</th>\n      <td>2325</td>\n      <td>Ok lor.</td>\n    </tr>\n    <tr>\n      <th>3</th>\n      <td>3635</td>\n      <td>Its a big difference. &amp;lt;#&amp;gt; versus &amp;lt;#&amp;g...</td>\n    </tr>\n    <tr>\n      <th>4</th>\n      <td>2412</td>\n      <td>Come to me right now, Ahmad</td>\n    </tr>\n  </tbody>\n</table>\n</div>"
     },
     "execution_count": 618,
     "metadata": {},
     "output_type": "execute_result"
    }
   ],
   "source": [
    "test.head()"
   ],
   "metadata": {
    "collapsed": false
   }
  },
  {
   "cell_type": "code",
   "execution_count": 619,
   "outputs": [],
   "source": [
    "all_d = [train, test]"
   ],
   "metadata": {
    "collapsed": false
   }
  },
  {
   "cell_type": "code",
   "execution_count": 620,
   "outputs": [],
   "source": [
    "import re"
   ],
   "metadata": {
    "collapsed": false
   }
  },
  {
   "cell_type": "code",
   "execution_count": 621,
   "outputs": [],
   "source": [
    "def clean_sym(string: str) -> str:\n",
    "    string = string.lower()\n",
    "    regular = r'[\\*+\\#+\\№\\\"\\-+\\+\\=+\\?+\\&\\^\\.+\\;\\,+\\>+\\(\\)\\/+\\:\\\\+]' #удаляет символы\n",
    "    regular_url = r'(http\\S+)|(www\\S+)|([\\w\\d]+www\\S+)|([\\w\\d]+http\\S+)' #заменяет урлы на \"URL\"\n",
    "    string = re.sub(regular, '', string)\n",
    "    string = re.sub(regular_url, r'URL', string)\n",
    "    string = re.sub(r'(\\d+\\s\\d+)|(\\d+)',' NUM ', string) #реплейсим числа на \"NUM\"\n",
    "    string = re.sub(r'\\s+', ' ', string) #удаляем лишние пробелы\n",
    "    return string\n"
   ],
   "metadata": {
    "collapsed": false
   }
  },
  {
   "cell_type": "code",
   "execution_count": 622,
   "outputs": [],
   "source": [
    "cleaned = []\n",
    "for i in train.text:\n",
    "    t = clean_sym(i)\n",
    "    cleaned.append(t)\n",
    "train['cleaned'] = cleaned"
   ],
   "metadata": {
    "collapsed": false
   }
  },
  {
   "cell_type": "code",
   "execution_count": 623,
   "outputs": [
    {
     "data": {
      "text/plain": "     id                                               text  label  \\\n0  4925    We can go 4 e normal pilates after our intro...    0.0   \n1  2349              That seems unnecessarily affectionate    0.0   \n2  1396  Thats cool! I am a gentleman and will treat yo...    0.0   \n3   475  Nice line said by a broken heart- Plz don't cu...    0.0   \n4  1473  Just sent you an email – to an address with in...    0.0   \n\n                                             cleaned  \n0     we can go NUM e normal pilates after our intro  \n1              that seems unnecessarily affectionate  \n2  thats cool! i am a gentleman and will treat yo...  \n3  nice line said by a broken heart plz don't cum...  \n4  just sent you an email – to an address with in...  ",
      "text/html": "<div>\n<style scoped>\n    .dataframe tbody tr th:only-of-type {\n        vertical-align: middle;\n    }\n\n    .dataframe tbody tr th {\n        vertical-align: top;\n    }\n\n    .dataframe thead th {\n        text-align: right;\n    }\n</style>\n<table border=\"1\" class=\"dataframe\">\n  <thead>\n    <tr style=\"text-align: right;\">\n      <th></th>\n      <th>id</th>\n      <th>text</th>\n      <th>label</th>\n      <th>cleaned</th>\n    </tr>\n  </thead>\n  <tbody>\n    <tr>\n      <th>0</th>\n      <td>4925</td>\n      <td>We can go 4 e normal pilates after our intro...</td>\n      <td>0.0</td>\n      <td>we can go NUM e normal pilates after our intro</td>\n    </tr>\n    <tr>\n      <th>1</th>\n      <td>2349</td>\n      <td>That seems unnecessarily affectionate</td>\n      <td>0.0</td>\n      <td>that seems unnecessarily affectionate</td>\n    </tr>\n    <tr>\n      <th>2</th>\n      <td>1396</td>\n      <td>Thats cool! I am a gentleman and will treat yo...</td>\n      <td>0.0</td>\n      <td>thats cool! i am a gentleman and will treat yo...</td>\n    </tr>\n    <tr>\n      <th>3</th>\n      <td>475</td>\n      <td>Nice line said by a broken heart- Plz don't cu...</td>\n      <td>0.0</td>\n      <td>nice line said by a broken heart plz don't cum...</td>\n    </tr>\n    <tr>\n      <th>4</th>\n      <td>1473</td>\n      <td>Just sent you an email – to an address with in...</td>\n      <td>0.0</td>\n      <td>just sent you an email – to an address with in...</td>\n    </tr>\n  </tbody>\n</table>\n</div>"
     },
     "execution_count": 623,
     "metadata": {},
     "output_type": "execute_result"
    }
   ],
   "source": [
    "train.head()"
   ],
   "metadata": {
    "collapsed": false
   }
  },
  {
   "cell_type": "code",
   "execution_count": 624,
   "outputs": [],
   "source": [
    "cleaned = []\n",
    "for i in test.text:\n",
    "    t = clean_sym(i)\n",
    "    cleaned.append(t)\n",
    "test['cleaned'] = cleaned"
   ],
   "metadata": {
    "collapsed": false
   }
  },
  {
   "cell_type": "code",
   "execution_count": 625,
   "outputs": [
    {
     "data": {
      "text/plain": "     id                                               text  \\\n0   111           What is the plural of the noun research?   \n1  4574  \"URGENT! This is the 2nd attempt to contact U!...   \n2  2325                                            Ok lor.   \n3  3635  Its a big difference. &lt;#&gt; versus &lt;#&g...   \n4  2412                        Come to me right now, Ahmad   \n\n                                             cleaned  \n0            what is the plural of the noun research  \n1  urgent! this is the NUM nd attempt to contact ...  \n2                                             ok lor  \n3  its a big difference ltgt versus ltgt every lt...  \n4                         come to me right now ahmad  ",
      "text/html": "<div>\n<style scoped>\n    .dataframe tbody tr th:only-of-type {\n        vertical-align: middle;\n    }\n\n    .dataframe tbody tr th {\n        vertical-align: top;\n    }\n\n    .dataframe thead th {\n        text-align: right;\n    }\n</style>\n<table border=\"1\" class=\"dataframe\">\n  <thead>\n    <tr style=\"text-align: right;\">\n      <th></th>\n      <th>id</th>\n      <th>text</th>\n      <th>cleaned</th>\n    </tr>\n  </thead>\n  <tbody>\n    <tr>\n      <th>0</th>\n      <td>111</td>\n      <td>What is the plural of the noun research?</td>\n      <td>what is the plural of the noun research</td>\n    </tr>\n    <tr>\n      <th>1</th>\n      <td>4574</td>\n      <td>\"URGENT! This is the 2nd attempt to contact U!...</td>\n      <td>urgent! this is the NUM nd attempt to contact ...</td>\n    </tr>\n    <tr>\n      <th>2</th>\n      <td>2325</td>\n      <td>Ok lor.</td>\n      <td>ok lor</td>\n    </tr>\n    <tr>\n      <th>3</th>\n      <td>3635</td>\n      <td>Its a big difference. &amp;lt;#&amp;gt; versus &amp;lt;#&amp;g...</td>\n      <td>its a big difference ltgt versus ltgt every lt...</td>\n    </tr>\n    <tr>\n      <th>4</th>\n      <td>2412</td>\n      <td>Come to me right now, Ahmad</td>\n      <td>come to me right now ahmad</td>\n    </tr>\n  </tbody>\n</table>\n</div>"
     },
     "execution_count": 625,
     "metadata": {},
     "output_type": "execute_result"
    }
   ],
   "source": [
    "test.head()"
   ],
   "metadata": {
    "collapsed": false
   }
  },
  {
   "cell_type": "code",
   "execution_count": 626,
   "outputs": [],
   "source": [
    "#токенизация\n",
    "import nltk\n",
    "from nltk.tokenize import sent_tokenize, word_tokenize"
   ],
   "metadata": {
    "collapsed": false
   }
  },
  {
   "cell_type": "code",
   "execution_count": 627,
   "outputs": [
    {
     "name": "stderr",
     "output_type": "stream",
     "text": [
      "[nltk_data] Downloading package punkt to\n",
      "[nltk_data]     C:\\Users\\ilayf\\AppData\\Roaming\\nltk_data...\n",
      "[nltk_data]   Package punkt is already up-to-date!\n"
     ]
    },
    {
     "data": {
      "text/plain": "True"
     },
     "execution_count": 627,
     "metadata": {},
     "output_type": "execute_result"
    }
   ],
   "source": [
    "nltk.download('punkt')"
   ],
   "metadata": {
    "collapsed": false
   }
  },
  {
   "cell_type": "code",
   "execution_count": 628,
   "outputs": [
    {
     "data": {
      "text/plain": "     id                                               text  label  \\\n0  4925    We can go 4 e normal pilates after our intro...    0.0   \n1  2349              That seems unnecessarily affectionate    0.0   \n2  1396  Thats cool! I am a gentleman and will treat yo...    0.0   \n3   475  Nice line said by a broken heart- Plz don't cu...    0.0   \n4  1473  Just sent you an email – to an address with in...    0.0   \n\n                                             cleaned  \\\n0     we can go NUM e normal pilates after our intro   \n1              that seems unnecessarily affectionate   \n2  thats cool! i am a gentleman and will treat yo...   \n3  nice line said by a broken heart plz don't cum...   \n4  just sent you an email – to an address with in...   \n\n                                       word_tokenize  \n0  [we, can, go, NUM, e, normal, pilates, after, ...  \n1         [that, seems, unnecessarily, affectionate]  \n2  [thats, cool, !, i, am, a, gentleman, and, wil...  \n3  [nice, line, said, by, a, broken, heart, plz, ...  \n4  [just, sent, you, an, email, –, to, an, addres...  ",
      "text/html": "<div>\n<style scoped>\n    .dataframe tbody tr th:only-of-type {\n        vertical-align: middle;\n    }\n\n    .dataframe tbody tr th {\n        vertical-align: top;\n    }\n\n    .dataframe thead th {\n        text-align: right;\n    }\n</style>\n<table border=\"1\" class=\"dataframe\">\n  <thead>\n    <tr style=\"text-align: right;\">\n      <th></th>\n      <th>id</th>\n      <th>text</th>\n      <th>label</th>\n      <th>cleaned</th>\n      <th>word_tokenize</th>\n    </tr>\n  </thead>\n  <tbody>\n    <tr>\n      <th>0</th>\n      <td>4925</td>\n      <td>We can go 4 e normal pilates after our intro...</td>\n      <td>0.0</td>\n      <td>we can go NUM e normal pilates after our intro</td>\n      <td>[we, can, go, NUM, e, normal, pilates, after, ...</td>\n    </tr>\n    <tr>\n      <th>1</th>\n      <td>2349</td>\n      <td>That seems unnecessarily affectionate</td>\n      <td>0.0</td>\n      <td>that seems unnecessarily affectionate</td>\n      <td>[that, seems, unnecessarily, affectionate]</td>\n    </tr>\n    <tr>\n      <th>2</th>\n      <td>1396</td>\n      <td>Thats cool! I am a gentleman and will treat yo...</td>\n      <td>0.0</td>\n      <td>thats cool! i am a gentleman and will treat yo...</td>\n      <td>[thats, cool, !, i, am, a, gentleman, and, wil...</td>\n    </tr>\n    <tr>\n      <th>3</th>\n      <td>475</td>\n      <td>Nice line said by a broken heart- Plz don't cu...</td>\n      <td>0.0</td>\n      <td>nice line said by a broken heart plz don't cum...</td>\n      <td>[nice, line, said, by, a, broken, heart, plz, ...</td>\n    </tr>\n    <tr>\n      <th>4</th>\n      <td>1473</td>\n      <td>Just sent you an email – to an address with in...</td>\n      <td>0.0</td>\n      <td>just sent you an email – to an address with in...</td>\n      <td>[just, sent, you, an, email, –, to, an, addres...</td>\n    </tr>\n  </tbody>\n</table>\n</div>"
     },
     "execution_count": 628,
     "metadata": {},
     "output_type": "execute_result"
    }
   ],
   "source": [
    "# word tokenize\n",
    "for i in all_d:\n",
    "    tokens = []\n",
    "    for j in i.cleaned:\n",
    "        t = word_tokenize(j)\n",
    "        tokens.append(t)\n",
    "    i['word_tokenize'] = tokens\n",
    "train.head()"
   ],
   "metadata": {
    "collapsed": false
   }
  },
  {
   "cell_type": "code",
   "execution_count": 629,
   "outputs": [
    {
     "data": {
      "text/plain": "     id                                               text  \\\n0   111           What is the plural of the noun research?   \n1  4574  \"URGENT! This is the 2nd attempt to contact U!...   \n2  2325                                            Ok lor.   \n3  3635  Its a big difference. &lt;#&gt; versus &lt;#&g...   \n4  2412                        Come to me right now, Ahmad   \n\n                                             cleaned  \\\n0            what is the plural of the noun research   \n1  urgent! this is the NUM nd attempt to contact ...   \n2                                             ok lor   \n3  its a big difference ltgt versus ltgt every lt...   \n4                         come to me right now ahmad   \n\n                                       word_tokenize  \n0   [what, is, the, plural, of, the, noun, research]  \n1  [urgent, !, this, is, the, NUM, nd, attempt, t...  \n2                                          [ok, lor]  \n3  [its, a, big, difference, ltgt, versus, ltgt, ...  \n4                  [come, to, me, right, now, ahmad]  ",
      "text/html": "<div>\n<style scoped>\n    .dataframe tbody tr th:only-of-type {\n        vertical-align: middle;\n    }\n\n    .dataframe tbody tr th {\n        vertical-align: top;\n    }\n\n    .dataframe thead th {\n        text-align: right;\n    }\n</style>\n<table border=\"1\" class=\"dataframe\">\n  <thead>\n    <tr style=\"text-align: right;\">\n      <th></th>\n      <th>id</th>\n      <th>text</th>\n      <th>cleaned</th>\n      <th>word_tokenize</th>\n    </tr>\n  </thead>\n  <tbody>\n    <tr>\n      <th>0</th>\n      <td>111</td>\n      <td>What is the plural of the noun research?</td>\n      <td>what is the plural of the noun research</td>\n      <td>[what, is, the, plural, of, the, noun, research]</td>\n    </tr>\n    <tr>\n      <th>1</th>\n      <td>4574</td>\n      <td>\"URGENT! This is the 2nd attempt to contact U!...</td>\n      <td>urgent! this is the NUM nd attempt to contact ...</td>\n      <td>[urgent, !, this, is, the, NUM, nd, attempt, t...</td>\n    </tr>\n    <tr>\n      <th>2</th>\n      <td>2325</td>\n      <td>Ok lor.</td>\n      <td>ok lor</td>\n      <td>[ok, lor]</td>\n    </tr>\n    <tr>\n      <th>3</th>\n      <td>3635</td>\n      <td>Its a big difference. &amp;lt;#&amp;gt; versus &amp;lt;#&amp;g...</td>\n      <td>its a big difference ltgt versus ltgt every lt...</td>\n      <td>[its, a, big, difference, ltgt, versus, ltgt, ...</td>\n    </tr>\n    <tr>\n      <th>4</th>\n      <td>2412</td>\n      <td>Come to me right now, Ahmad</td>\n      <td>come to me right now ahmad</td>\n      <td>[come, to, me, right, now, ahmad]</td>\n    </tr>\n  </tbody>\n</table>\n</div>"
     },
     "execution_count": 629,
     "metadata": {},
     "output_type": "execute_result"
    }
   ],
   "source": [
    "test.head()"
   ],
   "metadata": {
    "collapsed": false
   }
  },
  {
   "cell_type": "code",
   "execution_count": 630,
   "outputs": [
    {
     "data": {
      "text/plain": "     id                                               text  label  \\\n0  4925    We can go 4 e normal pilates after our intro...    0.0   \n1  2349              That seems unnecessarily affectionate    0.0   \n2  1396  Thats cool! I am a gentleman and will treat yo...    0.0   \n3   475  Nice line said by a broken heart- Plz don't cu...    0.0   \n4  1473  Just sent you an email – to an address with in...    0.0   \n\n                                             cleaned  \\\n0     we can go NUM e normal pilates after our intro   \n1              that seems unnecessarily affectionate   \n2  thats cool! i am a gentleman and will treat yo...   \n3  nice line said by a broken heart plz don't cum...   \n4  just sent you an email – to an address with in...   \n\n                                       word_tokenize  \\\n0  [we, can, go, NUM, e, normal, pilates, after, ...   \n1         [that, seems, unnecessarily, affectionate]   \n2  [thats, cool, !, i, am, a, gentleman, and, wil...   \n3  [nice, line, said, by, a, broken, heart, plz, ...   \n4  [just, sent, you, an, email, –, to, an, addres...   \n\n                                       sent_tokenize  \n0   [we can go NUM e normal pilates after our intro]  \n1            [that seems unnecessarily affectionate]  \n2  [thats cool!, i am a gentleman and will treat ...  \n3  [nice line said by a broken heart plz don't cu...  \n4  [just sent you an email – to an address with i...  ",
      "text/html": "<div>\n<style scoped>\n    .dataframe tbody tr th:only-of-type {\n        vertical-align: middle;\n    }\n\n    .dataframe tbody tr th {\n        vertical-align: top;\n    }\n\n    .dataframe thead th {\n        text-align: right;\n    }\n</style>\n<table border=\"1\" class=\"dataframe\">\n  <thead>\n    <tr style=\"text-align: right;\">\n      <th></th>\n      <th>id</th>\n      <th>text</th>\n      <th>label</th>\n      <th>cleaned</th>\n      <th>word_tokenize</th>\n      <th>sent_tokenize</th>\n    </tr>\n  </thead>\n  <tbody>\n    <tr>\n      <th>0</th>\n      <td>4925</td>\n      <td>We can go 4 e normal pilates after our intro...</td>\n      <td>0.0</td>\n      <td>we can go NUM e normal pilates after our intro</td>\n      <td>[we, can, go, NUM, e, normal, pilates, after, ...</td>\n      <td>[we can go NUM e normal pilates after our intro]</td>\n    </tr>\n    <tr>\n      <th>1</th>\n      <td>2349</td>\n      <td>That seems unnecessarily affectionate</td>\n      <td>0.0</td>\n      <td>that seems unnecessarily affectionate</td>\n      <td>[that, seems, unnecessarily, affectionate]</td>\n      <td>[that seems unnecessarily affectionate]</td>\n    </tr>\n    <tr>\n      <th>2</th>\n      <td>1396</td>\n      <td>Thats cool! I am a gentleman and will treat yo...</td>\n      <td>0.0</td>\n      <td>thats cool! i am a gentleman and will treat yo...</td>\n      <td>[thats, cool, !, i, am, a, gentleman, and, wil...</td>\n      <td>[thats cool!, i am a gentleman and will treat ...</td>\n    </tr>\n    <tr>\n      <th>3</th>\n      <td>475</td>\n      <td>Nice line said by a broken heart- Plz don't cu...</td>\n      <td>0.0</td>\n      <td>nice line said by a broken heart plz don't cum...</td>\n      <td>[nice, line, said, by, a, broken, heart, plz, ...</td>\n      <td>[nice line said by a broken heart plz don't cu...</td>\n    </tr>\n    <tr>\n      <th>4</th>\n      <td>1473</td>\n      <td>Just sent you an email – to an address with in...</td>\n      <td>0.0</td>\n      <td>just sent you an email – to an address with in...</td>\n      <td>[just, sent, you, an, email, –, to, an, addres...</td>\n      <td>[just sent you an email – to an address with i...</td>\n    </tr>\n  </tbody>\n</table>\n</div>"
     },
     "execution_count": 630,
     "metadata": {},
     "output_type": "execute_result"
    }
   ],
   "source": [
    "#sent tokenize\n",
    "for i in all_d:\n",
    "    tokens = []\n",
    "    for j in i.cleaned:\n",
    "        t = sent_tokenize(j)\n",
    "        tokens.append(t)\n",
    "    i['sent_tokenize'] = tokens\n",
    "train.head()"
   ],
   "metadata": {
    "collapsed": false
   }
  },
  {
   "cell_type": "code",
   "execution_count": 631,
   "outputs": [
    {
     "data": {
      "text/plain": "     id                                               text  \\\n0   111           What is the plural of the noun research?   \n1  4574  \"URGENT! This is the 2nd attempt to contact U!...   \n2  2325                                            Ok lor.   \n3  3635  Its a big difference. &lt;#&gt; versus &lt;#&g...   \n4  2412                        Come to me right now, Ahmad   \n\n                                             cleaned  \\\n0            what is the plural of the noun research   \n1  urgent! this is the NUM nd attempt to contact ...   \n2                                             ok lor   \n3  its a big difference ltgt versus ltgt every lt...   \n4                         come to me right now ahmad   \n\n                                       word_tokenize  \\\n0   [what, is, the, plural, of, the, noun, research]   \n1  [urgent, !, this, is, the, NUM, nd, attempt, t...   \n2                                          [ok, lor]   \n3  [its, a, big, difference, ltgt, versus, ltgt, ...   \n4                  [come, to, me, right, now, ahmad]   \n\n                                       sent_tokenize  \n0          [what is the plural of the noun research]  \n1  [urgent!, this is the NUM nd attempt to contac...  \n2                                           [ok lor]  \n3  [its a big difference ltgt versus ltgt every l...  \n4                       [come to me right now ahmad]  ",
      "text/html": "<div>\n<style scoped>\n    .dataframe tbody tr th:only-of-type {\n        vertical-align: middle;\n    }\n\n    .dataframe tbody tr th {\n        vertical-align: top;\n    }\n\n    .dataframe thead th {\n        text-align: right;\n    }\n</style>\n<table border=\"1\" class=\"dataframe\">\n  <thead>\n    <tr style=\"text-align: right;\">\n      <th></th>\n      <th>id</th>\n      <th>text</th>\n      <th>cleaned</th>\n      <th>word_tokenize</th>\n      <th>sent_tokenize</th>\n    </tr>\n  </thead>\n  <tbody>\n    <tr>\n      <th>0</th>\n      <td>111</td>\n      <td>What is the plural of the noun research?</td>\n      <td>what is the plural of the noun research</td>\n      <td>[what, is, the, plural, of, the, noun, research]</td>\n      <td>[what is the plural of the noun research]</td>\n    </tr>\n    <tr>\n      <th>1</th>\n      <td>4574</td>\n      <td>\"URGENT! This is the 2nd attempt to contact U!...</td>\n      <td>urgent! this is the NUM nd attempt to contact ...</td>\n      <td>[urgent, !, this, is, the, NUM, nd, attempt, t...</td>\n      <td>[urgent!, this is the NUM nd attempt to contac...</td>\n    </tr>\n    <tr>\n      <th>2</th>\n      <td>2325</td>\n      <td>Ok lor.</td>\n      <td>ok lor</td>\n      <td>[ok, lor]</td>\n      <td>[ok lor]</td>\n    </tr>\n    <tr>\n      <th>3</th>\n      <td>3635</td>\n      <td>Its a big difference. &amp;lt;#&amp;gt; versus &amp;lt;#&amp;g...</td>\n      <td>its a big difference ltgt versus ltgt every lt...</td>\n      <td>[its, a, big, difference, ltgt, versus, ltgt, ...</td>\n      <td>[its a big difference ltgt versus ltgt every l...</td>\n    </tr>\n    <tr>\n      <th>4</th>\n      <td>2412</td>\n      <td>Come to me right now, Ahmad</td>\n      <td>come to me right now ahmad</td>\n      <td>[come, to, me, right, now, ahmad]</td>\n      <td>[come to me right now ahmad]</td>\n    </tr>\n  </tbody>\n</table>\n</div>"
     },
     "execution_count": 631,
     "metadata": {},
     "output_type": "execute_result"
    }
   ],
   "source": [
    "test.head()"
   ],
   "metadata": {
    "collapsed": false
   }
  },
  {
   "cell_type": "code",
   "execution_count": 632,
   "outputs": [
    {
     "name": "stderr",
     "output_type": "stream",
     "text": [
      "[nltk_data] Downloading package stopwords to\n",
      "[nltk_data]     C:\\Users\\ilayf\\AppData\\Roaming\\nltk_data...\n",
      "[nltk_data]   Package stopwords is already up-to-date!\n"
     ]
    },
    {
     "data": {
      "text/plain": "True"
     },
     "execution_count": 632,
     "metadata": {},
     "output_type": "execute_result"
    }
   ],
   "source": [
    "nltk.download('stopwords')"
   ],
   "metadata": {
    "collapsed": false
   }
  },
  {
   "cell_type": "code",
   "execution_count": 633,
   "outputs": [
    {
     "data": {
      "text/plain": "     id                                               text  label  \\\n0  4925    We can go 4 e normal pilates after our intro...    0.0   \n1  2349              That seems unnecessarily affectionate    0.0   \n2  1396  Thats cool! I am a gentleman and will treat yo...    0.0   \n3   475  Nice line said by a broken heart- Plz don't cu...    0.0   \n4  1473  Just sent you an email – to an address with in...    0.0   \n\n                                             cleaned  \\\n0     we can go NUM e normal pilates after our intro   \n1              that seems unnecessarily affectionate   \n2  thats cool! i am a gentleman and will treat yo...   \n3  nice line said by a broken heart plz don't cum...   \n4  just sent you an email – to an address with in...   \n\n                                       word_tokenize  \\\n0  [we, can, go, NUM, e, normal, pilates, after, ...   \n1         [that, seems, unnecessarily, affectionate]   \n2  [thats, cool, !, i, am, a, gentleman, and, wil...   \n3  [nice, line, said, by, a, broken, heart, plz, ...   \n4  [just, sent, you, an, email, –, to, an, addres...   \n\n                                       sent_tokenize  \\\n0   [we can go NUM e normal pilates after our intro]   \n1            [that seems unnecessarily affectionate]   \n2  [thats cool!, i am a gentleman and will treat ...   \n3  [nice line said by a broken heart plz don't cu...   \n4  [just sent you an email – to an address with i...   \n\n                                          stop_words  \n0               [go, NUM, e, normal, pilates, intro]  \n1               [seems, unnecessarily, affectionate]  \n2  [thats, cool, !, gentleman, treat, dignity, re...  \n3  [nice, line, said, broken, heart, plz, n't, cu...  \n4           [sent, email, –, address, incomm, right]  ",
      "text/html": "<div>\n<style scoped>\n    .dataframe tbody tr th:only-of-type {\n        vertical-align: middle;\n    }\n\n    .dataframe tbody tr th {\n        vertical-align: top;\n    }\n\n    .dataframe thead th {\n        text-align: right;\n    }\n</style>\n<table border=\"1\" class=\"dataframe\">\n  <thead>\n    <tr style=\"text-align: right;\">\n      <th></th>\n      <th>id</th>\n      <th>text</th>\n      <th>label</th>\n      <th>cleaned</th>\n      <th>word_tokenize</th>\n      <th>sent_tokenize</th>\n      <th>stop_words</th>\n    </tr>\n  </thead>\n  <tbody>\n    <tr>\n      <th>0</th>\n      <td>4925</td>\n      <td>We can go 4 e normal pilates after our intro...</td>\n      <td>0.0</td>\n      <td>we can go NUM e normal pilates after our intro</td>\n      <td>[we, can, go, NUM, e, normal, pilates, after, ...</td>\n      <td>[we can go NUM e normal pilates after our intro]</td>\n      <td>[go, NUM, e, normal, pilates, intro]</td>\n    </tr>\n    <tr>\n      <th>1</th>\n      <td>2349</td>\n      <td>That seems unnecessarily affectionate</td>\n      <td>0.0</td>\n      <td>that seems unnecessarily affectionate</td>\n      <td>[that, seems, unnecessarily, affectionate]</td>\n      <td>[that seems unnecessarily affectionate]</td>\n      <td>[seems, unnecessarily, affectionate]</td>\n    </tr>\n    <tr>\n      <th>2</th>\n      <td>1396</td>\n      <td>Thats cool! I am a gentleman and will treat yo...</td>\n      <td>0.0</td>\n      <td>thats cool! i am a gentleman and will treat yo...</td>\n      <td>[thats, cool, !, i, am, a, gentleman, and, wil...</td>\n      <td>[thats cool!, i am a gentleman and will treat ...</td>\n      <td>[thats, cool, !, gentleman, treat, dignity, re...</td>\n    </tr>\n    <tr>\n      <th>3</th>\n      <td>475</td>\n      <td>Nice line said by a broken heart- Plz don't cu...</td>\n      <td>0.0</td>\n      <td>nice line said by a broken heart plz don't cum...</td>\n      <td>[nice, line, said, by, a, broken, heart, plz, ...</td>\n      <td>[nice line said by a broken heart plz don't cu...</td>\n      <td>[nice, line, said, broken, heart, plz, n't, cu...</td>\n    </tr>\n    <tr>\n      <th>4</th>\n      <td>1473</td>\n      <td>Just sent you an email – to an address with in...</td>\n      <td>0.0</td>\n      <td>just sent you an email – to an address with in...</td>\n      <td>[just, sent, you, an, email, –, to, an, addres...</td>\n      <td>[just sent you an email – to an address with i...</td>\n      <td>[sent, email, –, address, incomm, right]</td>\n    </tr>\n  </tbody>\n</table>\n</div>"
     },
     "execution_count": 633,
     "metadata": {},
     "output_type": "execute_result"
    }
   ],
   "source": [
    "#удаление стоп-слов\n",
    "from nltk.corpus import stopwords\n",
    "\n",
    "stop_words = stopwords.words('english')\n",
    "for ds in all_d:\n",
    "    clean_stop = []\n",
    "    for text in ds.word_tokenize:\n",
    "        t = [word for word in text if word not in stop_words]\n",
    "        clean_stop.append(t)\n",
    "    ds['stop_words'] = clean_stop\n",
    "train.head()"
   ],
   "metadata": {
    "collapsed": false
   }
  },
  {
   "cell_type": "code",
   "execution_count": 634,
   "outputs": [
    {
     "data": {
      "text/plain": "     id                                               text  \\\n0   111           What is the plural of the noun research?   \n1  4574  \"URGENT! This is the 2nd attempt to contact U!...   \n2  2325                                            Ok lor.   \n3  3635  Its a big difference. &lt;#&gt; versus &lt;#&g...   \n4  2412                        Come to me right now, Ahmad   \n\n                                             cleaned  \\\n0            what is the plural of the noun research   \n1  urgent! this is the NUM nd attempt to contact ...   \n2                                             ok lor   \n3  its a big difference ltgt versus ltgt every lt...   \n4                         come to me right now ahmad   \n\n                                       word_tokenize  \\\n0   [what, is, the, plural, of, the, noun, research]   \n1  [urgent, !, this, is, the, NUM, nd, attempt, t...   \n2                                          [ok, lor]   \n3  [its, a, big, difference, ltgt, versus, ltgt, ...   \n4                  [come, to, me, right, now, ahmad]   \n\n                                       sent_tokenize  \\\n0          [what is the plural of the noun research]   \n1  [urgent!, this is the NUM nd attempt to contac...   \n2                                           [ok lor]   \n3  [its a big difference ltgt versus ltgt every l...   \n4                       [come to me right now ahmad]   \n\n                                          stop_words  \n0                           [plural, noun, research]  \n1  [urgent, !, NUM, nd, attempt, contact, u, !, u...  \n2                                          [ok, lor]  \n3  [big, difference, ltgt, versus, ltgt, every, l...  \n4                               [come, right, ahmad]  ",
      "text/html": "<div>\n<style scoped>\n    .dataframe tbody tr th:only-of-type {\n        vertical-align: middle;\n    }\n\n    .dataframe tbody tr th {\n        vertical-align: top;\n    }\n\n    .dataframe thead th {\n        text-align: right;\n    }\n</style>\n<table border=\"1\" class=\"dataframe\">\n  <thead>\n    <tr style=\"text-align: right;\">\n      <th></th>\n      <th>id</th>\n      <th>text</th>\n      <th>cleaned</th>\n      <th>word_tokenize</th>\n      <th>sent_tokenize</th>\n      <th>stop_words</th>\n    </tr>\n  </thead>\n  <tbody>\n    <tr>\n      <th>0</th>\n      <td>111</td>\n      <td>What is the plural of the noun research?</td>\n      <td>what is the plural of the noun research</td>\n      <td>[what, is, the, plural, of, the, noun, research]</td>\n      <td>[what is the plural of the noun research]</td>\n      <td>[plural, noun, research]</td>\n    </tr>\n    <tr>\n      <th>1</th>\n      <td>4574</td>\n      <td>\"URGENT! This is the 2nd attempt to contact U!...</td>\n      <td>urgent! this is the NUM nd attempt to contact ...</td>\n      <td>[urgent, !, this, is, the, NUM, nd, attempt, t...</td>\n      <td>[urgent!, this is the NUM nd attempt to contac...</td>\n      <td>[urgent, !, NUM, nd, attempt, contact, u, !, u...</td>\n    </tr>\n    <tr>\n      <th>2</th>\n      <td>2325</td>\n      <td>Ok lor.</td>\n      <td>ok lor</td>\n      <td>[ok, lor]</td>\n      <td>[ok lor]</td>\n      <td>[ok, lor]</td>\n    </tr>\n    <tr>\n      <th>3</th>\n      <td>3635</td>\n      <td>Its a big difference. &amp;lt;#&amp;gt; versus &amp;lt;#&amp;g...</td>\n      <td>its a big difference ltgt versus ltgt every lt...</td>\n      <td>[its, a, big, difference, ltgt, versus, ltgt, ...</td>\n      <td>[its a big difference ltgt versus ltgt every l...</td>\n      <td>[big, difference, ltgt, versus, ltgt, every, l...</td>\n    </tr>\n    <tr>\n      <th>4</th>\n      <td>2412</td>\n      <td>Come to me right now, Ahmad</td>\n      <td>come to me right now ahmad</td>\n      <td>[come, to, me, right, now, ahmad]</td>\n      <td>[come to me right now ahmad]</td>\n      <td>[come, right, ahmad]</td>\n    </tr>\n  </tbody>\n</table>\n</div>"
     },
     "execution_count": 634,
     "metadata": {},
     "output_type": "execute_result"
    }
   ],
   "source": [
    "test.head()"
   ],
   "metadata": {
    "collapsed": false
   }
  },
  {
   "cell_type": "code",
   "execution_count": 635,
   "outputs": [
    {
     "name": "stderr",
     "output_type": "stream",
     "text": [
      "[nltk_data] Downloading package wordnet to\n",
      "[nltk_data]     C:\\Users\\ilayf\\AppData\\Roaming\\nltk_data...\n",
      "[nltk_data]   Package wordnet is already up-to-date!\n"
     ]
    },
    {
     "data": {
      "text/plain": "True"
     },
     "execution_count": 635,
     "metadata": {},
     "output_type": "execute_result"
    }
   ],
   "source": [
    "nltk.download('wordnet')"
   ],
   "metadata": {
    "collapsed": false
   }
  },
  {
   "cell_type": "code",
   "execution_count": 636,
   "outputs": [
    {
     "data": {
      "text/plain": "     id                                               text  label  \\\n0  4925    We can go 4 e normal pilates after our intro...    0.0   \n1  2349              That seems unnecessarily affectionate    0.0   \n2  1396  Thats cool! I am a gentleman and will treat yo...    0.0   \n3   475  Nice line said by a broken heart- Plz don't cu...    0.0   \n4  1473  Just sent you an email – to an address with in...    0.0   \n\n                                             cleaned  \\\n0     we can go NUM e normal pilates after our intro   \n1              that seems unnecessarily affectionate   \n2  thats cool! i am a gentleman and will treat yo...   \n3  nice line said by a broken heart plz don't cum...   \n4  just sent you an email – to an address with in...   \n\n                                       word_tokenize  \\\n0  [we, can, go, NUM, e, normal, pilates, after, ...   \n1         [that, seems, unnecessarily, affectionate]   \n2  [thats, cool, !, i, am, a, gentleman, and, wil...   \n3  [nice, line, said, by, a, broken, heart, plz, ...   \n4  [just, sent, you, an, email, –, to, an, addres...   \n\n                                       sent_tokenize  \\\n0   [we can go NUM e normal pilates after our intro]   \n1            [that seems unnecessarily affectionate]   \n2  [thats cool!, i am a gentleman and will treat ...   \n3  [nice line said by a broken heart plz don't cu...   \n4  [just sent you an email – to an address with i...   \n\n                                          stop_words  \\\n0               [go, NUM, e, normal, pilates, intro]   \n1               [seems, unnecessarily, affectionate]   \n2  [thats, cool, !, gentleman, treat, dignity, re...   \n3  [nice, line, said, broken, heart, plz, n't, cu...   \n4           [sent, email, –, address, incomm, right]   \n\n                                              lemmas  \n0                [go, NUM, e, normal, pilate, intro]  \n1               [seems, unnecessarily, affectionate]  \n2  [thats, cool, !, gentleman, treat, dignity, re...  \n3  [nice, line, said, broken, heart, plz, n't, cu...  \n4           [sent, email, –, address, incomm, right]  ",
      "text/html": "<div>\n<style scoped>\n    .dataframe tbody tr th:only-of-type {\n        vertical-align: middle;\n    }\n\n    .dataframe tbody tr th {\n        vertical-align: top;\n    }\n\n    .dataframe thead th {\n        text-align: right;\n    }\n</style>\n<table border=\"1\" class=\"dataframe\">\n  <thead>\n    <tr style=\"text-align: right;\">\n      <th></th>\n      <th>id</th>\n      <th>text</th>\n      <th>label</th>\n      <th>cleaned</th>\n      <th>word_tokenize</th>\n      <th>sent_tokenize</th>\n      <th>stop_words</th>\n      <th>lemmas</th>\n    </tr>\n  </thead>\n  <tbody>\n    <tr>\n      <th>0</th>\n      <td>4925</td>\n      <td>We can go 4 e normal pilates after our intro...</td>\n      <td>0.0</td>\n      <td>we can go NUM e normal pilates after our intro</td>\n      <td>[we, can, go, NUM, e, normal, pilates, after, ...</td>\n      <td>[we can go NUM e normal pilates after our intro]</td>\n      <td>[go, NUM, e, normal, pilates, intro]</td>\n      <td>[go, NUM, e, normal, pilate, intro]</td>\n    </tr>\n    <tr>\n      <th>1</th>\n      <td>2349</td>\n      <td>That seems unnecessarily affectionate</td>\n      <td>0.0</td>\n      <td>that seems unnecessarily affectionate</td>\n      <td>[that, seems, unnecessarily, affectionate]</td>\n      <td>[that seems unnecessarily affectionate]</td>\n      <td>[seems, unnecessarily, affectionate]</td>\n      <td>[seems, unnecessarily, affectionate]</td>\n    </tr>\n    <tr>\n      <th>2</th>\n      <td>1396</td>\n      <td>Thats cool! I am a gentleman and will treat yo...</td>\n      <td>0.0</td>\n      <td>thats cool! i am a gentleman and will treat yo...</td>\n      <td>[thats, cool, !, i, am, a, gentleman, and, wil...</td>\n      <td>[thats cool!, i am a gentleman and will treat ...</td>\n      <td>[thats, cool, !, gentleman, treat, dignity, re...</td>\n      <td>[thats, cool, !, gentleman, treat, dignity, re...</td>\n    </tr>\n    <tr>\n      <th>3</th>\n      <td>475</td>\n      <td>Nice line said by a broken heart- Plz don't cu...</td>\n      <td>0.0</td>\n      <td>nice line said by a broken heart plz don't cum...</td>\n      <td>[nice, line, said, by, a, broken, heart, plz, ...</td>\n      <td>[nice line said by a broken heart plz don't cu...</td>\n      <td>[nice, line, said, broken, heart, plz, n't, cu...</td>\n      <td>[nice, line, said, broken, heart, plz, n't, cu...</td>\n    </tr>\n    <tr>\n      <th>4</th>\n      <td>1473</td>\n      <td>Just sent you an email – to an address with in...</td>\n      <td>0.0</td>\n      <td>just sent you an email – to an address with in...</td>\n      <td>[just, sent, you, an, email, –, to, an, addres...</td>\n      <td>[just sent you an email – to an address with i...</td>\n      <td>[sent, email, –, address, incomm, right]</td>\n      <td>[sent, email, –, address, incomm, right]</td>\n    </tr>\n  </tbody>\n</table>\n</div>"
     },
     "execution_count": 636,
     "metadata": {},
     "output_type": "execute_result"
    }
   ],
   "source": [
    "#лемматизация\n",
    "from nltk.stem import WordNetLemmatizer\n",
    "\n",
    "lemm = WordNetLemmatizer()\n",
    "for ds in all_d:\n",
    "    lemmas = []\n",
    "    for text in ds.stop_words:\n",
    "        t = [lemm.lemmatize(word) for word in text]\n",
    "        lemmas.append(t)\n",
    "    ds['lemmas'] = lemmas\n",
    "train.head()\n"
   ],
   "metadata": {
    "collapsed": false
   }
  },
  {
   "cell_type": "code",
   "execution_count": 637,
   "outputs": [
    {
     "data": {
      "text/plain": "                                              lemmas\n0                [go, NUM, e, normal, pilate, intro]\n1               [seems, unnecessarily, affectionate]\n2  [thats, cool, !, gentleman, treat, dignity, re...\n3  [nice, line, said, broken, heart, plz, n't, cu...\n4           [sent, email, –, address, incomm, right]",
      "text/html": "<div>\n<style scoped>\n    .dataframe tbody tr th:only-of-type {\n        vertical-align: middle;\n    }\n\n    .dataframe tbody tr th {\n        vertical-align: top;\n    }\n\n    .dataframe thead th {\n        text-align: right;\n    }\n</style>\n<table border=\"1\" class=\"dataframe\">\n  <thead>\n    <tr style=\"text-align: right;\">\n      <th></th>\n      <th>lemmas</th>\n    </tr>\n  </thead>\n  <tbody>\n    <tr>\n      <th>0</th>\n      <td>[go, NUM, e, normal, pilate, intro]</td>\n    </tr>\n    <tr>\n      <th>1</th>\n      <td>[seems, unnecessarily, affectionate]</td>\n    </tr>\n    <tr>\n      <th>2</th>\n      <td>[thats, cool, !, gentleman, treat, dignity, re...</td>\n    </tr>\n    <tr>\n      <th>3</th>\n      <td>[nice, line, said, broken, heart, plz, n't, cu...</td>\n    </tr>\n    <tr>\n      <th>4</th>\n      <td>[sent, email, –, address, incomm, right]</td>\n    </tr>\n  </tbody>\n</table>\n</div>"
     },
     "execution_count": 637,
     "metadata": {},
     "output_type": "execute_result"
    }
   ],
   "source": [
    "train_sent_tokenize = train.drop(['text', 'id', 'label', 'cleaned', 'word_tokenize', 'stop_words', 'lemmas'], axis=1)\n",
    "train_word_tokenize = train.drop(['text', 'id', 'label', 'cleaned', 'sent_tokenize', 'stop_words', 'word_tokenize'], axis=1)\n",
    "train_word_tokenize.head()"
   ],
   "metadata": {
    "collapsed": false
   }
  },
  {
   "cell_type": "code",
   "execution_count": 638,
   "outputs": [
    {
     "data": {
      "text/plain": "                                       sent_tokenize\n0   [we can go NUM e normal pilates after our intro]\n1            [that seems unnecessarily affectionate]\n2  [thats cool!, i am a gentleman and will treat ...\n3  [nice line said by a broken heart plz don't cu...\n4  [just sent you an email – to an address with i...",
      "text/html": "<div>\n<style scoped>\n    .dataframe tbody tr th:only-of-type {\n        vertical-align: middle;\n    }\n\n    .dataframe tbody tr th {\n        vertical-align: top;\n    }\n\n    .dataframe thead th {\n        text-align: right;\n    }\n</style>\n<table border=\"1\" class=\"dataframe\">\n  <thead>\n    <tr style=\"text-align: right;\">\n      <th></th>\n      <th>sent_tokenize</th>\n    </tr>\n  </thead>\n  <tbody>\n    <tr>\n      <th>0</th>\n      <td>[we can go NUM e normal pilates after our intro]</td>\n    </tr>\n    <tr>\n      <th>1</th>\n      <td>[that seems unnecessarily affectionate]</td>\n    </tr>\n    <tr>\n      <th>2</th>\n      <td>[thats cool!, i am a gentleman and will treat ...</td>\n    </tr>\n    <tr>\n      <th>3</th>\n      <td>[nice line said by a broken heart plz don't cu...</td>\n    </tr>\n    <tr>\n      <th>4</th>\n      <td>[just sent you an email – to an address with i...</td>\n    </tr>\n  </tbody>\n</table>\n</div>"
     },
     "execution_count": 638,
     "metadata": {},
     "output_type": "execute_result"
    }
   ],
   "source": [
    "train_sent_tokenize.head()"
   ],
   "metadata": {
    "collapsed": false
   }
  },
  {
   "cell_type": "code",
   "execution_count": 639,
   "outputs": [],
   "source": [
    "y_train = train.drop(['text', 'id', 'sent_tokenize', 'cleaned', 'word_tokenize', 'stop_words', 'lemmas'], axis=1)"
   ],
   "metadata": {
    "collapsed": false
   }
  },
  {
   "cell_type": "code",
   "execution_count": 640,
   "outputs": [
    {
     "data": {
      "text/plain": "   label\n0    0.0\n1    0.0\n2    0.0\n3    0.0\n4    0.0",
      "text/html": "<div>\n<style scoped>\n    .dataframe tbody tr th:only-of-type {\n        vertical-align: middle;\n    }\n\n    .dataframe tbody tr th {\n        vertical-align: top;\n    }\n\n    .dataframe thead th {\n        text-align: right;\n    }\n</style>\n<table border=\"1\" class=\"dataframe\">\n  <thead>\n    <tr style=\"text-align: right;\">\n      <th></th>\n      <th>label</th>\n    </tr>\n  </thead>\n  <tbody>\n    <tr>\n      <th>0</th>\n      <td>0.0</td>\n    </tr>\n    <tr>\n      <th>1</th>\n      <td>0.0</td>\n    </tr>\n    <tr>\n      <th>2</th>\n      <td>0.0</td>\n    </tr>\n    <tr>\n      <th>3</th>\n      <td>0.0</td>\n    </tr>\n    <tr>\n      <th>4</th>\n      <td>0.0</td>\n    </tr>\n  </tbody>\n</table>\n</div>"
     },
     "execution_count": 640,
     "metadata": {},
     "output_type": "execute_result"
    }
   ],
   "source": [
    "y_train.head()"
   ],
   "metadata": {
    "collapsed": false
   }
  },
  {
   "cell_type": "code",
   "execution_count": 641,
   "outputs": [
    {
     "data": {
      "text/plain": "      label\n0       0.0\n1       0.0\n2       0.0\n3       0.0\n4       0.0\n...     ...\n4175    0.0\n4176    0.0\n4177    0.0\n4178    0.0\n4179    0.0\n\n[4180 rows x 1 columns]",
      "text/html": "<div>\n<style scoped>\n    .dataframe tbody tr th:only-of-type {\n        vertical-align: middle;\n    }\n\n    .dataframe tbody tr th {\n        vertical-align: top;\n    }\n\n    .dataframe thead th {\n        text-align: right;\n    }\n</style>\n<table border=\"1\" class=\"dataframe\">\n  <thead>\n    <tr style=\"text-align: right;\">\n      <th></th>\n      <th>label</th>\n    </tr>\n  </thead>\n  <tbody>\n    <tr>\n      <th>0</th>\n      <td>0.0</td>\n    </tr>\n    <tr>\n      <th>1</th>\n      <td>0.0</td>\n    </tr>\n    <tr>\n      <th>2</th>\n      <td>0.0</td>\n    </tr>\n    <tr>\n      <th>3</th>\n      <td>0.0</td>\n    </tr>\n    <tr>\n      <th>4</th>\n      <td>0.0</td>\n    </tr>\n    <tr>\n      <th>...</th>\n      <td>...</td>\n    </tr>\n    <tr>\n      <th>4175</th>\n      <td>0.0</td>\n    </tr>\n    <tr>\n      <th>4176</th>\n      <td>0.0</td>\n    </tr>\n    <tr>\n      <th>4177</th>\n      <td>0.0</td>\n    </tr>\n    <tr>\n      <th>4178</th>\n      <td>0.0</td>\n    </tr>\n    <tr>\n      <th>4179</th>\n      <td>0.0</td>\n    </tr>\n  </tbody>\n</table>\n<p>4180 rows × 1 columns</p>\n</div>"
     },
     "execution_count": 641,
     "metadata": {},
     "output_type": "execute_result"
    }
   ],
   "source": [
    "y_train"
   ],
   "metadata": {
    "collapsed": false
   }
  },
  {
   "cell_type": "code",
   "execution_count": 642,
   "outputs": [],
   "source": [
    "#модели\n",
    "from sklearn.linear_model import SGDClassifier\n",
    "from sklearn.neighbors import KNeighborsClassifier\n",
    "from sklearn.ensemble import RandomForestClassifier\n",
    "from sklearn.linear_model import LogisticRegression\n",
    "from sklearn.feature_extraction.text import TfidfVectorizer"
   ],
   "metadata": {
    "collapsed": false
   }
  },
  {
   "cell_type": "code",
   "execution_count": 643,
   "outputs": [
    {
     "data": {
      "text/plain": "(4180, 1)"
     },
     "execution_count": 643,
     "metadata": {},
     "output_type": "execute_result"
    }
   ],
   "source": [
    "train_word_tokenize.shape"
   ],
   "metadata": {
    "collapsed": false
   }
  },
  {
   "cell_type": "code",
   "execution_count": 644,
   "outputs": [
    {
     "data": {
      "text/plain": "(4180, 1)"
     },
     "execution_count": 644,
     "metadata": {},
     "output_type": "execute_result"
    }
   ],
   "source": [
    "y_train.shape"
   ],
   "metadata": {
    "collapsed": false
   }
  },
  {
   "cell_type": "markdown",
   "source": [],
   "metadata": {
    "collapsed": false
   }
  },
  {
   "cell_type": "code",
   "execution_count": 645,
   "outputs": [
    {
     "data": {
      "text/plain": "                                                 lemmas\n0                   [go, NUM, e, normal, pilate, intro]\n1                  [seems, unnecessarily, affectionate]\n2     [thats, cool, !, gentleman, treat, dignity, re...\n3     [nice, line, said, broken, heart, plz, n't, cu...\n4              [sent, email, –, address, incomm, right]\n...                                                 ...\n4175                    [early, bird, !, purchase, yet]\n4176                                [siva, hostel, aha]\n4177  [please, protect, ethreats, sib, never, asks, ...\n4178                                     [september, !]\n4179  [ha, ha, ha, good, joke, girl, situation, seeker]\n\n[4180 rows x 1 columns]",
      "text/html": "<div>\n<style scoped>\n    .dataframe tbody tr th:only-of-type {\n        vertical-align: middle;\n    }\n\n    .dataframe tbody tr th {\n        vertical-align: top;\n    }\n\n    .dataframe thead th {\n        text-align: right;\n    }\n</style>\n<table border=\"1\" class=\"dataframe\">\n  <thead>\n    <tr style=\"text-align: right;\">\n      <th></th>\n      <th>lemmas</th>\n    </tr>\n  </thead>\n  <tbody>\n    <tr>\n      <th>0</th>\n      <td>[go, NUM, e, normal, pilate, intro]</td>\n    </tr>\n    <tr>\n      <th>1</th>\n      <td>[seems, unnecessarily, affectionate]</td>\n    </tr>\n    <tr>\n      <th>2</th>\n      <td>[thats, cool, !, gentleman, treat, dignity, re...</td>\n    </tr>\n    <tr>\n      <th>3</th>\n      <td>[nice, line, said, broken, heart, plz, n't, cu...</td>\n    </tr>\n    <tr>\n      <th>4</th>\n      <td>[sent, email, –, address, incomm, right]</td>\n    </tr>\n    <tr>\n      <th>...</th>\n      <td>...</td>\n    </tr>\n    <tr>\n      <th>4175</th>\n      <td>[early, bird, !, purchase, yet]</td>\n    </tr>\n    <tr>\n      <th>4176</th>\n      <td>[siva, hostel, aha]</td>\n    </tr>\n    <tr>\n      <th>4177</th>\n      <td>[please, protect, ethreats, sib, never, asks, ...</td>\n    </tr>\n    <tr>\n      <th>4178</th>\n      <td>[september, !]</td>\n    </tr>\n    <tr>\n      <th>4179</th>\n      <td>[ha, ha, ha, good, joke, girl, situation, seeker]</td>\n    </tr>\n  </tbody>\n</table>\n<p>4180 rows × 1 columns</p>\n</div>"
     },
     "execution_count": 645,
     "metadata": {},
     "output_type": "execute_result"
    }
   ],
   "source": [
    "train_word_tokenize"
   ],
   "metadata": {
    "collapsed": false
   }
  },
  {
   "cell_type": "code",
   "execution_count": 646,
   "outputs": [
    {
     "data": {
      "text/plain": "     id                                               text  \\\n0   111           What is the plural of the noun research?   \n1  4574  \"URGENT! This is the 2nd attempt to contact U!...   \n2  2325                                            Ok lor.   \n3  3635  Its a big difference. &lt;#&gt; versus &lt;#&g...   \n4  2412                        Come to me right now, Ahmad   \n\n                                             cleaned  \\\n0            what is the plural of the noun research   \n1  urgent! this is the NUM nd attempt to contact ...   \n2                                             ok lor   \n3  its a big difference ltgt versus ltgt every lt...   \n4                         come to me right now ahmad   \n\n                                       word_tokenize  \\\n0   [what, is, the, plural, of, the, noun, research]   \n1  [urgent, !, this, is, the, NUM, nd, attempt, t...   \n2                                          [ok, lor]   \n3  [its, a, big, difference, ltgt, versus, ltgt, ...   \n4                  [come, to, me, right, now, ahmad]   \n\n                                       sent_tokenize  \\\n0          [what is the plural of the noun research]   \n1  [urgent!, this is the NUM nd attempt to contac...   \n2                                           [ok lor]   \n3  [its a big difference ltgt versus ltgt every l...   \n4                       [come to me right now ahmad]   \n\n                                          stop_words  \\\n0                           [plural, noun, research]   \n1  [urgent, !, NUM, nd, attempt, contact, u, !, u...   \n2                                          [ok, lor]   \n3  [big, difference, ltgt, versus, ltgt, every, l...   \n4                               [come, right, ahmad]   \n\n                                              lemmas  \n0                               plural noun research  \n1  urgent ! NUM nd attempt contact u ! u £ NUM ca...  \n2                                             ok lor  \n3      big difference ltgt versus ltgt every ltgt hr  \n4                                   come right ahmad  ",
      "text/html": "<div>\n<style scoped>\n    .dataframe tbody tr th:only-of-type {\n        vertical-align: middle;\n    }\n\n    .dataframe tbody tr th {\n        vertical-align: top;\n    }\n\n    .dataframe thead th {\n        text-align: right;\n    }\n</style>\n<table border=\"1\" class=\"dataframe\">\n  <thead>\n    <tr style=\"text-align: right;\">\n      <th></th>\n      <th>id</th>\n      <th>text</th>\n      <th>cleaned</th>\n      <th>word_tokenize</th>\n      <th>sent_tokenize</th>\n      <th>stop_words</th>\n      <th>lemmas</th>\n    </tr>\n  </thead>\n  <tbody>\n    <tr>\n      <th>0</th>\n      <td>111</td>\n      <td>What is the plural of the noun research?</td>\n      <td>what is the plural of the noun research</td>\n      <td>[what, is, the, plural, of, the, noun, research]</td>\n      <td>[what is the plural of the noun research]</td>\n      <td>[plural, noun, research]</td>\n      <td>plural noun research</td>\n    </tr>\n    <tr>\n      <th>1</th>\n      <td>4574</td>\n      <td>\"URGENT! This is the 2nd attempt to contact U!...</td>\n      <td>urgent! this is the NUM nd attempt to contact ...</td>\n      <td>[urgent, !, this, is, the, NUM, nd, attempt, t...</td>\n      <td>[urgent!, this is the NUM nd attempt to contac...</td>\n      <td>[urgent, !, NUM, nd, attempt, contact, u, !, u...</td>\n      <td>urgent ! NUM nd attempt contact u ! u £ NUM ca...</td>\n    </tr>\n    <tr>\n      <th>2</th>\n      <td>2325</td>\n      <td>Ok lor.</td>\n      <td>ok lor</td>\n      <td>[ok, lor]</td>\n      <td>[ok lor]</td>\n      <td>[ok, lor]</td>\n      <td>ok lor</td>\n    </tr>\n    <tr>\n      <th>3</th>\n      <td>3635</td>\n      <td>Its a big difference. &amp;lt;#&amp;gt; versus &amp;lt;#&amp;g...</td>\n      <td>its a big difference ltgt versus ltgt every lt...</td>\n      <td>[its, a, big, difference, ltgt, versus, ltgt, ...</td>\n      <td>[its a big difference ltgt versus ltgt every l...</td>\n      <td>[big, difference, ltgt, versus, ltgt, every, l...</td>\n      <td>big difference ltgt versus ltgt every ltgt hr</td>\n    </tr>\n    <tr>\n      <th>4</th>\n      <td>2412</td>\n      <td>Come to me right now, Ahmad</td>\n      <td>come to me right now ahmad</td>\n      <td>[come, to, me, right, now, ahmad]</td>\n      <td>[come to me right now ahmad]</td>\n      <td>[come, right, ahmad]</td>\n      <td>come right ahmad</td>\n    </tr>\n  </tbody>\n</table>\n</div>"
     },
     "execution_count": 646,
     "metadata": {},
     "output_type": "execute_result"
    }
   ],
   "source": [
    "l = []\n",
    "for le in train_word_tokenize.lemmas:\n",
    "    l.append(' '.join(le))\n",
    "train_word_tokenize.lemmas = l\n",
    "l = []\n",
    "for le in test.lemmas:\n",
    "    l.append(' '.join(le))\n",
    "test.lemmas = l\n",
    "test.head()"
   ],
   "metadata": {
    "collapsed": false
   }
  },
  {
   "cell_type": "code",
   "execution_count": 647,
   "outputs": [
    {
     "data": {
      "text/plain": "                                                 lemmas\n0                          go NUM e normal pilate intro\n1                      seems unnecessarily affectionate\n2          thats cool ! gentleman treat dignity respect\n3     nice line said broken heart plz n't cum NUM ti...\n4                     sent email – address incomm right\n...                                                 ...\n4175                          early bird ! purchase yet\n4176                                    siva hostel aha\n4177  please protect ethreats sib never asks sensiti...\n4178                                        september !\n4179           ha ha ha good joke girl situation seeker\n\n[4180 rows x 1 columns]",
      "text/html": "<div>\n<style scoped>\n    .dataframe tbody tr th:only-of-type {\n        vertical-align: middle;\n    }\n\n    .dataframe tbody tr th {\n        vertical-align: top;\n    }\n\n    .dataframe thead th {\n        text-align: right;\n    }\n</style>\n<table border=\"1\" class=\"dataframe\">\n  <thead>\n    <tr style=\"text-align: right;\">\n      <th></th>\n      <th>lemmas</th>\n    </tr>\n  </thead>\n  <tbody>\n    <tr>\n      <th>0</th>\n      <td>go NUM e normal pilate intro</td>\n    </tr>\n    <tr>\n      <th>1</th>\n      <td>seems unnecessarily affectionate</td>\n    </tr>\n    <tr>\n      <th>2</th>\n      <td>thats cool ! gentleman treat dignity respect</td>\n    </tr>\n    <tr>\n      <th>3</th>\n      <td>nice line said broken heart plz n't cum NUM ti...</td>\n    </tr>\n    <tr>\n      <th>4</th>\n      <td>sent email – address incomm right</td>\n    </tr>\n    <tr>\n      <th>...</th>\n      <td>...</td>\n    </tr>\n    <tr>\n      <th>4175</th>\n      <td>early bird ! purchase yet</td>\n    </tr>\n    <tr>\n      <th>4176</th>\n      <td>siva hostel aha</td>\n    </tr>\n    <tr>\n      <th>4177</th>\n      <td>please protect ethreats sib never asks sensiti...</td>\n    </tr>\n    <tr>\n      <th>4178</th>\n      <td>september !</td>\n    </tr>\n    <tr>\n      <th>4179</th>\n      <td>ha ha ha good joke girl situation seeker</td>\n    </tr>\n  </tbody>\n</table>\n<p>4180 rows × 1 columns</p>\n</div>"
     },
     "execution_count": 647,
     "metadata": {},
     "output_type": "execute_result"
    }
   ],
   "source": [
    "train_word_tokenize"
   ],
   "metadata": {
    "collapsed": false
   }
  },
  {
   "cell_type": "code",
   "execution_count": 648,
   "outputs": [
    {
     "data": {
      "text/plain": "      label\n0       0.0\n1       0.0\n2       0.0\n3       0.0\n4       0.0\n...     ...\n4175    0.0\n4176    0.0\n4177    0.0\n4178    0.0\n4179    0.0\n\n[4180 rows x 1 columns]",
      "text/html": "<div>\n<style scoped>\n    .dataframe tbody tr th:only-of-type {\n        vertical-align: middle;\n    }\n\n    .dataframe tbody tr th {\n        vertical-align: top;\n    }\n\n    .dataframe thead th {\n        text-align: right;\n    }\n</style>\n<table border=\"1\" class=\"dataframe\">\n  <thead>\n    <tr style=\"text-align: right;\">\n      <th></th>\n      <th>label</th>\n    </tr>\n  </thead>\n  <tbody>\n    <tr>\n      <th>0</th>\n      <td>0.0</td>\n    </tr>\n    <tr>\n      <th>1</th>\n      <td>0.0</td>\n    </tr>\n    <tr>\n      <th>2</th>\n      <td>0.0</td>\n    </tr>\n    <tr>\n      <th>3</th>\n      <td>0.0</td>\n    </tr>\n    <tr>\n      <th>4</th>\n      <td>0.0</td>\n    </tr>\n    <tr>\n      <th>...</th>\n      <td>...</td>\n    </tr>\n    <tr>\n      <th>4175</th>\n      <td>0.0</td>\n    </tr>\n    <tr>\n      <th>4176</th>\n      <td>0.0</td>\n    </tr>\n    <tr>\n      <th>4177</th>\n      <td>0.0</td>\n    </tr>\n    <tr>\n      <th>4178</th>\n      <td>0.0</td>\n    </tr>\n    <tr>\n      <th>4179</th>\n      <td>0.0</td>\n    </tr>\n  </tbody>\n</table>\n<p>4180 rows × 1 columns</p>\n</div>"
     },
     "execution_count": 648,
     "metadata": {},
     "output_type": "execute_result"
    }
   ],
   "source": [
    "y_train"
   ],
   "metadata": {
    "collapsed": false
   }
  },
  {
   "cell_type": "code",
   "execution_count": 649,
   "outputs": [
    {
     "data": {
      "text/plain": "TfidfVectorizer()",
      "text/html": "<style>#sk-container-id-19 {color: black;background-color: white;}#sk-container-id-19 pre{padding: 0;}#sk-container-id-19 div.sk-toggleable {background-color: white;}#sk-container-id-19 label.sk-toggleable__label {cursor: pointer;display: block;width: 100%;margin-bottom: 0;padding: 0.3em;box-sizing: border-box;text-align: center;}#sk-container-id-19 label.sk-toggleable__label-arrow:before {content: \"▸\";float: left;margin-right: 0.25em;color: #696969;}#sk-container-id-19 label.sk-toggleable__label-arrow:hover:before {color: black;}#sk-container-id-19 div.sk-estimator:hover label.sk-toggleable__label-arrow:before {color: black;}#sk-container-id-19 div.sk-toggleable__content {max-height: 0;max-width: 0;overflow: hidden;text-align: left;background-color: #f0f8ff;}#sk-container-id-19 div.sk-toggleable__content pre {margin: 0.2em;color: black;border-radius: 0.25em;background-color: #f0f8ff;}#sk-container-id-19 input.sk-toggleable__control:checked~div.sk-toggleable__content {max-height: 200px;max-width: 100%;overflow: auto;}#sk-container-id-19 input.sk-toggleable__control:checked~label.sk-toggleable__label-arrow:before {content: \"▾\";}#sk-container-id-19 div.sk-estimator input.sk-toggleable__control:checked~label.sk-toggleable__label {background-color: #d4ebff;}#sk-container-id-19 div.sk-label input.sk-toggleable__control:checked~label.sk-toggleable__label {background-color: #d4ebff;}#sk-container-id-19 input.sk-hidden--visually {border: 0;clip: rect(1px 1px 1px 1px);clip: rect(1px, 1px, 1px, 1px);height: 1px;margin: -1px;overflow: hidden;padding: 0;position: absolute;width: 1px;}#sk-container-id-19 div.sk-estimator {font-family: monospace;background-color: #f0f8ff;border: 1px dotted black;border-radius: 0.25em;box-sizing: border-box;margin-bottom: 0.5em;}#sk-container-id-19 div.sk-estimator:hover {background-color: #d4ebff;}#sk-container-id-19 div.sk-parallel-item::after {content: \"\";width: 100%;border-bottom: 1px solid gray;flex-grow: 1;}#sk-container-id-19 div.sk-label:hover label.sk-toggleable__label {background-color: #d4ebff;}#sk-container-id-19 div.sk-serial::before {content: \"\";position: absolute;border-left: 1px solid gray;box-sizing: border-box;top: 0;bottom: 0;left: 50%;z-index: 0;}#sk-container-id-19 div.sk-serial {display: flex;flex-direction: column;align-items: center;background-color: white;padding-right: 0.2em;padding-left: 0.2em;position: relative;}#sk-container-id-19 div.sk-item {position: relative;z-index: 1;}#sk-container-id-19 div.sk-parallel {display: flex;align-items: stretch;justify-content: center;background-color: white;position: relative;}#sk-container-id-19 div.sk-item::before, #sk-container-id-19 div.sk-parallel-item::before {content: \"\";position: absolute;border-left: 1px solid gray;box-sizing: border-box;top: 0;bottom: 0;left: 50%;z-index: -1;}#sk-container-id-19 div.sk-parallel-item {display: flex;flex-direction: column;z-index: 1;position: relative;background-color: white;}#sk-container-id-19 div.sk-parallel-item:first-child::after {align-self: flex-end;width: 50%;}#sk-container-id-19 div.sk-parallel-item:last-child::after {align-self: flex-start;width: 50%;}#sk-container-id-19 div.sk-parallel-item:only-child::after {width: 0;}#sk-container-id-19 div.sk-dashed-wrapped {border: 1px dashed gray;margin: 0 0.4em 0.5em 0.4em;box-sizing: border-box;padding-bottom: 0.4em;background-color: white;}#sk-container-id-19 div.sk-label label {font-family: monospace;font-weight: bold;display: inline-block;line-height: 1.2em;}#sk-container-id-19 div.sk-label-container {text-align: center;}#sk-container-id-19 div.sk-container {/* jupyter's `normalize.less` sets `[hidden] { display: none; }` but bootstrap.min.css set `[hidden] { display: none !important; }` so we also need the `!important` here to be able to override the default hidden behavior on the sphinx rendered scikit-learn.org. See: https://github.com/scikit-learn/scikit-learn/issues/21755 */display: inline-block !important;position: relative;}#sk-container-id-19 div.sk-text-repr-fallback {display: none;}</style><div id=\"sk-container-id-19\" class=\"sk-top-container\"><div class=\"sk-text-repr-fallback\"><pre>TfidfVectorizer()</pre><b>In a Jupyter environment, please rerun this cell to show the HTML representation or trust the notebook. <br />On GitHub, the HTML representation is unable to render, please try loading this page with nbviewer.org.</b></div><div class=\"sk-container\" hidden><div class=\"sk-item\"><div class=\"sk-estimator sk-toggleable\"><input class=\"sk-toggleable__control sk-hidden--visually\" id=\"sk-estimator-id-21\" type=\"checkbox\" checked><label for=\"sk-estimator-id-21\" class=\"sk-toggleable__label sk-toggleable__label-arrow\">TfidfVectorizer</label><div class=\"sk-toggleable__content\"><pre>TfidfVectorizer()</pre></div></div></div></div></div>"
     },
     "execution_count": 649,
     "metadata": {},
     "output_type": "execute_result"
    }
   ],
   "source": [
    "tfidf = TfidfVectorizer()\n",
    "tfidf.fit(train_word_tokenize.lemmas)\n",
    "tfidf.fit(test.lemmas)"
   ],
   "metadata": {
    "collapsed": false
   }
  },
  {
   "cell_type": "code",
   "execution_count": 650,
   "outputs": [],
   "source": [
    "a = tfidf.transform(train_word_tokenize.lemmas).toarray()"
   ],
   "metadata": {
    "collapsed": false
   }
  },
  {
   "cell_type": "code",
   "execution_count": 651,
   "outputs": [
    {
     "data": {
      "text/plain": "(4180, 3515)"
     },
     "execution_count": 651,
     "metadata": {},
     "output_type": "execute_result"
    }
   ],
   "source": [
    "a.shape"
   ],
   "metadata": {
    "collapsed": false
   }
  },
  {
   "cell_type": "code",
   "execution_count": 652,
   "outputs": [
    {
     "data": {
      "text/plain": "array([[0., 0., 0., ..., 0., 0., 0.],\n       [0., 0., 0., ..., 0., 0., 0.],\n       [0., 0., 0., ..., 0., 0., 0.],\n       ...,\n       [0., 0., 0., ..., 0., 0., 0.],\n       [0., 0., 0., ..., 0., 0., 0.],\n       [0., 0., 0., ..., 0., 0., 0.]])"
     },
     "execution_count": 652,
     "metadata": {},
     "output_type": "execute_result"
    }
   ],
   "source": [
    "a"
   ],
   "metadata": {
    "collapsed": false
   }
  },
  {
   "cell_type": "code",
   "execution_count": 653,
   "outputs": [
    {
     "data": {
      "text/plain": "3515"
     },
     "execution_count": 653,
     "metadata": {},
     "output_type": "execute_result"
    }
   ],
   "source": [
    "len(tfidf.vocabulary_)"
   ],
   "metadata": {
    "collapsed": false
   }
  },
  {
   "cell_type": "code",
   "execution_count": 654,
   "outputs": [
    {
     "name": "stderr",
     "output_type": "stream",
     "text": [
      "C:\\Users\\ilayf\\PycharmProjects\\ml_course\\venv\\lib\\site-packages\\sklearn\\utils\\validation.py:1111: DataConversionWarning: A column-vector y was passed when a 1d array was expected. Please change the shape of y to (n_samples, ), for example using ravel().\n",
      "  y = column_or_1d(y, warn=True)\n"
     ]
    },
    {
     "data": {
      "text/plain": "SGDClassifier()",
      "text/html": "<style>#sk-container-id-20 {color: black;background-color: white;}#sk-container-id-20 pre{padding: 0;}#sk-container-id-20 div.sk-toggleable {background-color: white;}#sk-container-id-20 label.sk-toggleable__label {cursor: pointer;display: block;width: 100%;margin-bottom: 0;padding: 0.3em;box-sizing: border-box;text-align: center;}#sk-container-id-20 label.sk-toggleable__label-arrow:before {content: \"▸\";float: left;margin-right: 0.25em;color: #696969;}#sk-container-id-20 label.sk-toggleable__label-arrow:hover:before {color: black;}#sk-container-id-20 div.sk-estimator:hover label.sk-toggleable__label-arrow:before {color: black;}#sk-container-id-20 div.sk-toggleable__content {max-height: 0;max-width: 0;overflow: hidden;text-align: left;background-color: #f0f8ff;}#sk-container-id-20 div.sk-toggleable__content pre {margin: 0.2em;color: black;border-radius: 0.25em;background-color: #f0f8ff;}#sk-container-id-20 input.sk-toggleable__control:checked~div.sk-toggleable__content {max-height: 200px;max-width: 100%;overflow: auto;}#sk-container-id-20 input.sk-toggleable__control:checked~label.sk-toggleable__label-arrow:before {content: \"▾\";}#sk-container-id-20 div.sk-estimator input.sk-toggleable__control:checked~label.sk-toggleable__label {background-color: #d4ebff;}#sk-container-id-20 div.sk-label input.sk-toggleable__control:checked~label.sk-toggleable__label {background-color: #d4ebff;}#sk-container-id-20 input.sk-hidden--visually {border: 0;clip: rect(1px 1px 1px 1px);clip: rect(1px, 1px, 1px, 1px);height: 1px;margin: -1px;overflow: hidden;padding: 0;position: absolute;width: 1px;}#sk-container-id-20 div.sk-estimator {font-family: monospace;background-color: #f0f8ff;border: 1px dotted black;border-radius: 0.25em;box-sizing: border-box;margin-bottom: 0.5em;}#sk-container-id-20 div.sk-estimator:hover {background-color: #d4ebff;}#sk-container-id-20 div.sk-parallel-item::after {content: \"\";width: 100%;border-bottom: 1px solid gray;flex-grow: 1;}#sk-container-id-20 div.sk-label:hover label.sk-toggleable__label {background-color: #d4ebff;}#sk-container-id-20 div.sk-serial::before {content: \"\";position: absolute;border-left: 1px solid gray;box-sizing: border-box;top: 0;bottom: 0;left: 50%;z-index: 0;}#sk-container-id-20 div.sk-serial {display: flex;flex-direction: column;align-items: center;background-color: white;padding-right: 0.2em;padding-left: 0.2em;position: relative;}#sk-container-id-20 div.sk-item {position: relative;z-index: 1;}#sk-container-id-20 div.sk-parallel {display: flex;align-items: stretch;justify-content: center;background-color: white;position: relative;}#sk-container-id-20 div.sk-item::before, #sk-container-id-20 div.sk-parallel-item::before {content: \"\";position: absolute;border-left: 1px solid gray;box-sizing: border-box;top: 0;bottom: 0;left: 50%;z-index: -1;}#sk-container-id-20 div.sk-parallel-item {display: flex;flex-direction: column;z-index: 1;position: relative;background-color: white;}#sk-container-id-20 div.sk-parallel-item:first-child::after {align-self: flex-end;width: 50%;}#sk-container-id-20 div.sk-parallel-item:last-child::after {align-self: flex-start;width: 50%;}#sk-container-id-20 div.sk-parallel-item:only-child::after {width: 0;}#sk-container-id-20 div.sk-dashed-wrapped {border: 1px dashed gray;margin: 0 0.4em 0.5em 0.4em;box-sizing: border-box;padding-bottom: 0.4em;background-color: white;}#sk-container-id-20 div.sk-label label {font-family: monospace;font-weight: bold;display: inline-block;line-height: 1.2em;}#sk-container-id-20 div.sk-label-container {text-align: center;}#sk-container-id-20 div.sk-container {/* jupyter's `normalize.less` sets `[hidden] { display: none; }` but bootstrap.min.css set `[hidden] { display: none !important; }` so we also need the `!important` here to be able to override the default hidden behavior on the sphinx rendered scikit-learn.org. See: https://github.com/scikit-learn/scikit-learn/issues/21755 */display: inline-block !important;position: relative;}#sk-container-id-20 div.sk-text-repr-fallback {display: none;}</style><div id=\"sk-container-id-20\" class=\"sk-top-container\"><div class=\"sk-text-repr-fallback\"><pre>SGDClassifier()</pre><b>In a Jupyter environment, please rerun this cell to show the HTML representation or trust the notebook. <br />On GitHub, the HTML representation is unable to render, please try loading this page with nbviewer.org.</b></div><div class=\"sk-container\" hidden><div class=\"sk-item\"><div class=\"sk-estimator sk-toggleable\"><input class=\"sk-toggleable__control sk-hidden--visually\" id=\"sk-estimator-id-22\" type=\"checkbox\" checked><label for=\"sk-estimator-id-22\" class=\"sk-toggleable__label sk-toggleable__label-arrow\">SGDClassifier</label><div class=\"sk-toggleable__content\"><pre>SGDClassifier()</pre></div></div></div></div></div>"
     },
     "execution_count": 654,
     "metadata": {},
     "output_type": "execute_result"
    }
   ],
   "source": [
    "sgd = SGDClassifier()\n",
    "sgd.fit(a, y_train)"
   ],
   "metadata": {
    "collapsed": false
   }
  },
  {
   "cell_type": "code",
   "execution_count": 655,
   "outputs": [
    {
     "data": {
      "text/plain": "0.9956937799043062"
     },
     "execution_count": 655,
     "metadata": {},
     "output_type": "execute_result"
    }
   ],
   "source": [
    "sgd.score(a, y_train)"
   ],
   "metadata": {
    "collapsed": false
   }
  },
  {
   "cell_type": "code",
   "execution_count": 656,
   "outputs": [
    {
     "name": "stderr",
     "output_type": "stream",
     "text": [
      "C:\\Users\\ilayf\\AppData\\Local\\Temp\\ipykernel_29612\\1969183690.py:2: DataConversionWarning: A column-vector y was passed when a 1d array was expected. Please change the shape of y to (n_samples,), for example using ravel().\n",
      "  rf.fit(a, y_train)\n"
     ]
    },
    {
     "data": {
      "text/plain": "RandomForestClassifier()",
      "text/html": "<style>#sk-container-id-21 {color: black;background-color: white;}#sk-container-id-21 pre{padding: 0;}#sk-container-id-21 div.sk-toggleable {background-color: white;}#sk-container-id-21 label.sk-toggleable__label {cursor: pointer;display: block;width: 100%;margin-bottom: 0;padding: 0.3em;box-sizing: border-box;text-align: center;}#sk-container-id-21 label.sk-toggleable__label-arrow:before {content: \"▸\";float: left;margin-right: 0.25em;color: #696969;}#sk-container-id-21 label.sk-toggleable__label-arrow:hover:before {color: black;}#sk-container-id-21 div.sk-estimator:hover label.sk-toggleable__label-arrow:before {color: black;}#sk-container-id-21 div.sk-toggleable__content {max-height: 0;max-width: 0;overflow: hidden;text-align: left;background-color: #f0f8ff;}#sk-container-id-21 div.sk-toggleable__content pre {margin: 0.2em;color: black;border-radius: 0.25em;background-color: #f0f8ff;}#sk-container-id-21 input.sk-toggleable__control:checked~div.sk-toggleable__content {max-height: 200px;max-width: 100%;overflow: auto;}#sk-container-id-21 input.sk-toggleable__control:checked~label.sk-toggleable__label-arrow:before {content: \"▾\";}#sk-container-id-21 div.sk-estimator input.sk-toggleable__control:checked~label.sk-toggleable__label {background-color: #d4ebff;}#sk-container-id-21 div.sk-label input.sk-toggleable__control:checked~label.sk-toggleable__label {background-color: #d4ebff;}#sk-container-id-21 input.sk-hidden--visually {border: 0;clip: rect(1px 1px 1px 1px);clip: rect(1px, 1px, 1px, 1px);height: 1px;margin: -1px;overflow: hidden;padding: 0;position: absolute;width: 1px;}#sk-container-id-21 div.sk-estimator {font-family: monospace;background-color: #f0f8ff;border: 1px dotted black;border-radius: 0.25em;box-sizing: border-box;margin-bottom: 0.5em;}#sk-container-id-21 div.sk-estimator:hover {background-color: #d4ebff;}#sk-container-id-21 div.sk-parallel-item::after {content: \"\";width: 100%;border-bottom: 1px solid gray;flex-grow: 1;}#sk-container-id-21 div.sk-label:hover label.sk-toggleable__label {background-color: #d4ebff;}#sk-container-id-21 div.sk-serial::before {content: \"\";position: absolute;border-left: 1px solid gray;box-sizing: border-box;top: 0;bottom: 0;left: 50%;z-index: 0;}#sk-container-id-21 div.sk-serial {display: flex;flex-direction: column;align-items: center;background-color: white;padding-right: 0.2em;padding-left: 0.2em;position: relative;}#sk-container-id-21 div.sk-item {position: relative;z-index: 1;}#sk-container-id-21 div.sk-parallel {display: flex;align-items: stretch;justify-content: center;background-color: white;position: relative;}#sk-container-id-21 div.sk-item::before, #sk-container-id-21 div.sk-parallel-item::before {content: \"\";position: absolute;border-left: 1px solid gray;box-sizing: border-box;top: 0;bottom: 0;left: 50%;z-index: -1;}#sk-container-id-21 div.sk-parallel-item {display: flex;flex-direction: column;z-index: 1;position: relative;background-color: white;}#sk-container-id-21 div.sk-parallel-item:first-child::after {align-self: flex-end;width: 50%;}#sk-container-id-21 div.sk-parallel-item:last-child::after {align-self: flex-start;width: 50%;}#sk-container-id-21 div.sk-parallel-item:only-child::after {width: 0;}#sk-container-id-21 div.sk-dashed-wrapped {border: 1px dashed gray;margin: 0 0.4em 0.5em 0.4em;box-sizing: border-box;padding-bottom: 0.4em;background-color: white;}#sk-container-id-21 div.sk-label label {font-family: monospace;font-weight: bold;display: inline-block;line-height: 1.2em;}#sk-container-id-21 div.sk-label-container {text-align: center;}#sk-container-id-21 div.sk-container {/* jupyter's `normalize.less` sets `[hidden] { display: none; }` but bootstrap.min.css set `[hidden] { display: none !important; }` so we also need the `!important` here to be able to override the default hidden behavior on the sphinx rendered scikit-learn.org. See: https://github.com/scikit-learn/scikit-learn/issues/21755 */display: inline-block !important;position: relative;}#sk-container-id-21 div.sk-text-repr-fallback {display: none;}</style><div id=\"sk-container-id-21\" class=\"sk-top-container\"><div class=\"sk-text-repr-fallback\"><pre>RandomForestClassifier()</pre><b>In a Jupyter environment, please rerun this cell to show the HTML representation or trust the notebook. <br />On GitHub, the HTML representation is unable to render, please try loading this page with nbviewer.org.</b></div><div class=\"sk-container\" hidden><div class=\"sk-item\"><div class=\"sk-estimator sk-toggleable\"><input class=\"sk-toggleable__control sk-hidden--visually\" id=\"sk-estimator-id-23\" type=\"checkbox\" checked><label for=\"sk-estimator-id-23\" class=\"sk-toggleable__label sk-toggleable__label-arrow\">RandomForestClassifier</label><div class=\"sk-toggleable__content\"><pre>RandomForestClassifier()</pre></div></div></div></div></div>"
     },
     "execution_count": 656,
     "metadata": {},
     "output_type": "execute_result"
    }
   ],
   "source": [
    "rf = RandomForestClassifier()\n",
    "rf.fit(a, y_train)"
   ],
   "metadata": {
    "collapsed": false
   }
  },
  {
   "cell_type": "code",
   "execution_count": 657,
   "outputs": [
    {
     "name": "stderr",
     "output_type": "stream",
     "text": [
      "C:\\Users\\ilayf\\PycharmProjects\\ml_course\\venv\\lib\\site-packages\\sklearn\\neighbors\\_classification.py:207: DataConversionWarning: A column-vector y was passed when a 1d array was expected. Please change the shape of y to (n_samples,), for example using ravel().\n",
      "  return self._fit(X, y)\n"
     ]
    },
    {
     "data": {
      "text/plain": "KNeighborsClassifier()",
      "text/html": "<style>#sk-container-id-22 {color: black;background-color: white;}#sk-container-id-22 pre{padding: 0;}#sk-container-id-22 div.sk-toggleable {background-color: white;}#sk-container-id-22 label.sk-toggleable__label {cursor: pointer;display: block;width: 100%;margin-bottom: 0;padding: 0.3em;box-sizing: border-box;text-align: center;}#sk-container-id-22 label.sk-toggleable__label-arrow:before {content: \"▸\";float: left;margin-right: 0.25em;color: #696969;}#sk-container-id-22 label.sk-toggleable__label-arrow:hover:before {color: black;}#sk-container-id-22 div.sk-estimator:hover label.sk-toggleable__label-arrow:before {color: black;}#sk-container-id-22 div.sk-toggleable__content {max-height: 0;max-width: 0;overflow: hidden;text-align: left;background-color: #f0f8ff;}#sk-container-id-22 div.sk-toggleable__content pre {margin: 0.2em;color: black;border-radius: 0.25em;background-color: #f0f8ff;}#sk-container-id-22 input.sk-toggleable__control:checked~div.sk-toggleable__content {max-height: 200px;max-width: 100%;overflow: auto;}#sk-container-id-22 input.sk-toggleable__control:checked~label.sk-toggleable__label-arrow:before {content: \"▾\";}#sk-container-id-22 div.sk-estimator input.sk-toggleable__control:checked~label.sk-toggleable__label {background-color: #d4ebff;}#sk-container-id-22 div.sk-label input.sk-toggleable__control:checked~label.sk-toggleable__label {background-color: #d4ebff;}#sk-container-id-22 input.sk-hidden--visually {border: 0;clip: rect(1px 1px 1px 1px);clip: rect(1px, 1px, 1px, 1px);height: 1px;margin: -1px;overflow: hidden;padding: 0;position: absolute;width: 1px;}#sk-container-id-22 div.sk-estimator {font-family: monospace;background-color: #f0f8ff;border: 1px dotted black;border-radius: 0.25em;box-sizing: border-box;margin-bottom: 0.5em;}#sk-container-id-22 div.sk-estimator:hover {background-color: #d4ebff;}#sk-container-id-22 div.sk-parallel-item::after {content: \"\";width: 100%;border-bottom: 1px solid gray;flex-grow: 1;}#sk-container-id-22 div.sk-label:hover label.sk-toggleable__label {background-color: #d4ebff;}#sk-container-id-22 div.sk-serial::before {content: \"\";position: absolute;border-left: 1px solid gray;box-sizing: border-box;top: 0;bottom: 0;left: 50%;z-index: 0;}#sk-container-id-22 div.sk-serial {display: flex;flex-direction: column;align-items: center;background-color: white;padding-right: 0.2em;padding-left: 0.2em;position: relative;}#sk-container-id-22 div.sk-item {position: relative;z-index: 1;}#sk-container-id-22 div.sk-parallel {display: flex;align-items: stretch;justify-content: center;background-color: white;position: relative;}#sk-container-id-22 div.sk-item::before, #sk-container-id-22 div.sk-parallel-item::before {content: \"\";position: absolute;border-left: 1px solid gray;box-sizing: border-box;top: 0;bottom: 0;left: 50%;z-index: -1;}#sk-container-id-22 div.sk-parallel-item {display: flex;flex-direction: column;z-index: 1;position: relative;background-color: white;}#sk-container-id-22 div.sk-parallel-item:first-child::after {align-self: flex-end;width: 50%;}#sk-container-id-22 div.sk-parallel-item:last-child::after {align-self: flex-start;width: 50%;}#sk-container-id-22 div.sk-parallel-item:only-child::after {width: 0;}#sk-container-id-22 div.sk-dashed-wrapped {border: 1px dashed gray;margin: 0 0.4em 0.5em 0.4em;box-sizing: border-box;padding-bottom: 0.4em;background-color: white;}#sk-container-id-22 div.sk-label label {font-family: monospace;font-weight: bold;display: inline-block;line-height: 1.2em;}#sk-container-id-22 div.sk-label-container {text-align: center;}#sk-container-id-22 div.sk-container {/* jupyter's `normalize.less` sets `[hidden] { display: none; }` but bootstrap.min.css set `[hidden] { display: none !important; }` so we also need the `!important` here to be able to override the default hidden behavior on the sphinx rendered scikit-learn.org. See: https://github.com/scikit-learn/scikit-learn/issues/21755 */display: inline-block !important;position: relative;}#sk-container-id-22 div.sk-text-repr-fallback {display: none;}</style><div id=\"sk-container-id-22\" class=\"sk-top-container\"><div class=\"sk-text-repr-fallback\"><pre>KNeighborsClassifier()</pre><b>In a Jupyter environment, please rerun this cell to show the HTML representation or trust the notebook. <br />On GitHub, the HTML representation is unable to render, please try loading this page with nbviewer.org.</b></div><div class=\"sk-container\" hidden><div class=\"sk-item\"><div class=\"sk-estimator sk-toggleable\"><input class=\"sk-toggleable__control sk-hidden--visually\" id=\"sk-estimator-id-24\" type=\"checkbox\" checked><label for=\"sk-estimator-id-24\" class=\"sk-toggleable__label sk-toggleable__label-arrow\">KNeighborsClassifier</label><div class=\"sk-toggleable__content\"><pre>KNeighborsClassifier()</pre></div></div></div></div></div>"
     },
     "execution_count": 657,
     "metadata": {},
     "output_type": "execute_result"
    }
   ],
   "source": [
    "knn = KNeighborsClassifier()\n",
    "knn.fit(a, y_train)"
   ],
   "metadata": {
    "collapsed": false
   }
  },
  {
   "cell_type": "code",
   "execution_count": 658,
   "outputs": [
    {
     "name": "stderr",
     "output_type": "stream",
     "text": [
      "C:\\Users\\ilayf\\PycharmProjects\\ml_course\\venv\\lib\\site-packages\\sklearn\\utils\\validation.py:1111: DataConversionWarning: A column-vector y was passed when a 1d array was expected. Please change the shape of y to (n_samples, ), for example using ravel().\n",
      "  y = column_or_1d(y, warn=True)\n"
     ]
    },
    {
     "data": {
      "text/plain": "LogisticRegression()",
      "text/html": "<style>#sk-container-id-23 {color: black;background-color: white;}#sk-container-id-23 pre{padding: 0;}#sk-container-id-23 div.sk-toggleable {background-color: white;}#sk-container-id-23 label.sk-toggleable__label {cursor: pointer;display: block;width: 100%;margin-bottom: 0;padding: 0.3em;box-sizing: border-box;text-align: center;}#sk-container-id-23 label.sk-toggleable__label-arrow:before {content: \"▸\";float: left;margin-right: 0.25em;color: #696969;}#sk-container-id-23 label.sk-toggleable__label-arrow:hover:before {color: black;}#sk-container-id-23 div.sk-estimator:hover label.sk-toggleable__label-arrow:before {color: black;}#sk-container-id-23 div.sk-toggleable__content {max-height: 0;max-width: 0;overflow: hidden;text-align: left;background-color: #f0f8ff;}#sk-container-id-23 div.sk-toggleable__content pre {margin: 0.2em;color: black;border-radius: 0.25em;background-color: #f0f8ff;}#sk-container-id-23 input.sk-toggleable__control:checked~div.sk-toggleable__content {max-height: 200px;max-width: 100%;overflow: auto;}#sk-container-id-23 input.sk-toggleable__control:checked~label.sk-toggleable__label-arrow:before {content: \"▾\";}#sk-container-id-23 div.sk-estimator input.sk-toggleable__control:checked~label.sk-toggleable__label {background-color: #d4ebff;}#sk-container-id-23 div.sk-label input.sk-toggleable__control:checked~label.sk-toggleable__label {background-color: #d4ebff;}#sk-container-id-23 input.sk-hidden--visually {border: 0;clip: rect(1px 1px 1px 1px);clip: rect(1px, 1px, 1px, 1px);height: 1px;margin: -1px;overflow: hidden;padding: 0;position: absolute;width: 1px;}#sk-container-id-23 div.sk-estimator {font-family: monospace;background-color: #f0f8ff;border: 1px dotted black;border-radius: 0.25em;box-sizing: border-box;margin-bottom: 0.5em;}#sk-container-id-23 div.sk-estimator:hover {background-color: #d4ebff;}#sk-container-id-23 div.sk-parallel-item::after {content: \"\";width: 100%;border-bottom: 1px solid gray;flex-grow: 1;}#sk-container-id-23 div.sk-label:hover label.sk-toggleable__label {background-color: #d4ebff;}#sk-container-id-23 div.sk-serial::before {content: \"\";position: absolute;border-left: 1px solid gray;box-sizing: border-box;top: 0;bottom: 0;left: 50%;z-index: 0;}#sk-container-id-23 div.sk-serial {display: flex;flex-direction: column;align-items: center;background-color: white;padding-right: 0.2em;padding-left: 0.2em;position: relative;}#sk-container-id-23 div.sk-item {position: relative;z-index: 1;}#sk-container-id-23 div.sk-parallel {display: flex;align-items: stretch;justify-content: center;background-color: white;position: relative;}#sk-container-id-23 div.sk-item::before, #sk-container-id-23 div.sk-parallel-item::before {content: \"\";position: absolute;border-left: 1px solid gray;box-sizing: border-box;top: 0;bottom: 0;left: 50%;z-index: -1;}#sk-container-id-23 div.sk-parallel-item {display: flex;flex-direction: column;z-index: 1;position: relative;background-color: white;}#sk-container-id-23 div.sk-parallel-item:first-child::after {align-self: flex-end;width: 50%;}#sk-container-id-23 div.sk-parallel-item:last-child::after {align-self: flex-start;width: 50%;}#sk-container-id-23 div.sk-parallel-item:only-child::after {width: 0;}#sk-container-id-23 div.sk-dashed-wrapped {border: 1px dashed gray;margin: 0 0.4em 0.5em 0.4em;box-sizing: border-box;padding-bottom: 0.4em;background-color: white;}#sk-container-id-23 div.sk-label label {font-family: monospace;font-weight: bold;display: inline-block;line-height: 1.2em;}#sk-container-id-23 div.sk-label-container {text-align: center;}#sk-container-id-23 div.sk-container {/* jupyter's `normalize.less` sets `[hidden] { display: none; }` but bootstrap.min.css set `[hidden] { display: none !important; }` so we also need the `!important` here to be able to override the default hidden behavior on the sphinx rendered scikit-learn.org. See: https://github.com/scikit-learn/scikit-learn/issues/21755 */display: inline-block !important;position: relative;}#sk-container-id-23 div.sk-text-repr-fallback {display: none;}</style><div id=\"sk-container-id-23\" class=\"sk-top-container\"><div class=\"sk-text-repr-fallback\"><pre>LogisticRegression()</pre><b>In a Jupyter environment, please rerun this cell to show the HTML representation or trust the notebook. <br />On GitHub, the HTML representation is unable to render, please try loading this page with nbviewer.org.</b></div><div class=\"sk-container\" hidden><div class=\"sk-item\"><div class=\"sk-estimator sk-toggleable\"><input class=\"sk-toggleable__control sk-hidden--visually\" id=\"sk-estimator-id-25\" type=\"checkbox\" checked><label for=\"sk-estimator-id-25\" class=\"sk-toggleable__label sk-toggleable__label-arrow\">LogisticRegression</label><div class=\"sk-toggleable__content\"><pre>LogisticRegression()</pre></div></div></div></div></div>"
     },
     "execution_count": 658,
     "metadata": {},
     "output_type": "execute_result"
    }
   ],
   "source": [
    "log_r = LogisticRegression()\n",
    "log_r.fit(a, y_train)"
   ],
   "metadata": {
    "collapsed": false
   }
  },
  {
   "cell_type": "code",
   "execution_count": 659,
   "outputs": [],
   "source": [
    "rf.score(a, y_train)\n",
    "pred = rf.predict(a)"
   ],
   "metadata": {
    "collapsed": false
   }
  },
  {
   "cell_type": "code",
   "execution_count": 660,
   "outputs": [
    {
     "data": {
      "text/plain": "0.9991071428571429"
     },
     "execution_count": 660,
     "metadata": {},
     "output_type": "execute_result"
    }
   ],
   "source": [
    "from sklearn.metrics import roc_auc_score\n",
    "roc_auc_score(y_train, pred)"
   ],
   "metadata": {
    "collapsed": false
   }
  },
  {
   "cell_type": "code",
   "execution_count": 661,
   "outputs": [
    {
     "data": {
      "text/plain": "0.9869475138121547"
     },
     "execution_count": 661,
     "metadata": {},
     "output_type": "execute_result"
    }
   ],
   "source": [
    "pred = sgd.predict(a)\n",
    "roc_auc_score(y_train, pred)"
   ],
   "metadata": {
    "collapsed": false
   }
  },
  {
   "cell_type": "code",
   "execution_count": 662,
   "outputs": [],
   "source": [
    "sub = pd.read_csv('sample_submission.csv')"
   ],
   "metadata": {
    "collapsed": false
   }
  },
  {
   "cell_type": "code",
   "execution_count": 663,
   "outputs": [],
   "source": [
    "tt = tfidf.transform(test.lemmas)\n",
    "a = tt.toarray()"
   ],
   "metadata": {
    "collapsed": false
   }
  },
  {
   "cell_type": "code",
   "execution_count": 664,
   "outputs": [],
   "source": [
    "pred = rf.predict(a)\n",
    "sub.Predicted = pred\n",
    "sub.to_csv('mysubrf.csv', index=False) #score 0.91954"
   ],
   "metadata": {
    "collapsed": false
   }
  },
  {
   "cell_type": "code",
   "execution_count": 665,
   "outputs": [],
   "source": [
    "pred = sgd.predict(a)\n",
    "sub.Predicted = pred\n",
    "sub.to_csv('mysubsgd.csv', index=False) #score 0.95977"
   ],
   "metadata": {
    "collapsed": false
   }
  },
  {
   "cell_type": "code",
   "execution_count": 666,
   "outputs": [],
   "source": [
    "pred = knn.predict(a)\n",
    "sub.Predicted = pred\n",
    "sub.to_csv('mysubknn.csv', index=False) #score 0.75862"
   ],
   "metadata": {
    "collapsed": false
   }
  },
  {
   "cell_type": "code",
   "execution_count": 667,
   "outputs": [],
   "source": [
    "pred = log_r.predict(a)\n",
    "sub.Predicted = pred\n",
    "sub.to_csv('mysublogr.csv', index=False) #score 0.90804"
   ],
   "metadata": {
    "collapsed": false
   }
  }
 ],
 "metadata": {
  "kernelspec": {
   "display_name": "Python 3",
   "language": "python",
   "name": "python3"
  },
  "language_info": {
   "codemirror_mode": {
    "name": "ipython",
    "version": 2
   },
   "file_extension": ".py",
   "mimetype": "text/x-python",
   "name": "python",
   "nbconvert_exporter": "python",
   "pygments_lexer": "ipython2",
   "version": "2.7.6"
  }
 },
 "nbformat": 4,
 "nbformat_minor": 0
}
