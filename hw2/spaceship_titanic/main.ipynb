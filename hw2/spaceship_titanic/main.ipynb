{
 "cells": [
  {
   "cell_type": "code",
   "execution_count": 2117,
   "metadata": {
    "collapsed": true
   },
   "outputs": [],
   "source": [
    "import pandas as pd\n",
    "import seaborn as sns\n",
    "import numpy as np\n",
    "import matplotlib.pyplot as plt\n",
    "%matplotlib inline\n",
    "sns.set()"
   ]
  },
  {
   "cell_type": "code",
   "execution_count": 2118,
   "outputs": [],
   "source": [
    "train = pd.read_csv('train.csv')\n",
    "test = pd.read_csv('test.csv')"
   ],
   "metadata": {
    "collapsed": false
   }
  },
  {
   "cell_type": "code",
   "execution_count": 2119,
   "outputs": [
    {
     "data": {
      "text/plain": "  PassengerId HomePlanet CryoSleep  Cabin  Destination   Age    VIP  \\\n0     0001_01     Europa     False  B/0/P  TRAPPIST-1e  39.0  False   \n1     0002_01      Earth     False  F/0/S  TRAPPIST-1e  24.0  False   \n2     0003_01     Europa     False  A/0/S  TRAPPIST-1e  58.0   True   \n3     0003_02     Europa     False  A/0/S  TRAPPIST-1e  33.0  False   \n4     0004_01      Earth     False  F/1/S  TRAPPIST-1e  16.0  False   \n\n   RoomService  FoodCourt  ShoppingMall     Spa  VRDeck               Name  \\\n0          0.0        0.0           0.0     0.0     0.0    Maham Ofracculy   \n1        109.0        9.0          25.0   549.0    44.0       Juanna Vines   \n2         43.0     3576.0           0.0  6715.0    49.0      Altark Susent   \n3          0.0     1283.0         371.0  3329.0   193.0       Solam Susent   \n4        303.0       70.0         151.0   565.0     2.0  Willy Santantines   \n\n   Transported  \n0        False  \n1         True  \n2        False  \n3        False  \n4         True  ",
      "text/html": "<div>\n<style scoped>\n    .dataframe tbody tr th:only-of-type {\n        vertical-align: middle;\n    }\n\n    .dataframe tbody tr th {\n        vertical-align: top;\n    }\n\n    .dataframe thead th {\n        text-align: right;\n    }\n</style>\n<table border=\"1\" class=\"dataframe\">\n  <thead>\n    <tr style=\"text-align: right;\">\n      <th></th>\n      <th>PassengerId</th>\n      <th>HomePlanet</th>\n      <th>CryoSleep</th>\n      <th>Cabin</th>\n      <th>Destination</th>\n      <th>Age</th>\n      <th>VIP</th>\n      <th>RoomService</th>\n      <th>FoodCourt</th>\n      <th>ShoppingMall</th>\n      <th>Spa</th>\n      <th>VRDeck</th>\n      <th>Name</th>\n      <th>Transported</th>\n    </tr>\n  </thead>\n  <tbody>\n    <tr>\n      <th>0</th>\n      <td>0001_01</td>\n      <td>Europa</td>\n      <td>False</td>\n      <td>B/0/P</td>\n      <td>TRAPPIST-1e</td>\n      <td>39.0</td>\n      <td>False</td>\n      <td>0.0</td>\n      <td>0.0</td>\n      <td>0.0</td>\n      <td>0.0</td>\n      <td>0.0</td>\n      <td>Maham Ofracculy</td>\n      <td>False</td>\n    </tr>\n    <tr>\n      <th>1</th>\n      <td>0002_01</td>\n      <td>Earth</td>\n      <td>False</td>\n      <td>F/0/S</td>\n      <td>TRAPPIST-1e</td>\n      <td>24.0</td>\n      <td>False</td>\n      <td>109.0</td>\n      <td>9.0</td>\n      <td>25.0</td>\n      <td>549.0</td>\n      <td>44.0</td>\n      <td>Juanna Vines</td>\n      <td>True</td>\n    </tr>\n    <tr>\n      <th>2</th>\n      <td>0003_01</td>\n      <td>Europa</td>\n      <td>False</td>\n      <td>A/0/S</td>\n      <td>TRAPPIST-1e</td>\n      <td>58.0</td>\n      <td>True</td>\n      <td>43.0</td>\n      <td>3576.0</td>\n      <td>0.0</td>\n      <td>6715.0</td>\n      <td>49.0</td>\n      <td>Altark Susent</td>\n      <td>False</td>\n    </tr>\n    <tr>\n      <th>3</th>\n      <td>0003_02</td>\n      <td>Europa</td>\n      <td>False</td>\n      <td>A/0/S</td>\n      <td>TRAPPIST-1e</td>\n      <td>33.0</td>\n      <td>False</td>\n      <td>0.0</td>\n      <td>1283.0</td>\n      <td>371.0</td>\n      <td>3329.0</td>\n      <td>193.0</td>\n      <td>Solam Susent</td>\n      <td>False</td>\n    </tr>\n    <tr>\n      <th>4</th>\n      <td>0004_01</td>\n      <td>Earth</td>\n      <td>False</td>\n      <td>F/1/S</td>\n      <td>TRAPPIST-1e</td>\n      <td>16.0</td>\n      <td>False</td>\n      <td>303.0</td>\n      <td>70.0</td>\n      <td>151.0</td>\n      <td>565.0</td>\n      <td>2.0</td>\n      <td>Willy Santantines</td>\n      <td>True</td>\n    </tr>\n  </tbody>\n</table>\n</div>"
     },
     "execution_count": 2119,
     "metadata": {},
     "output_type": "execute_result"
    }
   ],
   "source": [
    "train.head()"
   ],
   "metadata": {
    "collapsed": false
   }
  },
  {
   "cell_type": "code",
   "execution_count": 2120,
   "outputs": [
    {
     "data": {
      "text/plain": "               Age   RoomService     FoodCourt  ShoppingMall           Spa  \\\ncount  8514.000000   8512.000000   8510.000000   8485.000000   8510.000000   \nmean     28.827930    224.687617    458.077203    173.729169    311.138778   \nstd      14.489021    666.717663   1611.489240    604.696458   1136.705535   \nmin       0.000000      0.000000      0.000000      0.000000      0.000000   \n25%      19.000000      0.000000      0.000000      0.000000      0.000000   \n50%      27.000000      0.000000      0.000000      0.000000      0.000000   \n75%      38.000000     47.000000     76.000000     27.000000     59.000000   \nmax      79.000000  14327.000000  29813.000000  23492.000000  22408.000000   \n\n             VRDeck  \ncount   8505.000000  \nmean     304.854791  \nstd     1145.717189  \nmin        0.000000  \n25%        0.000000  \n50%        0.000000  \n75%       46.000000  \nmax    24133.000000  ",
      "text/html": "<div>\n<style scoped>\n    .dataframe tbody tr th:only-of-type {\n        vertical-align: middle;\n    }\n\n    .dataframe tbody tr th {\n        vertical-align: top;\n    }\n\n    .dataframe thead th {\n        text-align: right;\n    }\n</style>\n<table border=\"1\" class=\"dataframe\">\n  <thead>\n    <tr style=\"text-align: right;\">\n      <th></th>\n      <th>Age</th>\n      <th>RoomService</th>\n      <th>FoodCourt</th>\n      <th>ShoppingMall</th>\n      <th>Spa</th>\n      <th>VRDeck</th>\n    </tr>\n  </thead>\n  <tbody>\n    <tr>\n      <th>count</th>\n      <td>8514.000000</td>\n      <td>8512.000000</td>\n      <td>8510.000000</td>\n      <td>8485.000000</td>\n      <td>8510.000000</td>\n      <td>8505.000000</td>\n    </tr>\n    <tr>\n      <th>mean</th>\n      <td>28.827930</td>\n      <td>224.687617</td>\n      <td>458.077203</td>\n      <td>173.729169</td>\n      <td>311.138778</td>\n      <td>304.854791</td>\n    </tr>\n    <tr>\n      <th>std</th>\n      <td>14.489021</td>\n      <td>666.717663</td>\n      <td>1611.489240</td>\n      <td>604.696458</td>\n      <td>1136.705535</td>\n      <td>1145.717189</td>\n    </tr>\n    <tr>\n      <th>min</th>\n      <td>0.000000</td>\n      <td>0.000000</td>\n      <td>0.000000</td>\n      <td>0.000000</td>\n      <td>0.000000</td>\n      <td>0.000000</td>\n    </tr>\n    <tr>\n      <th>25%</th>\n      <td>19.000000</td>\n      <td>0.000000</td>\n      <td>0.000000</td>\n      <td>0.000000</td>\n      <td>0.000000</td>\n      <td>0.000000</td>\n    </tr>\n    <tr>\n      <th>50%</th>\n      <td>27.000000</td>\n      <td>0.000000</td>\n      <td>0.000000</td>\n      <td>0.000000</td>\n      <td>0.000000</td>\n      <td>0.000000</td>\n    </tr>\n    <tr>\n      <th>75%</th>\n      <td>38.000000</td>\n      <td>47.000000</td>\n      <td>76.000000</td>\n      <td>27.000000</td>\n      <td>59.000000</td>\n      <td>46.000000</td>\n    </tr>\n    <tr>\n      <th>max</th>\n      <td>79.000000</td>\n      <td>14327.000000</td>\n      <td>29813.000000</td>\n      <td>23492.000000</td>\n      <td>22408.000000</td>\n      <td>24133.000000</td>\n    </tr>\n  </tbody>\n</table>\n</div>"
     },
     "execution_count": 2120,
     "metadata": {},
     "output_type": "execute_result"
    }
   ],
   "source": [
    "train.describe()"
   ],
   "metadata": {
    "collapsed": false
   }
  },
  {
   "cell_type": "code",
   "execution_count": 2121,
   "outputs": [
    {
     "data": {
      "text/plain": "     PassengerId HomePlanet CryoSleep     Cabin  Destination  Age    VIP  \\\n50       0052_01      Earth     False     G/6/S  TRAPPIST-1e  NaN  False   \n64       0068_01       Mars     False     E/4/S  TRAPPIST-1e  NaN  False   \n137      0149_01      Earth      True    G/27/S  55 Cancri e  NaN  False   \n181      0202_02     Europa     False     A/2/P  55 Cancri e  NaN  False   \n184      0206_01     Europa     False     C/9/S  55 Cancri e  NaN  False   \n...          ...        ...       ...       ...          ...  ...    ...   \n8274     8835_01      Earth      True  G/1425/S  TRAPPIST-1e  NaN  False   \n8301     8862_03     Europa      True   C/329/S  TRAPPIST-1e  NaN  False   \n8374     8956_04      Earth     False  G/1453/P  TRAPPIST-1e  NaN  False   \n8407     8988_01      Earth      True  G/1448/S  TRAPPIST-1e  NaN  False   \n8557     9136_01      Earth     False  G/1471/S  TRAPPIST-1e  NaN  False   \n\n      RoomService  FoodCourt  ShoppingMall     Spa  VRDeck  \\\n50            4.0        0.0           2.0  4683.0     0.0   \n64          793.0        0.0           2.0   253.0     0.0   \n137           0.0        0.0           0.0     0.0     0.0   \n181           0.0     2433.0           NaN   878.0   443.0   \n184           2.0     1720.0          12.0  1125.0   122.0   \n...           ...        ...           ...     ...     ...   \n8274          0.0        0.0           0.0     0.0     0.0   \n8301          0.0        0.0           0.0     0.0     0.0   \n8374        194.0        1.0          10.0   629.0     0.0   \n8407          0.0        0.0           0.0     0.0     0.0   \n8557          6.0        0.0           0.0   800.0     3.0   \n\n                    Name  Transported  \n50      Elaney Hubbarton        False  \n64           Cinst Binie        False  \n137   Billya Hubbarrison         True  \n181        Vegas Embleng         True  \n184      Nuson Brugashed         True  \n...                  ...          ...  \n8274     Shalle Bartines        False  \n8301       Alchib Myling         True  \n8374     Krisa Bonnondry        False  \n8407    Maen Fowlesterez         True  \n8557         Sall Hestes        False  \n\n[179 rows x 14 columns]",
      "text/html": "<div>\n<style scoped>\n    .dataframe tbody tr th:only-of-type {\n        vertical-align: middle;\n    }\n\n    .dataframe tbody tr th {\n        vertical-align: top;\n    }\n\n    .dataframe thead th {\n        text-align: right;\n    }\n</style>\n<table border=\"1\" class=\"dataframe\">\n  <thead>\n    <tr style=\"text-align: right;\">\n      <th></th>\n      <th>PassengerId</th>\n      <th>HomePlanet</th>\n      <th>CryoSleep</th>\n      <th>Cabin</th>\n      <th>Destination</th>\n      <th>Age</th>\n      <th>VIP</th>\n      <th>RoomService</th>\n      <th>FoodCourt</th>\n      <th>ShoppingMall</th>\n      <th>Spa</th>\n      <th>VRDeck</th>\n      <th>Name</th>\n      <th>Transported</th>\n    </tr>\n  </thead>\n  <tbody>\n    <tr>\n      <th>50</th>\n      <td>0052_01</td>\n      <td>Earth</td>\n      <td>False</td>\n      <td>G/6/S</td>\n      <td>TRAPPIST-1e</td>\n      <td>NaN</td>\n      <td>False</td>\n      <td>4.0</td>\n      <td>0.0</td>\n      <td>2.0</td>\n      <td>4683.0</td>\n      <td>0.0</td>\n      <td>Elaney Hubbarton</td>\n      <td>False</td>\n    </tr>\n    <tr>\n      <th>64</th>\n      <td>0068_01</td>\n      <td>Mars</td>\n      <td>False</td>\n      <td>E/4/S</td>\n      <td>TRAPPIST-1e</td>\n      <td>NaN</td>\n      <td>False</td>\n      <td>793.0</td>\n      <td>0.0</td>\n      <td>2.0</td>\n      <td>253.0</td>\n      <td>0.0</td>\n      <td>Cinst Binie</td>\n      <td>False</td>\n    </tr>\n    <tr>\n      <th>137</th>\n      <td>0149_01</td>\n      <td>Earth</td>\n      <td>True</td>\n      <td>G/27/S</td>\n      <td>55 Cancri e</td>\n      <td>NaN</td>\n      <td>False</td>\n      <td>0.0</td>\n      <td>0.0</td>\n      <td>0.0</td>\n      <td>0.0</td>\n      <td>0.0</td>\n      <td>Billya Hubbarrison</td>\n      <td>True</td>\n    </tr>\n    <tr>\n      <th>181</th>\n      <td>0202_02</td>\n      <td>Europa</td>\n      <td>False</td>\n      <td>A/2/P</td>\n      <td>55 Cancri e</td>\n      <td>NaN</td>\n      <td>False</td>\n      <td>0.0</td>\n      <td>2433.0</td>\n      <td>NaN</td>\n      <td>878.0</td>\n      <td>443.0</td>\n      <td>Vegas Embleng</td>\n      <td>True</td>\n    </tr>\n    <tr>\n      <th>184</th>\n      <td>0206_01</td>\n      <td>Europa</td>\n      <td>False</td>\n      <td>C/9/S</td>\n      <td>55 Cancri e</td>\n      <td>NaN</td>\n      <td>False</td>\n      <td>2.0</td>\n      <td>1720.0</td>\n      <td>12.0</td>\n      <td>1125.0</td>\n      <td>122.0</td>\n      <td>Nuson Brugashed</td>\n      <td>True</td>\n    </tr>\n    <tr>\n      <th>...</th>\n      <td>...</td>\n      <td>...</td>\n      <td>...</td>\n      <td>...</td>\n      <td>...</td>\n      <td>...</td>\n      <td>...</td>\n      <td>...</td>\n      <td>...</td>\n      <td>...</td>\n      <td>...</td>\n      <td>...</td>\n      <td>...</td>\n      <td>...</td>\n    </tr>\n    <tr>\n      <th>8274</th>\n      <td>8835_01</td>\n      <td>Earth</td>\n      <td>True</td>\n      <td>G/1425/S</td>\n      <td>TRAPPIST-1e</td>\n      <td>NaN</td>\n      <td>False</td>\n      <td>0.0</td>\n      <td>0.0</td>\n      <td>0.0</td>\n      <td>0.0</td>\n      <td>0.0</td>\n      <td>Shalle Bartines</td>\n      <td>False</td>\n    </tr>\n    <tr>\n      <th>8301</th>\n      <td>8862_03</td>\n      <td>Europa</td>\n      <td>True</td>\n      <td>C/329/S</td>\n      <td>TRAPPIST-1e</td>\n      <td>NaN</td>\n      <td>False</td>\n      <td>0.0</td>\n      <td>0.0</td>\n      <td>0.0</td>\n      <td>0.0</td>\n      <td>0.0</td>\n      <td>Alchib Myling</td>\n      <td>True</td>\n    </tr>\n    <tr>\n      <th>8374</th>\n      <td>8956_04</td>\n      <td>Earth</td>\n      <td>False</td>\n      <td>G/1453/P</td>\n      <td>TRAPPIST-1e</td>\n      <td>NaN</td>\n      <td>False</td>\n      <td>194.0</td>\n      <td>1.0</td>\n      <td>10.0</td>\n      <td>629.0</td>\n      <td>0.0</td>\n      <td>Krisa Bonnondry</td>\n      <td>False</td>\n    </tr>\n    <tr>\n      <th>8407</th>\n      <td>8988_01</td>\n      <td>Earth</td>\n      <td>True</td>\n      <td>G/1448/S</td>\n      <td>TRAPPIST-1e</td>\n      <td>NaN</td>\n      <td>False</td>\n      <td>0.0</td>\n      <td>0.0</td>\n      <td>0.0</td>\n      <td>0.0</td>\n      <td>0.0</td>\n      <td>Maen Fowlesterez</td>\n      <td>True</td>\n    </tr>\n    <tr>\n      <th>8557</th>\n      <td>9136_01</td>\n      <td>Earth</td>\n      <td>False</td>\n      <td>G/1471/S</td>\n      <td>TRAPPIST-1e</td>\n      <td>NaN</td>\n      <td>False</td>\n      <td>6.0</td>\n      <td>0.0</td>\n      <td>0.0</td>\n      <td>800.0</td>\n      <td>3.0</td>\n      <td>Sall Hestes</td>\n      <td>False</td>\n    </tr>\n  </tbody>\n</table>\n<p>179 rows × 14 columns</p>\n</div>"
     },
     "execution_count": 2121,
     "metadata": {},
     "output_type": "execute_result"
    }
   ],
   "source": [
    "train[train.Age.isnull()]"
   ],
   "metadata": {
    "collapsed": false
   }
  },
  {
   "cell_type": "code",
   "execution_count": 2122,
   "outputs": [
    {
     "data": {
      "text/plain": "     PassengerId HomePlanet CryoSleep     Cabin  Destination   Age    VIP  \\\n92       0099_02      Earth       NaN    G/12/P  TRAPPIST-1e   2.0  False   \n98       0105_01      Earth       NaN    F/21/P  TRAPPIST-1e  27.0  False   \n104      0110_02     Europa       NaN     B/5/P  TRAPPIST-1e  40.0  False   \n111      0115_01       Mars       NaN    F/24/P  TRAPPIST-1e  26.0  False   \n152      0173_01      Earth       NaN    E/11/S  TRAPPIST-1e  58.0  False   \n...          ...        ...       ...       ...          ...   ...    ...   \n8620     9197_01     Europa       NaN   C/308/P  55 Cancri e  44.0  False   \n8651     9227_05      Earth       NaN  G/1498/P  TRAPPIST-1e   8.0  False   \n8664     9246_01      Earth       NaN  G/1490/S  TRAPPIST-1e  32.0  False   \n8675     9259_01      Earth       NaN  F/1893/P  TRAPPIST-1e  44.0  False   \n8687     9275_03     Europa       NaN    A/97/P  TRAPPIST-1e  30.0  False   \n\n      RoomService  FoodCourt  ShoppingMall   Spa  VRDeck              Name  \\\n92            0.0        0.0           0.0   0.0     0.0  Thewis Connelson   \n98            0.0        0.0         570.0   2.0   131.0  Carry Cleachrand   \n104           0.0      331.0           0.0   0.0  1687.0   Aldeba Bootious   \n111           0.0        0.0           0.0   0.0     NaN         Rohs Pead   \n152           0.0      985.0           0.0   5.0     0.0    Hilip Grifford   \n...           ...        ...           ...   ...     ...               ...   \n8620          0.0        0.0           0.0   0.0     0.0     Bellus Platch   \n8651          0.0        0.0           0.0   0.0     0.0   Hard Hinglendez   \n8664          0.0        0.0           0.0   0.0     0.0               NaN   \n8675       1030.0     1015.0           0.0  11.0     NaN   Annah Gilleyons   \n8687          0.0     3208.0           0.0   2.0   330.0   Atlasym Conable   \n\n      Transported  \n92           True  \n98          False  \n104         False  \n111          True  \n152          True  \n...           ...  \n8620         True  \n8651        False  \n8664         True  \n8675         True  \n8687         True  \n\n[217 rows x 14 columns]",
      "text/html": "<div>\n<style scoped>\n    .dataframe tbody tr th:only-of-type {\n        vertical-align: middle;\n    }\n\n    .dataframe tbody tr th {\n        vertical-align: top;\n    }\n\n    .dataframe thead th {\n        text-align: right;\n    }\n</style>\n<table border=\"1\" class=\"dataframe\">\n  <thead>\n    <tr style=\"text-align: right;\">\n      <th></th>\n      <th>PassengerId</th>\n      <th>HomePlanet</th>\n      <th>CryoSleep</th>\n      <th>Cabin</th>\n      <th>Destination</th>\n      <th>Age</th>\n      <th>VIP</th>\n      <th>RoomService</th>\n      <th>FoodCourt</th>\n      <th>ShoppingMall</th>\n      <th>Spa</th>\n      <th>VRDeck</th>\n      <th>Name</th>\n      <th>Transported</th>\n    </tr>\n  </thead>\n  <tbody>\n    <tr>\n      <th>92</th>\n      <td>0099_02</td>\n      <td>Earth</td>\n      <td>NaN</td>\n      <td>G/12/P</td>\n      <td>TRAPPIST-1e</td>\n      <td>2.0</td>\n      <td>False</td>\n      <td>0.0</td>\n      <td>0.0</td>\n      <td>0.0</td>\n      <td>0.0</td>\n      <td>0.0</td>\n      <td>Thewis Connelson</td>\n      <td>True</td>\n    </tr>\n    <tr>\n      <th>98</th>\n      <td>0105_01</td>\n      <td>Earth</td>\n      <td>NaN</td>\n      <td>F/21/P</td>\n      <td>TRAPPIST-1e</td>\n      <td>27.0</td>\n      <td>False</td>\n      <td>0.0</td>\n      <td>0.0</td>\n      <td>570.0</td>\n      <td>2.0</td>\n      <td>131.0</td>\n      <td>Carry Cleachrand</td>\n      <td>False</td>\n    </tr>\n    <tr>\n      <th>104</th>\n      <td>0110_02</td>\n      <td>Europa</td>\n      <td>NaN</td>\n      <td>B/5/P</td>\n      <td>TRAPPIST-1e</td>\n      <td>40.0</td>\n      <td>False</td>\n      <td>0.0</td>\n      <td>331.0</td>\n      <td>0.0</td>\n      <td>0.0</td>\n      <td>1687.0</td>\n      <td>Aldeba Bootious</td>\n      <td>False</td>\n    </tr>\n    <tr>\n      <th>111</th>\n      <td>0115_01</td>\n      <td>Mars</td>\n      <td>NaN</td>\n      <td>F/24/P</td>\n      <td>TRAPPIST-1e</td>\n      <td>26.0</td>\n      <td>False</td>\n      <td>0.0</td>\n      <td>0.0</td>\n      <td>0.0</td>\n      <td>0.0</td>\n      <td>NaN</td>\n      <td>Rohs Pead</td>\n      <td>True</td>\n    </tr>\n    <tr>\n      <th>152</th>\n      <td>0173_01</td>\n      <td>Earth</td>\n      <td>NaN</td>\n      <td>E/11/S</td>\n      <td>TRAPPIST-1e</td>\n      <td>58.0</td>\n      <td>False</td>\n      <td>0.0</td>\n      <td>985.0</td>\n      <td>0.0</td>\n      <td>5.0</td>\n      <td>0.0</td>\n      <td>Hilip Grifford</td>\n      <td>True</td>\n    </tr>\n    <tr>\n      <th>...</th>\n      <td>...</td>\n      <td>...</td>\n      <td>...</td>\n      <td>...</td>\n      <td>...</td>\n      <td>...</td>\n      <td>...</td>\n      <td>...</td>\n      <td>...</td>\n      <td>...</td>\n      <td>...</td>\n      <td>...</td>\n      <td>...</td>\n      <td>...</td>\n    </tr>\n    <tr>\n      <th>8620</th>\n      <td>9197_01</td>\n      <td>Europa</td>\n      <td>NaN</td>\n      <td>C/308/P</td>\n      <td>55 Cancri e</td>\n      <td>44.0</td>\n      <td>False</td>\n      <td>0.0</td>\n      <td>0.0</td>\n      <td>0.0</td>\n      <td>0.0</td>\n      <td>0.0</td>\n      <td>Bellus Platch</td>\n      <td>True</td>\n    </tr>\n    <tr>\n      <th>8651</th>\n      <td>9227_05</td>\n      <td>Earth</td>\n      <td>NaN</td>\n      <td>G/1498/P</td>\n      <td>TRAPPIST-1e</td>\n      <td>8.0</td>\n      <td>False</td>\n      <td>0.0</td>\n      <td>0.0</td>\n      <td>0.0</td>\n      <td>0.0</td>\n      <td>0.0</td>\n      <td>Hard Hinglendez</td>\n      <td>False</td>\n    </tr>\n    <tr>\n      <th>8664</th>\n      <td>9246_01</td>\n      <td>Earth</td>\n      <td>NaN</td>\n      <td>G/1490/S</td>\n      <td>TRAPPIST-1e</td>\n      <td>32.0</td>\n      <td>False</td>\n      <td>0.0</td>\n      <td>0.0</td>\n      <td>0.0</td>\n      <td>0.0</td>\n      <td>0.0</td>\n      <td>NaN</td>\n      <td>True</td>\n    </tr>\n    <tr>\n      <th>8675</th>\n      <td>9259_01</td>\n      <td>Earth</td>\n      <td>NaN</td>\n      <td>F/1893/P</td>\n      <td>TRAPPIST-1e</td>\n      <td>44.0</td>\n      <td>False</td>\n      <td>1030.0</td>\n      <td>1015.0</td>\n      <td>0.0</td>\n      <td>11.0</td>\n      <td>NaN</td>\n      <td>Annah Gilleyons</td>\n      <td>True</td>\n    </tr>\n    <tr>\n      <th>8687</th>\n      <td>9275_03</td>\n      <td>Europa</td>\n      <td>NaN</td>\n      <td>A/97/P</td>\n      <td>TRAPPIST-1e</td>\n      <td>30.0</td>\n      <td>False</td>\n      <td>0.0</td>\n      <td>3208.0</td>\n      <td>0.0</td>\n      <td>2.0</td>\n      <td>330.0</td>\n      <td>Atlasym Conable</td>\n      <td>True</td>\n    </tr>\n  </tbody>\n</table>\n<p>217 rows × 14 columns</p>\n</div>"
     },
     "execution_count": 2122,
     "metadata": {},
     "output_type": "execute_result"
    }
   ],
   "source": [
    "train[train.CryoSleep.isnull()]"
   ],
   "metadata": {
    "collapsed": false
   }
  },
  {
   "cell_type": "code",
   "execution_count": 2123,
   "outputs": [
    {
     "data": {
      "text/plain": "     PassengerId HomePlanet CryoSleep Cabin  Destination   Age    VIP  \\\n15       0012_01      Earth     False   NaN  TRAPPIST-1e  31.0  False   \n93       0101_01       Mars      True   NaN  TRAPPIST-1e  31.0  False   \n103      0110_01     Europa     False   NaN  TRAPPIST-1e  32.0  False   \n222      0239_01       Mars     False   NaN  TRAPPIST-1e  37.0  False   \n227      0244_01       Mars      True   NaN  TRAPPIST-1e  43.0  False   \n...          ...        ...       ...   ...          ...   ...    ...   \n8209     8772_02     Europa     False   NaN  55 Cancri e  53.0  False   \n8475     9057_01     Europa     False   NaN  55 Cancri e  36.0   True   \n8485     9069_03     Europa      True   NaN  55 Cancri e  25.0  False   \n8509     9081_03      Earth      True   NaN  TRAPPIST-1e   1.0  False   \n8656     9233_01      Earth     False   NaN  TRAPPIST-1e  41.0  False   \n\n      RoomService  FoodCourt  ShoppingMall     Spa  VRDeck               Name  \\\n15           32.0        0.0         876.0     0.0     0.0      Justie Pooles   \n93            0.0        0.0           0.0     0.0     0.0          Book Trad   \n103           0.0      410.0           6.0  3929.0   764.0  Graviph Aloubtled   \n222         637.0        0.0           0.0    92.0   319.0       Diedow Resty   \n227           0.0        0.0           0.0     0.0     0.0          Froos Sad   \n...           ...        ...           ...     ...     ...                ...   \n8209          0.0     1127.0           0.0  3939.0     NaN     Naosura Motled   \n8475        132.0     3479.0           0.0  3786.0     0.0       Coxan Statch   \n8485          0.0        0.0           0.0     0.0     0.0       Bath Brakeng   \n8509          0.0        0.0           0.0     0.0     0.0   Beula Clemondsey   \n8656          3.0        0.0         668.0     0.0     0.0       Royce Giller   \n\n      Transported  \n15          False  \n93           True  \n103         False  \n222         False  \n227          True  \n...           ...  \n8209        False  \n8475        False  \n8485         True  \n8509        False  \n8656         True  \n\n[199 rows x 14 columns]",
      "text/html": "<div>\n<style scoped>\n    .dataframe tbody tr th:only-of-type {\n        vertical-align: middle;\n    }\n\n    .dataframe tbody tr th {\n        vertical-align: top;\n    }\n\n    .dataframe thead th {\n        text-align: right;\n    }\n</style>\n<table border=\"1\" class=\"dataframe\">\n  <thead>\n    <tr style=\"text-align: right;\">\n      <th></th>\n      <th>PassengerId</th>\n      <th>HomePlanet</th>\n      <th>CryoSleep</th>\n      <th>Cabin</th>\n      <th>Destination</th>\n      <th>Age</th>\n      <th>VIP</th>\n      <th>RoomService</th>\n      <th>FoodCourt</th>\n      <th>ShoppingMall</th>\n      <th>Spa</th>\n      <th>VRDeck</th>\n      <th>Name</th>\n      <th>Transported</th>\n    </tr>\n  </thead>\n  <tbody>\n    <tr>\n      <th>15</th>\n      <td>0012_01</td>\n      <td>Earth</td>\n      <td>False</td>\n      <td>NaN</td>\n      <td>TRAPPIST-1e</td>\n      <td>31.0</td>\n      <td>False</td>\n      <td>32.0</td>\n      <td>0.0</td>\n      <td>876.0</td>\n      <td>0.0</td>\n      <td>0.0</td>\n      <td>Justie Pooles</td>\n      <td>False</td>\n    </tr>\n    <tr>\n      <th>93</th>\n      <td>0101_01</td>\n      <td>Mars</td>\n      <td>True</td>\n      <td>NaN</td>\n      <td>TRAPPIST-1e</td>\n      <td>31.0</td>\n      <td>False</td>\n      <td>0.0</td>\n      <td>0.0</td>\n      <td>0.0</td>\n      <td>0.0</td>\n      <td>0.0</td>\n      <td>Book Trad</td>\n      <td>True</td>\n    </tr>\n    <tr>\n      <th>103</th>\n      <td>0110_01</td>\n      <td>Europa</td>\n      <td>False</td>\n      <td>NaN</td>\n      <td>TRAPPIST-1e</td>\n      <td>32.0</td>\n      <td>False</td>\n      <td>0.0</td>\n      <td>410.0</td>\n      <td>6.0</td>\n      <td>3929.0</td>\n      <td>764.0</td>\n      <td>Graviph Aloubtled</td>\n      <td>False</td>\n    </tr>\n    <tr>\n      <th>222</th>\n      <td>0239_01</td>\n      <td>Mars</td>\n      <td>False</td>\n      <td>NaN</td>\n      <td>TRAPPIST-1e</td>\n      <td>37.0</td>\n      <td>False</td>\n      <td>637.0</td>\n      <td>0.0</td>\n      <td>0.0</td>\n      <td>92.0</td>\n      <td>319.0</td>\n      <td>Diedow Resty</td>\n      <td>False</td>\n    </tr>\n    <tr>\n      <th>227</th>\n      <td>0244_01</td>\n      <td>Mars</td>\n      <td>True</td>\n      <td>NaN</td>\n      <td>TRAPPIST-1e</td>\n      <td>43.0</td>\n      <td>False</td>\n      <td>0.0</td>\n      <td>0.0</td>\n      <td>0.0</td>\n      <td>0.0</td>\n      <td>0.0</td>\n      <td>Froos Sad</td>\n      <td>True</td>\n    </tr>\n    <tr>\n      <th>...</th>\n      <td>...</td>\n      <td>...</td>\n      <td>...</td>\n      <td>...</td>\n      <td>...</td>\n      <td>...</td>\n      <td>...</td>\n      <td>...</td>\n      <td>...</td>\n      <td>...</td>\n      <td>...</td>\n      <td>...</td>\n      <td>...</td>\n      <td>...</td>\n    </tr>\n    <tr>\n      <th>8209</th>\n      <td>8772_02</td>\n      <td>Europa</td>\n      <td>False</td>\n      <td>NaN</td>\n      <td>55 Cancri e</td>\n      <td>53.0</td>\n      <td>False</td>\n      <td>0.0</td>\n      <td>1127.0</td>\n      <td>0.0</td>\n      <td>3939.0</td>\n      <td>NaN</td>\n      <td>Naosura Motled</td>\n      <td>False</td>\n    </tr>\n    <tr>\n      <th>8475</th>\n      <td>9057_01</td>\n      <td>Europa</td>\n      <td>False</td>\n      <td>NaN</td>\n      <td>55 Cancri e</td>\n      <td>36.0</td>\n      <td>True</td>\n      <td>132.0</td>\n      <td>3479.0</td>\n      <td>0.0</td>\n      <td>3786.0</td>\n      <td>0.0</td>\n      <td>Coxan Statch</td>\n      <td>False</td>\n    </tr>\n    <tr>\n      <th>8485</th>\n      <td>9069_03</td>\n      <td>Europa</td>\n      <td>True</td>\n      <td>NaN</td>\n      <td>55 Cancri e</td>\n      <td>25.0</td>\n      <td>False</td>\n      <td>0.0</td>\n      <td>0.0</td>\n      <td>0.0</td>\n      <td>0.0</td>\n      <td>0.0</td>\n      <td>Bath Brakeng</td>\n      <td>True</td>\n    </tr>\n    <tr>\n      <th>8509</th>\n      <td>9081_03</td>\n      <td>Earth</td>\n      <td>True</td>\n      <td>NaN</td>\n      <td>TRAPPIST-1e</td>\n      <td>1.0</td>\n      <td>False</td>\n      <td>0.0</td>\n      <td>0.0</td>\n      <td>0.0</td>\n      <td>0.0</td>\n      <td>0.0</td>\n      <td>Beula Clemondsey</td>\n      <td>False</td>\n    </tr>\n    <tr>\n      <th>8656</th>\n      <td>9233_01</td>\n      <td>Earth</td>\n      <td>False</td>\n      <td>NaN</td>\n      <td>TRAPPIST-1e</td>\n      <td>41.0</td>\n      <td>False</td>\n      <td>3.0</td>\n      <td>0.0</td>\n      <td>668.0</td>\n      <td>0.0</td>\n      <td>0.0</td>\n      <td>Royce Giller</td>\n      <td>True</td>\n    </tr>\n  </tbody>\n</table>\n<p>199 rows × 14 columns</p>\n</div>"
     },
     "execution_count": 2123,
     "metadata": {},
     "output_type": "execute_result"
    }
   ],
   "source": [
    "train[train.Cabin.isnull()]"
   ],
   "metadata": {
    "collapsed": false
   }
  },
  {
   "cell_type": "code",
   "execution_count": 2124,
   "outputs": [
    {
     "data": {
      "text/plain": "     PassengerId HomePlanet CryoSleep     Cabin Destination   Age    VIP  \\\n47       0045_02       Mars      True    F/10/P         NaN  19.0  False   \n128      0138_02      Earth     False     E/5/P         NaN  34.0  False   \n139      0152_01      Earth     False    F/32/P         NaN  41.0  False   \n347      0382_01        NaN     False    G/64/P         NaN  23.0  False   \n430      0462_01      Earth      True    G/67/S         NaN  50.0  False   \n...          ...        ...       ...       ...         ...   ...    ...   \n8372     8956_02      Earth      True  G/1453/P         NaN  20.0  False   \n8551     9130_01       Mars      True  F/1765/S         NaN  41.0  False   \n8616     9195_02       Mars      True  F/1779/S         NaN  33.0  False   \n8621     9197_02     Europa     False   C/308/P         NaN  41.0   True   \n8646     9226_01      Earth     False  F/1788/S         NaN  22.0  False   \n\n      RoomService  FoodCourt  ShoppingMall     Spa  VRDeck  \\\n47            0.0        0.0           0.0     0.0     0.0   \n128           0.0       22.0           0.0   564.0   207.0   \n139           0.0        0.0           0.0     0.0   607.0   \n347         348.0        0.0           0.0     4.0   368.0   \n430           0.0        0.0           0.0     0.0     0.0   \n...           ...        ...           ...     ...     ...   \n8372          0.0        0.0           0.0     0.0     0.0   \n8551          0.0        0.0           0.0     0.0     0.0   \n8616          0.0        0.0           0.0     0.0     0.0   \n8621          0.0     7964.0           0.0  3238.0  5839.0   \n8646        676.0        0.0          13.0     0.0    12.0   \n\n                    Name  Transported  \n47            Mass Chmad         True  \n128          Monah Gambs        False  \n139         Andan Estron        False  \n347   Blanie Floydendley        False  \n430    Ronia Sosanturney        False  \n...                  ...          ...  \n8372     Erina Bonnondry         True  \n8551         Blers Corte         True  \n8616         Ceros Purle         True  \n8621      Aludram Platch        False  \n8646    Stendy Connelson        False  \n\n[182 rows x 14 columns]",
      "text/html": "<div>\n<style scoped>\n    .dataframe tbody tr th:only-of-type {\n        vertical-align: middle;\n    }\n\n    .dataframe tbody tr th {\n        vertical-align: top;\n    }\n\n    .dataframe thead th {\n        text-align: right;\n    }\n</style>\n<table border=\"1\" class=\"dataframe\">\n  <thead>\n    <tr style=\"text-align: right;\">\n      <th></th>\n      <th>PassengerId</th>\n      <th>HomePlanet</th>\n      <th>CryoSleep</th>\n      <th>Cabin</th>\n      <th>Destination</th>\n      <th>Age</th>\n      <th>VIP</th>\n      <th>RoomService</th>\n      <th>FoodCourt</th>\n      <th>ShoppingMall</th>\n      <th>Spa</th>\n      <th>VRDeck</th>\n      <th>Name</th>\n      <th>Transported</th>\n    </tr>\n  </thead>\n  <tbody>\n    <tr>\n      <th>47</th>\n      <td>0045_02</td>\n      <td>Mars</td>\n      <td>True</td>\n      <td>F/10/P</td>\n      <td>NaN</td>\n      <td>19.0</td>\n      <td>False</td>\n      <td>0.0</td>\n      <td>0.0</td>\n      <td>0.0</td>\n      <td>0.0</td>\n      <td>0.0</td>\n      <td>Mass Chmad</td>\n      <td>True</td>\n    </tr>\n    <tr>\n      <th>128</th>\n      <td>0138_02</td>\n      <td>Earth</td>\n      <td>False</td>\n      <td>E/5/P</td>\n      <td>NaN</td>\n      <td>34.0</td>\n      <td>False</td>\n      <td>0.0</td>\n      <td>22.0</td>\n      <td>0.0</td>\n      <td>564.0</td>\n      <td>207.0</td>\n      <td>Monah Gambs</td>\n      <td>False</td>\n    </tr>\n    <tr>\n      <th>139</th>\n      <td>0152_01</td>\n      <td>Earth</td>\n      <td>False</td>\n      <td>F/32/P</td>\n      <td>NaN</td>\n      <td>41.0</td>\n      <td>False</td>\n      <td>0.0</td>\n      <td>0.0</td>\n      <td>0.0</td>\n      <td>0.0</td>\n      <td>607.0</td>\n      <td>Andan Estron</td>\n      <td>False</td>\n    </tr>\n    <tr>\n      <th>347</th>\n      <td>0382_01</td>\n      <td>NaN</td>\n      <td>False</td>\n      <td>G/64/P</td>\n      <td>NaN</td>\n      <td>23.0</td>\n      <td>False</td>\n      <td>348.0</td>\n      <td>0.0</td>\n      <td>0.0</td>\n      <td>4.0</td>\n      <td>368.0</td>\n      <td>Blanie Floydendley</td>\n      <td>False</td>\n    </tr>\n    <tr>\n      <th>430</th>\n      <td>0462_01</td>\n      <td>Earth</td>\n      <td>True</td>\n      <td>G/67/S</td>\n      <td>NaN</td>\n      <td>50.0</td>\n      <td>False</td>\n      <td>0.0</td>\n      <td>0.0</td>\n      <td>0.0</td>\n      <td>0.0</td>\n      <td>0.0</td>\n      <td>Ronia Sosanturney</td>\n      <td>False</td>\n    </tr>\n    <tr>\n      <th>...</th>\n      <td>...</td>\n      <td>...</td>\n      <td>...</td>\n      <td>...</td>\n      <td>...</td>\n      <td>...</td>\n      <td>...</td>\n      <td>...</td>\n      <td>...</td>\n      <td>...</td>\n      <td>...</td>\n      <td>...</td>\n      <td>...</td>\n      <td>...</td>\n    </tr>\n    <tr>\n      <th>8372</th>\n      <td>8956_02</td>\n      <td>Earth</td>\n      <td>True</td>\n      <td>G/1453/P</td>\n      <td>NaN</td>\n      <td>20.0</td>\n      <td>False</td>\n      <td>0.0</td>\n      <td>0.0</td>\n      <td>0.0</td>\n      <td>0.0</td>\n      <td>0.0</td>\n      <td>Erina Bonnondry</td>\n      <td>True</td>\n    </tr>\n    <tr>\n      <th>8551</th>\n      <td>9130_01</td>\n      <td>Mars</td>\n      <td>True</td>\n      <td>F/1765/S</td>\n      <td>NaN</td>\n      <td>41.0</td>\n      <td>False</td>\n      <td>0.0</td>\n      <td>0.0</td>\n      <td>0.0</td>\n      <td>0.0</td>\n      <td>0.0</td>\n      <td>Blers Corte</td>\n      <td>True</td>\n    </tr>\n    <tr>\n      <th>8616</th>\n      <td>9195_02</td>\n      <td>Mars</td>\n      <td>True</td>\n      <td>F/1779/S</td>\n      <td>NaN</td>\n      <td>33.0</td>\n      <td>False</td>\n      <td>0.0</td>\n      <td>0.0</td>\n      <td>0.0</td>\n      <td>0.0</td>\n      <td>0.0</td>\n      <td>Ceros Purle</td>\n      <td>True</td>\n    </tr>\n    <tr>\n      <th>8621</th>\n      <td>9197_02</td>\n      <td>Europa</td>\n      <td>False</td>\n      <td>C/308/P</td>\n      <td>NaN</td>\n      <td>41.0</td>\n      <td>True</td>\n      <td>0.0</td>\n      <td>7964.0</td>\n      <td>0.0</td>\n      <td>3238.0</td>\n      <td>5839.0</td>\n      <td>Aludram Platch</td>\n      <td>False</td>\n    </tr>\n    <tr>\n      <th>8646</th>\n      <td>9226_01</td>\n      <td>Earth</td>\n      <td>False</td>\n      <td>F/1788/S</td>\n      <td>NaN</td>\n      <td>22.0</td>\n      <td>False</td>\n      <td>676.0</td>\n      <td>0.0</td>\n      <td>13.0</td>\n      <td>0.0</td>\n      <td>12.0</td>\n      <td>Stendy Connelson</td>\n      <td>False</td>\n    </tr>\n  </tbody>\n</table>\n<p>182 rows × 14 columns</p>\n</div>"
     },
     "execution_count": 2124,
     "metadata": {},
     "output_type": "execute_result"
    }
   ],
   "source": [
    "train[train.Destination.isnull()]"
   ],
   "metadata": {
    "collapsed": false
   }
  },
  {
   "cell_type": "code",
   "execution_count": 2125,
   "outputs": [
    {
     "data": {
      "text/plain": "     PassengerId HomePlanet CryoSleep     Cabin  Destination   Age    VIP  \\\n59       0064_02        NaN      True     E/3/S  TRAPPIST-1e  33.0  False   \n113      0119_01        NaN     False     A/0/P  TRAPPIST-1e  39.0  False   \n186      0210_01        NaN      True     D/6/P  55 Cancri e  24.0  False   \n225      0242_01        NaN     False    F/46/S  TRAPPIST-1e  18.0  False   \n234      0251_01        NaN      True    C/11/S  55 Cancri e  54.0  False   \n...          ...        ...       ...       ...          ...   ...    ...   \n8515     9084_01        NaN     False   E/582/P  TRAPPIST-1e  25.0  False   \n8613     9194_01        NaN     False   E/603/S  55 Cancri e  53.0  False   \n8666     9248_01        NaN     False  F/1792/S  55 Cancri e  38.0    NaN   \n8674     9257_01        NaN     False  F/1892/P  TRAPPIST-1e  13.0  False   \n8684     9274_01        NaN      True  G/1508/P  TRAPPIST-1e  23.0  False   \n\n      RoomService  FoodCourt  ShoppingMall    Spa  VRDeck             Name  \\\n59            0.0        0.0           NaN    0.0     0.0      Colatz Keen   \n113           0.0     2344.0           0.0   65.0  6898.0     Batan Coning   \n186           0.0        0.0           NaN    0.0     0.0   Arraid Inicont   \n225         313.0        1.0         691.0  283.0     0.0       Almone Sté   \n234           0.0        0.0           0.0    0.0     0.0    Diphah Amsive   \n...           ...        ...           ...    ...     ...              ...   \n8515       1258.0        0.0          22.0   19.0     0.0        Jurs Mone   \n8613          0.0     4017.0           0.0   13.0  3147.0              NaN   \n8666         28.0     1208.0         973.0  207.0     0.0       Gian Perle   \n8674         39.0        0.0        1085.0   24.0     0.0       Ties Apple   \n8684          0.0        0.0           0.0    0.0     0.0  Chelsa Bullisey   \n\n      Transported  \n59           True  \n113         False  \n186          True  \n225         False  \n234          True  \n...           ...  \n8515        False  \n8613        False  \n8666         True  \n8674        False  \n8684         True  \n\n[201 rows x 14 columns]",
      "text/html": "<div>\n<style scoped>\n    .dataframe tbody tr th:only-of-type {\n        vertical-align: middle;\n    }\n\n    .dataframe tbody tr th {\n        vertical-align: top;\n    }\n\n    .dataframe thead th {\n        text-align: right;\n    }\n</style>\n<table border=\"1\" class=\"dataframe\">\n  <thead>\n    <tr style=\"text-align: right;\">\n      <th></th>\n      <th>PassengerId</th>\n      <th>HomePlanet</th>\n      <th>CryoSleep</th>\n      <th>Cabin</th>\n      <th>Destination</th>\n      <th>Age</th>\n      <th>VIP</th>\n      <th>RoomService</th>\n      <th>FoodCourt</th>\n      <th>ShoppingMall</th>\n      <th>Spa</th>\n      <th>VRDeck</th>\n      <th>Name</th>\n      <th>Transported</th>\n    </tr>\n  </thead>\n  <tbody>\n    <tr>\n      <th>59</th>\n      <td>0064_02</td>\n      <td>NaN</td>\n      <td>True</td>\n      <td>E/3/S</td>\n      <td>TRAPPIST-1e</td>\n      <td>33.0</td>\n      <td>False</td>\n      <td>0.0</td>\n      <td>0.0</td>\n      <td>NaN</td>\n      <td>0.0</td>\n      <td>0.0</td>\n      <td>Colatz Keen</td>\n      <td>True</td>\n    </tr>\n    <tr>\n      <th>113</th>\n      <td>0119_01</td>\n      <td>NaN</td>\n      <td>False</td>\n      <td>A/0/P</td>\n      <td>TRAPPIST-1e</td>\n      <td>39.0</td>\n      <td>False</td>\n      <td>0.0</td>\n      <td>2344.0</td>\n      <td>0.0</td>\n      <td>65.0</td>\n      <td>6898.0</td>\n      <td>Batan Coning</td>\n      <td>False</td>\n    </tr>\n    <tr>\n      <th>186</th>\n      <td>0210_01</td>\n      <td>NaN</td>\n      <td>True</td>\n      <td>D/6/P</td>\n      <td>55 Cancri e</td>\n      <td>24.0</td>\n      <td>False</td>\n      <td>0.0</td>\n      <td>0.0</td>\n      <td>NaN</td>\n      <td>0.0</td>\n      <td>0.0</td>\n      <td>Arraid Inicont</td>\n      <td>True</td>\n    </tr>\n    <tr>\n      <th>225</th>\n      <td>0242_01</td>\n      <td>NaN</td>\n      <td>False</td>\n      <td>F/46/S</td>\n      <td>TRAPPIST-1e</td>\n      <td>18.0</td>\n      <td>False</td>\n      <td>313.0</td>\n      <td>1.0</td>\n      <td>691.0</td>\n      <td>283.0</td>\n      <td>0.0</td>\n      <td>Almone Sté</td>\n      <td>False</td>\n    </tr>\n    <tr>\n      <th>234</th>\n      <td>0251_01</td>\n      <td>NaN</td>\n      <td>True</td>\n      <td>C/11/S</td>\n      <td>55 Cancri e</td>\n      <td>54.0</td>\n      <td>False</td>\n      <td>0.0</td>\n      <td>0.0</td>\n      <td>0.0</td>\n      <td>0.0</td>\n      <td>0.0</td>\n      <td>Diphah Amsive</td>\n      <td>True</td>\n    </tr>\n    <tr>\n      <th>...</th>\n      <td>...</td>\n      <td>...</td>\n      <td>...</td>\n      <td>...</td>\n      <td>...</td>\n      <td>...</td>\n      <td>...</td>\n      <td>...</td>\n      <td>...</td>\n      <td>...</td>\n      <td>...</td>\n      <td>...</td>\n      <td>...</td>\n      <td>...</td>\n    </tr>\n    <tr>\n      <th>8515</th>\n      <td>9084_01</td>\n      <td>NaN</td>\n      <td>False</td>\n      <td>E/582/P</td>\n      <td>TRAPPIST-1e</td>\n      <td>25.0</td>\n      <td>False</td>\n      <td>1258.0</td>\n      <td>0.0</td>\n      <td>22.0</td>\n      <td>19.0</td>\n      <td>0.0</td>\n      <td>Jurs Mone</td>\n      <td>False</td>\n    </tr>\n    <tr>\n      <th>8613</th>\n      <td>9194_01</td>\n      <td>NaN</td>\n      <td>False</td>\n      <td>E/603/S</td>\n      <td>55 Cancri e</td>\n      <td>53.0</td>\n      <td>False</td>\n      <td>0.0</td>\n      <td>4017.0</td>\n      <td>0.0</td>\n      <td>13.0</td>\n      <td>3147.0</td>\n      <td>NaN</td>\n      <td>False</td>\n    </tr>\n    <tr>\n      <th>8666</th>\n      <td>9248_01</td>\n      <td>NaN</td>\n      <td>False</td>\n      <td>F/1792/S</td>\n      <td>55 Cancri e</td>\n      <td>38.0</td>\n      <td>NaN</td>\n      <td>28.0</td>\n      <td>1208.0</td>\n      <td>973.0</td>\n      <td>207.0</td>\n      <td>0.0</td>\n      <td>Gian Perle</td>\n      <td>True</td>\n    </tr>\n    <tr>\n      <th>8674</th>\n      <td>9257_01</td>\n      <td>NaN</td>\n      <td>False</td>\n      <td>F/1892/P</td>\n      <td>TRAPPIST-1e</td>\n      <td>13.0</td>\n      <td>False</td>\n      <td>39.0</td>\n      <td>0.0</td>\n      <td>1085.0</td>\n      <td>24.0</td>\n      <td>0.0</td>\n      <td>Ties Apple</td>\n      <td>False</td>\n    </tr>\n    <tr>\n      <th>8684</th>\n      <td>9274_01</td>\n      <td>NaN</td>\n      <td>True</td>\n      <td>G/1508/P</td>\n      <td>TRAPPIST-1e</td>\n      <td>23.0</td>\n      <td>False</td>\n      <td>0.0</td>\n      <td>0.0</td>\n      <td>0.0</td>\n      <td>0.0</td>\n      <td>0.0</td>\n      <td>Chelsa Bullisey</td>\n      <td>True</td>\n    </tr>\n  </tbody>\n</table>\n<p>201 rows × 14 columns</p>\n</div>"
     },
     "execution_count": 2125,
     "metadata": {},
     "output_type": "execute_result"
    }
   ],
   "source": [
    "train[train.HomePlanet.isnull()]"
   ],
   "metadata": {
    "collapsed": false
   }
  },
  {
   "cell_type": "code",
   "execution_count": 2126,
   "outputs": [
    {
     "data": {
      "text/plain": "     PassengerId HomePlanet CryoSleep     Cabin Destination   Age    VIP  \\\n347      0382_01        NaN     False    G/64/P         NaN  23.0  False   \n5208     5555_01        NaN     False   G/896/S         NaN  43.0    NaN   \n5687     6031_01        NaN     False  F/1146/S         NaN  52.0  False   \n6629     6992_01        NaN     False  G/1131/P         NaN  12.0  False   \n\n      RoomService  FoodCourt  ShoppingMall  Spa  VRDeck                Name  \\\n347         348.0        0.0           0.0  4.0   368.0  Blanie Floydendley   \n5208          1.0        0.0         213.0  7.0   701.0    Winia Blanglison   \n5687          0.0      645.0           0.0  0.0   395.0    Bobara Alshipson   \n6629          0.0        0.0           0.0  0.0     0.0   Walles Bakerrison   \n\n      Transported  \n347         False  \n5208         True  \n5687         True  \n6629        False  ",
      "text/html": "<div>\n<style scoped>\n    .dataframe tbody tr th:only-of-type {\n        vertical-align: middle;\n    }\n\n    .dataframe tbody tr th {\n        vertical-align: top;\n    }\n\n    .dataframe thead th {\n        text-align: right;\n    }\n</style>\n<table border=\"1\" class=\"dataframe\">\n  <thead>\n    <tr style=\"text-align: right;\">\n      <th></th>\n      <th>PassengerId</th>\n      <th>HomePlanet</th>\n      <th>CryoSleep</th>\n      <th>Cabin</th>\n      <th>Destination</th>\n      <th>Age</th>\n      <th>VIP</th>\n      <th>RoomService</th>\n      <th>FoodCourt</th>\n      <th>ShoppingMall</th>\n      <th>Spa</th>\n      <th>VRDeck</th>\n      <th>Name</th>\n      <th>Transported</th>\n    </tr>\n  </thead>\n  <tbody>\n    <tr>\n      <th>347</th>\n      <td>0382_01</td>\n      <td>NaN</td>\n      <td>False</td>\n      <td>G/64/P</td>\n      <td>NaN</td>\n      <td>23.0</td>\n      <td>False</td>\n      <td>348.0</td>\n      <td>0.0</td>\n      <td>0.0</td>\n      <td>4.0</td>\n      <td>368.0</td>\n      <td>Blanie Floydendley</td>\n      <td>False</td>\n    </tr>\n    <tr>\n      <th>5208</th>\n      <td>5555_01</td>\n      <td>NaN</td>\n      <td>False</td>\n      <td>G/896/S</td>\n      <td>NaN</td>\n      <td>43.0</td>\n      <td>NaN</td>\n      <td>1.0</td>\n      <td>0.0</td>\n      <td>213.0</td>\n      <td>7.0</td>\n      <td>701.0</td>\n      <td>Winia Blanglison</td>\n      <td>True</td>\n    </tr>\n    <tr>\n      <th>5687</th>\n      <td>6031_01</td>\n      <td>NaN</td>\n      <td>False</td>\n      <td>F/1146/S</td>\n      <td>NaN</td>\n      <td>52.0</td>\n      <td>False</td>\n      <td>0.0</td>\n      <td>645.0</td>\n      <td>0.0</td>\n      <td>0.0</td>\n      <td>395.0</td>\n      <td>Bobara Alshipson</td>\n      <td>True</td>\n    </tr>\n    <tr>\n      <th>6629</th>\n      <td>6992_01</td>\n      <td>NaN</td>\n      <td>False</td>\n      <td>G/1131/P</td>\n      <td>NaN</td>\n      <td>12.0</td>\n      <td>False</td>\n      <td>0.0</td>\n      <td>0.0</td>\n      <td>0.0</td>\n      <td>0.0</td>\n      <td>0.0</td>\n      <td>Walles Bakerrison</td>\n      <td>False</td>\n    </tr>\n  </tbody>\n</table>\n</div>"
     },
     "execution_count": 2126,
     "metadata": {},
     "output_type": "execute_result"
    }
   ],
   "source": [
    "train[(train.HomePlanet.isnull()) & (train.Destination.isnull())]"
   ],
   "metadata": {
    "collapsed": false
   }
  },
  {
   "cell_type": "code",
   "execution_count": 2127,
   "outputs": [
    {
     "data": {
      "text/plain": "     PassengerId HomePlanet CryoSleep     Cabin  Destination   Age    VIP  \\\n48       0050_01      Earth     False     E/1/S  55 Cancri e  35.0  False   \n143      0164_01      Earth     False    G/28/S  TRAPPIST-1e  57.0  False   \n245      0265_01     Europa      True     D/8/S  TRAPPIST-1e  39.0  False   \n269      0294_01     Europa      True     B/8/S  TRAPPIST-1e  50.0  False   \n289      0320_01      Earth     False    G/44/S  TRAPPIST-1e  18.0  False   \n...          ...        ...       ...       ...          ...   ...    ...   \n8554     9132_01       Mars     False   D/291/P  TRAPPIST-1e  31.0  False   \n8566     9149_01     Europa      True   B/350/S  55 Cancri e  37.0  False   \n8569     9151_01       Mars      True  F/1769/S  TRAPPIST-1e  19.0  False   \n8623     9197_04     Europa     False   C/308/P  55 Cancri e  30.0  False   \n8643     9222_01       Mars      True  F/1784/S  TRAPPIST-1e  50.0  False   \n\n      RoomService  FoodCourt  ShoppingMall  Spa  VRDeck                Name  \\\n48          790.0        0.0           0.0  NaN     0.0         Sony Lancis   \n143          50.0     1688.0           0.0  NaN   135.0     Fany Hutchinton   \n245           0.0        0.0           0.0  NaN     0.0     Etair Herpumble   \n269           0.0        0.0           0.0  NaN     0.0  Phonons Roforhauge   \n289           0.0        2.0           0.0  NaN     0.0   Breney Bellarkerd   \n...           ...        ...           ...  ...     ...                 ...   \n8554       2575.0        1.0           2.0  NaN     0.0          Macon Ancy   \n8566          0.0        0.0           0.0  NaN     0.0   Canonon Dompreced   \n8569          0.0        0.0           0.0  NaN     0.0             Pok Min   \n8623       1569.0        NaN           0.0  NaN  2252.0       Phecca Platch   \n8643          0.0        0.0           0.0  NaN     0.0        Carves Chate   \n\n      Transported  \n48          False  \n143          True  \n245          True  \n269          True  \n289         False  \n...           ...  \n8554        False  \n8566         True  \n8569         True  \n8623        False  \n8643         True  \n\n[183 rows x 14 columns]",
      "text/html": "<div>\n<style scoped>\n    .dataframe tbody tr th:only-of-type {\n        vertical-align: middle;\n    }\n\n    .dataframe tbody tr th {\n        vertical-align: top;\n    }\n\n    .dataframe thead th {\n        text-align: right;\n    }\n</style>\n<table border=\"1\" class=\"dataframe\">\n  <thead>\n    <tr style=\"text-align: right;\">\n      <th></th>\n      <th>PassengerId</th>\n      <th>HomePlanet</th>\n      <th>CryoSleep</th>\n      <th>Cabin</th>\n      <th>Destination</th>\n      <th>Age</th>\n      <th>VIP</th>\n      <th>RoomService</th>\n      <th>FoodCourt</th>\n      <th>ShoppingMall</th>\n      <th>Spa</th>\n      <th>VRDeck</th>\n      <th>Name</th>\n      <th>Transported</th>\n    </tr>\n  </thead>\n  <tbody>\n    <tr>\n      <th>48</th>\n      <td>0050_01</td>\n      <td>Earth</td>\n      <td>False</td>\n      <td>E/1/S</td>\n      <td>55 Cancri e</td>\n      <td>35.0</td>\n      <td>False</td>\n      <td>790.0</td>\n      <td>0.0</td>\n      <td>0.0</td>\n      <td>NaN</td>\n      <td>0.0</td>\n      <td>Sony Lancis</td>\n      <td>False</td>\n    </tr>\n    <tr>\n      <th>143</th>\n      <td>0164_01</td>\n      <td>Earth</td>\n      <td>False</td>\n      <td>G/28/S</td>\n      <td>TRAPPIST-1e</td>\n      <td>57.0</td>\n      <td>False</td>\n      <td>50.0</td>\n      <td>1688.0</td>\n      <td>0.0</td>\n      <td>NaN</td>\n      <td>135.0</td>\n      <td>Fany Hutchinton</td>\n      <td>True</td>\n    </tr>\n    <tr>\n      <th>245</th>\n      <td>0265_01</td>\n      <td>Europa</td>\n      <td>True</td>\n      <td>D/8/S</td>\n      <td>TRAPPIST-1e</td>\n      <td>39.0</td>\n      <td>False</td>\n      <td>0.0</td>\n      <td>0.0</td>\n      <td>0.0</td>\n      <td>NaN</td>\n      <td>0.0</td>\n      <td>Etair Herpumble</td>\n      <td>True</td>\n    </tr>\n    <tr>\n      <th>269</th>\n      <td>0294_01</td>\n      <td>Europa</td>\n      <td>True</td>\n      <td>B/8/S</td>\n      <td>TRAPPIST-1e</td>\n      <td>50.0</td>\n      <td>False</td>\n      <td>0.0</td>\n      <td>0.0</td>\n      <td>0.0</td>\n      <td>NaN</td>\n      <td>0.0</td>\n      <td>Phonons Roforhauge</td>\n      <td>True</td>\n    </tr>\n    <tr>\n      <th>289</th>\n      <td>0320_01</td>\n      <td>Earth</td>\n      <td>False</td>\n      <td>G/44/S</td>\n      <td>TRAPPIST-1e</td>\n      <td>18.0</td>\n      <td>False</td>\n      <td>0.0</td>\n      <td>2.0</td>\n      <td>0.0</td>\n      <td>NaN</td>\n      <td>0.0</td>\n      <td>Breney Bellarkerd</td>\n      <td>False</td>\n    </tr>\n    <tr>\n      <th>...</th>\n      <td>...</td>\n      <td>...</td>\n      <td>...</td>\n      <td>...</td>\n      <td>...</td>\n      <td>...</td>\n      <td>...</td>\n      <td>...</td>\n      <td>...</td>\n      <td>...</td>\n      <td>...</td>\n      <td>...</td>\n      <td>...</td>\n      <td>...</td>\n    </tr>\n    <tr>\n      <th>8554</th>\n      <td>9132_01</td>\n      <td>Mars</td>\n      <td>False</td>\n      <td>D/291/P</td>\n      <td>TRAPPIST-1e</td>\n      <td>31.0</td>\n      <td>False</td>\n      <td>2575.0</td>\n      <td>1.0</td>\n      <td>2.0</td>\n      <td>NaN</td>\n      <td>0.0</td>\n      <td>Macon Ancy</td>\n      <td>False</td>\n    </tr>\n    <tr>\n      <th>8566</th>\n      <td>9149_01</td>\n      <td>Europa</td>\n      <td>True</td>\n      <td>B/350/S</td>\n      <td>55 Cancri e</td>\n      <td>37.0</td>\n      <td>False</td>\n      <td>0.0</td>\n      <td>0.0</td>\n      <td>0.0</td>\n      <td>NaN</td>\n      <td>0.0</td>\n      <td>Canonon Dompreced</td>\n      <td>True</td>\n    </tr>\n    <tr>\n      <th>8569</th>\n      <td>9151_01</td>\n      <td>Mars</td>\n      <td>True</td>\n      <td>F/1769/S</td>\n      <td>TRAPPIST-1e</td>\n      <td>19.0</td>\n      <td>False</td>\n      <td>0.0</td>\n      <td>0.0</td>\n      <td>0.0</td>\n      <td>NaN</td>\n      <td>0.0</td>\n      <td>Pok Min</td>\n      <td>True</td>\n    </tr>\n    <tr>\n      <th>8623</th>\n      <td>9197_04</td>\n      <td>Europa</td>\n      <td>False</td>\n      <td>C/308/P</td>\n      <td>55 Cancri e</td>\n      <td>30.0</td>\n      <td>False</td>\n      <td>1569.0</td>\n      <td>NaN</td>\n      <td>0.0</td>\n      <td>NaN</td>\n      <td>2252.0</td>\n      <td>Phecca Platch</td>\n      <td>False</td>\n    </tr>\n    <tr>\n      <th>8643</th>\n      <td>9222_01</td>\n      <td>Mars</td>\n      <td>True</td>\n      <td>F/1784/S</td>\n      <td>TRAPPIST-1e</td>\n      <td>50.0</td>\n      <td>False</td>\n      <td>0.0</td>\n      <td>0.0</td>\n      <td>0.0</td>\n      <td>NaN</td>\n      <td>0.0</td>\n      <td>Carves Chate</td>\n      <td>True</td>\n    </tr>\n  </tbody>\n</table>\n<p>183 rows × 14 columns</p>\n</div>"
     },
     "execution_count": 2127,
     "metadata": {},
     "output_type": "execute_result"
    }
   ],
   "source": [
    "train[train.Spa.isnull()]"
   ],
   "metadata": {
    "collapsed": false
   }
  },
  {
   "cell_type": "code",
   "execution_count": 2128,
   "outputs": [
    {
     "data": {
      "text/plain": "     PassengerId HomePlanet CryoSleep     Cabin  Destination   Age    VIP  \\\n27       0022_01       Mars     False     D/0/P  TRAPPIST-1e  21.0  False   \n58       0064_01       Mars      True    F/14/S  TRAPPIST-1e  15.0  False   \n65       0069_01      Earth     False    F/16/S  TRAPPIST-1e  42.0  False   \n77       0082_03       Mars     False    F/16/P  TRAPPIST-1e   8.0  False   \n101      0108_02      Earth     False    G/19/S  TRAPPIST-1e  31.0  False   \n...          ...        ...       ...       ...          ...   ...    ...   \n8629     9205_02     Europa      True   B/300/P  TRAPPIST-1e  15.0  False   \n8631     9208_01      Earth      True  G/1485/S  TRAPPIST-1e  35.0  False   \n8636     9218_01     Europa      True   B/353/S  55 Cancri e  43.0  False   \n8652     9230_01     Europa     False   C/342/S  TRAPPIST-1e  36.0   True   \n8664     9246_01      Earth       NaN  G/1490/S  TRAPPIST-1e  32.0  False   \n\n      RoomService  FoodCourt  ShoppingMall     Spa  VRDeck Name  Transported  \n27          980.0        2.0          69.0     0.0     0.0  NaN        False  \n58            0.0        0.0           0.0     0.0     0.0  NaN         True  \n65          887.0        0.0           9.0     6.0     0.0  NaN         True  \n77            0.0        0.0           0.0     0.0     0.0  NaN         True  \n101         562.0        0.0         326.0     0.0     0.0  NaN        False  \n...           ...        ...           ...     ...     ...  ...          ...  \n8629          0.0        0.0           0.0     0.0     0.0  NaN         True  \n8631          0.0        0.0           0.0     0.0     0.0  NaN         True  \n8636          0.0        0.0           0.0     0.0     0.0  NaN         True  \n8652          0.0     5600.0         715.0  2868.0   971.0  NaN         True  \n8664          0.0        0.0           0.0     0.0     0.0  NaN         True  \n\n[200 rows x 14 columns]",
      "text/html": "<div>\n<style scoped>\n    .dataframe tbody tr th:only-of-type {\n        vertical-align: middle;\n    }\n\n    .dataframe tbody tr th {\n        vertical-align: top;\n    }\n\n    .dataframe thead th {\n        text-align: right;\n    }\n</style>\n<table border=\"1\" class=\"dataframe\">\n  <thead>\n    <tr style=\"text-align: right;\">\n      <th></th>\n      <th>PassengerId</th>\n      <th>HomePlanet</th>\n      <th>CryoSleep</th>\n      <th>Cabin</th>\n      <th>Destination</th>\n      <th>Age</th>\n      <th>VIP</th>\n      <th>RoomService</th>\n      <th>FoodCourt</th>\n      <th>ShoppingMall</th>\n      <th>Spa</th>\n      <th>VRDeck</th>\n      <th>Name</th>\n      <th>Transported</th>\n    </tr>\n  </thead>\n  <tbody>\n    <tr>\n      <th>27</th>\n      <td>0022_01</td>\n      <td>Mars</td>\n      <td>False</td>\n      <td>D/0/P</td>\n      <td>TRAPPIST-1e</td>\n      <td>21.0</td>\n      <td>False</td>\n      <td>980.0</td>\n      <td>2.0</td>\n      <td>69.0</td>\n      <td>0.0</td>\n      <td>0.0</td>\n      <td>NaN</td>\n      <td>False</td>\n    </tr>\n    <tr>\n      <th>58</th>\n      <td>0064_01</td>\n      <td>Mars</td>\n      <td>True</td>\n      <td>F/14/S</td>\n      <td>TRAPPIST-1e</td>\n      <td>15.0</td>\n      <td>False</td>\n      <td>0.0</td>\n      <td>0.0</td>\n      <td>0.0</td>\n      <td>0.0</td>\n      <td>0.0</td>\n      <td>NaN</td>\n      <td>True</td>\n    </tr>\n    <tr>\n      <th>65</th>\n      <td>0069_01</td>\n      <td>Earth</td>\n      <td>False</td>\n      <td>F/16/S</td>\n      <td>TRAPPIST-1e</td>\n      <td>42.0</td>\n      <td>False</td>\n      <td>887.0</td>\n      <td>0.0</td>\n      <td>9.0</td>\n      <td>6.0</td>\n      <td>0.0</td>\n      <td>NaN</td>\n      <td>True</td>\n    </tr>\n    <tr>\n      <th>77</th>\n      <td>0082_03</td>\n      <td>Mars</td>\n      <td>False</td>\n      <td>F/16/P</td>\n      <td>TRAPPIST-1e</td>\n      <td>8.0</td>\n      <td>False</td>\n      <td>0.0</td>\n      <td>0.0</td>\n      <td>0.0</td>\n      <td>0.0</td>\n      <td>0.0</td>\n      <td>NaN</td>\n      <td>True</td>\n    </tr>\n    <tr>\n      <th>101</th>\n      <td>0108_02</td>\n      <td>Earth</td>\n      <td>False</td>\n      <td>G/19/S</td>\n      <td>TRAPPIST-1e</td>\n      <td>31.0</td>\n      <td>False</td>\n      <td>562.0</td>\n      <td>0.0</td>\n      <td>326.0</td>\n      <td>0.0</td>\n      <td>0.0</td>\n      <td>NaN</td>\n      <td>False</td>\n    </tr>\n    <tr>\n      <th>...</th>\n      <td>...</td>\n      <td>...</td>\n      <td>...</td>\n      <td>...</td>\n      <td>...</td>\n      <td>...</td>\n      <td>...</td>\n      <td>...</td>\n      <td>...</td>\n      <td>...</td>\n      <td>...</td>\n      <td>...</td>\n      <td>...</td>\n      <td>...</td>\n    </tr>\n    <tr>\n      <th>8629</th>\n      <td>9205_02</td>\n      <td>Europa</td>\n      <td>True</td>\n      <td>B/300/P</td>\n      <td>TRAPPIST-1e</td>\n      <td>15.0</td>\n      <td>False</td>\n      <td>0.0</td>\n      <td>0.0</td>\n      <td>0.0</td>\n      <td>0.0</td>\n      <td>0.0</td>\n      <td>NaN</td>\n      <td>True</td>\n    </tr>\n    <tr>\n      <th>8631</th>\n      <td>9208_01</td>\n      <td>Earth</td>\n      <td>True</td>\n      <td>G/1485/S</td>\n      <td>TRAPPIST-1e</td>\n      <td>35.0</td>\n      <td>False</td>\n      <td>0.0</td>\n      <td>0.0</td>\n      <td>0.0</td>\n      <td>0.0</td>\n      <td>0.0</td>\n      <td>NaN</td>\n      <td>True</td>\n    </tr>\n    <tr>\n      <th>8636</th>\n      <td>9218_01</td>\n      <td>Europa</td>\n      <td>True</td>\n      <td>B/353/S</td>\n      <td>55 Cancri e</td>\n      <td>43.0</td>\n      <td>False</td>\n      <td>0.0</td>\n      <td>0.0</td>\n      <td>0.0</td>\n      <td>0.0</td>\n      <td>0.0</td>\n      <td>NaN</td>\n      <td>True</td>\n    </tr>\n    <tr>\n      <th>8652</th>\n      <td>9230_01</td>\n      <td>Europa</td>\n      <td>False</td>\n      <td>C/342/S</td>\n      <td>TRAPPIST-1e</td>\n      <td>36.0</td>\n      <td>True</td>\n      <td>0.0</td>\n      <td>5600.0</td>\n      <td>715.0</td>\n      <td>2868.0</td>\n      <td>971.0</td>\n      <td>NaN</td>\n      <td>True</td>\n    </tr>\n    <tr>\n      <th>8664</th>\n      <td>9246_01</td>\n      <td>Earth</td>\n      <td>NaN</td>\n      <td>G/1490/S</td>\n      <td>TRAPPIST-1e</td>\n      <td>32.0</td>\n      <td>False</td>\n      <td>0.0</td>\n      <td>0.0</td>\n      <td>0.0</td>\n      <td>0.0</td>\n      <td>0.0</td>\n      <td>NaN</td>\n      <td>True</td>\n    </tr>\n  </tbody>\n</table>\n<p>200 rows × 14 columns</p>\n</div>"
     },
     "execution_count": 2128,
     "metadata": {},
     "output_type": "execute_result"
    }
   ],
   "source": [
    "train[train.Name.isnull()]"
   ],
   "metadata": {
    "collapsed": false
   }
  },
  {
   "cell_type": "code",
   "execution_count": 2129,
   "outputs": [
    {
     "data": {
      "text/plain": "Transported  False  True \nHomePlanet               \nEarth         2651   1951\nEuropa         727   1404\nMars           839    920",
      "text/html": "<div>\n<style scoped>\n    .dataframe tbody tr th:only-of-type {\n        vertical-align: middle;\n    }\n\n    .dataframe tbody tr th {\n        vertical-align: top;\n    }\n\n    .dataframe thead th {\n        text-align: right;\n    }\n</style>\n<table border=\"1\" class=\"dataframe\">\n  <thead>\n    <tr style=\"text-align: right;\">\n      <th>Transported</th>\n      <th>False</th>\n      <th>True</th>\n    </tr>\n    <tr>\n      <th>HomePlanet</th>\n      <th></th>\n      <th></th>\n    </tr>\n  </thead>\n  <tbody>\n    <tr>\n      <th>Earth</th>\n      <td>2651</td>\n      <td>1951</td>\n    </tr>\n    <tr>\n      <th>Europa</th>\n      <td>727</td>\n      <td>1404</td>\n    </tr>\n    <tr>\n      <th>Mars</th>\n      <td>839</td>\n      <td>920</td>\n    </tr>\n  </tbody>\n</table>\n</div>"
     },
     "execution_count": 2129,
     "metadata": {},
     "output_type": "execute_result"
    }
   ],
   "source": [
    "pd.crosstab(train.HomePlanet, train.Transported)"
   ],
   "metadata": {
    "collapsed": false
   }
  },
  {
   "cell_type": "code",
   "execution_count": 2130,
   "outputs": [
    {
     "data": {
      "text/plain": "Transported    False  True \nDestination                \n55 Cancri e      702   1098\nPSO J318.5-22    395    401\nTRAPPIST-1e     3128   2787",
      "text/html": "<div>\n<style scoped>\n    .dataframe tbody tr th:only-of-type {\n        vertical-align: middle;\n    }\n\n    .dataframe tbody tr th {\n        vertical-align: top;\n    }\n\n    .dataframe thead th {\n        text-align: right;\n    }\n</style>\n<table border=\"1\" class=\"dataframe\">\n  <thead>\n    <tr style=\"text-align: right;\">\n      <th>Transported</th>\n      <th>False</th>\n      <th>True</th>\n    </tr>\n    <tr>\n      <th>Destination</th>\n      <th></th>\n      <th></th>\n    </tr>\n  </thead>\n  <tbody>\n    <tr>\n      <th>55 Cancri e</th>\n      <td>702</td>\n      <td>1098</td>\n    </tr>\n    <tr>\n      <th>PSO J318.5-22</th>\n      <td>395</td>\n      <td>401</td>\n    </tr>\n    <tr>\n      <th>TRAPPIST-1e</th>\n      <td>3128</td>\n      <td>2787</td>\n    </tr>\n  </tbody>\n</table>\n</div>"
     },
     "execution_count": 2130,
     "metadata": {},
     "output_type": "execute_result"
    }
   ],
   "source": [
    "pd.crosstab(train.Destination, train.Transported)"
   ],
   "metadata": {
    "collapsed": false
   }
  },
  {
   "cell_type": "code",
   "execution_count": 2131,
   "outputs": [
    {
     "data": {
      "text/plain": "Transported  False  True \nCryoSleep                \nFalse         3650   1789\nTrue           554   2483",
      "text/html": "<div>\n<style scoped>\n    .dataframe tbody tr th:only-of-type {\n        vertical-align: middle;\n    }\n\n    .dataframe tbody tr th {\n        vertical-align: top;\n    }\n\n    .dataframe thead th {\n        text-align: right;\n    }\n</style>\n<table border=\"1\" class=\"dataframe\">\n  <thead>\n    <tr style=\"text-align: right;\">\n      <th>Transported</th>\n      <th>False</th>\n      <th>True</th>\n    </tr>\n    <tr>\n      <th>CryoSleep</th>\n      <th></th>\n      <th></th>\n    </tr>\n  </thead>\n  <tbody>\n    <tr>\n      <th>False</th>\n      <td>3650</td>\n      <td>1789</td>\n    </tr>\n    <tr>\n      <th>True</th>\n      <td>554</td>\n      <td>2483</td>\n    </tr>\n  </tbody>\n</table>\n</div>"
     },
     "execution_count": 2131,
     "metadata": {},
     "output_type": "execute_result"
    }
   ],
   "source": [
    "pd.crosstab(train.CryoSleep, train.Transported)"
   ],
   "metadata": {
    "collapsed": false
   }
  },
  {
   "cell_type": "code",
   "execution_count": 2132,
   "outputs": [
    {
     "data": {
      "text/plain": "[(31.6, 39.5], (23.7, 31.6], (55.3, 63.2], (15.8, 23.7], (39.5, 47.4], ..., (47.4, 55.3], (-0.079, 7.9], NaN, (63.2, 71.1], (71.1, 79.0]]\nLength: 11\nCategories (10, interval[float64, right]): [(-0.079, 7.9] < (7.9, 15.8] < (15.8, 23.7] < (23.7, 31.6] ... (47.4, 55.3] < (55.3, 63.2] < (63.2, 71.1] < (71.1, 79.0]]"
     },
     "execution_count": 2132,
     "metadata": {},
     "output_type": "execute_result"
    }
   ],
   "source": [
    "pd.cut(train.Age, 10).unique()"
   ],
   "metadata": {
    "collapsed": false
   }
  },
  {
   "cell_type": "code",
   "execution_count": 2133,
   "outputs": [
    {
     "data": {
      "text/plain": "Transported  False  True \nVIP                      \nFalse         4093   4198\nTrue           123     76",
      "text/html": "<div>\n<style scoped>\n    .dataframe tbody tr th:only-of-type {\n        vertical-align: middle;\n    }\n\n    .dataframe tbody tr th {\n        vertical-align: top;\n    }\n\n    .dataframe thead th {\n        text-align: right;\n    }\n</style>\n<table border=\"1\" class=\"dataframe\">\n  <thead>\n    <tr style=\"text-align: right;\">\n      <th>Transported</th>\n      <th>False</th>\n      <th>True</th>\n    </tr>\n    <tr>\n      <th>VIP</th>\n      <th></th>\n      <th></th>\n    </tr>\n  </thead>\n  <tbody>\n    <tr>\n      <th>False</th>\n      <td>4093</td>\n      <td>4198</td>\n    </tr>\n    <tr>\n      <th>True</th>\n      <td>123</td>\n      <td>76</td>\n    </tr>\n  </tbody>\n</table>\n</div>"
     },
     "execution_count": 2133,
     "metadata": {},
     "output_type": "execute_result"
    }
   ],
   "source": [
    "pd.crosstab(train.VIP, train.Transported)"
   ],
   "metadata": {
    "collapsed": false
   }
  },
  {
   "cell_type": "code",
   "execution_count": 2134,
   "outputs": [
    {
     "data": {
      "text/plain": "     PassengerId HomePlanet CryoSleep    Cabin  Destination   Age   VIP  \\\n2        0003_01     Europa     False    A/0/S  TRAPPIST-1e  58.0  True   \n108      0112_01     Europa     False    B/1/S  55 Cancri e  48.0  True   \n120      0128_01       Mars     False    D/3/S  TRAPPIST-1e  61.0  True   \n214      0224_01       Mars     False   F/42/S  TRAPPIST-1e  32.0  True   \n291      0321_01        NaN     False   F/61/S  TRAPPIST-1e  59.0  True   \n...          ...        ...       ...      ...          ...   ...   ...   \n8579     9158_01     Europa      True  B/298/P  55 Cancri e  30.0  True   \n8614     9194_02     Europa     False  E/603/S  TRAPPIST-1e  32.0  True   \n8621     9197_02     Europa     False  C/308/P          NaN  41.0  True   \n8652     9230_01     Europa     False  C/342/S  TRAPPIST-1e  36.0  True   \n8688     9276_01     Europa     False   A/98/P  55 Cancri e  41.0  True   \n\n      RoomService  FoodCourt  ShoppingMall     Spa  VRDeck               Name  \\\n2            43.0     3576.0           0.0  6715.0    49.0      Altark Susent   \n108           0.0     2537.0          87.0    17.0    13.0       Moth Cowtale   \n120        2353.0      334.0           9.0   316.0     2.0         Grohs Fles   \n214         181.0        0.0           5.0  1634.0     0.0        Blues Queen   \n291        1018.0        0.0         209.0     0.0     0.0       Quites Bache   \n...           ...        ...           ...     ...     ...                ...   \n8579          0.0        0.0           0.0     0.0     0.0    Magnon Maglible   \n8614       1003.0      909.0           0.0     0.0    15.0      Tachba Subwor   \n8621          0.0     7964.0           0.0  3238.0  5839.0     Aludram Platch   \n8652          0.0     5600.0         715.0  2868.0   971.0                NaN   \n8688          0.0     6819.0           0.0  1643.0    74.0  Gravior Noxnuther   \n\n      Transported  \n2           False  \n108          True  \n120         False  \n214         False  \n291         False  \n...           ...  \n8579         True  \n8614        False  \n8621        False  \n8652         True  \n8688        False  \n\n[199 rows x 14 columns]",
      "text/html": "<div>\n<style scoped>\n    .dataframe tbody tr th:only-of-type {\n        vertical-align: middle;\n    }\n\n    .dataframe tbody tr th {\n        vertical-align: top;\n    }\n\n    .dataframe thead th {\n        text-align: right;\n    }\n</style>\n<table border=\"1\" class=\"dataframe\">\n  <thead>\n    <tr style=\"text-align: right;\">\n      <th></th>\n      <th>PassengerId</th>\n      <th>HomePlanet</th>\n      <th>CryoSleep</th>\n      <th>Cabin</th>\n      <th>Destination</th>\n      <th>Age</th>\n      <th>VIP</th>\n      <th>RoomService</th>\n      <th>FoodCourt</th>\n      <th>ShoppingMall</th>\n      <th>Spa</th>\n      <th>VRDeck</th>\n      <th>Name</th>\n      <th>Transported</th>\n    </tr>\n  </thead>\n  <tbody>\n    <tr>\n      <th>2</th>\n      <td>0003_01</td>\n      <td>Europa</td>\n      <td>False</td>\n      <td>A/0/S</td>\n      <td>TRAPPIST-1e</td>\n      <td>58.0</td>\n      <td>True</td>\n      <td>43.0</td>\n      <td>3576.0</td>\n      <td>0.0</td>\n      <td>6715.0</td>\n      <td>49.0</td>\n      <td>Altark Susent</td>\n      <td>False</td>\n    </tr>\n    <tr>\n      <th>108</th>\n      <td>0112_01</td>\n      <td>Europa</td>\n      <td>False</td>\n      <td>B/1/S</td>\n      <td>55 Cancri e</td>\n      <td>48.0</td>\n      <td>True</td>\n      <td>0.0</td>\n      <td>2537.0</td>\n      <td>87.0</td>\n      <td>17.0</td>\n      <td>13.0</td>\n      <td>Moth Cowtale</td>\n      <td>True</td>\n    </tr>\n    <tr>\n      <th>120</th>\n      <td>0128_01</td>\n      <td>Mars</td>\n      <td>False</td>\n      <td>D/3/S</td>\n      <td>TRAPPIST-1e</td>\n      <td>61.0</td>\n      <td>True</td>\n      <td>2353.0</td>\n      <td>334.0</td>\n      <td>9.0</td>\n      <td>316.0</td>\n      <td>2.0</td>\n      <td>Grohs Fles</td>\n      <td>False</td>\n    </tr>\n    <tr>\n      <th>214</th>\n      <td>0224_01</td>\n      <td>Mars</td>\n      <td>False</td>\n      <td>F/42/S</td>\n      <td>TRAPPIST-1e</td>\n      <td>32.0</td>\n      <td>True</td>\n      <td>181.0</td>\n      <td>0.0</td>\n      <td>5.0</td>\n      <td>1634.0</td>\n      <td>0.0</td>\n      <td>Blues Queen</td>\n      <td>False</td>\n    </tr>\n    <tr>\n      <th>291</th>\n      <td>0321_01</td>\n      <td>NaN</td>\n      <td>False</td>\n      <td>F/61/S</td>\n      <td>TRAPPIST-1e</td>\n      <td>59.0</td>\n      <td>True</td>\n      <td>1018.0</td>\n      <td>0.0</td>\n      <td>209.0</td>\n      <td>0.0</td>\n      <td>0.0</td>\n      <td>Quites Bache</td>\n      <td>False</td>\n    </tr>\n    <tr>\n      <th>...</th>\n      <td>...</td>\n      <td>...</td>\n      <td>...</td>\n      <td>...</td>\n      <td>...</td>\n      <td>...</td>\n      <td>...</td>\n      <td>...</td>\n      <td>...</td>\n      <td>...</td>\n      <td>...</td>\n      <td>...</td>\n      <td>...</td>\n      <td>...</td>\n    </tr>\n    <tr>\n      <th>8579</th>\n      <td>9158_01</td>\n      <td>Europa</td>\n      <td>True</td>\n      <td>B/298/P</td>\n      <td>55 Cancri e</td>\n      <td>30.0</td>\n      <td>True</td>\n      <td>0.0</td>\n      <td>0.0</td>\n      <td>0.0</td>\n      <td>0.0</td>\n      <td>0.0</td>\n      <td>Magnon Maglible</td>\n      <td>True</td>\n    </tr>\n    <tr>\n      <th>8614</th>\n      <td>9194_02</td>\n      <td>Europa</td>\n      <td>False</td>\n      <td>E/603/S</td>\n      <td>TRAPPIST-1e</td>\n      <td>32.0</td>\n      <td>True</td>\n      <td>1003.0</td>\n      <td>909.0</td>\n      <td>0.0</td>\n      <td>0.0</td>\n      <td>15.0</td>\n      <td>Tachba Subwor</td>\n      <td>False</td>\n    </tr>\n    <tr>\n      <th>8621</th>\n      <td>9197_02</td>\n      <td>Europa</td>\n      <td>False</td>\n      <td>C/308/P</td>\n      <td>NaN</td>\n      <td>41.0</td>\n      <td>True</td>\n      <td>0.0</td>\n      <td>7964.0</td>\n      <td>0.0</td>\n      <td>3238.0</td>\n      <td>5839.0</td>\n      <td>Aludram Platch</td>\n      <td>False</td>\n    </tr>\n    <tr>\n      <th>8652</th>\n      <td>9230_01</td>\n      <td>Europa</td>\n      <td>False</td>\n      <td>C/342/S</td>\n      <td>TRAPPIST-1e</td>\n      <td>36.0</td>\n      <td>True</td>\n      <td>0.0</td>\n      <td>5600.0</td>\n      <td>715.0</td>\n      <td>2868.0</td>\n      <td>971.0</td>\n      <td>NaN</td>\n      <td>True</td>\n    </tr>\n    <tr>\n      <th>8688</th>\n      <td>9276_01</td>\n      <td>Europa</td>\n      <td>False</td>\n      <td>A/98/P</td>\n      <td>55 Cancri e</td>\n      <td>41.0</td>\n      <td>True</td>\n      <td>0.0</td>\n      <td>6819.0</td>\n      <td>0.0</td>\n      <td>1643.0</td>\n      <td>74.0</td>\n      <td>Gravior Noxnuther</td>\n      <td>False</td>\n    </tr>\n  </tbody>\n</table>\n<p>199 rows × 14 columns</p>\n</div>"
     },
     "execution_count": 2134,
     "metadata": {},
     "output_type": "execute_result"
    }
   ],
   "source": [
    "train[train.VIP == True]"
   ],
   "metadata": {
    "collapsed": false
   }
  },
  {
   "cell_type": "code",
   "execution_count": 2135,
   "outputs": [
    {
     "data": {
      "text/plain": "  PassengerId HomePlanet CryoSleep  Cabin  Destination   Age    VIP  \\\n0     0001_01     Europa     False  B/0/P  TRAPPIST-1e  39.0  False   \n1     0002_01      Earth     False  F/0/S  TRAPPIST-1e  24.0  False   \n2     0003_01     Europa     False  A/0/S  TRAPPIST-1e  58.0   True   \n3     0003_02     Europa     False  A/0/S  TRAPPIST-1e  33.0  False   \n4     0004_01      Earth     False  F/1/S  TRAPPIST-1e  16.0  False   \n\n   RoomService  FoodCourt  ShoppingMall     Spa  VRDeck               Name  \\\n0          0.0        0.0           0.0     0.0     0.0    Maham Ofracculy   \n1        109.0        9.0          25.0   549.0    44.0       Juanna Vines   \n2         43.0     3576.0           0.0  6715.0    49.0      Altark Susent   \n3          0.0     1283.0         371.0  3329.0   193.0       Solam Susent   \n4        303.0       70.0         151.0   565.0     2.0  Willy Santantines   \n\n   Transported Group Deck Side  \n0        False    01    B    P  \n1         True    01    F    S  \n2        False    01    A    S  \n3        False    02    A    S  \n4         True    01    F    S  ",
      "text/html": "<div>\n<style scoped>\n    .dataframe tbody tr th:only-of-type {\n        vertical-align: middle;\n    }\n\n    .dataframe tbody tr th {\n        vertical-align: top;\n    }\n\n    .dataframe thead th {\n        text-align: right;\n    }\n</style>\n<table border=\"1\" class=\"dataframe\">\n  <thead>\n    <tr style=\"text-align: right;\">\n      <th></th>\n      <th>PassengerId</th>\n      <th>HomePlanet</th>\n      <th>CryoSleep</th>\n      <th>Cabin</th>\n      <th>Destination</th>\n      <th>Age</th>\n      <th>VIP</th>\n      <th>RoomService</th>\n      <th>FoodCourt</th>\n      <th>ShoppingMall</th>\n      <th>Spa</th>\n      <th>VRDeck</th>\n      <th>Name</th>\n      <th>Transported</th>\n      <th>Group</th>\n      <th>Deck</th>\n      <th>Side</th>\n    </tr>\n  </thead>\n  <tbody>\n    <tr>\n      <th>0</th>\n      <td>0001_01</td>\n      <td>Europa</td>\n      <td>False</td>\n      <td>B/0/P</td>\n      <td>TRAPPIST-1e</td>\n      <td>39.0</td>\n      <td>False</td>\n      <td>0.0</td>\n      <td>0.0</td>\n      <td>0.0</td>\n      <td>0.0</td>\n      <td>0.0</td>\n      <td>Maham Ofracculy</td>\n      <td>False</td>\n      <td>01</td>\n      <td>B</td>\n      <td>P</td>\n    </tr>\n    <tr>\n      <th>1</th>\n      <td>0002_01</td>\n      <td>Earth</td>\n      <td>False</td>\n      <td>F/0/S</td>\n      <td>TRAPPIST-1e</td>\n      <td>24.0</td>\n      <td>False</td>\n      <td>109.0</td>\n      <td>9.0</td>\n      <td>25.0</td>\n      <td>549.0</td>\n      <td>44.0</td>\n      <td>Juanna Vines</td>\n      <td>True</td>\n      <td>01</td>\n      <td>F</td>\n      <td>S</td>\n    </tr>\n    <tr>\n      <th>2</th>\n      <td>0003_01</td>\n      <td>Europa</td>\n      <td>False</td>\n      <td>A/0/S</td>\n      <td>TRAPPIST-1e</td>\n      <td>58.0</td>\n      <td>True</td>\n      <td>43.0</td>\n      <td>3576.0</td>\n      <td>0.0</td>\n      <td>6715.0</td>\n      <td>49.0</td>\n      <td>Altark Susent</td>\n      <td>False</td>\n      <td>01</td>\n      <td>A</td>\n      <td>S</td>\n    </tr>\n    <tr>\n      <th>3</th>\n      <td>0003_02</td>\n      <td>Europa</td>\n      <td>False</td>\n      <td>A/0/S</td>\n      <td>TRAPPIST-1e</td>\n      <td>33.0</td>\n      <td>False</td>\n      <td>0.0</td>\n      <td>1283.0</td>\n      <td>371.0</td>\n      <td>3329.0</td>\n      <td>193.0</td>\n      <td>Solam Susent</td>\n      <td>False</td>\n      <td>02</td>\n      <td>A</td>\n      <td>S</td>\n    </tr>\n    <tr>\n      <th>4</th>\n      <td>0004_01</td>\n      <td>Earth</td>\n      <td>False</td>\n      <td>F/1/S</td>\n      <td>TRAPPIST-1e</td>\n      <td>16.0</td>\n      <td>False</td>\n      <td>303.0</td>\n      <td>70.0</td>\n      <td>151.0</td>\n      <td>565.0</td>\n      <td>2.0</td>\n      <td>Willy Santantines</td>\n      <td>True</td>\n      <td>01</td>\n      <td>F</td>\n      <td>S</td>\n    </tr>\n  </tbody>\n</table>\n</div>"
     },
     "execution_count": 2135,
     "metadata": {},
     "output_type": "execute_result"
    }
   ],
   "source": [
    "all_data = [train, test]\n",
    "for ds in all_data:\n",
    "    ds['Group'] = ds.PassengerId.str[5:]\n",
    "    ds['Deck'] = ds.Cabin.str[0]\n",
    "    ds['Side'] = ds.Cabin.str[-1]\n",
    "train.head()\n",
    "# train.PassengerId.str.split('_')"
   ],
   "metadata": {
    "collapsed": false
   }
  },
  {
   "cell_type": "code",
   "execution_count": 2136,
   "outputs": [
    {
     "data": {
      "text/plain": "Transported  False  True \nDeck                     \nA              129    127\nB              207    572\nC              239    508\nD              271    207\nE              563    313\nF             1565   1229\nG             1238   1321\nT                4      1",
      "text/html": "<div>\n<style scoped>\n    .dataframe tbody tr th:only-of-type {\n        vertical-align: middle;\n    }\n\n    .dataframe tbody tr th {\n        vertical-align: top;\n    }\n\n    .dataframe thead th {\n        text-align: right;\n    }\n</style>\n<table border=\"1\" class=\"dataframe\">\n  <thead>\n    <tr style=\"text-align: right;\">\n      <th>Transported</th>\n      <th>False</th>\n      <th>True</th>\n    </tr>\n    <tr>\n      <th>Deck</th>\n      <th></th>\n      <th></th>\n    </tr>\n  </thead>\n  <tbody>\n    <tr>\n      <th>A</th>\n      <td>129</td>\n      <td>127</td>\n    </tr>\n    <tr>\n      <th>B</th>\n      <td>207</td>\n      <td>572</td>\n    </tr>\n    <tr>\n      <th>C</th>\n      <td>239</td>\n      <td>508</td>\n    </tr>\n    <tr>\n      <th>D</th>\n      <td>271</td>\n      <td>207</td>\n    </tr>\n    <tr>\n      <th>E</th>\n      <td>563</td>\n      <td>313</td>\n    </tr>\n    <tr>\n      <th>F</th>\n      <td>1565</td>\n      <td>1229</td>\n    </tr>\n    <tr>\n      <th>G</th>\n      <td>1238</td>\n      <td>1321</td>\n    </tr>\n    <tr>\n      <th>T</th>\n      <td>4</td>\n      <td>1</td>\n    </tr>\n  </tbody>\n</table>\n</div>"
     },
     "execution_count": 2136,
     "metadata": {},
     "output_type": "execute_result"
    }
   ],
   "source": [
    "pd.crosstab(train.Deck, train.Transported)"
   ],
   "metadata": {
    "collapsed": false
   }
  },
  {
   "cell_type": "code",
   "execution_count": 2137,
   "outputs": [
    {
     "data": {
      "text/plain": "Transported  False  True \nSide                     \nP             2308   1898\nS             1908   2380",
      "text/html": "<div>\n<style scoped>\n    .dataframe tbody tr th:only-of-type {\n        vertical-align: middle;\n    }\n\n    .dataframe tbody tr th {\n        vertical-align: top;\n    }\n\n    .dataframe thead th {\n        text-align: right;\n    }\n</style>\n<table border=\"1\" class=\"dataframe\">\n  <thead>\n    <tr style=\"text-align: right;\">\n      <th>Transported</th>\n      <th>False</th>\n      <th>True</th>\n    </tr>\n    <tr>\n      <th>Side</th>\n      <th></th>\n      <th></th>\n    </tr>\n  </thead>\n  <tbody>\n    <tr>\n      <th>P</th>\n      <td>2308</td>\n      <td>1898</td>\n    </tr>\n    <tr>\n      <th>S</th>\n      <td>1908</td>\n      <td>2380</td>\n    </tr>\n  </tbody>\n</table>\n</div>"
     },
     "execution_count": 2137,
     "metadata": {},
     "output_type": "execute_result"
    }
   ],
   "source": [
    "pd.crosstab(train.Side, train.Transported)"
   ],
   "metadata": {
    "collapsed": false
   }
  },
  {
   "cell_type": "code",
   "execution_count": 2138,
   "outputs": [
    {
     "data": {
      "text/plain": "  Deck  PassengerId  HomePlanet  CryoSleep  Cabin  Destination  Age  VIP  \\\n0    A           35          35         35     35           35   35   35   \n1    B           42          42         41     42           41   42   42   \n2    C           41          41         39     41           40   41   41   \n3    D           31          29         31     31           31   31   31   \n4    E           15          15         15     15           15   15   15   \n5    F           29          26         29     29           29   28   29   \n\n   RoomService  FoodCourt  ShoppingMall  Spa  VRDeck  Name  Transported  \\\n0           34         35            33   35      34    34           35   \n1           42         42            42   42      41    42           42   \n2           41         39            40   39      41    40           41   \n3           30         30            30   31      31    31           31   \n4           14         15            15   15      15    15           15   \n5           29         26            28   29      27    28           29   \n\n   Group  Side  \n0     35    35  \n1     42    42  \n2     41    41  \n3     31    31  \n4     15    15  \n5     29    29  ",
      "text/html": "<div>\n<style scoped>\n    .dataframe tbody tr th:only-of-type {\n        vertical-align: middle;\n    }\n\n    .dataframe tbody tr th {\n        vertical-align: top;\n    }\n\n    .dataframe thead th {\n        text-align: right;\n    }\n</style>\n<table border=\"1\" class=\"dataframe\">\n  <thead>\n    <tr style=\"text-align: right;\">\n      <th></th>\n      <th>Deck</th>\n      <th>PassengerId</th>\n      <th>HomePlanet</th>\n      <th>CryoSleep</th>\n      <th>Cabin</th>\n      <th>Destination</th>\n      <th>Age</th>\n      <th>VIP</th>\n      <th>RoomService</th>\n      <th>FoodCourt</th>\n      <th>ShoppingMall</th>\n      <th>Spa</th>\n      <th>VRDeck</th>\n      <th>Name</th>\n      <th>Transported</th>\n      <th>Group</th>\n      <th>Side</th>\n    </tr>\n  </thead>\n  <tbody>\n    <tr>\n      <th>0</th>\n      <td>A</td>\n      <td>35</td>\n      <td>35</td>\n      <td>35</td>\n      <td>35</td>\n      <td>35</td>\n      <td>35</td>\n      <td>35</td>\n      <td>34</td>\n      <td>35</td>\n      <td>33</td>\n      <td>35</td>\n      <td>34</td>\n      <td>34</td>\n      <td>35</td>\n      <td>35</td>\n      <td>35</td>\n    </tr>\n    <tr>\n      <th>1</th>\n      <td>B</td>\n      <td>42</td>\n      <td>42</td>\n      <td>41</td>\n      <td>42</td>\n      <td>41</td>\n      <td>42</td>\n      <td>42</td>\n      <td>42</td>\n      <td>42</td>\n      <td>42</td>\n      <td>42</td>\n      <td>41</td>\n      <td>42</td>\n      <td>42</td>\n      <td>42</td>\n      <td>42</td>\n    </tr>\n    <tr>\n      <th>2</th>\n      <td>C</td>\n      <td>41</td>\n      <td>41</td>\n      <td>39</td>\n      <td>41</td>\n      <td>40</td>\n      <td>41</td>\n      <td>41</td>\n      <td>41</td>\n      <td>39</td>\n      <td>40</td>\n      <td>39</td>\n      <td>41</td>\n      <td>40</td>\n      <td>41</td>\n      <td>41</td>\n      <td>41</td>\n    </tr>\n    <tr>\n      <th>3</th>\n      <td>D</td>\n      <td>31</td>\n      <td>29</td>\n      <td>31</td>\n      <td>31</td>\n      <td>31</td>\n      <td>31</td>\n      <td>31</td>\n      <td>30</td>\n      <td>30</td>\n      <td>30</td>\n      <td>31</td>\n      <td>31</td>\n      <td>31</td>\n      <td>31</td>\n      <td>31</td>\n      <td>31</td>\n    </tr>\n    <tr>\n      <th>4</th>\n      <td>E</td>\n      <td>15</td>\n      <td>15</td>\n      <td>15</td>\n      <td>15</td>\n      <td>15</td>\n      <td>15</td>\n      <td>15</td>\n      <td>14</td>\n      <td>15</td>\n      <td>15</td>\n      <td>15</td>\n      <td>15</td>\n      <td>15</td>\n      <td>15</td>\n      <td>15</td>\n      <td>15</td>\n    </tr>\n    <tr>\n      <th>5</th>\n      <td>F</td>\n      <td>29</td>\n      <td>26</td>\n      <td>29</td>\n      <td>29</td>\n      <td>29</td>\n      <td>28</td>\n      <td>29</td>\n      <td>29</td>\n      <td>26</td>\n      <td>28</td>\n      <td>29</td>\n      <td>27</td>\n      <td>28</td>\n      <td>29</td>\n      <td>29</td>\n      <td>29</td>\n    </tr>\n  </tbody>\n</table>\n</div>"
     },
     "execution_count": 2138,
     "metadata": {},
     "output_type": "execute_result"
    }
   ],
   "source": [
    "train[train.VIP == True].groupby(['Deck'], as_index=False).count()"
   ],
   "metadata": {
    "collapsed": false
   }
  },
  {
   "cell_type": "code",
   "execution_count": 2139,
   "outputs": [
    {
     "data": {
      "text/plain": "  Side  PassengerId  HomePlanet  CryoSleep  Cabin  Destination  Age  VIP  \\\n0    P          102         101        100    102          101  101  102   \n1    S           91          87         90     91           90   91   91   \n\n   RoomService  FoodCourt  ShoppingMall  Spa  VRDeck  Name  Transported  \\\n0          101         99            98  100      99   102          102   \n1           89         88            90   91      90    88           91   \n\n   Group  Deck  \n0    102   102  \n1     91    91  ",
      "text/html": "<div>\n<style scoped>\n    .dataframe tbody tr th:only-of-type {\n        vertical-align: middle;\n    }\n\n    .dataframe tbody tr th {\n        vertical-align: top;\n    }\n\n    .dataframe thead th {\n        text-align: right;\n    }\n</style>\n<table border=\"1\" class=\"dataframe\">\n  <thead>\n    <tr style=\"text-align: right;\">\n      <th></th>\n      <th>Side</th>\n      <th>PassengerId</th>\n      <th>HomePlanet</th>\n      <th>CryoSleep</th>\n      <th>Cabin</th>\n      <th>Destination</th>\n      <th>Age</th>\n      <th>VIP</th>\n      <th>RoomService</th>\n      <th>FoodCourt</th>\n      <th>ShoppingMall</th>\n      <th>Spa</th>\n      <th>VRDeck</th>\n      <th>Name</th>\n      <th>Transported</th>\n      <th>Group</th>\n      <th>Deck</th>\n    </tr>\n  </thead>\n  <tbody>\n    <tr>\n      <th>0</th>\n      <td>P</td>\n      <td>102</td>\n      <td>101</td>\n      <td>100</td>\n      <td>102</td>\n      <td>101</td>\n      <td>101</td>\n      <td>102</td>\n      <td>101</td>\n      <td>99</td>\n      <td>98</td>\n      <td>100</td>\n      <td>99</td>\n      <td>102</td>\n      <td>102</td>\n      <td>102</td>\n      <td>102</td>\n    </tr>\n    <tr>\n      <th>1</th>\n      <td>S</td>\n      <td>91</td>\n      <td>87</td>\n      <td>90</td>\n      <td>91</td>\n      <td>90</td>\n      <td>91</td>\n      <td>91</td>\n      <td>89</td>\n      <td>88</td>\n      <td>90</td>\n      <td>91</td>\n      <td>90</td>\n      <td>88</td>\n      <td>91</td>\n      <td>91</td>\n      <td>91</td>\n    </tr>\n  </tbody>\n</table>\n</div>"
     },
     "execution_count": 2139,
     "metadata": {},
     "output_type": "execute_result"
    }
   ],
   "source": [
    "train[train.VIP == True].groupby(['Side'], as_index=False).count()"
   ],
   "metadata": {
    "collapsed": false
   }
  },
  {
   "cell_type": "code",
   "execution_count": 2140,
   "outputs": [],
   "source": [
    "for ds in all_data:\n",
    "    ds['Bill_sum'] = ds.RoomService + ds.FoodCourt + ds.ShoppingMall + ds.ShoppingMall + ds.Spa + ds.VRDeck"
   ],
   "metadata": {
    "collapsed": false
   }
  },
  {
   "cell_type": "code",
   "execution_count": 2141,
   "outputs": [
    {
     "data": {
      "text/plain": "  PassengerId HomePlanet CryoSleep  Cabin  Destination   Age    VIP  \\\n0     0001_01     Europa     False  B/0/P  TRAPPIST-1e  39.0  False   \n1     0002_01      Earth     False  F/0/S  TRAPPIST-1e  24.0  False   \n2     0003_01     Europa     False  A/0/S  TRAPPIST-1e  58.0   True   \n3     0003_02     Europa     False  A/0/S  TRAPPIST-1e  33.0  False   \n4     0004_01      Earth     False  F/1/S  TRAPPIST-1e  16.0  False   \n\n   RoomService  FoodCourt  ShoppingMall     Spa  VRDeck               Name  \\\n0          0.0        0.0           0.0     0.0     0.0    Maham Ofracculy   \n1        109.0        9.0          25.0   549.0    44.0       Juanna Vines   \n2         43.0     3576.0           0.0  6715.0    49.0      Altark Susent   \n3          0.0     1283.0         371.0  3329.0   193.0       Solam Susent   \n4        303.0       70.0         151.0   565.0     2.0  Willy Santantines   \n\n   Transported Group Deck Side  Bill_sum  \n0        False    01    B    P       0.0  \n1         True    01    F    S     761.0  \n2        False    01    A    S   10383.0  \n3        False    02    A    S    5547.0  \n4         True    01    F    S    1242.0  ",
      "text/html": "<div>\n<style scoped>\n    .dataframe tbody tr th:only-of-type {\n        vertical-align: middle;\n    }\n\n    .dataframe tbody tr th {\n        vertical-align: top;\n    }\n\n    .dataframe thead th {\n        text-align: right;\n    }\n</style>\n<table border=\"1\" class=\"dataframe\">\n  <thead>\n    <tr style=\"text-align: right;\">\n      <th></th>\n      <th>PassengerId</th>\n      <th>HomePlanet</th>\n      <th>CryoSleep</th>\n      <th>Cabin</th>\n      <th>Destination</th>\n      <th>Age</th>\n      <th>VIP</th>\n      <th>RoomService</th>\n      <th>FoodCourt</th>\n      <th>ShoppingMall</th>\n      <th>Spa</th>\n      <th>VRDeck</th>\n      <th>Name</th>\n      <th>Transported</th>\n      <th>Group</th>\n      <th>Deck</th>\n      <th>Side</th>\n      <th>Bill_sum</th>\n    </tr>\n  </thead>\n  <tbody>\n    <tr>\n      <th>0</th>\n      <td>0001_01</td>\n      <td>Europa</td>\n      <td>False</td>\n      <td>B/0/P</td>\n      <td>TRAPPIST-1e</td>\n      <td>39.0</td>\n      <td>False</td>\n      <td>0.0</td>\n      <td>0.0</td>\n      <td>0.0</td>\n      <td>0.0</td>\n      <td>0.0</td>\n      <td>Maham Ofracculy</td>\n      <td>False</td>\n      <td>01</td>\n      <td>B</td>\n      <td>P</td>\n      <td>0.0</td>\n    </tr>\n    <tr>\n      <th>1</th>\n      <td>0002_01</td>\n      <td>Earth</td>\n      <td>False</td>\n      <td>F/0/S</td>\n      <td>TRAPPIST-1e</td>\n      <td>24.0</td>\n      <td>False</td>\n      <td>109.0</td>\n      <td>9.0</td>\n      <td>25.0</td>\n      <td>549.0</td>\n      <td>44.0</td>\n      <td>Juanna Vines</td>\n      <td>True</td>\n      <td>01</td>\n      <td>F</td>\n      <td>S</td>\n      <td>761.0</td>\n    </tr>\n    <tr>\n      <th>2</th>\n      <td>0003_01</td>\n      <td>Europa</td>\n      <td>False</td>\n      <td>A/0/S</td>\n      <td>TRAPPIST-1e</td>\n      <td>58.0</td>\n      <td>True</td>\n      <td>43.0</td>\n      <td>3576.0</td>\n      <td>0.0</td>\n      <td>6715.0</td>\n      <td>49.0</td>\n      <td>Altark Susent</td>\n      <td>False</td>\n      <td>01</td>\n      <td>A</td>\n      <td>S</td>\n      <td>10383.0</td>\n    </tr>\n    <tr>\n      <th>3</th>\n      <td>0003_02</td>\n      <td>Europa</td>\n      <td>False</td>\n      <td>A/0/S</td>\n      <td>TRAPPIST-1e</td>\n      <td>33.0</td>\n      <td>False</td>\n      <td>0.0</td>\n      <td>1283.0</td>\n      <td>371.0</td>\n      <td>3329.0</td>\n      <td>193.0</td>\n      <td>Solam Susent</td>\n      <td>False</td>\n      <td>02</td>\n      <td>A</td>\n      <td>S</td>\n      <td>5547.0</td>\n    </tr>\n    <tr>\n      <th>4</th>\n      <td>0004_01</td>\n      <td>Earth</td>\n      <td>False</td>\n      <td>F/1/S</td>\n      <td>TRAPPIST-1e</td>\n      <td>16.0</td>\n      <td>False</td>\n      <td>303.0</td>\n      <td>70.0</td>\n      <td>151.0</td>\n      <td>565.0</td>\n      <td>2.0</td>\n      <td>Willy Santantines</td>\n      <td>True</td>\n      <td>01</td>\n      <td>F</td>\n      <td>S</td>\n      <td>1242.0</td>\n    </tr>\n  </tbody>\n</table>\n</div>"
     },
     "execution_count": 2141,
     "metadata": {},
     "output_type": "execute_result"
    }
   ],
   "source": [
    "train.head()"
   ],
   "metadata": {
    "collapsed": false
   }
  },
  {
   "cell_type": "code",
   "execution_count": 2142,
   "outputs": [
    {
     "data": {
      "text/plain": "4828.324022346369"
     },
     "execution_count": 2142,
     "metadata": {},
     "output_type": "execute_result"
    }
   ],
   "source": [
    "train[train.VIP == True].Bill_sum.mean()"
   ],
   "metadata": {
    "collapsed": false
   }
  },
  {
   "cell_type": "code",
   "execution_count": 2143,
   "outputs": [
    {
     "data": {
      "text/plain": "1585.2861957400917"
     },
     "execution_count": 2143,
     "metadata": {},
     "output_type": "execute_result"
    }
   ],
   "source": [
    "train[train.VIP == False].Bill_sum.mean()"
   ],
   "metadata": {
    "collapsed": false
   }
  },
  {
   "cell_type": "code",
   "execution_count": 2144,
   "outputs": [],
   "source": [
    "# AGEBOUND\n",
    "# for dataset in all_data:\n",
    "#     dataset.loc[ dataset['Age'] <= 8, 'Age'] = 0\n",
    "#     dataset.loc[(dataset['Age'] > 8) & (dataset['Age'] <= 16), 'Age'] = 1\n",
    "#     dataset.loc[(dataset['Age'] > 16) & (dataset['Age'] <= 24), 'Age'] = 2\n",
    "#     dataset.loc[(dataset['Age'] > 24) & (dataset['Age'] <= 32), 'Age'] = 3\n",
    "#     dataset.loc[(dataset.Age > 32) & (dataset.Age <= 40), 'Age'] = 4\n",
    "#     dataset.loc[(dataset.Age > 40) & (dataset.Age <= 48), 'Age'] = 5\n",
    "#     dataset.loc[(dataset.Age > 48) & (dataset.Age <= 56), 'Age'] = 6\n",
    "#     dataset.loc[(dataset.Age > 56) & (dataset.Age <= 64), 'Age'] = 7\n",
    "#     dataset.loc[ dataset['Age'] > 64, 'Age'] = 8\n",
    "# train.head()"
   ],
   "metadata": {
    "collapsed": false
   }
  },
  {
   "cell_type": "code",
   "execution_count": 2145,
   "outputs": [
    {
     "data": {
      "text/plain": "  PassengerId HomePlanet CryoSleep  Cabin  Destination   Age    VIP  \\\n0     0001_01     Europa     False  B/0/P  TRAPPIST-1e  39.0  False   \n1     0002_01      Earth     False  F/0/S  TRAPPIST-1e  24.0  False   \n2     0003_01     Europa     False  A/0/S  TRAPPIST-1e  58.0   True   \n3     0003_02     Europa     False  A/0/S  TRAPPIST-1e  33.0  False   \n4     0004_01      Earth     False  F/1/S  TRAPPIST-1e  16.0  False   \n\n   RoomService  FoodCourt  ShoppingMall     Spa  VRDeck               Name  \\\n0          0.0        0.0           0.0     0.0     0.0    Maham Ofracculy   \n1        109.0        9.0          25.0   549.0    44.0       Juanna Vines   \n2         43.0     3576.0           0.0  6715.0    49.0      Altark Susent   \n3          0.0     1283.0         371.0  3329.0   193.0       Solam Susent   \n4        303.0       70.0         151.0   565.0     2.0  Willy Santantines   \n\n   Transported Group Deck Side  Bill_sum      AgeBound  \n0        False    01    B    P       0.0  (31.6, 39.5]  \n1         True    01    F    S     761.0  (23.7, 31.6]  \n2        False    01    A    S   10383.0  (55.3, 63.2]  \n3        False    02    A    S    5547.0  (31.6, 39.5]  \n4         True    01    F    S    1242.0  (15.8, 23.7]  ",
      "text/html": "<div>\n<style scoped>\n    .dataframe tbody tr th:only-of-type {\n        vertical-align: middle;\n    }\n\n    .dataframe tbody tr th {\n        vertical-align: top;\n    }\n\n    .dataframe thead th {\n        text-align: right;\n    }\n</style>\n<table border=\"1\" class=\"dataframe\">\n  <thead>\n    <tr style=\"text-align: right;\">\n      <th></th>\n      <th>PassengerId</th>\n      <th>HomePlanet</th>\n      <th>CryoSleep</th>\n      <th>Cabin</th>\n      <th>Destination</th>\n      <th>Age</th>\n      <th>VIP</th>\n      <th>RoomService</th>\n      <th>FoodCourt</th>\n      <th>ShoppingMall</th>\n      <th>Spa</th>\n      <th>VRDeck</th>\n      <th>Name</th>\n      <th>Transported</th>\n      <th>Group</th>\n      <th>Deck</th>\n      <th>Side</th>\n      <th>Bill_sum</th>\n      <th>AgeBound</th>\n    </tr>\n  </thead>\n  <tbody>\n    <tr>\n      <th>0</th>\n      <td>0001_01</td>\n      <td>Europa</td>\n      <td>False</td>\n      <td>B/0/P</td>\n      <td>TRAPPIST-1e</td>\n      <td>39.0</td>\n      <td>False</td>\n      <td>0.0</td>\n      <td>0.0</td>\n      <td>0.0</td>\n      <td>0.0</td>\n      <td>0.0</td>\n      <td>Maham Ofracculy</td>\n      <td>False</td>\n      <td>01</td>\n      <td>B</td>\n      <td>P</td>\n      <td>0.0</td>\n      <td>(31.6, 39.5]</td>\n    </tr>\n    <tr>\n      <th>1</th>\n      <td>0002_01</td>\n      <td>Earth</td>\n      <td>False</td>\n      <td>F/0/S</td>\n      <td>TRAPPIST-1e</td>\n      <td>24.0</td>\n      <td>False</td>\n      <td>109.0</td>\n      <td>9.0</td>\n      <td>25.0</td>\n      <td>549.0</td>\n      <td>44.0</td>\n      <td>Juanna Vines</td>\n      <td>True</td>\n      <td>01</td>\n      <td>F</td>\n      <td>S</td>\n      <td>761.0</td>\n      <td>(23.7, 31.6]</td>\n    </tr>\n    <tr>\n      <th>2</th>\n      <td>0003_01</td>\n      <td>Europa</td>\n      <td>False</td>\n      <td>A/0/S</td>\n      <td>TRAPPIST-1e</td>\n      <td>58.0</td>\n      <td>True</td>\n      <td>43.0</td>\n      <td>3576.0</td>\n      <td>0.0</td>\n      <td>6715.0</td>\n      <td>49.0</td>\n      <td>Altark Susent</td>\n      <td>False</td>\n      <td>01</td>\n      <td>A</td>\n      <td>S</td>\n      <td>10383.0</td>\n      <td>(55.3, 63.2]</td>\n    </tr>\n    <tr>\n      <th>3</th>\n      <td>0003_02</td>\n      <td>Europa</td>\n      <td>False</td>\n      <td>A/0/S</td>\n      <td>TRAPPIST-1e</td>\n      <td>33.0</td>\n      <td>False</td>\n      <td>0.0</td>\n      <td>1283.0</td>\n      <td>371.0</td>\n      <td>3329.0</td>\n      <td>193.0</td>\n      <td>Solam Susent</td>\n      <td>False</td>\n      <td>02</td>\n      <td>A</td>\n      <td>S</td>\n      <td>5547.0</td>\n      <td>(31.6, 39.5]</td>\n    </tr>\n    <tr>\n      <th>4</th>\n      <td>0004_01</td>\n      <td>Earth</td>\n      <td>False</td>\n      <td>F/1/S</td>\n      <td>TRAPPIST-1e</td>\n      <td>16.0</td>\n      <td>False</td>\n      <td>303.0</td>\n      <td>70.0</td>\n      <td>151.0</td>\n      <td>565.0</td>\n      <td>2.0</td>\n      <td>Willy Santantines</td>\n      <td>True</td>\n      <td>01</td>\n      <td>F</td>\n      <td>S</td>\n      <td>1242.0</td>\n      <td>(15.8, 23.7]</td>\n    </tr>\n  </tbody>\n</table>\n</div>"
     },
     "execution_count": 2145,
     "metadata": {},
     "output_type": "execute_result"
    }
   ],
   "source": [
    "for ds in all_data:\n",
    "    ds['AgeBound'] = pd.cut(ds.Age, 10)\n",
    "train.head()"
   ],
   "metadata": {
    "collapsed": false
   }
  },
  {
   "cell_type": "code",
   "execution_count": 2146,
   "outputs": [
    {
     "data": {
      "text/plain": "Transported    False  True \nAgeBound                   \n(-0.079, 7.9]    158    433\n(7.9, 15.8]      278    371\n(15.8, 23.7]    1100    989\n(23.7, 31.6]    1037    939\n(31.6, 39.5]     719    631\n(39.5, 47.4]     435    458\n(47.4, 55.3]     283    253\n(55.3, 63.2]     143    151\n(63.2, 71.1]      54     52\n(71.1, 79.0]      19     11",
      "text/html": "<div>\n<style scoped>\n    .dataframe tbody tr th:only-of-type {\n        vertical-align: middle;\n    }\n\n    .dataframe tbody tr th {\n        vertical-align: top;\n    }\n\n    .dataframe thead th {\n        text-align: right;\n    }\n</style>\n<table border=\"1\" class=\"dataframe\">\n  <thead>\n    <tr style=\"text-align: right;\">\n      <th>Transported</th>\n      <th>False</th>\n      <th>True</th>\n    </tr>\n    <tr>\n      <th>AgeBound</th>\n      <th></th>\n      <th></th>\n    </tr>\n  </thead>\n  <tbody>\n    <tr>\n      <th>(-0.079, 7.9]</th>\n      <td>158</td>\n      <td>433</td>\n    </tr>\n    <tr>\n      <th>(7.9, 15.8]</th>\n      <td>278</td>\n      <td>371</td>\n    </tr>\n    <tr>\n      <th>(15.8, 23.7]</th>\n      <td>1100</td>\n      <td>989</td>\n    </tr>\n    <tr>\n      <th>(23.7, 31.6]</th>\n      <td>1037</td>\n      <td>939</td>\n    </tr>\n    <tr>\n      <th>(31.6, 39.5]</th>\n      <td>719</td>\n      <td>631</td>\n    </tr>\n    <tr>\n      <th>(39.5, 47.4]</th>\n      <td>435</td>\n      <td>458</td>\n    </tr>\n    <tr>\n      <th>(47.4, 55.3]</th>\n      <td>283</td>\n      <td>253</td>\n    </tr>\n    <tr>\n      <th>(55.3, 63.2]</th>\n      <td>143</td>\n      <td>151</td>\n    </tr>\n    <tr>\n      <th>(63.2, 71.1]</th>\n      <td>54</td>\n      <td>52</td>\n    </tr>\n    <tr>\n      <th>(71.1, 79.0]</th>\n      <td>19</td>\n      <td>11</td>\n    </tr>\n  </tbody>\n</table>\n</div>"
     },
     "execution_count": 2146,
     "metadata": {},
     "output_type": "execute_result"
    }
   ],
   "source": [
    "pd.crosstab(train.AgeBound, train.Transported)"
   ],
   "metadata": {
    "collapsed": false
   }
  },
  {
   "cell_type": "code",
   "execution_count": 2147,
   "outputs": [
    {
     "data": {
      "text/plain": "  PassengerId HomePlanet CryoSleep  Cabin  Destination   Age    VIP  \\\n0     0001_01     Europa     False  B/0/P  TRAPPIST-1e  39.0  False   \n1     0002_01      Earth     False  F/0/S  TRAPPIST-1e  24.0  False   \n2     0003_01     Europa     False  A/0/S  TRAPPIST-1e  58.0   True   \n3     0003_02     Europa     False  A/0/S  TRAPPIST-1e  33.0  False   \n4     0004_01      Earth     False  F/1/S  TRAPPIST-1e  16.0  False   \n\n   RoomService  FoodCourt  ShoppingMall     Spa  VRDeck               Name  \\\n0          0.0        0.0           0.0     0.0     0.0    Maham Ofracculy   \n1        109.0        9.0          25.0   549.0    44.0       Juanna Vines   \n2         43.0     3576.0           0.0  6715.0    49.0      Altark Susent   \n3          0.0     1283.0         371.0  3329.0   193.0       Solam Susent   \n4        303.0       70.0         151.0   565.0     2.0  Willy Santantines   \n\n   Transported Group Deck Side  Bill_sum      AgeBound          BillBound  \n0        False    01    B    P       0.0  (31.6, 39.5]  (-47.709, 9541.8]  \n1         True    01    F    S     761.0  (23.7, 31.6]  (-47.709, 9541.8]  \n2        False    01    A    S   10383.0  (55.3, 63.2]  (9541.8, 19083.6]  \n3        False    02    A    S    5547.0  (31.6, 39.5]  (-47.709, 9541.8]  \n4         True    01    F    S    1242.0  (15.8, 23.7]  (-47.709, 9541.8]  ",
      "text/html": "<div>\n<style scoped>\n    .dataframe tbody tr th:only-of-type {\n        vertical-align: middle;\n    }\n\n    .dataframe tbody tr th {\n        vertical-align: top;\n    }\n\n    .dataframe thead th {\n        text-align: right;\n    }\n</style>\n<table border=\"1\" class=\"dataframe\">\n  <thead>\n    <tr style=\"text-align: right;\">\n      <th></th>\n      <th>PassengerId</th>\n      <th>HomePlanet</th>\n      <th>CryoSleep</th>\n      <th>Cabin</th>\n      <th>Destination</th>\n      <th>Age</th>\n      <th>VIP</th>\n      <th>RoomService</th>\n      <th>FoodCourt</th>\n      <th>ShoppingMall</th>\n      <th>Spa</th>\n      <th>VRDeck</th>\n      <th>Name</th>\n      <th>Transported</th>\n      <th>Group</th>\n      <th>Deck</th>\n      <th>Side</th>\n      <th>Bill_sum</th>\n      <th>AgeBound</th>\n      <th>BillBound</th>\n    </tr>\n  </thead>\n  <tbody>\n    <tr>\n      <th>0</th>\n      <td>0001_01</td>\n      <td>Europa</td>\n      <td>False</td>\n      <td>B/0/P</td>\n      <td>TRAPPIST-1e</td>\n      <td>39.0</td>\n      <td>False</td>\n      <td>0.0</td>\n      <td>0.0</td>\n      <td>0.0</td>\n      <td>0.0</td>\n      <td>0.0</td>\n      <td>Maham Ofracculy</td>\n      <td>False</td>\n      <td>01</td>\n      <td>B</td>\n      <td>P</td>\n      <td>0.0</td>\n      <td>(31.6, 39.5]</td>\n      <td>(-47.709, 9541.8]</td>\n    </tr>\n    <tr>\n      <th>1</th>\n      <td>0002_01</td>\n      <td>Earth</td>\n      <td>False</td>\n      <td>F/0/S</td>\n      <td>TRAPPIST-1e</td>\n      <td>24.0</td>\n      <td>False</td>\n      <td>109.0</td>\n      <td>9.0</td>\n      <td>25.0</td>\n      <td>549.0</td>\n      <td>44.0</td>\n      <td>Juanna Vines</td>\n      <td>True</td>\n      <td>01</td>\n      <td>F</td>\n      <td>S</td>\n      <td>761.0</td>\n      <td>(23.7, 31.6]</td>\n      <td>(-47.709, 9541.8]</td>\n    </tr>\n    <tr>\n      <th>2</th>\n      <td>0003_01</td>\n      <td>Europa</td>\n      <td>False</td>\n      <td>A/0/S</td>\n      <td>TRAPPIST-1e</td>\n      <td>58.0</td>\n      <td>True</td>\n      <td>43.0</td>\n      <td>3576.0</td>\n      <td>0.0</td>\n      <td>6715.0</td>\n      <td>49.0</td>\n      <td>Altark Susent</td>\n      <td>False</td>\n      <td>01</td>\n      <td>A</td>\n      <td>S</td>\n      <td>10383.0</td>\n      <td>(55.3, 63.2]</td>\n      <td>(9541.8, 19083.6]</td>\n    </tr>\n    <tr>\n      <th>3</th>\n      <td>0003_02</td>\n      <td>Europa</td>\n      <td>False</td>\n      <td>A/0/S</td>\n      <td>TRAPPIST-1e</td>\n      <td>33.0</td>\n      <td>False</td>\n      <td>0.0</td>\n      <td>1283.0</td>\n      <td>371.0</td>\n      <td>3329.0</td>\n      <td>193.0</td>\n      <td>Solam Susent</td>\n      <td>False</td>\n      <td>02</td>\n      <td>A</td>\n      <td>S</td>\n      <td>5547.0</td>\n      <td>(31.6, 39.5]</td>\n      <td>(-47.709, 9541.8]</td>\n    </tr>\n    <tr>\n      <th>4</th>\n      <td>0004_01</td>\n      <td>Earth</td>\n      <td>False</td>\n      <td>F/1/S</td>\n      <td>TRAPPIST-1e</td>\n      <td>16.0</td>\n      <td>False</td>\n      <td>303.0</td>\n      <td>70.0</td>\n      <td>151.0</td>\n      <td>565.0</td>\n      <td>2.0</td>\n      <td>Willy Santantines</td>\n      <td>True</td>\n      <td>01</td>\n      <td>F</td>\n      <td>S</td>\n      <td>1242.0</td>\n      <td>(15.8, 23.7]</td>\n      <td>(-47.709, 9541.8]</td>\n    </tr>\n  </tbody>\n</table>\n</div>"
     },
     "execution_count": 2147,
     "metadata": {},
     "output_type": "execute_result"
    }
   ],
   "source": [
    "for ds in all_data:\n",
    "    ds['BillBound'] = pd.cut(ds.Bill_sum, 5)\n",
    "train.head()"
   ],
   "metadata": {
    "collapsed": false
   }
  },
  {
   "cell_type": "code",
   "execution_count": 2148,
   "outputs": [
    {
     "data": {
      "text/plain": "<bound method Series.info of 0       (-47.709, 15903.0]\n1       (-47.709, 15903.0]\n2       (-47.709, 15903.0]\n3       (-47.709, 15903.0]\n4       (-47.709, 15903.0]\n               ...        \n8688    (-47.709, 15903.0]\n8689    (-47.709, 15903.0]\n8690    (-47.709, 15903.0]\n8691    (-47.709, 15903.0]\n8692    (-47.709, 15903.0]\nName: Bill_sum, Length: 8693, dtype: category\nCategories (3, interval[float64, right]): [(-47.709, 15903.0] < (15903.0, 31806.0] < (31806.0, 47709.0]]>"
     },
     "execution_count": 2148,
     "metadata": {},
     "output_type": "execute_result"
    }
   ],
   "source": [
    "pd.cut(train.Bill_sum, 3).info"
   ],
   "metadata": {
    "collapsed": false
   }
  },
  {
   "cell_type": "code",
   "execution_count": 2149,
   "outputs": [
    {
     "data": {
      "text/plain": "0.0"
     },
     "execution_count": 2149,
     "metadata": {},
     "output_type": "execute_result"
    }
   ],
   "source": [
    "train.Bill_sum.min()"
   ],
   "metadata": {
    "collapsed": false
   }
  },
  {
   "cell_type": "code",
   "execution_count": 2150,
   "outputs": [
    {
     "data": {
      "text/plain": "4510.4771455670425"
     },
     "execution_count": 2150,
     "metadata": {},
     "output_type": "execute_result"
    }
   ],
   "source": [
    "train[train.VIP == False].Bill_sum.mean() + train[train.VIP == False].Bill_sum.std()"
   ],
   "metadata": {
    "collapsed": false
   }
  },
  {
   "cell_type": "code",
   "execution_count": 2151,
   "outputs": [
    {
     "data": {
      "text/plain": "  PassengerId HomePlanet CryoSleep  Cabin  Destination   Age    VIP  \\\n0     0001_01     Europa     False  B/0/P  TRAPPIST-1e  39.0  False   \n1     0002_01      Earth     False  F/0/S  TRAPPIST-1e  24.0  False   \n2     0003_01     Europa     False  A/0/S  TRAPPIST-1e  58.0   True   \n3     0003_02     Europa     False  A/0/S  TRAPPIST-1e  33.0  False   \n4     0004_01      Earth     False  F/1/S  TRAPPIST-1e  16.0  False   \n\n   RoomService  FoodCourt  ShoppingMall     Spa  VRDeck               Name  \\\n0          0.0        0.0           0.0     0.0     0.0    Maham Ofracculy   \n1        109.0        9.0          25.0   549.0    44.0       Juanna Vines   \n2         43.0     3576.0           0.0  6715.0    49.0      Altark Susent   \n3          0.0     1283.0         371.0  3329.0   193.0       Solam Susent   \n4        303.0       70.0         151.0   565.0     2.0  Willy Santantines   \n\n   Transported Group Deck Side  Bill_sum      AgeBound          BillBound  \n0        False    01    B    P       0.0  (31.6, 39.5]  (-47.709, 9541.8]  \n1         True    01    F    S     761.0  (23.7, 31.6]  (-47.709, 9541.8]  \n2        False    01    A    S   10383.0  (55.3, 63.2]  (9541.8, 19083.6]  \n3        False    02    A    S    5547.0  (31.6, 39.5]  (-47.709, 9541.8]  \n4         True    01    F    S    1242.0  (15.8, 23.7]  (-47.709, 9541.8]  ",
      "text/html": "<div>\n<style scoped>\n    .dataframe tbody tr th:only-of-type {\n        vertical-align: middle;\n    }\n\n    .dataframe tbody tr th {\n        vertical-align: top;\n    }\n\n    .dataframe thead th {\n        text-align: right;\n    }\n</style>\n<table border=\"1\" class=\"dataframe\">\n  <thead>\n    <tr style=\"text-align: right;\">\n      <th></th>\n      <th>PassengerId</th>\n      <th>HomePlanet</th>\n      <th>CryoSleep</th>\n      <th>Cabin</th>\n      <th>Destination</th>\n      <th>Age</th>\n      <th>VIP</th>\n      <th>RoomService</th>\n      <th>FoodCourt</th>\n      <th>ShoppingMall</th>\n      <th>Spa</th>\n      <th>VRDeck</th>\n      <th>Name</th>\n      <th>Transported</th>\n      <th>Group</th>\n      <th>Deck</th>\n      <th>Side</th>\n      <th>Bill_sum</th>\n      <th>AgeBound</th>\n      <th>BillBound</th>\n    </tr>\n  </thead>\n  <tbody>\n    <tr>\n      <th>0</th>\n      <td>0001_01</td>\n      <td>Europa</td>\n      <td>False</td>\n      <td>B/0/P</td>\n      <td>TRAPPIST-1e</td>\n      <td>39.0</td>\n      <td>False</td>\n      <td>0.0</td>\n      <td>0.0</td>\n      <td>0.0</td>\n      <td>0.0</td>\n      <td>0.0</td>\n      <td>Maham Ofracculy</td>\n      <td>False</td>\n      <td>01</td>\n      <td>B</td>\n      <td>P</td>\n      <td>0.0</td>\n      <td>(31.6, 39.5]</td>\n      <td>(-47.709, 9541.8]</td>\n    </tr>\n    <tr>\n      <th>1</th>\n      <td>0002_01</td>\n      <td>Earth</td>\n      <td>False</td>\n      <td>F/0/S</td>\n      <td>TRAPPIST-1e</td>\n      <td>24.0</td>\n      <td>False</td>\n      <td>109.0</td>\n      <td>9.0</td>\n      <td>25.0</td>\n      <td>549.0</td>\n      <td>44.0</td>\n      <td>Juanna Vines</td>\n      <td>True</td>\n      <td>01</td>\n      <td>F</td>\n      <td>S</td>\n      <td>761.0</td>\n      <td>(23.7, 31.6]</td>\n      <td>(-47.709, 9541.8]</td>\n    </tr>\n    <tr>\n      <th>2</th>\n      <td>0003_01</td>\n      <td>Europa</td>\n      <td>False</td>\n      <td>A/0/S</td>\n      <td>TRAPPIST-1e</td>\n      <td>58.0</td>\n      <td>True</td>\n      <td>43.0</td>\n      <td>3576.0</td>\n      <td>0.0</td>\n      <td>6715.0</td>\n      <td>49.0</td>\n      <td>Altark Susent</td>\n      <td>False</td>\n      <td>01</td>\n      <td>A</td>\n      <td>S</td>\n      <td>10383.0</td>\n      <td>(55.3, 63.2]</td>\n      <td>(9541.8, 19083.6]</td>\n    </tr>\n    <tr>\n      <th>3</th>\n      <td>0003_02</td>\n      <td>Europa</td>\n      <td>False</td>\n      <td>A/0/S</td>\n      <td>TRAPPIST-1e</td>\n      <td>33.0</td>\n      <td>False</td>\n      <td>0.0</td>\n      <td>1283.0</td>\n      <td>371.0</td>\n      <td>3329.0</td>\n      <td>193.0</td>\n      <td>Solam Susent</td>\n      <td>False</td>\n      <td>02</td>\n      <td>A</td>\n      <td>S</td>\n      <td>5547.0</td>\n      <td>(31.6, 39.5]</td>\n      <td>(-47.709, 9541.8]</td>\n    </tr>\n    <tr>\n      <th>4</th>\n      <td>0004_01</td>\n      <td>Earth</td>\n      <td>False</td>\n      <td>F/1/S</td>\n      <td>TRAPPIST-1e</td>\n      <td>16.0</td>\n      <td>False</td>\n      <td>303.0</td>\n      <td>70.0</td>\n      <td>151.0</td>\n      <td>565.0</td>\n      <td>2.0</td>\n      <td>Willy Santantines</td>\n      <td>True</td>\n      <td>01</td>\n      <td>F</td>\n      <td>S</td>\n      <td>1242.0</td>\n      <td>(15.8, 23.7]</td>\n      <td>(-47.709, 9541.8]</td>\n    </tr>\n  </tbody>\n</table>\n</div>"
     },
     "execution_count": 2151,
     "metadata": {},
     "output_type": "execute_result"
    }
   ],
   "source": [
    "train.head()"
   ],
   "metadata": {
    "collapsed": false
   }
  },
  {
   "cell_type": "code",
   "execution_count": 2152,
   "outputs": [
    {
     "data": {
      "text/plain": "Transported         False  True \nBillBound                       \n(-47.709, 9541.8]    3726   3834\n(9541.8, 19083.6]     125     67\n(19083.6, 28625.4]     16      8\n(28625.4, 38167.2]      6      2\n(38167.2, 47709.0]      0      1",
      "text/html": "<div>\n<style scoped>\n    .dataframe tbody tr th:only-of-type {\n        vertical-align: middle;\n    }\n\n    .dataframe tbody tr th {\n        vertical-align: top;\n    }\n\n    .dataframe thead th {\n        text-align: right;\n    }\n</style>\n<table border=\"1\" class=\"dataframe\">\n  <thead>\n    <tr style=\"text-align: right;\">\n      <th>Transported</th>\n      <th>False</th>\n      <th>True</th>\n    </tr>\n    <tr>\n      <th>BillBound</th>\n      <th></th>\n      <th></th>\n    </tr>\n  </thead>\n  <tbody>\n    <tr>\n      <th>(-47.709, 9541.8]</th>\n      <td>3726</td>\n      <td>3834</td>\n    </tr>\n    <tr>\n      <th>(9541.8, 19083.6]</th>\n      <td>125</td>\n      <td>67</td>\n    </tr>\n    <tr>\n      <th>(19083.6, 28625.4]</th>\n      <td>16</td>\n      <td>8</td>\n    </tr>\n    <tr>\n      <th>(28625.4, 38167.2]</th>\n      <td>6</td>\n      <td>2</td>\n    </tr>\n    <tr>\n      <th>(38167.2, 47709.0]</th>\n      <td>0</td>\n      <td>1</td>\n    </tr>\n  </tbody>\n</table>\n</div>"
     },
     "execution_count": 2152,
     "metadata": {},
     "output_type": "execute_result"
    }
   ],
   "source": [
    "pd.crosstab(train.BillBound, train.Transported)"
   ],
   "metadata": {
    "collapsed": false
   }
  },
  {
   "cell_type": "code",
   "execution_count": 2153,
   "outputs": [
    {
     "data": {
      "text/plain": "     PassengerId HomePlanet CryoSleep     Cabin    Destination   Age    VIP  \\\n1        0002_01      Earth     False     F/0/S    TRAPPIST-1e  24.0  False   \n4        0004_01      Earth     False     F/1/S    TRAPPIST-1e  16.0  False   \n5        0005_01      Earth     False     F/0/P  PSO J318.5-22  44.0  False   \n6        0006_01      Earth     False     F/2/S    TRAPPIST-1e  26.0  False   \n8        0007_01      Earth     False     F/3/S    TRAPPIST-1e  35.0  False   \n...          ...        ...       ...       ...            ...   ...    ...   \n8684     9274_01        NaN      True  G/1508/P    TRAPPIST-1e  23.0  False   \n8685     9275_01     Europa     False    A/97/P    TRAPPIST-1e   0.0  False   \n8687     9275_03     Europa       NaN    A/97/P    TRAPPIST-1e  30.0  False   \n8690     9279_01      Earth     False  G/1500/S    TRAPPIST-1e  26.0  False   \n8692     9280_02     Europa     False   E/608/S    TRAPPIST-1e  44.0  False   \n\n      RoomService  FoodCourt  ShoppingMall    Spa  VRDeck                Name  \\\n1           109.0        9.0          25.0  549.0    44.0        Juanna Vines   \n4           303.0       70.0         151.0  565.0     2.0   Willy Santantines   \n5             0.0      483.0           0.0  291.0     0.0   Sandie Hinetthews   \n6            42.0     1539.0           3.0    0.0     0.0  Billex Jacostaffey   \n8             0.0      785.0          17.0  216.0     0.0       Andona Beston   \n...           ...        ...           ...    ...     ...                 ...   \n8684          0.0        0.0           0.0    0.0     0.0     Chelsa Bullisey   \n8685          0.0        0.0           0.0    0.0     0.0     Polaton Conable   \n8687          0.0     3208.0           0.0    2.0   330.0     Atlasym Conable   \n8690          0.0        0.0        1872.0    1.0     0.0        Fayey Connon   \n8692        126.0     4688.0           0.0    0.0    12.0    Propsh Hontichre   \n\n      Transported Group Deck Side  Bill_sum       AgeBound          BillBound  \n1            True    01    F    S     761.0   (23.7, 31.6]  (-47.709, 9541.8]  \n4            True    01    F    S    1242.0   (15.8, 23.7]  (-47.709, 9541.8]  \n5            True    01    F    P     774.0   (39.5, 47.4]  (-47.709, 9541.8]  \n6            True    01    F    S    1587.0   (23.7, 31.6]  (-47.709, 9541.8]  \n8            True    01    F    S    1035.0   (31.6, 39.5]  (-47.709, 9541.8]  \n...           ...   ...  ...  ...       ...            ...                ...  \n8684         True    01    G    P       0.0   (15.8, 23.7]  (-47.709, 9541.8]  \n8685         True    01    A    P       0.0  (-0.079, 7.9]  (-47.709, 9541.8]  \n8687         True    03    A    P    3540.0   (23.7, 31.6]  (-47.709, 9541.8]  \n8690         True    01    G    S    3745.0   (23.7, 31.6]  (-47.709, 9541.8]  \n8692         True    02    E    S    4826.0   (39.5, 47.4]  (-47.709, 9541.8]  \n\n[3674 rows x 20 columns]",
      "text/html": "<div>\n<style scoped>\n    .dataframe tbody tr th:only-of-type {\n        vertical-align: middle;\n    }\n\n    .dataframe tbody tr th {\n        vertical-align: top;\n    }\n\n    .dataframe thead th {\n        text-align: right;\n    }\n</style>\n<table border=\"1\" class=\"dataframe\">\n  <thead>\n    <tr style=\"text-align: right;\">\n      <th></th>\n      <th>PassengerId</th>\n      <th>HomePlanet</th>\n      <th>CryoSleep</th>\n      <th>Cabin</th>\n      <th>Destination</th>\n      <th>Age</th>\n      <th>VIP</th>\n      <th>RoomService</th>\n      <th>FoodCourt</th>\n      <th>ShoppingMall</th>\n      <th>Spa</th>\n      <th>VRDeck</th>\n      <th>Name</th>\n      <th>Transported</th>\n      <th>Group</th>\n      <th>Deck</th>\n      <th>Side</th>\n      <th>Bill_sum</th>\n      <th>AgeBound</th>\n      <th>BillBound</th>\n    </tr>\n  </thead>\n  <tbody>\n    <tr>\n      <th>1</th>\n      <td>0002_01</td>\n      <td>Earth</td>\n      <td>False</td>\n      <td>F/0/S</td>\n      <td>TRAPPIST-1e</td>\n      <td>24.0</td>\n      <td>False</td>\n      <td>109.0</td>\n      <td>9.0</td>\n      <td>25.0</td>\n      <td>549.0</td>\n      <td>44.0</td>\n      <td>Juanna Vines</td>\n      <td>True</td>\n      <td>01</td>\n      <td>F</td>\n      <td>S</td>\n      <td>761.0</td>\n      <td>(23.7, 31.6]</td>\n      <td>(-47.709, 9541.8]</td>\n    </tr>\n    <tr>\n      <th>4</th>\n      <td>0004_01</td>\n      <td>Earth</td>\n      <td>False</td>\n      <td>F/1/S</td>\n      <td>TRAPPIST-1e</td>\n      <td>16.0</td>\n      <td>False</td>\n      <td>303.0</td>\n      <td>70.0</td>\n      <td>151.0</td>\n      <td>565.0</td>\n      <td>2.0</td>\n      <td>Willy Santantines</td>\n      <td>True</td>\n      <td>01</td>\n      <td>F</td>\n      <td>S</td>\n      <td>1242.0</td>\n      <td>(15.8, 23.7]</td>\n      <td>(-47.709, 9541.8]</td>\n    </tr>\n    <tr>\n      <th>5</th>\n      <td>0005_01</td>\n      <td>Earth</td>\n      <td>False</td>\n      <td>F/0/P</td>\n      <td>PSO J318.5-22</td>\n      <td>44.0</td>\n      <td>False</td>\n      <td>0.0</td>\n      <td>483.0</td>\n      <td>0.0</td>\n      <td>291.0</td>\n      <td>0.0</td>\n      <td>Sandie Hinetthews</td>\n      <td>True</td>\n      <td>01</td>\n      <td>F</td>\n      <td>P</td>\n      <td>774.0</td>\n      <td>(39.5, 47.4]</td>\n      <td>(-47.709, 9541.8]</td>\n    </tr>\n    <tr>\n      <th>6</th>\n      <td>0006_01</td>\n      <td>Earth</td>\n      <td>False</td>\n      <td>F/2/S</td>\n      <td>TRAPPIST-1e</td>\n      <td>26.0</td>\n      <td>False</td>\n      <td>42.0</td>\n      <td>1539.0</td>\n      <td>3.0</td>\n      <td>0.0</td>\n      <td>0.0</td>\n      <td>Billex Jacostaffey</td>\n      <td>True</td>\n      <td>01</td>\n      <td>F</td>\n      <td>S</td>\n      <td>1587.0</td>\n      <td>(23.7, 31.6]</td>\n      <td>(-47.709, 9541.8]</td>\n    </tr>\n    <tr>\n      <th>8</th>\n      <td>0007_01</td>\n      <td>Earth</td>\n      <td>False</td>\n      <td>F/3/S</td>\n      <td>TRAPPIST-1e</td>\n      <td>35.0</td>\n      <td>False</td>\n      <td>0.0</td>\n      <td>785.0</td>\n      <td>17.0</td>\n      <td>216.0</td>\n      <td>0.0</td>\n      <td>Andona Beston</td>\n      <td>True</td>\n      <td>01</td>\n      <td>F</td>\n      <td>S</td>\n      <td>1035.0</td>\n      <td>(31.6, 39.5]</td>\n      <td>(-47.709, 9541.8]</td>\n    </tr>\n    <tr>\n      <th>...</th>\n      <td>...</td>\n      <td>...</td>\n      <td>...</td>\n      <td>...</td>\n      <td>...</td>\n      <td>...</td>\n      <td>...</td>\n      <td>...</td>\n      <td>...</td>\n      <td>...</td>\n      <td>...</td>\n      <td>...</td>\n      <td>...</td>\n      <td>...</td>\n      <td>...</td>\n      <td>...</td>\n      <td>...</td>\n      <td>...</td>\n      <td>...</td>\n      <td>...</td>\n    </tr>\n    <tr>\n      <th>8684</th>\n      <td>9274_01</td>\n      <td>NaN</td>\n      <td>True</td>\n      <td>G/1508/P</td>\n      <td>TRAPPIST-1e</td>\n      <td>23.0</td>\n      <td>False</td>\n      <td>0.0</td>\n      <td>0.0</td>\n      <td>0.0</td>\n      <td>0.0</td>\n      <td>0.0</td>\n      <td>Chelsa Bullisey</td>\n      <td>True</td>\n      <td>01</td>\n      <td>G</td>\n      <td>P</td>\n      <td>0.0</td>\n      <td>(15.8, 23.7]</td>\n      <td>(-47.709, 9541.8]</td>\n    </tr>\n    <tr>\n      <th>8685</th>\n      <td>9275_01</td>\n      <td>Europa</td>\n      <td>False</td>\n      <td>A/97/P</td>\n      <td>TRAPPIST-1e</td>\n      <td>0.0</td>\n      <td>False</td>\n      <td>0.0</td>\n      <td>0.0</td>\n      <td>0.0</td>\n      <td>0.0</td>\n      <td>0.0</td>\n      <td>Polaton Conable</td>\n      <td>True</td>\n      <td>01</td>\n      <td>A</td>\n      <td>P</td>\n      <td>0.0</td>\n      <td>(-0.079, 7.9]</td>\n      <td>(-47.709, 9541.8]</td>\n    </tr>\n    <tr>\n      <th>8687</th>\n      <td>9275_03</td>\n      <td>Europa</td>\n      <td>NaN</td>\n      <td>A/97/P</td>\n      <td>TRAPPIST-1e</td>\n      <td>30.0</td>\n      <td>False</td>\n      <td>0.0</td>\n      <td>3208.0</td>\n      <td>0.0</td>\n      <td>2.0</td>\n      <td>330.0</td>\n      <td>Atlasym Conable</td>\n      <td>True</td>\n      <td>03</td>\n      <td>A</td>\n      <td>P</td>\n      <td>3540.0</td>\n      <td>(23.7, 31.6]</td>\n      <td>(-47.709, 9541.8]</td>\n    </tr>\n    <tr>\n      <th>8690</th>\n      <td>9279_01</td>\n      <td>Earth</td>\n      <td>False</td>\n      <td>G/1500/S</td>\n      <td>TRAPPIST-1e</td>\n      <td>26.0</td>\n      <td>False</td>\n      <td>0.0</td>\n      <td>0.0</td>\n      <td>1872.0</td>\n      <td>1.0</td>\n      <td>0.0</td>\n      <td>Fayey Connon</td>\n      <td>True</td>\n      <td>01</td>\n      <td>G</td>\n      <td>S</td>\n      <td>3745.0</td>\n      <td>(23.7, 31.6]</td>\n      <td>(-47.709, 9541.8]</td>\n    </tr>\n    <tr>\n      <th>8692</th>\n      <td>9280_02</td>\n      <td>Europa</td>\n      <td>False</td>\n      <td>E/608/S</td>\n      <td>TRAPPIST-1e</td>\n      <td>44.0</td>\n      <td>False</td>\n      <td>126.0</td>\n      <td>4688.0</td>\n      <td>0.0</td>\n      <td>0.0</td>\n      <td>12.0</td>\n      <td>Propsh Hontichre</td>\n      <td>True</td>\n      <td>02</td>\n      <td>E</td>\n      <td>S</td>\n      <td>4826.0</td>\n      <td>(39.5, 47.4]</td>\n      <td>(-47.709, 9541.8]</td>\n    </tr>\n  </tbody>\n</table>\n<p>3674 rows × 20 columns</p>\n</div>"
     },
     "execution_count": 2153,
     "metadata": {},
     "output_type": "execute_result"
    }
   ],
   "source": [
    "train[(train.Bill_sum < 5000) & (train.Transported == True)]"
   ],
   "metadata": {
    "collapsed": false
   }
  },
  {
   "cell_type": "code",
   "execution_count": 2154,
   "outputs": [
    {
     "data": {
      "text/plain": "     PassengerId HomePlanet CryoSleep     Cabin    Destination   Age    VIP  \\\n0        0001_01     Europa     False     B/0/P    TRAPPIST-1e  39.0  False   \n13       0010_01      Earth     False     G/1/S    TRAPPIST-1e  48.0  False   \n15       0012_01      Earth     False       NaN    TRAPPIST-1e  31.0  False   \n17       0015_01      Earth     False     F/4/P    55 Cancri e  24.0  False   \n20       0017_02      Earth     False     F/6/P    55 Cancri e  14.0  False   \n...          ...        ...       ...       ...            ...   ...    ...   \n8676     9261_01      Earth      True  G/1504/P  PSO J318.5-22  22.0  False   \n8683     9272_02      Earth     False  F/1894/P    TRAPPIST-1e  21.0  False   \n8686     9275_02     Europa     False    A/97/P    TRAPPIST-1e  32.0  False   \n8689     9278_01      Earth      True  G/1499/S  PSO J318.5-22  18.0  False   \n8691     9280_01     Europa     False   E/608/S    55 Cancri e  32.0  False   \n\n      RoomService  FoodCourt  ShoppingMall    Spa  VRDeck              Name  \\\n0             0.0        0.0           0.0    0.0     0.0   Maham Ofracculy   \n13          719.0        1.0          65.0    0.0    24.0    Reney Baketton   \n15           32.0        0.0         876.0    0.0     0.0     Justie Pooles   \n17            0.0        1.0           0.0    0.0   637.0   Carry Hughriend   \n20          412.0        0.0           1.0    0.0   679.0   Philda Brighttt   \n...           ...        ...           ...    ...     ...               ...   \n8676          0.0        0.0           0.0    0.0     0.0   Therta Casentry   \n8683         86.0        3.0         149.0  208.0   329.0      Gordo Simson   \n8686          1.0     1146.0           0.0   50.0    34.0     Diram Conable   \n8689          0.0        0.0           0.0    0.0     0.0   Kurta Mondalley   \n8691          0.0     1049.0           0.0  353.0  3235.0  Celeon Hontichre   \n\n      Transported Group Deck Side  Bill_sum      AgeBound          BillBound  \n0           False    01    B    P       0.0  (31.6, 39.5]  (-47.709, 9541.8]  \n13          False    01    G    S     874.0  (47.4, 55.3]  (-47.709, 9541.8]  \n15          False    01  NaN  NaN    1784.0  (23.7, 31.6]  (-47.709, 9541.8]  \n17          False    01    F    P     638.0  (23.7, 31.6]  (-47.709, 9541.8]  \n20          False    02    F    P    1093.0   (7.9, 15.8]  (-47.709, 9541.8]  \n...           ...   ...  ...  ...       ...           ...                ...  \n8676        False    01    G    P       0.0  (15.8, 23.7]  (-47.709, 9541.8]  \n8683        False    02    F    P     924.0  (15.8, 23.7]  (-47.709, 9541.8]  \n8686        False    02    A    P    1231.0  (31.6, 39.5]  (-47.709, 9541.8]  \n8689        False    01    G    S       0.0  (15.8, 23.7]  (-47.709, 9541.8]  \n8691        False    01    E    S    4637.0  (31.6, 39.5]  (-47.709, 9541.8]  \n\n[3440 rows x 20 columns]",
      "text/html": "<div>\n<style scoped>\n    .dataframe tbody tr th:only-of-type {\n        vertical-align: middle;\n    }\n\n    .dataframe tbody tr th {\n        vertical-align: top;\n    }\n\n    .dataframe thead th {\n        text-align: right;\n    }\n</style>\n<table border=\"1\" class=\"dataframe\">\n  <thead>\n    <tr style=\"text-align: right;\">\n      <th></th>\n      <th>PassengerId</th>\n      <th>HomePlanet</th>\n      <th>CryoSleep</th>\n      <th>Cabin</th>\n      <th>Destination</th>\n      <th>Age</th>\n      <th>VIP</th>\n      <th>RoomService</th>\n      <th>FoodCourt</th>\n      <th>ShoppingMall</th>\n      <th>Spa</th>\n      <th>VRDeck</th>\n      <th>Name</th>\n      <th>Transported</th>\n      <th>Group</th>\n      <th>Deck</th>\n      <th>Side</th>\n      <th>Bill_sum</th>\n      <th>AgeBound</th>\n      <th>BillBound</th>\n    </tr>\n  </thead>\n  <tbody>\n    <tr>\n      <th>0</th>\n      <td>0001_01</td>\n      <td>Europa</td>\n      <td>False</td>\n      <td>B/0/P</td>\n      <td>TRAPPIST-1e</td>\n      <td>39.0</td>\n      <td>False</td>\n      <td>0.0</td>\n      <td>0.0</td>\n      <td>0.0</td>\n      <td>0.0</td>\n      <td>0.0</td>\n      <td>Maham Ofracculy</td>\n      <td>False</td>\n      <td>01</td>\n      <td>B</td>\n      <td>P</td>\n      <td>0.0</td>\n      <td>(31.6, 39.5]</td>\n      <td>(-47.709, 9541.8]</td>\n    </tr>\n    <tr>\n      <th>13</th>\n      <td>0010_01</td>\n      <td>Earth</td>\n      <td>False</td>\n      <td>G/1/S</td>\n      <td>TRAPPIST-1e</td>\n      <td>48.0</td>\n      <td>False</td>\n      <td>719.0</td>\n      <td>1.0</td>\n      <td>65.0</td>\n      <td>0.0</td>\n      <td>24.0</td>\n      <td>Reney Baketton</td>\n      <td>False</td>\n      <td>01</td>\n      <td>G</td>\n      <td>S</td>\n      <td>874.0</td>\n      <td>(47.4, 55.3]</td>\n      <td>(-47.709, 9541.8]</td>\n    </tr>\n    <tr>\n      <th>15</th>\n      <td>0012_01</td>\n      <td>Earth</td>\n      <td>False</td>\n      <td>NaN</td>\n      <td>TRAPPIST-1e</td>\n      <td>31.0</td>\n      <td>False</td>\n      <td>32.0</td>\n      <td>0.0</td>\n      <td>876.0</td>\n      <td>0.0</td>\n      <td>0.0</td>\n      <td>Justie Pooles</td>\n      <td>False</td>\n      <td>01</td>\n      <td>NaN</td>\n      <td>NaN</td>\n      <td>1784.0</td>\n      <td>(23.7, 31.6]</td>\n      <td>(-47.709, 9541.8]</td>\n    </tr>\n    <tr>\n      <th>17</th>\n      <td>0015_01</td>\n      <td>Earth</td>\n      <td>False</td>\n      <td>F/4/P</td>\n      <td>55 Cancri e</td>\n      <td>24.0</td>\n      <td>False</td>\n      <td>0.0</td>\n      <td>1.0</td>\n      <td>0.0</td>\n      <td>0.0</td>\n      <td>637.0</td>\n      <td>Carry Hughriend</td>\n      <td>False</td>\n      <td>01</td>\n      <td>F</td>\n      <td>P</td>\n      <td>638.0</td>\n      <td>(23.7, 31.6]</td>\n      <td>(-47.709, 9541.8]</td>\n    </tr>\n    <tr>\n      <th>20</th>\n      <td>0017_02</td>\n      <td>Earth</td>\n      <td>False</td>\n      <td>F/6/P</td>\n      <td>55 Cancri e</td>\n      <td>14.0</td>\n      <td>False</td>\n      <td>412.0</td>\n      <td>0.0</td>\n      <td>1.0</td>\n      <td>0.0</td>\n      <td>679.0</td>\n      <td>Philda Brighttt</td>\n      <td>False</td>\n      <td>02</td>\n      <td>F</td>\n      <td>P</td>\n      <td>1093.0</td>\n      <td>(7.9, 15.8]</td>\n      <td>(-47.709, 9541.8]</td>\n    </tr>\n    <tr>\n      <th>...</th>\n      <td>...</td>\n      <td>...</td>\n      <td>...</td>\n      <td>...</td>\n      <td>...</td>\n      <td>...</td>\n      <td>...</td>\n      <td>...</td>\n      <td>...</td>\n      <td>...</td>\n      <td>...</td>\n      <td>...</td>\n      <td>...</td>\n      <td>...</td>\n      <td>...</td>\n      <td>...</td>\n      <td>...</td>\n      <td>...</td>\n      <td>...</td>\n      <td>...</td>\n    </tr>\n    <tr>\n      <th>8676</th>\n      <td>9261_01</td>\n      <td>Earth</td>\n      <td>True</td>\n      <td>G/1504/P</td>\n      <td>PSO J318.5-22</td>\n      <td>22.0</td>\n      <td>False</td>\n      <td>0.0</td>\n      <td>0.0</td>\n      <td>0.0</td>\n      <td>0.0</td>\n      <td>0.0</td>\n      <td>Therta Casentry</td>\n      <td>False</td>\n      <td>01</td>\n      <td>G</td>\n      <td>P</td>\n      <td>0.0</td>\n      <td>(15.8, 23.7]</td>\n      <td>(-47.709, 9541.8]</td>\n    </tr>\n    <tr>\n      <th>8683</th>\n      <td>9272_02</td>\n      <td>Earth</td>\n      <td>False</td>\n      <td>F/1894/P</td>\n      <td>TRAPPIST-1e</td>\n      <td>21.0</td>\n      <td>False</td>\n      <td>86.0</td>\n      <td>3.0</td>\n      <td>149.0</td>\n      <td>208.0</td>\n      <td>329.0</td>\n      <td>Gordo Simson</td>\n      <td>False</td>\n      <td>02</td>\n      <td>F</td>\n      <td>P</td>\n      <td>924.0</td>\n      <td>(15.8, 23.7]</td>\n      <td>(-47.709, 9541.8]</td>\n    </tr>\n    <tr>\n      <th>8686</th>\n      <td>9275_02</td>\n      <td>Europa</td>\n      <td>False</td>\n      <td>A/97/P</td>\n      <td>TRAPPIST-1e</td>\n      <td>32.0</td>\n      <td>False</td>\n      <td>1.0</td>\n      <td>1146.0</td>\n      <td>0.0</td>\n      <td>50.0</td>\n      <td>34.0</td>\n      <td>Diram Conable</td>\n      <td>False</td>\n      <td>02</td>\n      <td>A</td>\n      <td>P</td>\n      <td>1231.0</td>\n      <td>(31.6, 39.5]</td>\n      <td>(-47.709, 9541.8]</td>\n    </tr>\n    <tr>\n      <th>8689</th>\n      <td>9278_01</td>\n      <td>Earth</td>\n      <td>True</td>\n      <td>G/1499/S</td>\n      <td>PSO J318.5-22</td>\n      <td>18.0</td>\n      <td>False</td>\n      <td>0.0</td>\n      <td>0.0</td>\n      <td>0.0</td>\n      <td>0.0</td>\n      <td>0.0</td>\n      <td>Kurta Mondalley</td>\n      <td>False</td>\n      <td>01</td>\n      <td>G</td>\n      <td>S</td>\n      <td>0.0</td>\n      <td>(15.8, 23.7]</td>\n      <td>(-47.709, 9541.8]</td>\n    </tr>\n    <tr>\n      <th>8691</th>\n      <td>9280_01</td>\n      <td>Europa</td>\n      <td>False</td>\n      <td>E/608/S</td>\n      <td>55 Cancri e</td>\n      <td>32.0</td>\n      <td>False</td>\n      <td>0.0</td>\n      <td>1049.0</td>\n      <td>0.0</td>\n      <td>353.0</td>\n      <td>3235.0</td>\n      <td>Celeon Hontichre</td>\n      <td>False</td>\n      <td>01</td>\n      <td>E</td>\n      <td>S</td>\n      <td>4637.0</td>\n      <td>(31.6, 39.5]</td>\n      <td>(-47.709, 9541.8]</td>\n    </tr>\n  </tbody>\n</table>\n<p>3440 rows × 20 columns</p>\n</div>"
     },
     "execution_count": 2154,
     "metadata": {},
     "output_type": "execute_result"
    }
   ],
   "source": [
    "train[(train.Bill_sum < 5000) & (train.Transported == False)]"
   ],
   "metadata": {
    "collapsed": false
   }
  },
  {
   "cell_type": "code",
   "execution_count": 2155,
   "outputs": [
    {
     "data": {
      "text/plain": "     PassengerId HomePlanet CryoSleep    Cabin  Destination   Age    VIP  \\\n11       0008_03     Europa     False    B/1/P  55 Cancri e  45.0  False   \n54       0056_03     Europa     False    A/1/S  TRAPPIST-1e  27.0  False   \n70       0074_01     Europa     False    C/3/S  TRAPPIST-1e  42.0  False   \n105      0110_03     Europa     False    B/5/P  TRAPPIST-1e  42.0  False   \n264      0290_01     Europa     False    B/7/S  55 Cancri e  26.0  False   \n...          ...        ...       ...      ...          ...   ...    ...   \n8467     9042_01     Europa     False  B/294/P  55 Cancri e  42.0  False   \n8595     9175_01     Europa     False  B/299/P  55 Cancri e  32.0  False   \n8622     9197_03     Europa     False  C/308/P  TRAPPIST-1e  31.0  False   \n8652     9230_01     Europa     False  C/342/S  TRAPPIST-1e  36.0   True   \n8669     9252_01     Europa     False  B/301/P  55 Cancri e  26.0  False   \n\n      RoomService  FoodCourt  ShoppingMall     Spa  VRDeck  \\\n11           39.0     7295.0         589.0   110.0   124.0   \n54          279.0      605.0        3374.0   286.0     3.0   \n70            1.0     8397.0           0.0     0.0   506.0   \n105        2209.0    11418.0           0.0  1868.0   445.0   \n264           0.0     4458.0           0.0  1157.0   262.0   \n...           ...        ...           ...     ...     ...   \n8467          0.0     5436.0           0.0   471.0   109.0   \n8595          0.0    10073.0           0.0   168.0   337.0   \n8622          0.0     4634.0           8.0   616.0     0.0   \n8652          0.0     5600.0         715.0  2868.0   971.0   \n8669          0.0     8160.0         205.0     0.0   438.0   \n\n                    Name  Transported Group Deck Side  Bill_sum      AgeBound  \\\n11         Wezena Flatic         True    03    B    P    8746.0  (39.5, 47.4]   \n54      Zinoces Tractive         True    03    A    S    7921.0  (23.7, 31.6]   \n70      Aldibah Mostedry         True    01    C    S    8904.0  (39.5, 47.4]   \n105    Alaratz Aloubtled         True    03    B    P   15940.0  (39.5, 47.4]   \n264     Skaton Excialing         True    01    B    S    5877.0  (23.7, 31.6]   \n...                  ...          ...   ...  ...  ...       ...           ...   \n8467       Askeid Clunic         True    01    B    P    6016.0  (39.5, 47.4]   \n8595     Sulaton Dectory         True    01    B    P   10578.0  (31.6, 39.5]   \n8622       Pheino Platch         True    03    C    P    5266.0  (23.7, 31.6]   \n8652                 NaN         True    01    C    S   10869.0  (31.6, 39.5]   \n8669  Alchium Stranbeate         True    01    B    P    9008.0  (23.7, 31.6]   \n\n              BillBound  \n11    (-47.709, 9541.8]  \n54    (-47.709, 9541.8]  \n70    (-47.709, 9541.8]  \n105   (9541.8, 19083.6]  \n264   (-47.709, 9541.8]  \n...                 ...  \n8467  (-47.709, 9541.8]  \n8595  (9541.8, 19083.6]  \n8622  (-47.709, 9541.8]  \n8652  (9541.8, 19083.6]  \n8669  (-47.709, 9541.8]  \n\n[238 rows x 20 columns]",
      "text/html": "<div>\n<style scoped>\n    .dataframe tbody tr th:only-of-type {\n        vertical-align: middle;\n    }\n\n    .dataframe tbody tr th {\n        vertical-align: top;\n    }\n\n    .dataframe thead th {\n        text-align: right;\n    }\n</style>\n<table border=\"1\" class=\"dataframe\">\n  <thead>\n    <tr style=\"text-align: right;\">\n      <th></th>\n      <th>PassengerId</th>\n      <th>HomePlanet</th>\n      <th>CryoSleep</th>\n      <th>Cabin</th>\n      <th>Destination</th>\n      <th>Age</th>\n      <th>VIP</th>\n      <th>RoomService</th>\n      <th>FoodCourt</th>\n      <th>ShoppingMall</th>\n      <th>Spa</th>\n      <th>VRDeck</th>\n      <th>Name</th>\n      <th>Transported</th>\n      <th>Group</th>\n      <th>Deck</th>\n      <th>Side</th>\n      <th>Bill_sum</th>\n      <th>AgeBound</th>\n      <th>BillBound</th>\n    </tr>\n  </thead>\n  <tbody>\n    <tr>\n      <th>11</th>\n      <td>0008_03</td>\n      <td>Europa</td>\n      <td>False</td>\n      <td>B/1/P</td>\n      <td>55 Cancri e</td>\n      <td>45.0</td>\n      <td>False</td>\n      <td>39.0</td>\n      <td>7295.0</td>\n      <td>589.0</td>\n      <td>110.0</td>\n      <td>124.0</td>\n      <td>Wezena Flatic</td>\n      <td>True</td>\n      <td>03</td>\n      <td>B</td>\n      <td>P</td>\n      <td>8746.0</td>\n      <td>(39.5, 47.4]</td>\n      <td>(-47.709, 9541.8]</td>\n    </tr>\n    <tr>\n      <th>54</th>\n      <td>0056_03</td>\n      <td>Europa</td>\n      <td>False</td>\n      <td>A/1/S</td>\n      <td>TRAPPIST-1e</td>\n      <td>27.0</td>\n      <td>False</td>\n      <td>279.0</td>\n      <td>605.0</td>\n      <td>3374.0</td>\n      <td>286.0</td>\n      <td>3.0</td>\n      <td>Zinoces Tractive</td>\n      <td>True</td>\n      <td>03</td>\n      <td>A</td>\n      <td>S</td>\n      <td>7921.0</td>\n      <td>(23.7, 31.6]</td>\n      <td>(-47.709, 9541.8]</td>\n    </tr>\n    <tr>\n      <th>70</th>\n      <td>0074_01</td>\n      <td>Europa</td>\n      <td>False</td>\n      <td>C/3/S</td>\n      <td>TRAPPIST-1e</td>\n      <td>42.0</td>\n      <td>False</td>\n      <td>1.0</td>\n      <td>8397.0</td>\n      <td>0.0</td>\n      <td>0.0</td>\n      <td>506.0</td>\n      <td>Aldibah Mostedry</td>\n      <td>True</td>\n      <td>01</td>\n      <td>C</td>\n      <td>S</td>\n      <td>8904.0</td>\n      <td>(39.5, 47.4]</td>\n      <td>(-47.709, 9541.8]</td>\n    </tr>\n    <tr>\n      <th>105</th>\n      <td>0110_03</td>\n      <td>Europa</td>\n      <td>False</td>\n      <td>B/5/P</td>\n      <td>TRAPPIST-1e</td>\n      <td>42.0</td>\n      <td>False</td>\n      <td>2209.0</td>\n      <td>11418.0</td>\n      <td>0.0</td>\n      <td>1868.0</td>\n      <td>445.0</td>\n      <td>Alaratz Aloubtled</td>\n      <td>True</td>\n      <td>03</td>\n      <td>B</td>\n      <td>P</td>\n      <td>15940.0</td>\n      <td>(39.5, 47.4]</td>\n      <td>(9541.8, 19083.6]</td>\n    </tr>\n    <tr>\n      <th>264</th>\n      <td>0290_01</td>\n      <td>Europa</td>\n      <td>False</td>\n      <td>B/7/S</td>\n      <td>55 Cancri e</td>\n      <td>26.0</td>\n      <td>False</td>\n      <td>0.0</td>\n      <td>4458.0</td>\n      <td>0.0</td>\n      <td>1157.0</td>\n      <td>262.0</td>\n      <td>Skaton Excialing</td>\n      <td>True</td>\n      <td>01</td>\n      <td>B</td>\n      <td>S</td>\n      <td>5877.0</td>\n      <td>(23.7, 31.6]</td>\n      <td>(-47.709, 9541.8]</td>\n    </tr>\n    <tr>\n      <th>...</th>\n      <td>...</td>\n      <td>...</td>\n      <td>...</td>\n      <td>...</td>\n      <td>...</td>\n      <td>...</td>\n      <td>...</td>\n      <td>...</td>\n      <td>...</td>\n      <td>...</td>\n      <td>...</td>\n      <td>...</td>\n      <td>...</td>\n      <td>...</td>\n      <td>...</td>\n      <td>...</td>\n      <td>...</td>\n      <td>...</td>\n      <td>...</td>\n      <td>...</td>\n    </tr>\n    <tr>\n      <th>8467</th>\n      <td>9042_01</td>\n      <td>Europa</td>\n      <td>False</td>\n      <td>B/294/P</td>\n      <td>55 Cancri e</td>\n      <td>42.0</td>\n      <td>False</td>\n      <td>0.0</td>\n      <td>5436.0</td>\n      <td>0.0</td>\n      <td>471.0</td>\n      <td>109.0</td>\n      <td>Askeid Clunic</td>\n      <td>True</td>\n      <td>01</td>\n      <td>B</td>\n      <td>P</td>\n      <td>6016.0</td>\n      <td>(39.5, 47.4]</td>\n      <td>(-47.709, 9541.8]</td>\n    </tr>\n    <tr>\n      <th>8595</th>\n      <td>9175_01</td>\n      <td>Europa</td>\n      <td>False</td>\n      <td>B/299/P</td>\n      <td>55 Cancri e</td>\n      <td>32.0</td>\n      <td>False</td>\n      <td>0.0</td>\n      <td>10073.0</td>\n      <td>0.0</td>\n      <td>168.0</td>\n      <td>337.0</td>\n      <td>Sulaton Dectory</td>\n      <td>True</td>\n      <td>01</td>\n      <td>B</td>\n      <td>P</td>\n      <td>10578.0</td>\n      <td>(31.6, 39.5]</td>\n      <td>(9541.8, 19083.6]</td>\n    </tr>\n    <tr>\n      <th>8622</th>\n      <td>9197_03</td>\n      <td>Europa</td>\n      <td>False</td>\n      <td>C/308/P</td>\n      <td>TRAPPIST-1e</td>\n      <td>31.0</td>\n      <td>False</td>\n      <td>0.0</td>\n      <td>4634.0</td>\n      <td>8.0</td>\n      <td>616.0</td>\n      <td>0.0</td>\n      <td>Pheino Platch</td>\n      <td>True</td>\n      <td>03</td>\n      <td>C</td>\n      <td>P</td>\n      <td>5266.0</td>\n      <td>(23.7, 31.6]</td>\n      <td>(-47.709, 9541.8]</td>\n    </tr>\n    <tr>\n      <th>8652</th>\n      <td>9230_01</td>\n      <td>Europa</td>\n      <td>False</td>\n      <td>C/342/S</td>\n      <td>TRAPPIST-1e</td>\n      <td>36.0</td>\n      <td>True</td>\n      <td>0.0</td>\n      <td>5600.0</td>\n      <td>715.0</td>\n      <td>2868.0</td>\n      <td>971.0</td>\n      <td>NaN</td>\n      <td>True</td>\n      <td>01</td>\n      <td>C</td>\n      <td>S</td>\n      <td>10869.0</td>\n      <td>(31.6, 39.5]</td>\n      <td>(9541.8, 19083.6]</td>\n    </tr>\n    <tr>\n      <th>8669</th>\n      <td>9252_01</td>\n      <td>Europa</td>\n      <td>False</td>\n      <td>B/301/P</td>\n      <td>55 Cancri e</td>\n      <td>26.0</td>\n      <td>False</td>\n      <td>0.0</td>\n      <td>8160.0</td>\n      <td>205.0</td>\n      <td>0.0</td>\n      <td>438.0</td>\n      <td>Alchium Stranbeate</td>\n      <td>True</td>\n      <td>01</td>\n      <td>B</td>\n      <td>P</td>\n      <td>9008.0</td>\n      <td>(23.7, 31.6]</td>\n      <td>(-47.709, 9541.8]</td>\n    </tr>\n  </tbody>\n</table>\n<p>238 rows × 20 columns</p>\n</div>"
     },
     "execution_count": 2155,
     "metadata": {},
     "output_type": "execute_result"
    }
   ],
   "source": [
    "train[(train.Bill_sum > 5000) & (train.Transported == True)]"
   ],
   "metadata": {
    "collapsed": false
   }
  },
  {
   "cell_type": "code",
   "execution_count": 2156,
   "outputs": [
    {
     "data": {
      "text/plain": "     PassengerId HomePlanet CryoSleep    Cabin  Destination   Age    VIP  \\\n2        0003_01     Europa     False    A/0/S  TRAPPIST-1e  58.0   True   \n3        0003_02     Europa     False    A/0/S  TRAPPIST-1e  33.0  False   \n30       0026_01     Europa     False    C/0/P  55 Cancri e  34.0  False   \n73       0078_01     Europa     False    C/4/S  TRAPPIST-1e  38.0  False   \n75       0082_01       Mars     False   F/16/P  TRAPPIST-1e  42.0  False   \n...          ...        ...       ...      ...          ...   ...    ...   \n8604     9183_01     Europa     False  C/307/P  55 Cancri e  34.0  False   \n8613     9194_01        NaN     False  E/603/S  55 Cancri e  53.0  False   \n8621     9197_02     Europa     False  C/308/P          NaN  41.0   True   \n8626     9202_01     Europa     False  C/309/P  TRAPPIST-1e  26.0  False   \n8688     9276_01     Europa     False   A/98/P  55 Cancri e  41.0   True   \n\n      RoomService  FoodCourt  ShoppingMall     Spa  VRDeck               Name  \\\n2            43.0     3576.0           0.0  6715.0    49.0      Altark Susent   \n3             0.0     1283.0         371.0  3329.0   193.0       Solam Susent   \n30           22.0     6073.0           0.0  1438.0   328.0    Anyoni Unconary   \n73            0.0     5840.0           0.0   321.0  9654.0    Spuri Pokerheed   \n75         7406.0        0.0           0.0     0.0     0.0        Totse Datte   \n...           ...        ...           ...     ...     ...                ...   \n8604          0.0        5.0          11.0    62.0  5804.0                NaN   \n8613          0.0     4017.0           0.0    13.0  3147.0                NaN   \n8621          0.0     7964.0           0.0  3238.0  5839.0     Aludram Platch   \n8626       8586.0       77.0         114.0    29.0     4.0       Alark Eguing   \n8688          0.0     6819.0           0.0  1643.0    74.0  Gravior Noxnuther   \n\n      Transported Group Deck Side  Bill_sum      AgeBound          BillBound  \n2           False    01    A    S   10383.0  (55.3, 63.2]  (9541.8, 19083.6]  \n3           False    02    A    S    5547.0  (31.6, 39.5]  (-47.709, 9541.8]  \n30          False    01    C    P    7861.0  (31.6, 39.5]  (-47.709, 9541.8]  \n73          False    01    C    S   15815.0  (31.6, 39.5]  (9541.8, 19083.6]  \n75          False    01    F    P    7406.0  (39.5, 47.4]  (-47.709, 9541.8]  \n...           ...   ...  ...  ...       ...           ...                ...  \n8604        False    01    C    P    5893.0  (31.6, 39.5]  (-47.709, 9541.8]  \n8613        False    01    E    S    7177.0  (47.4, 55.3]  (-47.709, 9541.8]  \n8621        False    02    C    P   17041.0  (39.5, 47.4]  (9541.8, 19083.6]  \n8626        False    01    C    P    8924.0  (23.7, 31.6]  (-47.709, 9541.8]  \n8688        False    01    A    P    8536.0  (39.5, 47.4]  (-47.709, 9541.8]  \n\n[433 rows x 20 columns]",
      "text/html": "<div>\n<style scoped>\n    .dataframe tbody tr th:only-of-type {\n        vertical-align: middle;\n    }\n\n    .dataframe tbody tr th {\n        vertical-align: top;\n    }\n\n    .dataframe thead th {\n        text-align: right;\n    }\n</style>\n<table border=\"1\" class=\"dataframe\">\n  <thead>\n    <tr style=\"text-align: right;\">\n      <th></th>\n      <th>PassengerId</th>\n      <th>HomePlanet</th>\n      <th>CryoSleep</th>\n      <th>Cabin</th>\n      <th>Destination</th>\n      <th>Age</th>\n      <th>VIP</th>\n      <th>RoomService</th>\n      <th>FoodCourt</th>\n      <th>ShoppingMall</th>\n      <th>Spa</th>\n      <th>VRDeck</th>\n      <th>Name</th>\n      <th>Transported</th>\n      <th>Group</th>\n      <th>Deck</th>\n      <th>Side</th>\n      <th>Bill_sum</th>\n      <th>AgeBound</th>\n      <th>BillBound</th>\n    </tr>\n  </thead>\n  <tbody>\n    <tr>\n      <th>2</th>\n      <td>0003_01</td>\n      <td>Europa</td>\n      <td>False</td>\n      <td>A/0/S</td>\n      <td>TRAPPIST-1e</td>\n      <td>58.0</td>\n      <td>True</td>\n      <td>43.0</td>\n      <td>3576.0</td>\n      <td>0.0</td>\n      <td>6715.0</td>\n      <td>49.0</td>\n      <td>Altark Susent</td>\n      <td>False</td>\n      <td>01</td>\n      <td>A</td>\n      <td>S</td>\n      <td>10383.0</td>\n      <td>(55.3, 63.2]</td>\n      <td>(9541.8, 19083.6]</td>\n    </tr>\n    <tr>\n      <th>3</th>\n      <td>0003_02</td>\n      <td>Europa</td>\n      <td>False</td>\n      <td>A/0/S</td>\n      <td>TRAPPIST-1e</td>\n      <td>33.0</td>\n      <td>False</td>\n      <td>0.0</td>\n      <td>1283.0</td>\n      <td>371.0</td>\n      <td>3329.0</td>\n      <td>193.0</td>\n      <td>Solam Susent</td>\n      <td>False</td>\n      <td>02</td>\n      <td>A</td>\n      <td>S</td>\n      <td>5547.0</td>\n      <td>(31.6, 39.5]</td>\n      <td>(-47.709, 9541.8]</td>\n    </tr>\n    <tr>\n      <th>30</th>\n      <td>0026_01</td>\n      <td>Europa</td>\n      <td>False</td>\n      <td>C/0/P</td>\n      <td>55 Cancri e</td>\n      <td>34.0</td>\n      <td>False</td>\n      <td>22.0</td>\n      <td>6073.0</td>\n      <td>0.0</td>\n      <td>1438.0</td>\n      <td>328.0</td>\n      <td>Anyoni Unconary</td>\n      <td>False</td>\n      <td>01</td>\n      <td>C</td>\n      <td>P</td>\n      <td>7861.0</td>\n      <td>(31.6, 39.5]</td>\n      <td>(-47.709, 9541.8]</td>\n    </tr>\n    <tr>\n      <th>73</th>\n      <td>0078_01</td>\n      <td>Europa</td>\n      <td>False</td>\n      <td>C/4/S</td>\n      <td>TRAPPIST-1e</td>\n      <td>38.0</td>\n      <td>False</td>\n      <td>0.0</td>\n      <td>5840.0</td>\n      <td>0.0</td>\n      <td>321.0</td>\n      <td>9654.0</td>\n      <td>Spuri Pokerheed</td>\n      <td>False</td>\n      <td>01</td>\n      <td>C</td>\n      <td>S</td>\n      <td>15815.0</td>\n      <td>(31.6, 39.5]</td>\n      <td>(9541.8, 19083.6]</td>\n    </tr>\n    <tr>\n      <th>75</th>\n      <td>0082_01</td>\n      <td>Mars</td>\n      <td>False</td>\n      <td>F/16/P</td>\n      <td>TRAPPIST-1e</td>\n      <td>42.0</td>\n      <td>False</td>\n      <td>7406.0</td>\n      <td>0.0</td>\n      <td>0.0</td>\n      <td>0.0</td>\n      <td>0.0</td>\n      <td>Totse Datte</td>\n      <td>False</td>\n      <td>01</td>\n      <td>F</td>\n      <td>P</td>\n      <td>7406.0</td>\n      <td>(39.5, 47.4]</td>\n      <td>(-47.709, 9541.8]</td>\n    </tr>\n    <tr>\n      <th>...</th>\n      <td>...</td>\n      <td>...</td>\n      <td>...</td>\n      <td>...</td>\n      <td>...</td>\n      <td>...</td>\n      <td>...</td>\n      <td>...</td>\n      <td>...</td>\n      <td>...</td>\n      <td>...</td>\n      <td>...</td>\n      <td>...</td>\n      <td>...</td>\n      <td>...</td>\n      <td>...</td>\n      <td>...</td>\n      <td>...</td>\n      <td>...</td>\n      <td>...</td>\n    </tr>\n    <tr>\n      <th>8604</th>\n      <td>9183_01</td>\n      <td>Europa</td>\n      <td>False</td>\n      <td>C/307/P</td>\n      <td>55 Cancri e</td>\n      <td>34.0</td>\n      <td>False</td>\n      <td>0.0</td>\n      <td>5.0</td>\n      <td>11.0</td>\n      <td>62.0</td>\n      <td>5804.0</td>\n      <td>NaN</td>\n      <td>False</td>\n      <td>01</td>\n      <td>C</td>\n      <td>P</td>\n      <td>5893.0</td>\n      <td>(31.6, 39.5]</td>\n      <td>(-47.709, 9541.8]</td>\n    </tr>\n    <tr>\n      <th>8613</th>\n      <td>9194_01</td>\n      <td>NaN</td>\n      <td>False</td>\n      <td>E/603/S</td>\n      <td>55 Cancri e</td>\n      <td>53.0</td>\n      <td>False</td>\n      <td>0.0</td>\n      <td>4017.0</td>\n      <td>0.0</td>\n      <td>13.0</td>\n      <td>3147.0</td>\n      <td>NaN</td>\n      <td>False</td>\n      <td>01</td>\n      <td>E</td>\n      <td>S</td>\n      <td>7177.0</td>\n      <td>(47.4, 55.3]</td>\n      <td>(-47.709, 9541.8]</td>\n    </tr>\n    <tr>\n      <th>8621</th>\n      <td>9197_02</td>\n      <td>Europa</td>\n      <td>False</td>\n      <td>C/308/P</td>\n      <td>NaN</td>\n      <td>41.0</td>\n      <td>True</td>\n      <td>0.0</td>\n      <td>7964.0</td>\n      <td>0.0</td>\n      <td>3238.0</td>\n      <td>5839.0</td>\n      <td>Aludram Platch</td>\n      <td>False</td>\n      <td>02</td>\n      <td>C</td>\n      <td>P</td>\n      <td>17041.0</td>\n      <td>(39.5, 47.4]</td>\n      <td>(9541.8, 19083.6]</td>\n    </tr>\n    <tr>\n      <th>8626</th>\n      <td>9202_01</td>\n      <td>Europa</td>\n      <td>False</td>\n      <td>C/309/P</td>\n      <td>TRAPPIST-1e</td>\n      <td>26.0</td>\n      <td>False</td>\n      <td>8586.0</td>\n      <td>77.0</td>\n      <td>114.0</td>\n      <td>29.0</td>\n      <td>4.0</td>\n      <td>Alark Eguing</td>\n      <td>False</td>\n      <td>01</td>\n      <td>C</td>\n      <td>P</td>\n      <td>8924.0</td>\n      <td>(23.7, 31.6]</td>\n      <td>(-47.709, 9541.8]</td>\n    </tr>\n    <tr>\n      <th>8688</th>\n      <td>9276_01</td>\n      <td>Europa</td>\n      <td>False</td>\n      <td>A/98/P</td>\n      <td>55 Cancri e</td>\n      <td>41.0</td>\n      <td>True</td>\n      <td>0.0</td>\n      <td>6819.0</td>\n      <td>0.0</td>\n      <td>1643.0</td>\n      <td>74.0</td>\n      <td>Gravior Noxnuther</td>\n      <td>False</td>\n      <td>01</td>\n      <td>A</td>\n      <td>P</td>\n      <td>8536.0</td>\n      <td>(39.5, 47.4]</td>\n      <td>(-47.709, 9541.8]</td>\n    </tr>\n  </tbody>\n</table>\n<p>433 rows × 20 columns</p>\n</div>"
     },
     "execution_count": 2156,
     "metadata": {},
     "output_type": "execute_result"
    }
   ],
   "source": [
    "train[(train.Bill_sum > 5000) & (train.Transported == False)]"
   ],
   "metadata": {
    "collapsed": false
   }
  },
  {
   "cell_type": "code",
   "execution_count": 2157,
   "outputs": [
    {
     "data": {
      "text/plain": "  PassengerId HomePlanet CryoSleep  Cabin  Destination   Age    VIP  \\\n0     0001_01     Europa     False  B/0/P  TRAPPIST-1e  39.0  False   \n1     0002_01      Earth     False  F/0/S  TRAPPIST-1e  24.0  False   \n2     0003_01     Europa     False  A/0/S  TRAPPIST-1e  58.0   True   \n3     0003_02     Europa     False  A/0/S  TRAPPIST-1e  33.0  False   \n4     0004_01      Earth     False  F/1/S  TRAPPIST-1e  16.0  False   \n\n   RoomService  FoodCourt  ShoppingMall     Spa  VRDeck  Transported Group  \\\n0          0.0        0.0           0.0     0.0     0.0        False    01   \n1        109.0        9.0          25.0   549.0    44.0         True    01   \n2         43.0     3576.0           0.0  6715.0    49.0        False    01   \n3          0.0     1283.0         371.0  3329.0   193.0        False    02   \n4        303.0       70.0         151.0   565.0     2.0         True    01   \n\n  Deck Side  Bill_sum      AgeBound          BillBound  \n0    B    P       0.0  (31.6, 39.5]  (-47.709, 9541.8]  \n1    F    S     761.0  (23.7, 31.6]  (-47.709, 9541.8]  \n2    A    S   10383.0  (55.3, 63.2]  (9541.8, 19083.6]  \n3    A    S    5547.0  (31.6, 39.5]  (-47.709, 9541.8]  \n4    F    S    1242.0  (15.8, 23.7]  (-47.709, 9541.8]  ",
      "text/html": "<div>\n<style scoped>\n    .dataframe tbody tr th:only-of-type {\n        vertical-align: middle;\n    }\n\n    .dataframe tbody tr th {\n        vertical-align: top;\n    }\n\n    .dataframe thead th {\n        text-align: right;\n    }\n</style>\n<table border=\"1\" class=\"dataframe\">\n  <thead>\n    <tr style=\"text-align: right;\">\n      <th></th>\n      <th>PassengerId</th>\n      <th>HomePlanet</th>\n      <th>CryoSleep</th>\n      <th>Cabin</th>\n      <th>Destination</th>\n      <th>Age</th>\n      <th>VIP</th>\n      <th>RoomService</th>\n      <th>FoodCourt</th>\n      <th>ShoppingMall</th>\n      <th>Spa</th>\n      <th>VRDeck</th>\n      <th>Transported</th>\n      <th>Group</th>\n      <th>Deck</th>\n      <th>Side</th>\n      <th>Bill_sum</th>\n      <th>AgeBound</th>\n      <th>BillBound</th>\n    </tr>\n  </thead>\n  <tbody>\n    <tr>\n      <th>0</th>\n      <td>0001_01</td>\n      <td>Europa</td>\n      <td>False</td>\n      <td>B/0/P</td>\n      <td>TRAPPIST-1e</td>\n      <td>39.0</td>\n      <td>False</td>\n      <td>0.0</td>\n      <td>0.0</td>\n      <td>0.0</td>\n      <td>0.0</td>\n      <td>0.0</td>\n      <td>False</td>\n      <td>01</td>\n      <td>B</td>\n      <td>P</td>\n      <td>0.0</td>\n      <td>(31.6, 39.5]</td>\n      <td>(-47.709, 9541.8]</td>\n    </tr>\n    <tr>\n      <th>1</th>\n      <td>0002_01</td>\n      <td>Earth</td>\n      <td>False</td>\n      <td>F/0/S</td>\n      <td>TRAPPIST-1e</td>\n      <td>24.0</td>\n      <td>False</td>\n      <td>109.0</td>\n      <td>9.0</td>\n      <td>25.0</td>\n      <td>549.0</td>\n      <td>44.0</td>\n      <td>True</td>\n      <td>01</td>\n      <td>F</td>\n      <td>S</td>\n      <td>761.0</td>\n      <td>(23.7, 31.6]</td>\n      <td>(-47.709, 9541.8]</td>\n    </tr>\n    <tr>\n      <th>2</th>\n      <td>0003_01</td>\n      <td>Europa</td>\n      <td>False</td>\n      <td>A/0/S</td>\n      <td>TRAPPIST-1e</td>\n      <td>58.0</td>\n      <td>True</td>\n      <td>43.0</td>\n      <td>3576.0</td>\n      <td>0.0</td>\n      <td>6715.0</td>\n      <td>49.0</td>\n      <td>False</td>\n      <td>01</td>\n      <td>A</td>\n      <td>S</td>\n      <td>10383.0</td>\n      <td>(55.3, 63.2]</td>\n      <td>(9541.8, 19083.6]</td>\n    </tr>\n    <tr>\n      <th>3</th>\n      <td>0003_02</td>\n      <td>Europa</td>\n      <td>False</td>\n      <td>A/0/S</td>\n      <td>TRAPPIST-1e</td>\n      <td>33.0</td>\n      <td>False</td>\n      <td>0.0</td>\n      <td>1283.0</td>\n      <td>371.0</td>\n      <td>3329.0</td>\n      <td>193.0</td>\n      <td>False</td>\n      <td>02</td>\n      <td>A</td>\n      <td>S</td>\n      <td>5547.0</td>\n      <td>(31.6, 39.5]</td>\n      <td>(-47.709, 9541.8]</td>\n    </tr>\n    <tr>\n      <th>4</th>\n      <td>0004_01</td>\n      <td>Earth</td>\n      <td>False</td>\n      <td>F/1/S</td>\n      <td>TRAPPIST-1e</td>\n      <td>16.0</td>\n      <td>False</td>\n      <td>303.0</td>\n      <td>70.0</td>\n      <td>151.0</td>\n      <td>565.0</td>\n      <td>2.0</td>\n      <td>True</td>\n      <td>01</td>\n      <td>F</td>\n      <td>S</td>\n      <td>1242.0</td>\n      <td>(15.8, 23.7]</td>\n      <td>(-47.709, 9541.8]</td>\n    </tr>\n  </tbody>\n</table>\n</div>"
     },
     "execution_count": 2157,
     "metadata": {},
     "output_type": "execute_result"
    }
   ],
   "source": [
    "for ds in all_data:\n",
    "    ds.drop('Name', axis=1, inplace=True)\n",
    "train.head()"
   ],
   "metadata": {
    "collapsed": false
   }
  },
  {
   "cell_type": "code",
   "execution_count": 2158,
   "outputs": [
    {
     "data": {
      "text/plain": "<bound method DataFrame.count of      PassengerId HomePlanet CryoSleep     Cabin    Destination   Age    VIP  \\\n7        0006_02      Earth      True     G/0/S    TRAPPIST-1e  28.0  False   \n9        0008_01     Europa      True     B/1/P    55 Cancri e  14.0  False   \n10       0008_02     Europa      True     B/1/P    TRAPPIST-1e  34.0  False   \n18       0016_01       Mars      True     F/5/P    TRAPPIST-1e  45.0  False   \n21       0020_01      Earth      True     E/0/S    TRAPPIST-1e   1.0  False   \n...          ...        ...       ...       ...            ...   ...    ...   \n8679     9267_02     Europa      True   E/607/S    TRAPPIST-1e  20.0  False   \n8680     9268_01      Earth      True  G/1505/P    TRAPPIST-1e  31.0  False   \n8681     9270_01      Earth      True  G/1497/S    55 Cancri e  33.0  False   \n8684     9274_01        NaN      True  G/1508/P    TRAPPIST-1e  23.0  False   \n8689     9278_01      Earth      True  G/1499/S  PSO J318.5-22  18.0  False   \n\n      RoomService  FoodCourt  ShoppingMall  Spa  VRDeck  Transported Group  \\\n7             0.0        0.0           0.0  0.0     NaN         True    02   \n9             0.0        0.0           0.0  0.0     0.0         True    01   \n10            0.0        0.0           NaN  0.0     0.0         True    02   \n18            0.0        0.0           0.0  0.0     0.0         True    01   \n21            0.0        0.0           0.0  0.0     0.0        False    01   \n...           ...        ...           ...  ...     ...          ...   ...   \n8679          0.0        0.0           0.0  0.0     0.0         True    02   \n8680          0.0        0.0           0.0  0.0     0.0         True    01   \n8681          0.0        0.0           0.0  0.0     0.0         True    01   \n8684          0.0        0.0           0.0  0.0     0.0         True    01   \n8689          0.0        0.0           0.0  0.0     0.0        False    01   \n\n     Deck Side  Bill_sum       AgeBound          BillBound  \n7       G    S       NaN   (23.7, 31.6]                NaN  \n9       B    P       0.0    (7.9, 15.8]  (-47.709, 9541.8]  \n10      B    P       NaN   (31.6, 39.5]                NaN  \n18      F    P       0.0   (39.5, 47.4]  (-47.709, 9541.8]  \n21      E    S       0.0  (-0.079, 7.9]  (-47.709, 9541.8]  \n...   ...  ...       ...            ...                ...  \n8679    E    S       0.0   (15.8, 23.7]  (-47.709, 9541.8]  \n8680    G    P       0.0   (23.7, 31.6]  (-47.709, 9541.8]  \n8681    G    S       0.0   (31.6, 39.5]  (-47.709, 9541.8]  \n8684    G    P       0.0   (15.8, 23.7]  (-47.709, 9541.8]  \n8689    G    S       0.0   (15.8, 23.7]  (-47.709, 9541.8]  \n\n[3037 rows x 19 columns]>"
     },
     "execution_count": 2158,
     "metadata": {},
     "output_type": "execute_result"
    }
   ],
   "source": [
    "train[train.CryoSleep == True].count# /"
   ],
   "metadata": {
    "collapsed": false
   }
  },
  {
   "cell_type": "code",
   "execution_count": 2159,
   "outputs": [
    {
     "data": {
      "text/plain": "PassengerId     5439\nHomePlanet      5315\nCryoSleep       5439\nCabin           5331\nDestination     5309\nAge             5343\nVIP             5318\nRoomService     5328\nFoodCourt       5329\nShoppingMall    5335\nSpa             5326\nVRDeck          5320\nTransported     5439\nGroup           5439\nDeck            5331\nSide            5331\nBill_sum        4902\nAgeBound        5343\nBillBound       4902\ndtype: int64"
     },
     "execution_count": 2159,
     "metadata": {},
     "output_type": "execute_result"
    }
   ],
   "source": [
    "train[train.CryoSleep == False].count()"
   ],
   "metadata": {
    "collapsed": false
   }
  },
  {
   "cell_type": "code",
   "execution_count": 2160,
   "outputs": [],
   "source": [
    "# for ds in all_data:\n",
    "#     ds.CryoSleep.fillna(True, inplace=True)"
   ],
   "metadata": {
    "collapsed": false
   }
  },
  {
   "cell_type": "code",
   "execution_count": 2160,
   "outputs": [],
   "source": [],
   "metadata": {
    "collapsed": false
   }
  },
  {
   "cell_type": "code",
   "execution_count": 2161,
   "outputs": [
    {
     "data": {
      "text/plain": "(8693, 19)"
     },
     "execution_count": 2161,
     "metadata": {},
     "output_type": "execute_result"
    }
   ],
   "source": [
    "train.shape"
   ],
   "metadata": {
    "collapsed": false
   }
  },
  {
   "cell_type": "code",
   "execution_count": 2162,
   "outputs": [
    {
     "data": {
      "text/plain": "     PassengerId HomePlanet CryoSleep Cabin  Destination   Age    VIP  \\\n15       0012_01      Earth     False   NaN  TRAPPIST-1e  31.0  False   \n93       0101_01       Mars      True   NaN  TRAPPIST-1e  31.0  False   \n103      0110_01     Europa     False   NaN  TRAPPIST-1e  32.0  False   \n222      0239_01       Mars     False   NaN  TRAPPIST-1e  37.0  False   \n227      0244_01       Mars      True   NaN  TRAPPIST-1e  43.0  False   \n...          ...        ...       ...   ...          ...   ...    ...   \n8209     8772_02     Europa     False   NaN  55 Cancri e  53.0  False   \n8475     9057_01     Europa     False   NaN  55 Cancri e  36.0   True   \n8485     9069_03     Europa      True   NaN  55 Cancri e  25.0  False   \n8509     9081_03      Earth      True   NaN  TRAPPIST-1e   1.0  False   \n8656     9233_01      Earth     False   NaN  TRAPPIST-1e  41.0  False   \n\n      RoomService  FoodCourt  ShoppingMall     Spa  VRDeck  Transported Group  \\\n15           32.0        0.0         876.0     0.0     0.0        False    01   \n93            0.0        0.0           0.0     0.0     0.0         True    01   \n103           0.0      410.0           6.0  3929.0   764.0        False    01   \n222         637.0        0.0           0.0    92.0   319.0        False    01   \n227           0.0        0.0           0.0     0.0     0.0         True    01   \n...           ...        ...           ...     ...     ...          ...   ...   \n8209          0.0     1127.0           0.0  3939.0     NaN        False    02   \n8475        132.0     3479.0           0.0  3786.0     0.0        False    01   \n8485          0.0        0.0           0.0     0.0     0.0         True    03   \n8509          0.0        0.0           0.0     0.0     0.0        False    03   \n8656          3.0        0.0         668.0     0.0     0.0         True    01   \n\n     Deck Side  Bill_sum       AgeBound          BillBound  \n15    NaN  NaN    1784.0   (23.7, 31.6]  (-47.709, 9541.8]  \n93    NaN  NaN       0.0   (23.7, 31.6]  (-47.709, 9541.8]  \n103   NaN  NaN    5115.0   (31.6, 39.5]  (-47.709, 9541.8]  \n222   NaN  NaN    1048.0   (31.6, 39.5]  (-47.709, 9541.8]  \n227   NaN  NaN       0.0   (39.5, 47.4]  (-47.709, 9541.8]  \n...   ...  ...       ...            ...                ...  \n8209  NaN  NaN       NaN   (47.4, 55.3]                NaN  \n8475  NaN  NaN    7397.0   (31.6, 39.5]  (-47.709, 9541.8]  \n8485  NaN  NaN       0.0   (23.7, 31.6]  (-47.709, 9541.8]  \n8509  NaN  NaN       0.0  (-0.079, 7.9]  (-47.709, 9541.8]  \n8656  NaN  NaN    1339.0   (39.5, 47.4]  (-47.709, 9541.8]  \n\n[199 rows x 19 columns]",
      "text/html": "<div>\n<style scoped>\n    .dataframe tbody tr th:only-of-type {\n        vertical-align: middle;\n    }\n\n    .dataframe tbody tr th {\n        vertical-align: top;\n    }\n\n    .dataframe thead th {\n        text-align: right;\n    }\n</style>\n<table border=\"1\" class=\"dataframe\">\n  <thead>\n    <tr style=\"text-align: right;\">\n      <th></th>\n      <th>PassengerId</th>\n      <th>HomePlanet</th>\n      <th>CryoSleep</th>\n      <th>Cabin</th>\n      <th>Destination</th>\n      <th>Age</th>\n      <th>VIP</th>\n      <th>RoomService</th>\n      <th>FoodCourt</th>\n      <th>ShoppingMall</th>\n      <th>Spa</th>\n      <th>VRDeck</th>\n      <th>Transported</th>\n      <th>Group</th>\n      <th>Deck</th>\n      <th>Side</th>\n      <th>Bill_sum</th>\n      <th>AgeBound</th>\n      <th>BillBound</th>\n    </tr>\n  </thead>\n  <tbody>\n    <tr>\n      <th>15</th>\n      <td>0012_01</td>\n      <td>Earth</td>\n      <td>False</td>\n      <td>NaN</td>\n      <td>TRAPPIST-1e</td>\n      <td>31.0</td>\n      <td>False</td>\n      <td>32.0</td>\n      <td>0.0</td>\n      <td>876.0</td>\n      <td>0.0</td>\n      <td>0.0</td>\n      <td>False</td>\n      <td>01</td>\n      <td>NaN</td>\n      <td>NaN</td>\n      <td>1784.0</td>\n      <td>(23.7, 31.6]</td>\n      <td>(-47.709, 9541.8]</td>\n    </tr>\n    <tr>\n      <th>93</th>\n      <td>0101_01</td>\n      <td>Mars</td>\n      <td>True</td>\n      <td>NaN</td>\n      <td>TRAPPIST-1e</td>\n      <td>31.0</td>\n      <td>False</td>\n      <td>0.0</td>\n      <td>0.0</td>\n      <td>0.0</td>\n      <td>0.0</td>\n      <td>0.0</td>\n      <td>True</td>\n      <td>01</td>\n      <td>NaN</td>\n      <td>NaN</td>\n      <td>0.0</td>\n      <td>(23.7, 31.6]</td>\n      <td>(-47.709, 9541.8]</td>\n    </tr>\n    <tr>\n      <th>103</th>\n      <td>0110_01</td>\n      <td>Europa</td>\n      <td>False</td>\n      <td>NaN</td>\n      <td>TRAPPIST-1e</td>\n      <td>32.0</td>\n      <td>False</td>\n      <td>0.0</td>\n      <td>410.0</td>\n      <td>6.0</td>\n      <td>3929.0</td>\n      <td>764.0</td>\n      <td>False</td>\n      <td>01</td>\n      <td>NaN</td>\n      <td>NaN</td>\n      <td>5115.0</td>\n      <td>(31.6, 39.5]</td>\n      <td>(-47.709, 9541.8]</td>\n    </tr>\n    <tr>\n      <th>222</th>\n      <td>0239_01</td>\n      <td>Mars</td>\n      <td>False</td>\n      <td>NaN</td>\n      <td>TRAPPIST-1e</td>\n      <td>37.0</td>\n      <td>False</td>\n      <td>637.0</td>\n      <td>0.0</td>\n      <td>0.0</td>\n      <td>92.0</td>\n      <td>319.0</td>\n      <td>False</td>\n      <td>01</td>\n      <td>NaN</td>\n      <td>NaN</td>\n      <td>1048.0</td>\n      <td>(31.6, 39.5]</td>\n      <td>(-47.709, 9541.8]</td>\n    </tr>\n    <tr>\n      <th>227</th>\n      <td>0244_01</td>\n      <td>Mars</td>\n      <td>True</td>\n      <td>NaN</td>\n      <td>TRAPPIST-1e</td>\n      <td>43.0</td>\n      <td>False</td>\n      <td>0.0</td>\n      <td>0.0</td>\n      <td>0.0</td>\n      <td>0.0</td>\n      <td>0.0</td>\n      <td>True</td>\n      <td>01</td>\n      <td>NaN</td>\n      <td>NaN</td>\n      <td>0.0</td>\n      <td>(39.5, 47.4]</td>\n      <td>(-47.709, 9541.8]</td>\n    </tr>\n    <tr>\n      <th>...</th>\n      <td>...</td>\n      <td>...</td>\n      <td>...</td>\n      <td>...</td>\n      <td>...</td>\n      <td>...</td>\n      <td>...</td>\n      <td>...</td>\n      <td>...</td>\n      <td>...</td>\n      <td>...</td>\n      <td>...</td>\n      <td>...</td>\n      <td>...</td>\n      <td>...</td>\n      <td>...</td>\n      <td>...</td>\n      <td>...</td>\n      <td>...</td>\n    </tr>\n    <tr>\n      <th>8209</th>\n      <td>8772_02</td>\n      <td>Europa</td>\n      <td>False</td>\n      <td>NaN</td>\n      <td>55 Cancri e</td>\n      <td>53.0</td>\n      <td>False</td>\n      <td>0.0</td>\n      <td>1127.0</td>\n      <td>0.0</td>\n      <td>3939.0</td>\n      <td>NaN</td>\n      <td>False</td>\n      <td>02</td>\n      <td>NaN</td>\n      <td>NaN</td>\n      <td>NaN</td>\n      <td>(47.4, 55.3]</td>\n      <td>NaN</td>\n    </tr>\n    <tr>\n      <th>8475</th>\n      <td>9057_01</td>\n      <td>Europa</td>\n      <td>False</td>\n      <td>NaN</td>\n      <td>55 Cancri e</td>\n      <td>36.0</td>\n      <td>True</td>\n      <td>132.0</td>\n      <td>3479.0</td>\n      <td>0.0</td>\n      <td>3786.0</td>\n      <td>0.0</td>\n      <td>False</td>\n      <td>01</td>\n      <td>NaN</td>\n      <td>NaN</td>\n      <td>7397.0</td>\n      <td>(31.6, 39.5]</td>\n      <td>(-47.709, 9541.8]</td>\n    </tr>\n    <tr>\n      <th>8485</th>\n      <td>9069_03</td>\n      <td>Europa</td>\n      <td>True</td>\n      <td>NaN</td>\n      <td>55 Cancri e</td>\n      <td>25.0</td>\n      <td>False</td>\n      <td>0.0</td>\n      <td>0.0</td>\n      <td>0.0</td>\n      <td>0.0</td>\n      <td>0.0</td>\n      <td>True</td>\n      <td>03</td>\n      <td>NaN</td>\n      <td>NaN</td>\n      <td>0.0</td>\n      <td>(23.7, 31.6]</td>\n      <td>(-47.709, 9541.8]</td>\n    </tr>\n    <tr>\n      <th>8509</th>\n      <td>9081_03</td>\n      <td>Earth</td>\n      <td>True</td>\n      <td>NaN</td>\n      <td>TRAPPIST-1e</td>\n      <td>1.0</td>\n      <td>False</td>\n      <td>0.0</td>\n      <td>0.0</td>\n      <td>0.0</td>\n      <td>0.0</td>\n      <td>0.0</td>\n      <td>False</td>\n      <td>03</td>\n      <td>NaN</td>\n      <td>NaN</td>\n      <td>0.0</td>\n      <td>(-0.079, 7.9]</td>\n      <td>(-47.709, 9541.8]</td>\n    </tr>\n    <tr>\n      <th>8656</th>\n      <td>9233_01</td>\n      <td>Earth</td>\n      <td>False</td>\n      <td>NaN</td>\n      <td>TRAPPIST-1e</td>\n      <td>41.0</td>\n      <td>False</td>\n      <td>3.0</td>\n      <td>0.0</td>\n      <td>668.0</td>\n      <td>0.0</td>\n      <td>0.0</td>\n      <td>True</td>\n      <td>01</td>\n      <td>NaN</td>\n      <td>NaN</td>\n      <td>1339.0</td>\n      <td>(39.5, 47.4]</td>\n      <td>(-47.709, 9541.8]</td>\n    </tr>\n  </tbody>\n</table>\n<p>199 rows × 19 columns</p>\n</div>"
     },
     "execution_count": 2162,
     "metadata": {},
     "output_type": "execute_result"
    }
   ],
   "source": [
    "train[train.Side.isnull() == True]"
   ],
   "metadata": {
    "collapsed": false
   }
  },
  {
   "cell_type": "code",
   "execution_count": 2163,
   "outputs": [],
   "source": [
    "# train[train.Group == '01'].Cabin.mean()"
   ],
   "metadata": {
    "collapsed": false
   }
  },
  {
   "cell_type": "code",
   "execution_count": 2164,
   "outputs": [],
   "source": [
    "for ds in all_data:\n",
    "    ds.Group = ds.Group.astype(int)"
   ],
   "metadata": {
    "collapsed": false
   }
  },
  {
   "cell_type": "code",
   "execution_count": 2165,
   "outputs": [
    {
     "data": {
      "text/plain": "     PassengerId HomePlanet CryoSleep     Cabin    Destination   Age    VIP  \\\n0        0001_01     Europa     False     B/0/P    TRAPPIST-1e  39.0  False   \n1        0002_01      Earth     False     F/0/S    TRAPPIST-1e  24.0  False   \n2        0003_01     Europa     False     A/0/S    TRAPPIST-1e  58.0   True   \n3        0003_02     Europa     False     A/0/S    TRAPPIST-1e  33.0  False   \n4        0004_01      Earth     False     F/1/S    TRAPPIST-1e  16.0  False   \n...          ...        ...       ...       ...            ...   ...    ...   \n8688     9276_01     Europa     False    A/98/P    55 Cancri e  41.0   True   \n8689     9278_01      Earth      True  G/1499/S  PSO J318.5-22  18.0  False   \n8690     9279_01      Earth     False  G/1500/S    TRAPPIST-1e  26.0  False   \n8691     9280_01     Europa     False   E/608/S    55 Cancri e  32.0  False   \n8692     9280_02     Europa     False   E/608/S    TRAPPIST-1e  44.0  False   \n\n      RoomService  FoodCourt  ShoppingMall     Spa  VRDeck  Transported  \\\n0             0.0        0.0           0.0     0.0     0.0        False   \n1           109.0        9.0          25.0   549.0    44.0         True   \n2            43.0     3576.0           0.0  6715.0    49.0        False   \n3             0.0     1283.0         371.0  3329.0   193.0        False   \n4           303.0       70.0         151.0   565.0     2.0         True   \n...           ...        ...           ...     ...     ...          ...   \n8688          0.0     6819.0           0.0  1643.0    74.0        False   \n8689          0.0        0.0           0.0     0.0     0.0        False   \n8690          0.0        0.0        1872.0     1.0     0.0         True   \n8691          0.0     1049.0           0.0   353.0  3235.0        False   \n8692        126.0     4688.0           0.0     0.0    12.0         True   \n\n      Group Deck Side  Bill_sum      AgeBound          BillBound  \n0         1    B    P       0.0  (31.6, 39.5]  (-47.709, 9541.8]  \n1         1    F    S     761.0  (23.7, 31.6]  (-47.709, 9541.8]  \n2         1    A    S   10383.0  (55.3, 63.2]  (9541.8, 19083.6]  \n3         2    A    S    5547.0  (31.6, 39.5]  (-47.709, 9541.8]  \n4         1    F    S    1242.0  (15.8, 23.7]  (-47.709, 9541.8]  \n...     ...  ...  ...       ...           ...                ...  \n8688      1    A    P    8536.0  (39.5, 47.4]  (-47.709, 9541.8]  \n8689      1    G    S       0.0  (15.8, 23.7]  (-47.709, 9541.8]  \n8690      1    G    S    3745.0  (23.7, 31.6]  (-47.709, 9541.8]  \n8691      1    E    S    4637.0  (31.6, 39.5]  (-47.709, 9541.8]  \n8692      2    E    S    4826.0  (39.5, 47.4]  (-47.709, 9541.8]  \n\n[8693 rows x 19 columns]",
      "text/html": "<div>\n<style scoped>\n    .dataframe tbody tr th:only-of-type {\n        vertical-align: middle;\n    }\n\n    .dataframe tbody tr th {\n        vertical-align: top;\n    }\n\n    .dataframe thead th {\n        text-align: right;\n    }\n</style>\n<table border=\"1\" class=\"dataframe\">\n  <thead>\n    <tr style=\"text-align: right;\">\n      <th></th>\n      <th>PassengerId</th>\n      <th>HomePlanet</th>\n      <th>CryoSleep</th>\n      <th>Cabin</th>\n      <th>Destination</th>\n      <th>Age</th>\n      <th>VIP</th>\n      <th>RoomService</th>\n      <th>FoodCourt</th>\n      <th>ShoppingMall</th>\n      <th>Spa</th>\n      <th>VRDeck</th>\n      <th>Transported</th>\n      <th>Group</th>\n      <th>Deck</th>\n      <th>Side</th>\n      <th>Bill_sum</th>\n      <th>AgeBound</th>\n      <th>BillBound</th>\n    </tr>\n  </thead>\n  <tbody>\n    <tr>\n      <th>0</th>\n      <td>0001_01</td>\n      <td>Europa</td>\n      <td>False</td>\n      <td>B/0/P</td>\n      <td>TRAPPIST-1e</td>\n      <td>39.0</td>\n      <td>False</td>\n      <td>0.0</td>\n      <td>0.0</td>\n      <td>0.0</td>\n      <td>0.0</td>\n      <td>0.0</td>\n      <td>False</td>\n      <td>1</td>\n      <td>B</td>\n      <td>P</td>\n      <td>0.0</td>\n      <td>(31.6, 39.5]</td>\n      <td>(-47.709, 9541.8]</td>\n    </tr>\n    <tr>\n      <th>1</th>\n      <td>0002_01</td>\n      <td>Earth</td>\n      <td>False</td>\n      <td>F/0/S</td>\n      <td>TRAPPIST-1e</td>\n      <td>24.0</td>\n      <td>False</td>\n      <td>109.0</td>\n      <td>9.0</td>\n      <td>25.0</td>\n      <td>549.0</td>\n      <td>44.0</td>\n      <td>True</td>\n      <td>1</td>\n      <td>F</td>\n      <td>S</td>\n      <td>761.0</td>\n      <td>(23.7, 31.6]</td>\n      <td>(-47.709, 9541.8]</td>\n    </tr>\n    <tr>\n      <th>2</th>\n      <td>0003_01</td>\n      <td>Europa</td>\n      <td>False</td>\n      <td>A/0/S</td>\n      <td>TRAPPIST-1e</td>\n      <td>58.0</td>\n      <td>True</td>\n      <td>43.0</td>\n      <td>3576.0</td>\n      <td>0.0</td>\n      <td>6715.0</td>\n      <td>49.0</td>\n      <td>False</td>\n      <td>1</td>\n      <td>A</td>\n      <td>S</td>\n      <td>10383.0</td>\n      <td>(55.3, 63.2]</td>\n      <td>(9541.8, 19083.6]</td>\n    </tr>\n    <tr>\n      <th>3</th>\n      <td>0003_02</td>\n      <td>Europa</td>\n      <td>False</td>\n      <td>A/0/S</td>\n      <td>TRAPPIST-1e</td>\n      <td>33.0</td>\n      <td>False</td>\n      <td>0.0</td>\n      <td>1283.0</td>\n      <td>371.0</td>\n      <td>3329.0</td>\n      <td>193.0</td>\n      <td>False</td>\n      <td>2</td>\n      <td>A</td>\n      <td>S</td>\n      <td>5547.0</td>\n      <td>(31.6, 39.5]</td>\n      <td>(-47.709, 9541.8]</td>\n    </tr>\n    <tr>\n      <th>4</th>\n      <td>0004_01</td>\n      <td>Earth</td>\n      <td>False</td>\n      <td>F/1/S</td>\n      <td>TRAPPIST-1e</td>\n      <td>16.0</td>\n      <td>False</td>\n      <td>303.0</td>\n      <td>70.0</td>\n      <td>151.0</td>\n      <td>565.0</td>\n      <td>2.0</td>\n      <td>True</td>\n      <td>1</td>\n      <td>F</td>\n      <td>S</td>\n      <td>1242.0</td>\n      <td>(15.8, 23.7]</td>\n      <td>(-47.709, 9541.8]</td>\n    </tr>\n    <tr>\n      <th>...</th>\n      <td>...</td>\n      <td>...</td>\n      <td>...</td>\n      <td>...</td>\n      <td>...</td>\n      <td>...</td>\n      <td>...</td>\n      <td>...</td>\n      <td>...</td>\n      <td>...</td>\n      <td>...</td>\n      <td>...</td>\n      <td>...</td>\n      <td>...</td>\n      <td>...</td>\n      <td>...</td>\n      <td>...</td>\n      <td>...</td>\n      <td>...</td>\n    </tr>\n    <tr>\n      <th>8688</th>\n      <td>9276_01</td>\n      <td>Europa</td>\n      <td>False</td>\n      <td>A/98/P</td>\n      <td>55 Cancri e</td>\n      <td>41.0</td>\n      <td>True</td>\n      <td>0.0</td>\n      <td>6819.0</td>\n      <td>0.0</td>\n      <td>1643.0</td>\n      <td>74.0</td>\n      <td>False</td>\n      <td>1</td>\n      <td>A</td>\n      <td>P</td>\n      <td>8536.0</td>\n      <td>(39.5, 47.4]</td>\n      <td>(-47.709, 9541.8]</td>\n    </tr>\n    <tr>\n      <th>8689</th>\n      <td>9278_01</td>\n      <td>Earth</td>\n      <td>True</td>\n      <td>G/1499/S</td>\n      <td>PSO J318.5-22</td>\n      <td>18.0</td>\n      <td>False</td>\n      <td>0.0</td>\n      <td>0.0</td>\n      <td>0.0</td>\n      <td>0.0</td>\n      <td>0.0</td>\n      <td>False</td>\n      <td>1</td>\n      <td>G</td>\n      <td>S</td>\n      <td>0.0</td>\n      <td>(15.8, 23.7]</td>\n      <td>(-47.709, 9541.8]</td>\n    </tr>\n    <tr>\n      <th>8690</th>\n      <td>9279_01</td>\n      <td>Earth</td>\n      <td>False</td>\n      <td>G/1500/S</td>\n      <td>TRAPPIST-1e</td>\n      <td>26.0</td>\n      <td>False</td>\n      <td>0.0</td>\n      <td>0.0</td>\n      <td>1872.0</td>\n      <td>1.0</td>\n      <td>0.0</td>\n      <td>True</td>\n      <td>1</td>\n      <td>G</td>\n      <td>S</td>\n      <td>3745.0</td>\n      <td>(23.7, 31.6]</td>\n      <td>(-47.709, 9541.8]</td>\n    </tr>\n    <tr>\n      <th>8691</th>\n      <td>9280_01</td>\n      <td>Europa</td>\n      <td>False</td>\n      <td>E/608/S</td>\n      <td>55 Cancri e</td>\n      <td>32.0</td>\n      <td>False</td>\n      <td>0.0</td>\n      <td>1049.0</td>\n      <td>0.0</td>\n      <td>353.0</td>\n      <td>3235.0</td>\n      <td>False</td>\n      <td>1</td>\n      <td>E</td>\n      <td>S</td>\n      <td>4637.0</td>\n      <td>(31.6, 39.5]</td>\n      <td>(-47.709, 9541.8]</td>\n    </tr>\n    <tr>\n      <th>8692</th>\n      <td>9280_02</td>\n      <td>Europa</td>\n      <td>False</td>\n      <td>E/608/S</td>\n      <td>TRAPPIST-1e</td>\n      <td>44.0</td>\n      <td>False</td>\n      <td>126.0</td>\n      <td>4688.0</td>\n      <td>0.0</td>\n      <td>0.0</td>\n      <td>12.0</td>\n      <td>True</td>\n      <td>2</td>\n      <td>E</td>\n      <td>S</td>\n      <td>4826.0</td>\n      <td>(39.5, 47.4]</td>\n      <td>(-47.709, 9541.8]</td>\n    </tr>\n  </tbody>\n</table>\n<p>8693 rows × 19 columns</p>\n</div>"
     },
     "execution_count": 2165,
     "metadata": {},
     "output_type": "execute_result"
    }
   ],
   "source": [
    "train"
   ],
   "metadata": {
    "collapsed": false
   }
  },
  {
   "cell_type": "code",
   "execution_count": 2166,
   "outputs": [],
   "source": [
    "for ds in all_data:\n",
    "    # first = ds.Cabin.str.find('/')\n",
    "    # sec = ds.Cabin.str[::-1].find('/')\n",
    "    ds['CabinNum'] = ds.Cabin.str.extract('/(.*)/').astype(float)"
   ],
   "metadata": {
    "collapsed": false
   }
  },
  {
   "cell_type": "code",
   "execution_count": 2167,
   "outputs": [],
   "source": [
    "for ds in all_data:\n",
    "    ds.CabinNum.fillna(ds.CabinNum.mean(), inplace=True)"
   ],
   "metadata": {
    "collapsed": false
   }
  },
  {
   "cell_type": "code",
   "execution_count": 2168,
   "outputs": [
    {
     "data": {
      "text/plain": "     PassengerId HomePlanet CryoSleep     Cabin    Destination   Age    VIP  \\\n0        0001_01     Europa     False     B/0/P    TRAPPIST-1e  39.0  False   \n1        0002_01      Earth     False     F/0/S    TRAPPIST-1e  24.0  False   \n2        0003_01     Europa     False     A/0/S    TRAPPIST-1e  58.0   True   \n3        0003_02     Europa     False     A/0/S    TRAPPIST-1e  33.0  False   \n4        0004_01      Earth     False     F/1/S    TRAPPIST-1e  16.0  False   \n...          ...        ...       ...       ...            ...   ...    ...   \n8688     9276_01     Europa     False    A/98/P    55 Cancri e  41.0   True   \n8689     9278_01      Earth      True  G/1499/S  PSO J318.5-22  18.0  False   \n8690     9279_01      Earth     False  G/1500/S    TRAPPIST-1e  26.0  False   \n8691     9280_01     Europa     False   E/608/S    55 Cancri e  32.0  False   \n8692     9280_02     Europa     False   E/608/S    TRAPPIST-1e  44.0  False   \n\n      RoomService  FoodCourt  ShoppingMall     Spa  VRDeck  Transported  \\\n0             0.0        0.0           0.0     0.0     0.0        False   \n1           109.0        9.0          25.0   549.0    44.0         True   \n2            43.0     3576.0           0.0  6715.0    49.0        False   \n3             0.0     1283.0         371.0  3329.0   193.0        False   \n4           303.0       70.0         151.0   565.0     2.0         True   \n...           ...        ...           ...     ...     ...          ...   \n8688          0.0     6819.0           0.0  1643.0    74.0        False   \n8689          0.0        0.0           0.0     0.0     0.0        False   \n8690          0.0        0.0        1872.0     1.0     0.0         True   \n8691          0.0     1049.0           0.0   353.0  3235.0        False   \n8692        126.0     4688.0           0.0     0.0    12.0         True   \n\n      Group Deck Side  Bill_sum      AgeBound          BillBound  CabinNum  \n0         1    B    P       0.0  (31.6, 39.5]  (-47.709, 9541.8]       0.0  \n1         1    F    S     761.0  (23.7, 31.6]  (-47.709, 9541.8]       0.0  \n2         1    A    S   10383.0  (55.3, 63.2]  (9541.8, 19083.6]       0.0  \n3         2    A    S    5547.0  (31.6, 39.5]  (-47.709, 9541.8]       0.0  \n4         1    F    S    1242.0  (15.8, 23.7]  (-47.709, 9541.8]       1.0  \n...     ...  ...  ...       ...           ...                ...       ...  \n8688      1    A    P    8536.0  (39.5, 47.4]  (-47.709, 9541.8]      98.0  \n8689      1    G    S       0.0  (15.8, 23.7]  (-47.709, 9541.8]    1499.0  \n8690      1    G    S    3745.0  (23.7, 31.6]  (-47.709, 9541.8]    1500.0  \n8691      1    E    S    4637.0  (31.6, 39.5]  (-47.709, 9541.8]     608.0  \n8692      2    E    S    4826.0  (39.5, 47.4]  (-47.709, 9541.8]     608.0  \n\n[8693 rows x 20 columns]",
      "text/html": "<div>\n<style scoped>\n    .dataframe tbody tr th:only-of-type {\n        vertical-align: middle;\n    }\n\n    .dataframe tbody tr th {\n        vertical-align: top;\n    }\n\n    .dataframe thead th {\n        text-align: right;\n    }\n</style>\n<table border=\"1\" class=\"dataframe\">\n  <thead>\n    <tr style=\"text-align: right;\">\n      <th></th>\n      <th>PassengerId</th>\n      <th>HomePlanet</th>\n      <th>CryoSleep</th>\n      <th>Cabin</th>\n      <th>Destination</th>\n      <th>Age</th>\n      <th>VIP</th>\n      <th>RoomService</th>\n      <th>FoodCourt</th>\n      <th>ShoppingMall</th>\n      <th>Spa</th>\n      <th>VRDeck</th>\n      <th>Transported</th>\n      <th>Group</th>\n      <th>Deck</th>\n      <th>Side</th>\n      <th>Bill_sum</th>\n      <th>AgeBound</th>\n      <th>BillBound</th>\n      <th>CabinNum</th>\n    </tr>\n  </thead>\n  <tbody>\n    <tr>\n      <th>0</th>\n      <td>0001_01</td>\n      <td>Europa</td>\n      <td>False</td>\n      <td>B/0/P</td>\n      <td>TRAPPIST-1e</td>\n      <td>39.0</td>\n      <td>False</td>\n      <td>0.0</td>\n      <td>0.0</td>\n      <td>0.0</td>\n      <td>0.0</td>\n      <td>0.0</td>\n      <td>False</td>\n      <td>1</td>\n      <td>B</td>\n      <td>P</td>\n      <td>0.0</td>\n      <td>(31.6, 39.5]</td>\n      <td>(-47.709, 9541.8]</td>\n      <td>0.0</td>\n    </tr>\n    <tr>\n      <th>1</th>\n      <td>0002_01</td>\n      <td>Earth</td>\n      <td>False</td>\n      <td>F/0/S</td>\n      <td>TRAPPIST-1e</td>\n      <td>24.0</td>\n      <td>False</td>\n      <td>109.0</td>\n      <td>9.0</td>\n      <td>25.0</td>\n      <td>549.0</td>\n      <td>44.0</td>\n      <td>True</td>\n      <td>1</td>\n      <td>F</td>\n      <td>S</td>\n      <td>761.0</td>\n      <td>(23.7, 31.6]</td>\n      <td>(-47.709, 9541.8]</td>\n      <td>0.0</td>\n    </tr>\n    <tr>\n      <th>2</th>\n      <td>0003_01</td>\n      <td>Europa</td>\n      <td>False</td>\n      <td>A/0/S</td>\n      <td>TRAPPIST-1e</td>\n      <td>58.0</td>\n      <td>True</td>\n      <td>43.0</td>\n      <td>3576.0</td>\n      <td>0.0</td>\n      <td>6715.0</td>\n      <td>49.0</td>\n      <td>False</td>\n      <td>1</td>\n      <td>A</td>\n      <td>S</td>\n      <td>10383.0</td>\n      <td>(55.3, 63.2]</td>\n      <td>(9541.8, 19083.6]</td>\n      <td>0.0</td>\n    </tr>\n    <tr>\n      <th>3</th>\n      <td>0003_02</td>\n      <td>Europa</td>\n      <td>False</td>\n      <td>A/0/S</td>\n      <td>TRAPPIST-1e</td>\n      <td>33.0</td>\n      <td>False</td>\n      <td>0.0</td>\n      <td>1283.0</td>\n      <td>371.0</td>\n      <td>3329.0</td>\n      <td>193.0</td>\n      <td>False</td>\n      <td>2</td>\n      <td>A</td>\n      <td>S</td>\n      <td>5547.0</td>\n      <td>(31.6, 39.5]</td>\n      <td>(-47.709, 9541.8]</td>\n      <td>0.0</td>\n    </tr>\n    <tr>\n      <th>4</th>\n      <td>0004_01</td>\n      <td>Earth</td>\n      <td>False</td>\n      <td>F/1/S</td>\n      <td>TRAPPIST-1e</td>\n      <td>16.0</td>\n      <td>False</td>\n      <td>303.0</td>\n      <td>70.0</td>\n      <td>151.0</td>\n      <td>565.0</td>\n      <td>2.0</td>\n      <td>True</td>\n      <td>1</td>\n      <td>F</td>\n      <td>S</td>\n      <td>1242.0</td>\n      <td>(15.8, 23.7]</td>\n      <td>(-47.709, 9541.8]</td>\n      <td>1.0</td>\n    </tr>\n    <tr>\n      <th>...</th>\n      <td>...</td>\n      <td>...</td>\n      <td>...</td>\n      <td>...</td>\n      <td>...</td>\n      <td>...</td>\n      <td>...</td>\n      <td>...</td>\n      <td>...</td>\n      <td>...</td>\n      <td>...</td>\n      <td>...</td>\n      <td>...</td>\n      <td>...</td>\n      <td>...</td>\n      <td>...</td>\n      <td>...</td>\n      <td>...</td>\n      <td>...</td>\n      <td>...</td>\n    </tr>\n    <tr>\n      <th>8688</th>\n      <td>9276_01</td>\n      <td>Europa</td>\n      <td>False</td>\n      <td>A/98/P</td>\n      <td>55 Cancri e</td>\n      <td>41.0</td>\n      <td>True</td>\n      <td>0.0</td>\n      <td>6819.0</td>\n      <td>0.0</td>\n      <td>1643.0</td>\n      <td>74.0</td>\n      <td>False</td>\n      <td>1</td>\n      <td>A</td>\n      <td>P</td>\n      <td>8536.0</td>\n      <td>(39.5, 47.4]</td>\n      <td>(-47.709, 9541.8]</td>\n      <td>98.0</td>\n    </tr>\n    <tr>\n      <th>8689</th>\n      <td>9278_01</td>\n      <td>Earth</td>\n      <td>True</td>\n      <td>G/1499/S</td>\n      <td>PSO J318.5-22</td>\n      <td>18.0</td>\n      <td>False</td>\n      <td>0.0</td>\n      <td>0.0</td>\n      <td>0.0</td>\n      <td>0.0</td>\n      <td>0.0</td>\n      <td>False</td>\n      <td>1</td>\n      <td>G</td>\n      <td>S</td>\n      <td>0.0</td>\n      <td>(15.8, 23.7]</td>\n      <td>(-47.709, 9541.8]</td>\n      <td>1499.0</td>\n    </tr>\n    <tr>\n      <th>8690</th>\n      <td>9279_01</td>\n      <td>Earth</td>\n      <td>False</td>\n      <td>G/1500/S</td>\n      <td>TRAPPIST-1e</td>\n      <td>26.0</td>\n      <td>False</td>\n      <td>0.0</td>\n      <td>0.0</td>\n      <td>1872.0</td>\n      <td>1.0</td>\n      <td>0.0</td>\n      <td>True</td>\n      <td>1</td>\n      <td>G</td>\n      <td>S</td>\n      <td>3745.0</td>\n      <td>(23.7, 31.6]</td>\n      <td>(-47.709, 9541.8]</td>\n      <td>1500.0</td>\n    </tr>\n    <tr>\n      <th>8691</th>\n      <td>9280_01</td>\n      <td>Europa</td>\n      <td>False</td>\n      <td>E/608/S</td>\n      <td>55 Cancri e</td>\n      <td>32.0</td>\n      <td>False</td>\n      <td>0.0</td>\n      <td>1049.0</td>\n      <td>0.0</td>\n      <td>353.0</td>\n      <td>3235.0</td>\n      <td>False</td>\n      <td>1</td>\n      <td>E</td>\n      <td>S</td>\n      <td>4637.0</td>\n      <td>(31.6, 39.5]</td>\n      <td>(-47.709, 9541.8]</td>\n      <td>608.0</td>\n    </tr>\n    <tr>\n      <th>8692</th>\n      <td>9280_02</td>\n      <td>Europa</td>\n      <td>False</td>\n      <td>E/608/S</td>\n      <td>TRAPPIST-1e</td>\n      <td>44.0</td>\n      <td>False</td>\n      <td>126.0</td>\n      <td>4688.0</td>\n      <td>0.0</td>\n      <td>0.0</td>\n      <td>12.0</td>\n      <td>True</td>\n      <td>2</td>\n      <td>E</td>\n      <td>S</td>\n      <td>4826.0</td>\n      <td>(39.5, 47.4]</td>\n      <td>(-47.709, 9541.8]</td>\n      <td>608.0</td>\n    </tr>\n  </tbody>\n</table>\n<p>8693 rows × 20 columns</p>\n</div>"
     },
     "execution_count": 2168,
     "metadata": {},
     "output_type": "execute_result"
    }
   ],
   "source": [
    "train"
   ],
   "metadata": {
    "collapsed": false
   }
  },
  {
   "cell_type": "code",
   "execution_count": 2169,
   "outputs": [
    {
     "data": {
      "text/plain": "627.5816741119269"
     },
     "execution_count": 2169,
     "metadata": {},
     "output_type": "execute_result"
    }
   ],
   "source": [
    "train[train.Group == 1].CabinNum.mean()"
   ],
   "metadata": {
    "collapsed": false
   }
  },
  {
   "cell_type": "code",
   "execution_count": 2170,
   "outputs": [
    {
     "data": {
      "text/plain": "1893.0"
     },
     "execution_count": 2170,
     "metadata": {},
     "output_type": "execute_result"
    }
   ],
   "source": [
    "train[train.Group == 1].CabinNum.max()"
   ],
   "metadata": {
    "collapsed": false
   }
  },
  {
   "cell_type": "code",
   "execution_count": 2171,
   "outputs": [
    {
     "name": "stdout",
     "output_type": "stream",
     "text": [
      "37.44949494949495\n"
     ]
    },
    {
     "data": {
      "text/plain": "11.611956674682142"
     },
     "execution_count": 2171,
     "metadata": {},
     "output_type": "execute_result"
    }
   ],
   "source": [
    "print(train[train.VIP == True].Age.mean())\n",
    "train[train.VIP == True].Age.std()"
   ],
   "metadata": {
    "collapsed": false
   }
  },
  {
   "cell_type": "code",
   "execution_count": 2172,
   "outputs": [
    {
     "name": "stdout",
     "output_type": "stream",
     "text": [
      "28.639610789506097\n"
     ]
    },
    {
     "data": {
      "text/plain": "14.469895098101045"
     },
     "execution_count": 2172,
     "metadata": {},
     "output_type": "execute_result"
    }
   ],
   "source": [
    "print(train[train.VIP == False].Age.mean())\n",
    "train[train.VIP == False].Age.std()"
   ],
   "metadata": {
    "collapsed": false
   }
  },
  {
   "cell_type": "code",
   "execution_count": 2173,
   "outputs": [
    {
     "name": "stdout",
     "output_type": "stream",
     "text": [
      "28.82793046746535\n"
     ]
    },
    {
     "data": {
      "text/plain": "14.48902142390878"
     },
     "execution_count": 2173,
     "metadata": {},
     "output_type": "execute_result"
    }
   ],
   "source": [
    "print(train.Age.mean())\n",
    "train.Age.std()"
   ],
   "metadata": {
    "collapsed": false
   }
  },
  {
   "cell_type": "code",
   "execution_count": 2173,
   "outputs": [],
   "source": [],
   "metadata": {
    "collapsed": false
   }
  },
  {
   "cell_type": "code",
   "execution_count": 2174,
   "outputs": [],
   "source": [
    "#np.random.randint(train.Age.mean() - train.Age.std(), train.Age.mean() + train.Age.std())\n",
    "# for ds in all_data:\n",
    "#     ds.Age.fillna(np.random.randint(train.Age.mean() - train.Age.std(), train.Age.mean() + train.Age.std()), inplace=True)\n",
    "# train[train.Age.isnull()]"
   ],
   "metadata": {
    "collapsed": false
   }
  },
  {
   "cell_type": "code",
   "execution_count": 2175,
   "outputs": [
    {
     "data": {
      "text/plain": "     PassengerId HomePlanet CryoSleep     Cabin    Destination   Age    VIP  \\\n7        0006_02      Earth      True     G/0/S    TRAPPIST-1e  28.0  False   \n10       0008_02     Europa      True     B/1/P    TRAPPIST-1e  34.0  False   \n16       0014_01       Mars     False     F/3/P    55 Cancri e  27.0  False   \n23       0020_03      Earth      True     E/0/S    55 Cancri e  29.0  False   \n25       0020_05      Earth      True     E/0/S  PSO J318.5-22   1.0  False   \n...          ...        ...       ...       ...            ...   ...    ...   \n8642     9221_01      Earth      True  G/1497/P    TRAPPIST-1e  21.0  False   \n8643     9222_01       Mars      True  F/1784/S    TRAPPIST-1e  50.0  False   \n8665     9247_01      Earth      True  G/1491/S    TRAPPIST-1e  33.0  False   \n8667     9250_01     Europa     False   E/597/P    TRAPPIST-1e  29.0  False   \n8675     9259_01      Earth       NaN  F/1893/P    TRAPPIST-1e  44.0  False   \n\n      RoomService  FoodCourt  ShoppingMall   Spa  VRDeck  Transported  Group  \\\n7             0.0        0.0           0.0   0.0     NaN         True      2   \n10            0.0        0.0           NaN   0.0     0.0         True      2   \n16         1286.0      122.0           NaN   0.0     0.0        False      1   \n23            0.0        0.0           NaN   0.0     0.0        False      3   \n25            NaN        0.0           0.0   0.0     0.0        False      5   \n...           ...        ...           ...   ...     ...          ...    ...   \n8642          0.0        0.0           0.0   0.0     NaN        False      1   \n8643          0.0        0.0           0.0   NaN     0.0         True      1   \n8665          0.0        0.0           0.0   0.0     NaN        False      1   \n8667          0.0     2972.0           NaN  28.0   188.0         True      1   \n8675       1030.0     1015.0           0.0  11.0     NaN         True      1   \n\n     Deck Side  Bill_sum       AgeBound BillBound  CabinNum  \n7       G    S       NaN   (23.7, 31.6]       NaN       0.0  \n10      B    P       NaN   (31.6, 39.5]       NaN       1.0  \n16      F    P       NaN   (23.7, 31.6]       NaN       3.0  \n23      E    S       NaN   (23.7, 31.6]       NaN       0.0  \n25      E    S       NaN  (-0.079, 7.9]       NaN       0.0  \n...   ...  ...       ...            ...       ...       ...  \n8642    G    P       NaN   (15.8, 23.7]       NaN    1497.0  \n8643    F    S       NaN   (47.4, 55.3]       NaN    1784.0  \n8665    G    S       NaN   (31.6, 39.5]       NaN    1491.0  \n8667    E    P       NaN   (23.7, 31.6]       NaN     597.0  \n8675    F    P       NaN   (39.5, 47.4]       NaN    1893.0  \n\n[908 rows x 20 columns]",
      "text/html": "<div>\n<style scoped>\n    .dataframe tbody tr th:only-of-type {\n        vertical-align: middle;\n    }\n\n    .dataframe tbody tr th {\n        vertical-align: top;\n    }\n\n    .dataframe thead th {\n        text-align: right;\n    }\n</style>\n<table border=\"1\" class=\"dataframe\">\n  <thead>\n    <tr style=\"text-align: right;\">\n      <th></th>\n      <th>PassengerId</th>\n      <th>HomePlanet</th>\n      <th>CryoSleep</th>\n      <th>Cabin</th>\n      <th>Destination</th>\n      <th>Age</th>\n      <th>VIP</th>\n      <th>RoomService</th>\n      <th>FoodCourt</th>\n      <th>ShoppingMall</th>\n      <th>Spa</th>\n      <th>VRDeck</th>\n      <th>Transported</th>\n      <th>Group</th>\n      <th>Deck</th>\n      <th>Side</th>\n      <th>Bill_sum</th>\n      <th>AgeBound</th>\n      <th>BillBound</th>\n      <th>CabinNum</th>\n    </tr>\n  </thead>\n  <tbody>\n    <tr>\n      <th>7</th>\n      <td>0006_02</td>\n      <td>Earth</td>\n      <td>True</td>\n      <td>G/0/S</td>\n      <td>TRAPPIST-1e</td>\n      <td>28.0</td>\n      <td>False</td>\n      <td>0.0</td>\n      <td>0.0</td>\n      <td>0.0</td>\n      <td>0.0</td>\n      <td>NaN</td>\n      <td>True</td>\n      <td>2</td>\n      <td>G</td>\n      <td>S</td>\n      <td>NaN</td>\n      <td>(23.7, 31.6]</td>\n      <td>NaN</td>\n      <td>0.0</td>\n    </tr>\n    <tr>\n      <th>10</th>\n      <td>0008_02</td>\n      <td>Europa</td>\n      <td>True</td>\n      <td>B/1/P</td>\n      <td>TRAPPIST-1e</td>\n      <td>34.0</td>\n      <td>False</td>\n      <td>0.0</td>\n      <td>0.0</td>\n      <td>NaN</td>\n      <td>0.0</td>\n      <td>0.0</td>\n      <td>True</td>\n      <td>2</td>\n      <td>B</td>\n      <td>P</td>\n      <td>NaN</td>\n      <td>(31.6, 39.5]</td>\n      <td>NaN</td>\n      <td>1.0</td>\n    </tr>\n    <tr>\n      <th>16</th>\n      <td>0014_01</td>\n      <td>Mars</td>\n      <td>False</td>\n      <td>F/3/P</td>\n      <td>55 Cancri e</td>\n      <td>27.0</td>\n      <td>False</td>\n      <td>1286.0</td>\n      <td>122.0</td>\n      <td>NaN</td>\n      <td>0.0</td>\n      <td>0.0</td>\n      <td>False</td>\n      <td>1</td>\n      <td>F</td>\n      <td>P</td>\n      <td>NaN</td>\n      <td>(23.7, 31.6]</td>\n      <td>NaN</td>\n      <td>3.0</td>\n    </tr>\n    <tr>\n      <th>23</th>\n      <td>0020_03</td>\n      <td>Earth</td>\n      <td>True</td>\n      <td>E/0/S</td>\n      <td>55 Cancri e</td>\n      <td>29.0</td>\n      <td>False</td>\n      <td>0.0</td>\n      <td>0.0</td>\n      <td>NaN</td>\n      <td>0.0</td>\n      <td>0.0</td>\n      <td>False</td>\n      <td>3</td>\n      <td>E</td>\n      <td>S</td>\n      <td>NaN</td>\n      <td>(23.7, 31.6]</td>\n      <td>NaN</td>\n      <td>0.0</td>\n    </tr>\n    <tr>\n      <th>25</th>\n      <td>0020_05</td>\n      <td>Earth</td>\n      <td>True</td>\n      <td>E/0/S</td>\n      <td>PSO J318.5-22</td>\n      <td>1.0</td>\n      <td>False</td>\n      <td>NaN</td>\n      <td>0.0</td>\n      <td>0.0</td>\n      <td>0.0</td>\n      <td>0.0</td>\n      <td>False</td>\n      <td>5</td>\n      <td>E</td>\n      <td>S</td>\n      <td>NaN</td>\n      <td>(-0.079, 7.9]</td>\n      <td>NaN</td>\n      <td>0.0</td>\n    </tr>\n    <tr>\n      <th>...</th>\n      <td>...</td>\n      <td>...</td>\n      <td>...</td>\n      <td>...</td>\n      <td>...</td>\n      <td>...</td>\n      <td>...</td>\n      <td>...</td>\n      <td>...</td>\n      <td>...</td>\n      <td>...</td>\n      <td>...</td>\n      <td>...</td>\n      <td>...</td>\n      <td>...</td>\n      <td>...</td>\n      <td>...</td>\n      <td>...</td>\n      <td>...</td>\n      <td>...</td>\n    </tr>\n    <tr>\n      <th>8642</th>\n      <td>9221_01</td>\n      <td>Earth</td>\n      <td>True</td>\n      <td>G/1497/P</td>\n      <td>TRAPPIST-1e</td>\n      <td>21.0</td>\n      <td>False</td>\n      <td>0.0</td>\n      <td>0.0</td>\n      <td>0.0</td>\n      <td>0.0</td>\n      <td>NaN</td>\n      <td>False</td>\n      <td>1</td>\n      <td>G</td>\n      <td>P</td>\n      <td>NaN</td>\n      <td>(15.8, 23.7]</td>\n      <td>NaN</td>\n      <td>1497.0</td>\n    </tr>\n    <tr>\n      <th>8643</th>\n      <td>9222_01</td>\n      <td>Mars</td>\n      <td>True</td>\n      <td>F/1784/S</td>\n      <td>TRAPPIST-1e</td>\n      <td>50.0</td>\n      <td>False</td>\n      <td>0.0</td>\n      <td>0.0</td>\n      <td>0.0</td>\n      <td>NaN</td>\n      <td>0.0</td>\n      <td>True</td>\n      <td>1</td>\n      <td>F</td>\n      <td>S</td>\n      <td>NaN</td>\n      <td>(47.4, 55.3]</td>\n      <td>NaN</td>\n      <td>1784.0</td>\n    </tr>\n    <tr>\n      <th>8665</th>\n      <td>9247_01</td>\n      <td>Earth</td>\n      <td>True</td>\n      <td>G/1491/S</td>\n      <td>TRAPPIST-1e</td>\n      <td>33.0</td>\n      <td>False</td>\n      <td>0.0</td>\n      <td>0.0</td>\n      <td>0.0</td>\n      <td>0.0</td>\n      <td>NaN</td>\n      <td>False</td>\n      <td>1</td>\n      <td>G</td>\n      <td>S</td>\n      <td>NaN</td>\n      <td>(31.6, 39.5]</td>\n      <td>NaN</td>\n      <td>1491.0</td>\n    </tr>\n    <tr>\n      <th>8667</th>\n      <td>9250_01</td>\n      <td>Europa</td>\n      <td>False</td>\n      <td>E/597/P</td>\n      <td>TRAPPIST-1e</td>\n      <td>29.0</td>\n      <td>False</td>\n      <td>0.0</td>\n      <td>2972.0</td>\n      <td>NaN</td>\n      <td>28.0</td>\n      <td>188.0</td>\n      <td>True</td>\n      <td>1</td>\n      <td>E</td>\n      <td>P</td>\n      <td>NaN</td>\n      <td>(23.7, 31.6]</td>\n      <td>NaN</td>\n      <td>597.0</td>\n    </tr>\n    <tr>\n      <th>8675</th>\n      <td>9259_01</td>\n      <td>Earth</td>\n      <td>NaN</td>\n      <td>F/1893/P</td>\n      <td>TRAPPIST-1e</td>\n      <td>44.0</td>\n      <td>False</td>\n      <td>1030.0</td>\n      <td>1015.0</td>\n      <td>0.0</td>\n      <td>11.0</td>\n      <td>NaN</td>\n      <td>True</td>\n      <td>1</td>\n      <td>F</td>\n      <td>P</td>\n      <td>NaN</td>\n      <td>(39.5, 47.4]</td>\n      <td>NaN</td>\n      <td>1893.0</td>\n    </tr>\n  </tbody>\n</table>\n<p>908 rows × 20 columns</p>\n</div>"
     },
     "execution_count": 2175,
     "metadata": {},
     "output_type": "execute_result"
    }
   ],
   "source": [
    "train[train.BillBound.isnull()]"
   ],
   "metadata": {
    "collapsed": false
   }
  },
  {
   "cell_type": "code",
   "execution_count": 2176,
   "outputs": [],
   "source": [
    "from sklearn.preprocessing import LabelEncoder\n",
    "\n",
    "le = LabelEncoder()\n",
    "\n",
    "# for ds in all_data:\n",
    "#     ds.RoomService.fillna(0, inplace=True)\n",
    "#     ds.FoodCourt.fillna(0, inplace=True)\n",
    "#     ds.ShoppingMall.fillna(0, inplace=True)\n",
    "#     ds.Spa.fillna(0, inplace=True)\n",
    "#     ds.VRDeck.fillna(0, inplace=True)\n",
    "test = test.select_dtypes(include=[np.number]).interpolate().dropna()\n",
    "train = train.select_dtypes(include=[np.number]).interpolate().dropna()\n"
   ],
   "metadata": {
    "collapsed": false
   }
  },
  {
   "cell_type": "code",
   "execution_count": 2181,
   "outputs": [
    {
     "data": {
      "text/plain": "       Age  RoomService  FoodCourt  ShoppingMall     Spa  VRDeck  Group  \\\n0     39.0          0.0        0.0           0.0     0.0     0.0      1   \n1     24.0        109.0        9.0          25.0   549.0    44.0      1   \n2     58.0         43.0     3576.0           0.0  6715.0    49.0      1   \n3     33.0          0.0     1283.0         371.0  3329.0   193.0      2   \n4     16.0        303.0       70.0         151.0   565.0     2.0      1   \n...    ...          ...        ...           ...     ...     ...    ...   \n8688  41.0          0.0     6819.0           0.0  1643.0    74.0      1   \n8689  18.0          0.0        0.0           0.0     0.0     0.0      1   \n8690  26.0          0.0        0.0        1872.0     1.0     0.0      1   \n8691  32.0          0.0     1049.0           0.0   353.0  3235.0      1   \n8692  44.0        126.0     4688.0           0.0     0.0    12.0      2   \n\n      Bill_sum  CabinNum  \n0          0.0       0.0  \n1        761.0       0.0  \n2      10383.0       0.0  \n3       5547.0       0.0  \n4       1242.0       1.0  \n...        ...       ...  \n8688    8536.0      98.0  \n8689       0.0    1499.0  \n8690    3745.0    1500.0  \n8691    4637.0     608.0  \n8692    4826.0     608.0  \n\n[8693 rows x 9 columns]",
      "text/html": "<div>\n<style scoped>\n    .dataframe tbody tr th:only-of-type {\n        vertical-align: middle;\n    }\n\n    .dataframe tbody tr th {\n        vertical-align: top;\n    }\n\n    .dataframe thead th {\n        text-align: right;\n    }\n</style>\n<table border=\"1\" class=\"dataframe\">\n  <thead>\n    <tr style=\"text-align: right;\">\n      <th></th>\n      <th>Age</th>\n      <th>RoomService</th>\n      <th>FoodCourt</th>\n      <th>ShoppingMall</th>\n      <th>Spa</th>\n      <th>VRDeck</th>\n      <th>Group</th>\n      <th>Bill_sum</th>\n      <th>CabinNum</th>\n    </tr>\n  </thead>\n  <tbody>\n    <tr>\n      <th>0</th>\n      <td>39.0</td>\n      <td>0.0</td>\n      <td>0.0</td>\n      <td>0.0</td>\n      <td>0.0</td>\n      <td>0.0</td>\n      <td>1</td>\n      <td>0.0</td>\n      <td>0.0</td>\n    </tr>\n    <tr>\n      <th>1</th>\n      <td>24.0</td>\n      <td>109.0</td>\n      <td>9.0</td>\n      <td>25.0</td>\n      <td>549.0</td>\n      <td>44.0</td>\n      <td>1</td>\n      <td>761.0</td>\n      <td>0.0</td>\n    </tr>\n    <tr>\n      <th>2</th>\n      <td>58.0</td>\n      <td>43.0</td>\n      <td>3576.0</td>\n      <td>0.0</td>\n      <td>6715.0</td>\n      <td>49.0</td>\n      <td>1</td>\n      <td>10383.0</td>\n      <td>0.0</td>\n    </tr>\n    <tr>\n      <th>3</th>\n      <td>33.0</td>\n      <td>0.0</td>\n      <td>1283.0</td>\n      <td>371.0</td>\n      <td>3329.0</td>\n      <td>193.0</td>\n      <td>2</td>\n      <td>5547.0</td>\n      <td>0.0</td>\n    </tr>\n    <tr>\n      <th>4</th>\n      <td>16.0</td>\n      <td>303.0</td>\n      <td>70.0</td>\n      <td>151.0</td>\n      <td>565.0</td>\n      <td>2.0</td>\n      <td>1</td>\n      <td>1242.0</td>\n      <td>1.0</td>\n    </tr>\n    <tr>\n      <th>...</th>\n      <td>...</td>\n      <td>...</td>\n      <td>...</td>\n      <td>...</td>\n      <td>...</td>\n      <td>...</td>\n      <td>...</td>\n      <td>...</td>\n      <td>...</td>\n    </tr>\n    <tr>\n      <th>8688</th>\n      <td>41.0</td>\n      <td>0.0</td>\n      <td>6819.0</td>\n      <td>0.0</td>\n      <td>1643.0</td>\n      <td>74.0</td>\n      <td>1</td>\n      <td>8536.0</td>\n      <td>98.0</td>\n    </tr>\n    <tr>\n      <th>8689</th>\n      <td>18.0</td>\n      <td>0.0</td>\n      <td>0.0</td>\n      <td>0.0</td>\n      <td>0.0</td>\n      <td>0.0</td>\n      <td>1</td>\n      <td>0.0</td>\n      <td>1499.0</td>\n    </tr>\n    <tr>\n      <th>8690</th>\n      <td>26.0</td>\n      <td>0.0</td>\n      <td>0.0</td>\n      <td>1872.0</td>\n      <td>1.0</td>\n      <td>0.0</td>\n      <td>1</td>\n      <td>3745.0</td>\n      <td>1500.0</td>\n    </tr>\n    <tr>\n      <th>8691</th>\n      <td>32.0</td>\n      <td>0.0</td>\n      <td>1049.0</td>\n      <td>0.0</td>\n      <td>353.0</td>\n      <td>3235.0</td>\n      <td>1</td>\n      <td>4637.0</td>\n      <td>608.0</td>\n    </tr>\n    <tr>\n      <th>8692</th>\n      <td>44.0</td>\n      <td>126.0</td>\n      <td>4688.0</td>\n      <td>0.0</td>\n      <td>0.0</td>\n      <td>12.0</td>\n      <td>2</td>\n      <td>4826.0</td>\n      <td>608.0</td>\n    </tr>\n  </tbody>\n</table>\n<p>8693 rows × 9 columns</p>\n</div>"
     },
     "execution_count": 2181,
     "metadata": {},
     "output_type": "execute_result"
    }
   ],
   "source": [
    "train"
   ],
   "metadata": {
    "collapsed": false
   }
  },
  {
   "cell_type": "code",
   "execution_count": 2177,
   "outputs": [],
   "source": [
    "for ds in all_data:\n",
    "    ds['Bill_sum'] = ds.RoomService + ds.FoodCourt + ds.ShoppingMall + ds.ShoppingMall + ds.Spa + ds.VRDeck\n",
    "for ds in all_data:\n",
    "    ds['BillBound'] = pd.cut(ds.Bill_sum, 5)\n"
   ],
   "metadata": {
    "collapsed": false
   }
  },
  {
   "cell_type": "code",
   "execution_count": 2178,
   "outputs": [],
   "source": [
    "# for ds in all_data:\n",
    "#     ds.loc[ds.Bill_sum > 5000, 'VIP'].fillna(True, inplace=True)\n",
    "#     ds.loc[ds.Bill_sum <= 5000, 'VIP'].fillna(False, inplace=True)\n",
    "# train[train.VIP.isnull()]"
   ],
   "metadata": {
    "collapsed": false
   }
  },
  {
   "cell_type": "code",
   "execution_count": 2179,
   "outputs": [],
   "source": [
    "# for ds in all_data:\n",
    "#     ds.HomePlanet.fillna('Earth', inplace=True)\n",
    "# train[train.HomePlanet.isnull()]"
   ],
   "metadata": {
    "collapsed": false
   }
  },
  {
   "cell_type": "code",
   "execution_count": 2182,
   "outputs": [],
   "source": [
    "# pd.crosstab(train.HomePlanet, train.Destination)"
   ],
   "metadata": {
    "collapsed": false
   }
  },
  {
   "cell_type": "code",
   "execution_count": null,
   "outputs": [],
   "source": [
    "# for ds in all_data:\n",
    "#     ds.Destination.fillna('TRAPPIST-1e', inplace=True)"
   ],
   "metadata": {
    "collapsed": false
   }
  },
  {
   "cell_type": "code",
   "execution_count": null,
   "outputs": [],
   "source": [
    "train.head()"
   ],
   "metadata": {
    "collapsed": false
   }
  },
  {
   "cell_type": "code",
   "execution_count": null,
   "outputs": [],
   "source": [
    "# for ds in all_data:\n",
    "#     ds.loc[(ds.VIP.isnull()) & (ds.Bill_sum > 5000), 'VIP'] = True\n",
    "#     ds.loc[(ds.VIP.isnull()) & (ds.Bill_sum <= 5000), 'VIP'] = False"
   ],
   "metadata": {
    "collapsed": false
   }
  },
  {
   "cell_type": "code",
   "execution_count": null,
   "outputs": [],
   "source": [
    "train.Group.values"
   ],
   "metadata": {
    "collapsed": false
   }
  },
  {
   "cell_type": "code",
   "execution_count": 2183,
   "outputs": [
    {
     "data": {
      "text/plain": "       Age  RoomService  FoodCourt  ShoppingMall     Spa  VRDeck  Group  \\\n0     39.0          0.0        0.0           0.0     0.0     0.0      1   \n1     24.0        109.0        9.0          25.0   549.0    44.0      1   \n2     58.0         43.0     3576.0           0.0  6715.0    49.0      1   \n3     33.0          0.0     1283.0         371.0  3329.0   193.0      2   \n4     16.0        303.0       70.0         151.0   565.0     2.0      1   \n...    ...          ...        ...           ...     ...     ...    ...   \n8688  41.0          0.0     6819.0           0.0  1643.0    74.0      1   \n8689  18.0          0.0        0.0           0.0     0.0     0.0      1   \n8690  26.0          0.0        0.0        1872.0     1.0     0.0      1   \n8691  32.0          0.0     1049.0           0.0   353.0  3235.0      1   \n8692  44.0        126.0     4688.0           0.0     0.0    12.0      2   \n\n      Bill_sum  CabinNum  \n0          0.0       0.0  \n1        761.0       0.0  \n2      10383.0       0.0  \n3       5547.0       0.0  \n4       1242.0       1.0  \n...        ...       ...  \n8688    8536.0      98.0  \n8689       0.0    1499.0  \n8690    3745.0    1500.0  \n8691    4637.0     608.0  \n8692    4826.0     608.0  \n\n[8693 rows x 9 columns]",
      "text/html": "<div>\n<style scoped>\n    .dataframe tbody tr th:only-of-type {\n        vertical-align: middle;\n    }\n\n    .dataframe tbody tr th {\n        vertical-align: top;\n    }\n\n    .dataframe thead th {\n        text-align: right;\n    }\n</style>\n<table border=\"1\" class=\"dataframe\">\n  <thead>\n    <tr style=\"text-align: right;\">\n      <th></th>\n      <th>Age</th>\n      <th>RoomService</th>\n      <th>FoodCourt</th>\n      <th>ShoppingMall</th>\n      <th>Spa</th>\n      <th>VRDeck</th>\n      <th>Group</th>\n      <th>Bill_sum</th>\n      <th>CabinNum</th>\n    </tr>\n  </thead>\n  <tbody>\n    <tr>\n      <th>0</th>\n      <td>39.0</td>\n      <td>0.0</td>\n      <td>0.0</td>\n      <td>0.0</td>\n      <td>0.0</td>\n      <td>0.0</td>\n      <td>1</td>\n      <td>0.0</td>\n      <td>0.0</td>\n    </tr>\n    <tr>\n      <th>1</th>\n      <td>24.0</td>\n      <td>109.0</td>\n      <td>9.0</td>\n      <td>25.0</td>\n      <td>549.0</td>\n      <td>44.0</td>\n      <td>1</td>\n      <td>761.0</td>\n      <td>0.0</td>\n    </tr>\n    <tr>\n      <th>2</th>\n      <td>58.0</td>\n      <td>43.0</td>\n      <td>3576.0</td>\n      <td>0.0</td>\n      <td>6715.0</td>\n      <td>49.0</td>\n      <td>1</td>\n      <td>10383.0</td>\n      <td>0.0</td>\n    </tr>\n    <tr>\n      <th>3</th>\n      <td>33.0</td>\n      <td>0.0</td>\n      <td>1283.0</td>\n      <td>371.0</td>\n      <td>3329.0</td>\n      <td>193.0</td>\n      <td>2</td>\n      <td>5547.0</td>\n      <td>0.0</td>\n    </tr>\n    <tr>\n      <th>4</th>\n      <td>16.0</td>\n      <td>303.0</td>\n      <td>70.0</td>\n      <td>151.0</td>\n      <td>565.0</td>\n      <td>2.0</td>\n      <td>1</td>\n      <td>1242.0</td>\n      <td>1.0</td>\n    </tr>\n    <tr>\n      <th>...</th>\n      <td>...</td>\n      <td>...</td>\n      <td>...</td>\n      <td>...</td>\n      <td>...</td>\n      <td>...</td>\n      <td>...</td>\n      <td>...</td>\n      <td>...</td>\n    </tr>\n    <tr>\n      <th>8688</th>\n      <td>41.0</td>\n      <td>0.0</td>\n      <td>6819.0</td>\n      <td>0.0</td>\n      <td>1643.0</td>\n      <td>74.0</td>\n      <td>1</td>\n      <td>8536.0</td>\n      <td>98.0</td>\n    </tr>\n    <tr>\n      <th>8689</th>\n      <td>18.0</td>\n      <td>0.0</td>\n      <td>0.0</td>\n      <td>0.0</td>\n      <td>0.0</td>\n      <td>0.0</td>\n      <td>1</td>\n      <td>0.0</td>\n      <td>1499.0</td>\n    </tr>\n    <tr>\n      <th>8690</th>\n      <td>26.0</td>\n      <td>0.0</td>\n      <td>0.0</td>\n      <td>1872.0</td>\n      <td>1.0</td>\n      <td>0.0</td>\n      <td>1</td>\n      <td>3745.0</td>\n      <td>1500.0</td>\n    </tr>\n    <tr>\n      <th>8691</th>\n      <td>32.0</td>\n      <td>0.0</td>\n      <td>1049.0</td>\n      <td>0.0</td>\n      <td>353.0</td>\n      <td>3235.0</td>\n      <td>1</td>\n      <td>4637.0</td>\n      <td>608.0</td>\n    </tr>\n    <tr>\n      <th>8692</th>\n      <td>44.0</td>\n      <td>126.0</td>\n      <td>4688.0</td>\n      <td>0.0</td>\n      <td>0.0</td>\n      <td>12.0</td>\n      <td>2</td>\n      <td>4826.0</td>\n      <td>608.0</td>\n    </tr>\n  </tbody>\n</table>\n<p>8693 rows × 9 columns</p>\n</div>"
     },
     "execution_count": 2183,
     "metadata": {},
     "output_type": "execute_result"
    }
   ],
   "source": [
    "train"
   ],
   "metadata": {
    "collapsed": false
   }
  },
  {
   "cell_type": "code",
   "execution_count": 2043,
   "outputs": [],
   "source": [
    "for ds in all_data:\n",
    "    ds.drop(['Group', 'Cabin', 'CabinNum', 'Bill_sum'], axis=1, inplace=True)"
   ],
   "metadata": {
    "collapsed": false
   }
  },
  {
   "cell_type": "code",
   "execution_count": 2044,
   "outputs": [],
   "source": [
    "for ds in all_data:\n",
    "    ds.HomePlanet = le.fit_transform(ds.HomePlanet)\n",
    "    ds.Destination = le.fit_transform(ds.Destination)"
   ],
   "metadata": {
    "collapsed": false
   }
  },
  {
   "cell_type": "code",
   "execution_count": 2047,
   "outputs": [
    {
     "data": {
      "text/plain": "  PassengerId  HomePlanet  CryoSleep  Destination   Age    VIP  RoomService  \\\n0     0001_01           1      False            2  39.0  False          0.0   \n1     0002_01           0      False            2  24.0  False        109.0   \n2     0003_01           1      False            2  58.0   True         43.0   \n3     0003_02           1      False            2  33.0  False          0.0   \n4     0004_01           0      False            2  16.0  False        303.0   \n\n   FoodCourt  ShoppingMall     Spa  VRDeck  Transported Deck Side  \\\n0        0.0           0.0     0.0     0.0        False    B    P   \n1        9.0          25.0   549.0    44.0         True    F    S   \n2     3576.0           0.0  6715.0    49.0        False    A    S   \n3     1283.0         371.0  3329.0   193.0        False    A    S   \n4       70.0         151.0   565.0     2.0         True    F    S   \n\n       AgeBound          BillBound  \n0  (31.6, 39.5]  (-47.709, 9541.8]  \n1  (23.7, 31.6]  (-47.709, 9541.8]  \n2  (55.3, 63.2]  (9541.8, 19083.6]  \n3  (31.6, 39.5]  (-47.709, 9541.8]  \n4  (15.8, 23.7]  (-47.709, 9541.8]  ",
      "text/html": "<div>\n<style scoped>\n    .dataframe tbody tr th:only-of-type {\n        vertical-align: middle;\n    }\n\n    .dataframe tbody tr th {\n        vertical-align: top;\n    }\n\n    .dataframe thead th {\n        text-align: right;\n    }\n</style>\n<table border=\"1\" class=\"dataframe\">\n  <thead>\n    <tr style=\"text-align: right;\">\n      <th></th>\n      <th>PassengerId</th>\n      <th>HomePlanet</th>\n      <th>CryoSleep</th>\n      <th>Destination</th>\n      <th>Age</th>\n      <th>VIP</th>\n      <th>RoomService</th>\n      <th>FoodCourt</th>\n      <th>ShoppingMall</th>\n      <th>Spa</th>\n      <th>VRDeck</th>\n      <th>Transported</th>\n      <th>Deck</th>\n      <th>Side</th>\n      <th>AgeBound</th>\n      <th>BillBound</th>\n    </tr>\n  </thead>\n  <tbody>\n    <tr>\n      <th>0</th>\n      <td>0001_01</td>\n      <td>1</td>\n      <td>False</td>\n      <td>2</td>\n      <td>39.0</td>\n      <td>False</td>\n      <td>0.0</td>\n      <td>0.0</td>\n      <td>0.0</td>\n      <td>0.0</td>\n      <td>0.0</td>\n      <td>False</td>\n      <td>B</td>\n      <td>P</td>\n      <td>(31.6, 39.5]</td>\n      <td>(-47.709, 9541.8]</td>\n    </tr>\n    <tr>\n      <th>1</th>\n      <td>0002_01</td>\n      <td>0</td>\n      <td>False</td>\n      <td>2</td>\n      <td>24.0</td>\n      <td>False</td>\n      <td>109.0</td>\n      <td>9.0</td>\n      <td>25.0</td>\n      <td>549.0</td>\n      <td>44.0</td>\n      <td>True</td>\n      <td>F</td>\n      <td>S</td>\n      <td>(23.7, 31.6]</td>\n      <td>(-47.709, 9541.8]</td>\n    </tr>\n    <tr>\n      <th>2</th>\n      <td>0003_01</td>\n      <td>1</td>\n      <td>False</td>\n      <td>2</td>\n      <td>58.0</td>\n      <td>True</td>\n      <td>43.0</td>\n      <td>3576.0</td>\n      <td>0.0</td>\n      <td>6715.0</td>\n      <td>49.0</td>\n      <td>False</td>\n      <td>A</td>\n      <td>S</td>\n      <td>(55.3, 63.2]</td>\n      <td>(9541.8, 19083.6]</td>\n    </tr>\n    <tr>\n      <th>3</th>\n      <td>0003_02</td>\n      <td>1</td>\n      <td>False</td>\n      <td>2</td>\n      <td>33.0</td>\n      <td>False</td>\n      <td>0.0</td>\n      <td>1283.0</td>\n      <td>371.0</td>\n      <td>3329.0</td>\n      <td>193.0</td>\n      <td>False</td>\n      <td>A</td>\n      <td>S</td>\n      <td>(31.6, 39.5]</td>\n      <td>(-47.709, 9541.8]</td>\n    </tr>\n    <tr>\n      <th>4</th>\n      <td>0004_01</td>\n      <td>0</td>\n      <td>False</td>\n      <td>2</td>\n      <td>16.0</td>\n      <td>False</td>\n      <td>303.0</td>\n      <td>70.0</td>\n      <td>151.0</td>\n      <td>565.0</td>\n      <td>2.0</td>\n      <td>True</td>\n      <td>F</td>\n      <td>S</td>\n      <td>(15.8, 23.7]</td>\n      <td>(-47.709, 9541.8]</td>\n    </tr>\n  </tbody>\n</table>\n</div>"
     },
     "execution_count": 2047,
     "metadata": {},
     "output_type": "execute_result"
    }
   ],
   "source": [
    "train.head()"
   ],
   "metadata": {
    "collapsed": false
   }
  },
  {
   "cell_type": "code",
   "execution_count": 1951,
   "outputs": [
    {
     "data": {
      "text/plain": "  PassengerId  HomePlanet  CryoSleep  Destination  Age    VIP  Transported  \\\n0     0001_01           1      False            2  4.0  False        False   \n1     0002_01           0      False            2  2.0  False         True   \n2     0003_01           1      False            2  7.0   True        False   \n3     0003_02           1      False            2  4.0  False        False   \n4     0004_01           0      False            2  1.0  False         True   \n\n  Deck Side      AgeBound          BillBound  \n0    B    P  (31.6, 39.5]  (-47.709, 9541.8]  \n1    F    S  (23.7, 31.6]  (-47.709, 9541.8]  \n2    A    S  (55.3, 63.2]  (9541.8, 19083.6]  \n3    A    S  (31.6, 39.5]  (-47.709, 9541.8]  \n4    F    S  (15.8, 23.7]  (-47.709, 9541.8]  ",
      "text/html": "<div>\n<style scoped>\n    .dataframe tbody tr th:only-of-type {\n        vertical-align: middle;\n    }\n\n    .dataframe tbody tr th {\n        vertical-align: top;\n    }\n\n    .dataframe thead th {\n        text-align: right;\n    }\n</style>\n<table border=\"1\" class=\"dataframe\">\n  <thead>\n    <tr style=\"text-align: right;\">\n      <th></th>\n      <th>PassengerId</th>\n      <th>HomePlanet</th>\n      <th>CryoSleep</th>\n      <th>Destination</th>\n      <th>Age</th>\n      <th>VIP</th>\n      <th>Transported</th>\n      <th>Deck</th>\n      <th>Side</th>\n      <th>AgeBound</th>\n      <th>BillBound</th>\n    </tr>\n  </thead>\n  <tbody>\n    <tr>\n      <th>0</th>\n      <td>0001_01</td>\n      <td>1</td>\n      <td>False</td>\n      <td>2</td>\n      <td>4.0</td>\n      <td>False</td>\n      <td>False</td>\n      <td>B</td>\n      <td>P</td>\n      <td>(31.6, 39.5]</td>\n      <td>(-47.709, 9541.8]</td>\n    </tr>\n    <tr>\n      <th>1</th>\n      <td>0002_01</td>\n      <td>0</td>\n      <td>False</td>\n      <td>2</td>\n      <td>2.0</td>\n      <td>False</td>\n      <td>True</td>\n      <td>F</td>\n      <td>S</td>\n      <td>(23.7, 31.6]</td>\n      <td>(-47.709, 9541.8]</td>\n    </tr>\n    <tr>\n      <th>2</th>\n      <td>0003_01</td>\n      <td>1</td>\n      <td>False</td>\n      <td>2</td>\n      <td>7.0</td>\n      <td>True</td>\n      <td>False</td>\n      <td>A</td>\n      <td>S</td>\n      <td>(55.3, 63.2]</td>\n      <td>(9541.8, 19083.6]</td>\n    </tr>\n    <tr>\n      <th>3</th>\n      <td>0003_02</td>\n      <td>1</td>\n      <td>False</td>\n      <td>2</td>\n      <td>4.0</td>\n      <td>False</td>\n      <td>False</td>\n      <td>A</td>\n      <td>S</td>\n      <td>(31.6, 39.5]</td>\n      <td>(-47.709, 9541.8]</td>\n    </tr>\n    <tr>\n      <th>4</th>\n      <td>0004_01</td>\n      <td>0</td>\n      <td>False</td>\n      <td>2</td>\n      <td>1.0</td>\n      <td>False</td>\n      <td>True</td>\n      <td>F</td>\n      <td>S</td>\n      <td>(15.8, 23.7]</td>\n      <td>(-47.709, 9541.8]</td>\n    </tr>\n  </tbody>\n</table>\n</div>"
     },
     "execution_count": 1951,
     "metadata": {},
     "output_type": "execute_result"
    }
   ],
   "source": [
    "# AGEBOUND\n",
    "for dataset in all_data:\n",
    "    dataset.loc[ dataset['Age'] <= 8, 'Age'] = 0\n",
    "    dataset.loc[(dataset['Age'] > 8) & (dataset['Age'] <= 16), 'Age'] = 1\n",
    "    dataset.loc[(dataset['Age'] > 16) & (dataset['Age'] <= 24), 'Age'] = 2\n",
    "    dataset.loc[(dataset['Age'] > 24) & (dataset['Age'] <= 32), 'Age'] = 3\n",
    "    dataset.loc[(dataset.Age > 32) & (dataset.Age <= 40), 'Age'] = 4\n",
    "    dataset.loc[(dataset.Age > 40) & (dataset.Age <= 48), 'Age'] = 5\n",
    "    dataset.loc[(dataset.Age > 48) & (dataset.Age <= 56), 'Age'] = 6\n",
    "    dataset.loc[(dataset.Age > 56) & (dataset.Age <= 64), 'Age'] = 7\n",
    "    dataset.loc[ dataset['Age'] > 64, 'Age'] = 8\n",
    "train.head()"
   ],
   "metadata": {
    "collapsed": false
   }
  },
  {
   "cell_type": "code",
   "execution_count": 1952,
   "outputs": [
    {
     "data": {
      "text/plain": "  PassengerId  HomePlanet  CryoSleep  Destination  Age  VIP  Transported Deck  \\\n0     0001_01           1          0            2  4.0    0        False    B   \n1     0002_01           0          0            2  2.0    0         True    F   \n2     0003_01           1          0            2  7.0    1        False    A   \n3     0003_02           1          0            2  4.0    0        False    A   \n4     0004_01           0          0            2  1.0    0         True    F   \n\n  Side      AgeBound          BillBound  \n0    P  (31.6, 39.5]  (-47.709, 9541.8]  \n1    S  (23.7, 31.6]  (-47.709, 9541.8]  \n2    S  (55.3, 63.2]  (9541.8, 19083.6]  \n3    S  (31.6, 39.5]  (-47.709, 9541.8]  \n4    S  (15.8, 23.7]  (-47.709, 9541.8]  ",
      "text/html": "<div>\n<style scoped>\n    .dataframe tbody tr th:only-of-type {\n        vertical-align: middle;\n    }\n\n    .dataframe tbody tr th {\n        vertical-align: top;\n    }\n\n    .dataframe thead th {\n        text-align: right;\n    }\n</style>\n<table border=\"1\" class=\"dataframe\">\n  <thead>\n    <tr style=\"text-align: right;\">\n      <th></th>\n      <th>PassengerId</th>\n      <th>HomePlanet</th>\n      <th>CryoSleep</th>\n      <th>Destination</th>\n      <th>Age</th>\n      <th>VIP</th>\n      <th>Transported</th>\n      <th>Deck</th>\n      <th>Side</th>\n      <th>AgeBound</th>\n      <th>BillBound</th>\n    </tr>\n  </thead>\n  <tbody>\n    <tr>\n      <th>0</th>\n      <td>0001_01</td>\n      <td>1</td>\n      <td>0</td>\n      <td>2</td>\n      <td>4.0</td>\n      <td>0</td>\n      <td>False</td>\n      <td>B</td>\n      <td>P</td>\n      <td>(31.6, 39.5]</td>\n      <td>(-47.709, 9541.8]</td>\n    </tr>\n    <tr>\n      <th>1</th>\n      <td>0002_01</td>\n      <td>0</td>\n      <td>0</td>\n      <td>2</td>\n      <td>2.0</td>\n      <td>0</td>\n      <td>True</td>\n      <td>F</td>\n      <td>S</td>\n      <td>(23.7, 31.6]</td>\n      <td>(-47.709, 9541.8]</td>\n    </tr>\n    <tr>\n      <th>2</th>\n      <td>0003_01</td>\n      <td>1</td>\n      <td>0</td>\n      <td>2</td>\n      <td>7.0</td>\n      <td>1</td>\n      <td>False</td>\n      <td>A</td>\n      <td>S</td>\n      <td>(55.3, 63.2]</td>\n      <td>(9541.8, 19083.6]</td>\n    </tr>\n    <tr>\n      <th>3</th>\n      <td>0003_02</td>\n      <td>1</td>\n      <td>0</td>\n      <td>2</td>\n      <td>4.0</td>\n      <td>0</td>\n      <td>False</td>\n      <td>A</td>\n      <td>S</td>\n      <td>(31.6, 39.5]</td>\n      <td>(-47.709, 9541.8]</td>\n    </tr>\n    <tr>\n      <th>4</th>\n      <td>0004_01</td>\n      <td>0</td>\n      <td>0</td>\n      <td>2</td>\n      <td>1.0</td>\n      <td>0</td>\n      <td>True</td>\n      <td>F</td>\n      <td>S</td>\n      <td>(15.8, 23.7]</td>\n      <td>(-47.709, 9541.8]</td>\n    </tr>\n  </tbody>\n</table>\n</div>"
     },
     "execution_count": 1952,
     "metadata": {},
     "output_type": "execute_result"
    }
   ],
   "source": [
    "for ds in all_data:\n",
    "    ds.CryoSleep = le.fit_transform(ds.CryoSleep)\n",
    "    ds.VIP = le.fit_transform(ds.VIP)\n",
    "train.head()"
   ],
   "metadata": {
    "collapsed": false
   }
  },
  {
   "cell_type": "code",
   "execution_count": 1953,
   "outputs": [
    {
     "data": {
      "text/plain": "     PassengerId  HomePlanet  CryoSleep  Destination  Age  VIP  Transported  \\\n0        0001_01           1          0            2  4.0    0        False   \n1        0002_01           0          0            2  2.0    0         True   \n2        0003_01           1          0            2  7.0    1        False   \n3        0003_02           1          0            2  4.0    0        False   \n4        0004_01           0          0            2  1.0    0         True   \n...          ...         ...        ...          ...  ...  ...          ...   \n8688     9276_01           1          0            0  5.0    1        False   \n8689     9278_01           0          1            1  2.0    0        False   \n8690     9279_01           0          0            2  3.0    0         True   \n8691     9280_01           1          0            0  3.0    0        False   \n8692     9280_02           1          0            2  5.0    0         True   \n\n     Deck Side      AgeBound          BillBound  \n0       B    P  (31.6, 39.5]  (-47.709, 9541.8]  \n1       F    S  (23.7, 31.6]  (-47.709, 9541.8]  \n2       A    S  (55.3, 63.2]  (9541.8, 19083.6]  \n3       A    S  (31.6, 39.5]  (-47.709, 9541.8]  \n4       F    S  (15.8, 23.7]  (-47.709, 9541.8]  \n...   ...  ...           ...                ...  \n8688    A    P  (39.5, 47.4]  (-47.709, 9541.8]  \n8689    G    S  (15.8, 23.7]  (-47.709, 9541.8]  \n8690    G    S  (23.7, 31.6]  (-47.709, 9541.8]  \n8691    E    S  (31.6, 39.5]  (-47.709, 9541.8]  \n8692    E    S  (39.5, 47.4]  (-47.709, 9541.8]  \n\n[8693 rows x 11 columns]",
      "text/html": "<div>\n<style scoped>\n    .dataframe tbody tr th:only-of-type {\n        vertical-align: middle;\n    }\n\n    .dataframe tbody tr th {\n        vertical-align: top;\n    }\n\n    .dataframe thead th {\n        text-align: right;\n    }\n</style>\n<table border=\"1\" class=\"dataframe\">\n  <thead>\n    <tr style=\"text-align: right;\">\n      <th></th>\n      <th>PassengerId</th>\n      <th>HomePlanet</th>\n      <th>CryoSleep</th>\n      <th>Destination</th>\n      <th>Age</th>\n      <th>VIP</th>\n      <th>Transported</th>\n      <th>Deck</th>\n      <th>Side</th>\n      <th>AgeBound</th>\n      <th>BillBound</th>\n    </tr>\n  </thead>\n  <tbody>\n    <tr>\n      <th>0</th>\n      <td>0001_01</td>\n      <td>1</td>\n      <td>0</td>\n      <td>2</td>\n      <td>4.0</td>\n      <td>0</td>\n      <td>False</td>\n      <td>B</td>\n      <td>P</td>\n      <td>(31.6, 39.5]</td>\n      <td>(-47.709, 9541.8]</td>\n    </tr>\n    <tr>\n      <th>1</th>\n      <td>0002_01</td>\n      <td>0</td>\n      <td>0</td>\n      <td>2</td>\n      <td>2.0</td>\n      <td>0</td>\n      <td>True</td>\n      <td>F</td>\n      <td>S</td>\n      <td>(23.7, 31.6]</td>\n      <td>(-47.709, 9541.8]</td>\n    </tr>\n    <tr>\n      <th>2</th>\n      <td>0003_01</td>\n      <td>1</td>\n      <td>0</td>\n      <td>2</td>\n      <td>7.0</td>\n      <td>1</td>\n      <td>False</td>\n      <td>A</td>\n      <td>S</td>\n      <td>(55.3, 63.2]</td>\n      <td>(9541.8, 19083.6]</td>\n    </tr>\n    <tr>\n      <th>3</th>\n      <td>0003_02</td>\n      <td>1</td>\n      <td>0</td>\n      <td>2</td>\n      <td>4.0</td>\n      <td>0</td>\n      <td>False</td>\n      <td>A</td>\n      <td>S</td>\n      <td>(31.6, 39.5]</td>\n      <td>(-47.709, 9541.8]</td>\n    </tr>\n    <tr>\n      <th>4</th>\n      <td>0004_01</td>\n      <td>0</td>\n      <td>0</td>\n      <td>2</td>\n      <td>1.0</td>\n      <td>0</td>\n      <td>True</td>\n      <td>F</td>\n      <td>S</td>\n      <td>(15.8, 23.7]</td>\n      <td>(-47.709, 9541.8]</td>\n    </tr>\n    <tr>\n      <th>...</th>\n      <td>...</td>\n      <td>...</td>\n      <td>...</td>\n      <td>...</td>\n      <td>...</td>\n      <td>...</td>\n      <td>...</td>\n      <td>...</td>\n      <td>...</td>\n      <td>...</td>\n      <td>...</td>\n    </tr>\n    <tr>\n      <th>8688</th>\n      <td>9276_01</td>\n      <td>1</td>\n      <td>0</td>\n      <td>0</td>\n      <td>5.0</td>\n      <td>1</td>\n      <td>False</td>\n      <td>A</td>\n      <td>P</td>\n      <td>(39.5, 47.4]</td>\n      <td>(-47.709, 9541.8]</td>\n    </tr>\n    <tr>\n      <th>8689</th>\n      <td>9278_01</td>\n      <td>0</td>\n      <td>1</td>\n      <td>1</td>\n      <td>2.0</td>\n      <td>0</td>\n      <td>False</td>\n      <td>G</td>\n      <td>S</td>\n      <td>(15.8, 23.7]</td>\n      <td>(-47.709, 9541.8]</td>\n    </tr>\n    <tr>\n      <th>8690</th>\n      <td>9279_01</td>\n      <td>0</td>\n      <td>0</td>\n      <td>2</td>\n      <td>3.0</td>\n      <td>0</td>\n      <td>True</td>\n      <td>G</td>\n      <td>S</td>\n      <td>(23.7, 31.6]</td>\n      <td>(-47.709, 9541.8]</td>\n    </tr>\n    <tr>\n      <th>8691</th>\n      <td>9280_01</td>\n      <td>1</td>\n      <td>0</td>\n      <td>0</td>\n      <td>3.0</td>\n      <td>0</td>\n      <td>False</td>\n      <td>E</td>\n      <td>S</td>\n      <td>(31.6, 39.5]</td>\n      <td>(-47.709, 9541.8]</td>\n    </tr>\n    <tr>\n      <th>8692</th>\n      <td>9280_02</td>\n      <td>1</td>\n      <td>0</td>\n      <td>2</td>\n      <td>5.0</td>\n      <td>0</td>\n      <td>True</td>\n      <td>E</td>\n      <td>S</td>\n      <td>(39.5, 47.4]</td>\n      <td>(-47.709, 9541.8]</td>\n    </tr>\n  </tbody>\n</table>\n<p>8693 rows × 11 columns</p>\n</div>"
     },
     "execution_count": 1953,
     "metadata": {},
     "output_type": "execute_result"
    }
   ],
   "source": [
    "train"
   ],
   "metadata": {
    "collapsed": false
   }
  },
  {
   "cell_type": "code",
   "execution_count": 1954,
   "outputs": [],
   "source": [
    "train.Transported = le.fit_transform(train.Transported)"
   ],
   "metadata": {
    "collapsed": false
   }
  },
  {
   "cell_type": "code",
   "execution_count": 1955,
   "outputs": [
    {
     "data": {
      "text/plain": "     PassengerId  HomePlanet  CryoSleep  Destination  Age  VIP  Transported  \\\n0        0001_01           1          0            2  4.0    0            0   \n1        0002_01           0          0            2  2.0    0            1   \n2        0003_01           1          0            2  7.0    1            0   \n3        0003_02           1          0            2  4.0    0            0   \n4        0004_01           0          0            2  1.0    0            1   \n...          ...         ...        ...          ...  ...  ...          ...   \n8688     9276_01           1          0            0  5.0    1            0   \n8689     9278_01           0          1            1  2.0    0            0   \n8690     9279_01           0          0            2  3.0    0            1   \n8691     9280_01           1          0            0  3.0    0            0   \n8692     9280_02           1          0            2  5.0    0            1   \n\n     Deck Side      AgeBound          BillBound  \n0       B    P  (31.6, 39.5]  (-47.709, 9541.8]  \n1       F    S  (23.7, 31.6]  (-47.709, 9541.8]  \n2       A    S  (55.3, 63.2]  (9541.8, 19083.6]  \n3       A    S  (31.6, 39.5]  (-47.709, 9541.8]  \n4       F    S  (15.8, 23.7]  (-47.709, 9541.8]  \n...   ...  ...           ...                ...  \n8688    A    P  (39.5, 47.4]  (-47.709, 9541.8]  \n8689    G    S  (15.8, 23.7]  (-47.709, 9541.8]  \n8690    G    S  (23.7, 31.6]  (-47.709, 9541.8]  \n8691    E    S  (31.6, 39.5]  (-47.709, 9541.8]  \n8692    E    S  (39.5, 47.4]  (-47.709, 9541.8]  \n\n[8693 rows x 11 columns]",
      "text/html": "<div>\n<style scoped>\n    .dataframe tbody tr th:only-of-type {\n        vertical-align: middle;\n    }\n\n    .dataframe tbody tr th {\n        vertical-align: top;\n    }\n\n    .dataframe thead th {\n        text-align: right;\n    }\n</style>\n<table border=\"1\" class=\"dataframe\">\n  <thead>\n    <tr style=\"text-align: right;\">\n      <th></th>\n      <th>PassengerId</th>\n      <th>HomePlanet</th>\n      <th>CryoSleep</th>\n      <th>Destination</th>\n      <th>Age</th>\n      <th>VIP</th>\n      <th>Transported</th>\n      <th>Deck</th>\n      <th>Side</th>\n      <th>AgeBound</th>\n      <th>BillBound</th>\n    </tr>\n  </thead>\n  <tbody>\n    <tr>\n      <th>0</th>\n      <td>0001_01</td>\n      <td>1</td>\n      <td>0</td>\n      <td>2</td>\n      <td>4.0</td>\n      <td>0</td>\n      <td>0</td>\n      <td>B</td>\n      <td>P</td>\n      <td>(31.6, 39.5]</td>\n      <td>(-47.709, 9541.8]</td>\n    </tr>\n    <tr>\n      <th>1</th>\n      <td>0002_01</td>\n      <td>0</td>\n      <td>0</td>\n      <td>2</td>\n      <td>2.0</td>\n      <td>0</td>\n      <td>1</td>\n      <td>F</td>\n      <td>S</td>\n      <td>(23.7, 31.6]</td>\n      <td>(-47.709, 9541.8]</td>\n    </tr>\n    <tr>\n      <th>2</th>\n      <td>0003_01</td>\n      <td>1</td>\n      <td>0</td>\n      <td>2</td>\n      <td>7.0</td>\n      <td>1</td>\n      <td>0</td>\n      <td>A</td>\n      <td>S</td>\n      <td>(55.3, 63.2]</td>\n      <td>(9541.8, 19083.6]</td>\n    </tr>\n    <tr>\n      <th>3</th>\n      <td>0003_02</td>\n      <td>1</td>\n      <td>0</td>\n      <td>2</td>\n      <td>4.0</td>\n      <td>0</td>\n      <td>0</td>\n      <td>A</td>\n      <td>S</td>\n      <td>(31.6, 39.5]</td>\n      <td>(-47.709, 9541.8]</td>\n    </tr>\n    <tr>\n      <th>4</th>\n      <td>0004_01</td>\n      <td>0</td>\n      <td>0</td>\n      <td>2</td>\n      <td>1.0</td>\n      <td>0</td>\n      <td>1</td>\n      <td>F</td>\n      <td>S</td>\n      <td>(15.8, 23.7]</td>\n      <td>(-47.709, 9541.8]</td>\n    </tr>\n    <tr>\n      <th>...</th>\n      <td>...</td>\n      <td>...</td>\n      <td>...</td>\n      <td>...</td>\n      <td>...</td>\n      <td>...</td>\n      <td>...</td>\n      <td>...</td>\n      <td>...</td>\n      <td>...</td>\n      <td>...</td>\n    </tr>\n    <tr>\n      <th>8688</th>\n      <td>9276_01</td>\n      <td>1</td>\n      <td>0</td>\n      <td>0</td>\n      <td>5.0</td>\n      <td>1</td>\n      <td>0</td>\n      <td>A</td>\n      <td>P</td>\n      <td>(39.5, 47.4]</td>\n      <td>(-47.709, 9541.8]</td>\n    </tr>\n    <tr>\n      <th>8689</th>\n      <td>9278_01</td>\n      <td>0</td>\n      <td>1</td>\n      <td>1</td>\n      <td>2.0</td>\n      <td>0</td>\n      <td>0</td>\n      <td>G</td>\n      <td>S</td>\n      <td>(15.8, 23.7]</td>\n      <td>(-47.709, 9541.8]</td>\n    </tr>\n    <tr>\n      <th>8690</th>\n      <td>9279_01</td>\n      <td>0</td>\n      <td>0</td>\n      <td>2</td>\n      <td>3.0</td>\n      <td>0</td>\n      <td>1</td>\n      <td>G</td>\n      <td>S</td>\n      <td>(23.7, 31.6]</td>\n      <td>(-47.709, 9541.8]</td>\n    </tr>\n    <tr>\n      <th>8691</th>\n      <td>9280_01</td>\n      <td>1</td>\n      <td>0</td>\n      <td>0</td>\n      <td>3.0</td>\n      <td>0</td>\n      <td>0</td>\n      <td>E</td>\n      <td>S</td>\n      <td>(31.6, 39.5]</td>\n      <td>(-47.709, 9541.8]</td>\n    </tr>\n    <tr>\n      <th>8692</th>\n      <td>9280_02</td>\n      <td>1</td>\n      <td>0</td>\n      <td>2</td>\n      <td>5.0</td>\n      <td>0</td>\n      <td>1</td>\n      <td>E</td>\n      <td>S</td>\n      <td>(39.5, 47.4]</td>\n      <td>(-47.709, 9541.8]</td>\n    </tr>\n  </tbody>\n</table>\n<p>8693 rows × 11 columns</p>\n</div>"
     },
     "execution_count": 1955,
     "metadata": {},
     "output_type": "execute_result"
    }
   ],
   "source": [
    "train"
   ],
   "metadata": {
    "collapsed": false
   }
  },
  {
   "cell_type": "code",
   "execution_count": 1956,
   "outputs": [],
   "source": [
    "for ds in all_data:\n",
    "    ds.Deck = le.fit_transform(ds.Deck)\n",
    "    ds.Side = le.fit_transform(ds.Side)"
   ],
   "metadata": {
    "collapsed": false
   }
  },
  {
   "cell_type": "code",
   "execution_count": 1957,
   "outputs": [],
   "source": [
    "# for dataset in all_data:\n",
    "#     dataset.loc[ dataset['Bill_sum'] <= 5000, 'Bill_sum'] = 0\n",
    "#     dataset.loc[(dataset['Bill_sum'] > 5000) & (dataset['Bill_sum'] <= 10000), 'Bill_sum'] = 1\n",
    "#     dataset.loc[(dataset['Bill_sum'] > 10000) & (dataset['Bill_sum'] <= 15000), 'Bill_sum'] = 2\n",
    "#     dataset.loc[(dataset['Bill_sum'] > 15000) & (dataset['Bill_sum'] <= 20000), 'Bill_sum'] = 3\n",
    "#     dataset.loc[(dataset.Bill_sum > 20000), 'Bill_sum'] = 4\n",
    "# train.head()"
   ],
   "metadata": {
    "collapsed": false
   }
  },
  {
   "cell_type": "code",
   "execution_count": 1958,
   "outputs": [],
   "source": [
    "for ds in all_data:\n",
    "    ds.drop(['AgeBound', 'BillBound'], axis=1, inplace=True)"
   ],
   "metadata": {
    "collapsed": false
   }
  },
  {
   "cell_type": "code",
   "execution_count": 1959,
   "outputs": [
    {
     "data": {
      "text/plain": "  PassengerId  HomePlanet  CryoSleep  Destination  Age  VIP  Transported  \\\n0     0001_01           1          0            2  4.0    0            0   \n1     0002_01           0          0            2  2.0    0            1   \n2     0003_01           1          0            2  7.0    1            0   \n3     0003_02           1          0            2  4.0    0            0   \n4     0004_01           0          0            2  1.0    0            1   \n\n   Deck  Side  \n0     1     0  \n1     5     1  \n2     0     1  \n3     0     1  \n4     5     1  ",
      "text/html": "<div>\n<style scoped>\n    .dataframe tbody tr th:only-of-type {\n        vertical-align: middle;\n    }\n\n    .dataframe tbody tr th {\n        vertical-align: top;\n    }\n\n    .dataframe thead th {\n        text-align: right;\n    }\n</style>\n<table border=\"1\" class=\"dataframe\">\n  <thead>\n    <tr style=\"text-align: right;\">\n      <th></th>\n      <th>PassengerId</th>\n      <th>HomePlanet</th>\n      <th>CryoSleep</th>\n      <th>Destination</th>\n      <th>Age</th>\n      <th>VIP</th>\n      <th>Transported</th>\n      <th>Deck</th>\n      <th>Side</th>\n    </tr>\n  </thead>\n  <tbody>\n    <tr>\n      <th>0</th>\n      <td>0001_01</td>\n      <td>1</td>\n      <td>0</td>\n      <td>2</td>\n      <td>4.0</td>\n      <td>0</td>\n      <td>0</td>\n      <td>1</td>\n      <td>0</td>\n    </tr>\n    <tr>\n      <th>1</th>\n      <td>0002_01</td>\n      <td>0</td>\n      <td>0</td>\n      <td>2</td>\n      <td>2.0</td>\n      <td>0</td>\n      <td>1</td>\n      <td>5</td>\n      <td>1</td>\n    </tr>\n    <tr>\n      <th>2</th>\n      <td>0003_01</td>\n      <td>1</td>\n      <td>0</td>\n      <td>2</td>\n      <td>7.0</td>\n      <td>1</td>\n      <td>0</td>\n      <td>0</td>\n      <td>1</td>\n    </tr>\n    <tr>\n      <th>3</th>\n      <td>0003_02</td>\n      <td>1</td>\n      <td>0</td>\n      <td>2</td>\n      <td>4.0</td>\n      <td>0</td>\n      <td>0</td>\n      <td>0</td>\n      <td>1</td>\n    </tr>\n    <tr>\n      <th>4</th>\n      <td>0004_01</td>\n      <td>0</td>\n      <td>0</td>\n      <td>2</td>\n      <td>1.0</td>\n      <td>0</td>\n      <td>1</td>\n      <td>5</td>\n      <td>1</td>\n    </tr>\n  </tbody>\n</table>\n</div>"
     },
     "execution_count": 1959,
     "metadata": {},
     "output_type": "execute_result"
    }
   ],
   "source": [
    "train.head()"
   ],
   "metadata": {
    "collapsed": false
   }
  },
  {
   "cell_type": "code",
   "execution_count": 1960,
   "outputs": [],
   "source": [
    "x_train = train.drop(['PassengerId', 'Transported'], axis=1)\n",
    "y_train = train.Transported\n"
   ],
   "metadata": {
    "collapsed": false
   }
  },
  {
   "cell_type": "code",
   "execution_count": 1961,
   "outputs": [],
   "source": [
    "from sklearn.preprocessing import StandardScaler\n",
    "sc = StandardScaler()\n",
    "x_train = sc.fit_transform(x_train)"
   ],
   "metadata": {
    "collapsed": false
   }
  },
  {
   "cell_type": "code",
   "execution_count": 1962,
   "outputs": [],
   "source": [
    "from sklearn.linear_model import LogisticRegression\n",
    "from sklearn.svm import SVC, LinearSVC\n",
    "from sklearn.neighbors import KNeighborsClassifier\n",
    "from sklearn.tree import DecisionTreeClassifier\n",
    "from sklearn.ensemble import RandomForestClassifier\n",
    "from sklearn.naive_bayes import GaussianNB\n",
    "from sklearn.linear_model import Perceptron\n",
    "from sklearn.linear_model import SGDClassifier"
   ],
   "metadata": {
    "collapsed": false
   }
  },
  {
   "cell_type": "code",
   "execution_count": 1963,
   "outputs": [
    {
     "data": {
      "text/plain": "71.58633"
     },
     "execution_count": 1963,
     "metadata": {},
     "output_type": "execute_result"
    }
   ],
   "source": [
    "logistic_regr = LogisticRegression()\n",
    "logistic_regr.fit(x_train, y_train)\n",
    "logistic_regr_score = round(logistic_regr.score(x_train, y_train) * 100, 5)\n",
    "logistic_regr_score"
   ],
   "metadata": {
    "collapsed": false
   }
  },
  {
   "cell_type": "code",
   "execution_count": 1964,
   "outputs": [
    {
     "data": {
      "text/plain": "73.23"
     },
     "execution_count": 1964,
     "metadata": {},
     "output_type": "execute_result"
    }
   ],
   "source": [
    "svc = SVC()\n",
    "svc.fit(x_train, y_train)\n",
    "svc_score = round(svc.score(x_train, y_train) * 100, 2)\n",
    "svc_score"
   ],
   "metadata": {
    "collapsed": false
   }
  },
  {
   "cell_type": "code",
   "execution_count": 1965,
   "outputs": [
    {
     "data": {
      "text/plain": "71.91994"
     },
     "execution_count": 1965,
     "metadata": {},
     "output_type": "execute_result"
    }
   ],
   "source": [
    "linear_svc = LinearSVC(max_iter=5000)\n",
    "linear_svc.fit(x_train, y_train)\n",
    "linear_svc_score = round(linear_svc.score(x_train, y_train) * 100, 5)\n",
    "linear_svc_score"
   ],
   "metadata": {
    "collapsed": false
   }
  },
  {
   "cell_type": "code",
   "execution_count": 1966,
   "outputs": [
    {
     "data": {
      "text/plain": "70.01035"
     },
     "execution_count": 1966,
     "metadata": {},
     "output_type": "execute_result"
    }
   ],
   "source": [
    "knn = KNeighborsClassifier()\n",
    "knn.fit(x_train, y_train)\n",
    "knn_score = round(knn.score(x_train, y_train) * 100, 5)\n",
    "knn_score"
   ],
   "metadata": {
    "collapsed": false
   }
  },
  {
   "cell_type": "code",
   "execution_count": 1967,
   "outputs": [
    {
     "data": {
      "text/plain": "76.37179"
     },
     "execution_count": 1967,
     "metadata": {},
     "output_type": "execute_result"
    }
   ],
   "source": [
    "decision_tree = DecisionTreeClassifier()\n",
    "decision_tree.fit(x_train, y_train)\n",
    "decision_tree_score = round(decision_tree.score(x_train, y_train) * 100, 5)\n",
    "decision_tree_score"
   ],
   "metadata": {
    "collapsed": false
   }
  },
  {
   "cell_type": "code",
   "execution_count": 1968,
   "outputs": [
    {
     "data": {
      "text/plain": "76.37179"
     },
     "execution_count": 1968,
     "metadata": {},
     "output_type": "execute_result"
    }
   ],
   "source": [
    "rf = RandomForestClassifier(random_state=0,\n",
    "                            criterion='entropy')\n",
    "rf.fit(x_train, y_train)\n",
    "rf_score = round(rf.score(x_train, y_train) * 100, 5)\n",
    "rf_score"
   ],
   "metadata": {
    "collapsed": false
   }
  },
  {
   "cell_type": "code",
   "execution_count": 1969,
   "outputs": [
    {
     "data": {
      "text/plain": "70.04486"
     },
     "execution_count": 1969,
     "metadata": {},
     "output_type": "execute_result"
    }
   ],
   "source": [
    "gnb = GaussianNB()\n",
    "gnb.fit(x_train, y_train)\n",
    "gnb_score = round(gnb.score(x_train, y_train) * 100, 5)\n",
    "gnb_score"
   ],
   "metadata": {
    "collapsed": false
   }
  },
  {
   "cell_type": "code",
   "execution_count": 1970,
   "outputs": [
    {
     "data": {
      "text/plain": "59.26608"
     },
     "execution_count": 1970,
     "metadata": {},
     "output_type": "execute_result"
    }
   ],
   "source": [
    "perc = Perceptron()\n",
    "perc.fit(x_train, y_train)\n",
    "perc_score = round(perc.score(x_train, y_train) * 100, 5)\n",
    "perc_score"
   ],
   "metadata": {
    "collapsed": false
   }
  },
  {
   "cell_type": "code",
   "execution_count": 1971,
   "outputs": [
    {
     "data": {
      "text/plain": "71.77"
     },
     "execution_count": 1971,
     "metadata": {},
     "output_type": "execute_result"
    }
   ],
   "source": [
    "sgd = SGDClassifier()\n",
    "sgd.fit(x_train, y_train)\n",
    "sgd_score = round(sgd.score(x_train, y_train) * 100, 2)\n",
    "sgd_score"
   ],
   "metadata": {
    "collapsed": false
   }
  },
  {
   "cell_type": "code",
   "execution_count": 1972,
   "outputs": [
    {
     "data": {
      "text/plain": "71.91994"
     },
     "execution_count": 1972,
     "metadata": {},
     "output_type": "execute_result"
    }
   ],
   "source": [
    "from sklearn.discriminant_analysis import LinearDiscriminantAnalysis\n",
    "lda = LinearDiscriminantAnalysis()\n",
    "lda.fit(x_train, y_train)\n",
    "lda_score = round(lda.score(x_train, y_train) * 100, 5)\n",
    "lda_score"
   ],
   "metadata": {
    "collapsed": false
   }
  },
  {
   "cell_type": "code",
   "execution_count": 1973,
   "outputs": [
    {
     "data": {
      "text/plain": "                        Model     Score\n4               Decision Tree  76.37179\n5               Random Forest  76.37179\n1     Support Vector Machines  73.23000\n2                  Linear SVC  71.91994\n9  LinearDiscriminantAnalysis  71.91994\n8  Stochastic Gradient Decent  71.77000\n0         Logistic Regression  71.58633\n6                 Naive Bayes  70.04486\n3                         KNN  70.01035\n7                  Perceptron  59.26608",
      "text/html": "<div>\n<style scoped>\n    .dataframe tbody tr th:only-of-type {\n        vertical-align: middle;\n    }\n\n    .dataframe tbody tr th {\n        vertical-align: top;\n    }\n\n    .dataframe thead th {\n        text-align: right;\n    }\n</style>\n<table border=\"1\" class=\"dataframe\">\n  <thead>\n    <tr style=\"text-align: right;\">\n      <th></th>\n      <th>Model</th>\n      <th>Score</th>\n    </tr>\n  </thead>\n  <tbody>\n    <tr>\n      <th>4</th>\n      <td>Decision Tree</td>\n      <td>76.37179</td>\n    </tr>\n    <tr>\n      <th>5</th>\n      <td>Random Forest</td>\n      <td>76.37179</td>\n    </tr>\n    <tr>\n      <th>1</th>\n      <td>Support Vector Machines</td>\n      <td>73.23000</td>\n    </tr>\n    <tr>\n      <th>2</th>\n      <td>Linear SVC</td>\n      <td>71.91994</td>\n    </tr>\n    <tr>\n      <th>9</th>\n      <td>LinearDiscriminantAnalysis</td>\n      <td>71.91994</td>\n    </tr>\n    <tr>\n      <th>8</th>\n      <td>Stochastic Gradient Decent</td>\n      <td>71.77000</td>\n    </tr>\n    <tr>\n      <th>0</th>\n      <td>Logistic Regression</td>\n      <td>71.58633</td>\n    </tr>\n    <tr>\n      <th>6</th>\n      <td>Naive Bayes</td>\n      <td>70.04486</td>\n    </tr>\n    <tr>\n      <th>3</th>\n      <td>KNN</td>\n      <td>70.01035</td>\n    </tr>\n    <tr>\n      <th>7</th>\n      <td>Perceptron</td>\n      <td>59.26608</td>\n    </tr>\n  </tbody>\n</table>\n</div>"
     },
     "execution_count": 1973,
     "metadata": {},
     "output_type": "execute_result"
    }
   ],
   "source": [
    "models = pd.DataFrame({\n",
    "    'Model': ['Logistic Regression', 'Support Vector Machines', 'Linear SVC',\n",
    "              'KNN', 'Decision Tree', 'Random Forest', 'Naive Bayes',\n",
    "              'Perceptron', 'Stochastic Gradient Decent', 'LinearDiscriminantAnalysis'],\n",
    "\n",
    "    'Score': [logistic_regr_score, svc_score, linear_svc_score,\n",
    "              knn_score,  decision_tree_score, rf_score, gnb_score,\n",
    "              perc_score, sgd_score, lda_score]\n",
    "})\n",
    "\n",
    "models.sort_values(by='Score', ascending=False)"
   ],
   "metadata": {
    "collapsed": false
   }
  },
  {
   "cell_type": "code",
   "execution_count": 1974,
   "outputs": [
    {
     "ename": "AttributeError",
     "evalue": "predict_proba is not available when  probability=False",
     "output_type": "error",
     "traceback": [
      "\u001B[1;31m---------------------------------------------------------------------------\u001B[0m",
      "\u001B[1;31mAttributeError\u001B[0m                            Traceback (most recent call last)",
      "Cell \u001B[1;32mIn [1974], line 15\u001B[0m\n\u001B[0;32m     12\u001B[0m model\u001B[38;5;241m.\u001B[39mfit(x_train,y_train)\n\u001B[0;32m     14\u001B[0m \u001B[38;5;66;03m# 3. Confusion Matrix\u001B[39;00m\n\u001B[1;32m---> 15\u001B[0m y_pred_voter \u001B[38;5;241m=\u001B[39m \u001B[43mmodel\u001B[49m\u001B[38;5;241;43m.\u001B[39;49m\u001B[43mpredict\u001B[49m\u001B[43m(\u001B[49m\u001B[43mx_train\u001B[49m\u001B[43m)\u001B[49m\n\u001B[0;32m     16\u001B[0m acc_voter \u001B[38;5;241m=\u001B[39m \u001B[38;5;28mround\u001B[39m(model\u001B[38;5;241m.\u001B[39mscore(x_train, y_train) \u001B[38;5;241m*\u001B[39m \u001B[38;5;241m100\u001B[39m, \u001B[38;5;241m2\u001B[39m)\n\u001B[0;32m     17\u001B[0m \u001B[38;5;28mprint\u001B[39m (\u001B[38;5;124m\"\u001B[39m\u001B[38;5;124mAccuracy: \u001B[39m\u001B[38;5;132;01m%i\u001B[39;00m\u001B[38;5;124m \u001B[39m\u001B[38;5;132;01m%%\u001B[39;00m\u001B[38;5;124m \u001B[39m\u001B[38;5;130;01m\\n\u001B[39;00m\u001B[38;5;124m\"\u001B[39m\u001B[38;5;241m%\u001B[39macc_voter)\n",
      "File \u001B[1;32m~\\PycharmProjects\\ml_course\\venv\\lib\\site-packages\\sklearn\\ensemble\\_voting.py:368\u001B[0m, in \u001B[0;36mVotingClassifier.predict\u001B[1;34m(self, X)\u001B[0m\n\u001B[0;32m    366\u001B[0m check_is_fitted(\u001B[38;5;28mself\u001B[39m)\n\u001B[0;32m    367\u001B[0m \u001B[38;5;28;01mif\u001B[39;00m \u001B[38;5;28mself\u001B[39m\u001B[38;5;241m.\u001B[39mvoting \u001B[38;5;241m==\u001B[39m \u001B[38;5;124m\"\u001B[39m\u001B[38;5;124msoft\u001B[39m\u001B[38;5;124m\"\u001B[39m:\n\u001B[1;32m--> 368\u001B[0m     maj \u001B[38;5;241m=\u001B[39m np\u001B[38;5;241m.\u001B[39margmax(\u001B[38;5;28;43mself\u001B[39;49m\u001B[38;5;241;43m.\u001B[39;49m\u001B[43mpredict_proba\u001B[49m\u001B[43m(\u001B[49m\u001B[43mX\u001B[49m\u001B[43m)\u001B[49m, axis\u001B[38;5;241m=\u001B[39m\u001B[38;5;241m1\u001B[39m)\n\u001B[0;32m    370\u001B[0m \u001B[38;5;28;01melse\u001B[39;00m:  \u001B[38;5;66;03m# 'hard' voting\u001B[39;00m\n\u001B[0;32m    371\u001B[0m     predictions \u001B[38;5;241m=\u001B[39m \u001B[38;5;28mself\u001B[39m\u001B[38;5;241m.\u001B[39m_predict(X)\n",
      "File \u001B[1;32m~\\PycharmProjects\\ml_course\\venv\\lib\\site-packages\\sklearn\\ensemble\\_voting.py:409\u001B[0m, in \u001B[0;36mVotingClassifier.predict_proba\u001B[1;34m(self, X)\u001B[0m\n\u001B[0;32m    395\u001B[0m \u001B[38;5;124;03m\"\"\"Compute probabilities of possible outcomes for samples in X.\u001B[39;00m\n\u001B[0;32m    396\u001B[0m \n\u001B[0;32m    397\u001B[0m \u001B[38;5;124;03mParameters\u001B[39;00m\n\u001B[1;32m   (...)\u001B[0m\n\u001B[0;32m    405\u001B[0m \u001B[38;5;124;03m    Weighted average probability for each class per sample.\u001B[39;00m\n\u001B[0;32m    406\u001B[0m \u001B[38;5;124;03m\"\"\"\u001B[39;00m\n\u001B[0;32m    407\u001B[0m check_is_fitted(\u001B[38;5;28mself\u001B[39m)\n\u001B[0;32m    408\u001B[0m avg \u001B[38;5;241m=\u001B[39m np\u001B[38;5;241m.\u001B[39maverage(\n\u001B[1;32m--> 409\u001B[0m     \u001B[38;5;28;43mself\u001B[39;49m\u001B[38;5;241;43m.\u001B[39;49m\u001B[43m_collect_probas\u001B[49m\u001B[43m(\u001B[49m\u001B[43mX\u001B[49m\u001B[43m)\u001B[49m, axis\u001B[38;5;241m=\u001B[39m\u001B[38;5;241m0\u001B[39m, weights\u001B[38;5;241m=\u001B[39m\u001B[38;5;28mself\u001B[39m\u001B[38;5;241m.\u001B[39m_weights_not_none\n\u001B[0;32m    410\u001B[0m )\n\u001B[0;32m    411\u001B[0m \u001B[38;5;28;01mreturn\u001B[39;00m avg\n",
      "File \u001B[1;32m~\\PycharmProjects\\ml_course\\venv\\lib\\site-packages\\sklearn\\ensemble\\_voting.py:384\u001B[0m, in \u001B[0;36mVotingClassifier._collect_probas\u001B[1;34m(self, X)\u001B[0m\n\u001B[0;32m    382\u001B[0m \u001B[38;5;28;01mdef\u001B[39;00m \u001B[38;5;21m_collect_probas\u001B[39m(\u001B[38;5;28mself\u001B[39m, X):\n\u001B[0;32m    383\u001B[0m     \u001B[38;5;124;03m\"\"\"Collect results from clf.predict calls.\"\"\"\u001B[39;00m\n\u001B[1;32m--> 384\u001B[0m     \u001B[38;5;28;01mreturn\u001B[39;00m np\u001B[38;5;241m.\u001B[39masarray([clf\u001B[38;5;241m.\u001B[39mpredict_proba(X) \u001B[38;5;28;01mfor\u001B[39;00m clf \u001B[38;5;129;01min\u001B[39;00m \u001B[38;5;28mself\u001B[39m\u001B[38;5;241m.\u001B[39mestimators_])\n",
      "File \u001B[1;32m~\\PycharmProjects\\ml_course\\venv\\lib\\site-packages\\sklearn\\ensemble\\_voting.py:384\u001B[0m, in \u001B[0;36m<listcomp>\u001B[1;34m(.0)\u001B[0m\n\u001B[0;32m    382\u001B[0m \u001B[38;5;28;01mdef\u001B[39;00m \u001B[38;5;21m_collect_probas\u001B[39m(\u001B[38;5;28mself\u001B[39m, X):\n\u001B[0;32m    383\u001B[0m     \u001B[38;5;124;03m\"\"\"Collect results from clf.predict calls.\"\"\"\u001B[39;00m\n\u001B[1;32m--> 384\u001B[0m     \u001B[38;5;28;01mreturn\u001B[39;00m np\u001B[38;5;241m.\u001B[39masarray([\u001B[43mclf\u001B[49m\u001B[38;5;241;43m.\u001B[39;49m\u001B[43mpredict_proba\u001B[49m(X) \u001B[38;5;28;01mfor\u001B[39;00m clf \u001B[38;5;129;01min\u001B[39;00m \u001B[38;5;28mself\u001B[39m\u001B[38;5;241m.\u001B[39mestimators_])\n",
      "File \u001B[1;32m~\\PycharmProjects\\ml_course\\venv\\lib\\site-packages\\sklearn\\utils\\metaestimators.py:127\u001B[0m, in \u001B[0;36m_AvailableIfDescriptor.__get__\u001B[1;34m(self, obj, owner)\u001B[0m\n\u001B[0;32m    121\u001B[0m attr_err \u001B[38;5;241m=\u001B[39m \u001B[38;5;167;01mAttributeError\u001B[39;00m(\n\u001B[0;32m    122\u001B[0m     \u001B[38;5;124mf\u001B[39m\u001B[38;5;124m\"\u001B[39m\u001B[38;5;124mThis \u001B[39m\u001B[38;5;132;01m{\u001B[39;00m\u001B[38;5;28mrepr\u001B[39m(owner\u001B[38;5;241m.\u001B[39m\u001B[38;5;18m__name__\u001B[39m)\u001B[38;5;132;01m}\u001B[39;00m\u001B[38;5;124m has no attribute \u001B[39m\u001B[38;5;132;01m{\u001B[39;00m\u001B[38;5;28mrepr\u001B[39m(\u001B[38;5;28mself\u001B[39m\u001B[38;5;241m.\u001B[39mattribute_name)\u001B[38;5;132;01m}\u001B[39;00m\u001B[38;5;124m\"\u001B[39m\n\u001B[0;32m    123\u001B[0m )\n\u001B[0;32m    124\u001B[0m \u001B[38;5;28;01mif\u001B[39;00m obj \u001B[38;5;129;01mis\u001B[39;00m \u001B[38;5;129;01mnot\u001B[39;00m \u001B[38;5;28;01mNone\u001B[39;00m:\n\u001B[0;32m    125\u001B[0m     \u001B[38;5;66;03m# delegate only on instances, not the classes.\u001B[39;00m\n\u001B[0;32m    126\u001B[0m     \u001B[38;5;66;03m# this is to allow access to the docstrings.\u001B[39;00m\n\u001B[1;32m--> 127\u001B[0m     \u001B[38;5;28;01mif\u001B[39;00m \u001B[38;5;129;01mnot\u001B[39;00m \u001B[38;5;28;43mself\u001B[39;49m\u001B[38;5;241;43m.\u001B[39;49m\u001B[43mcheck\u001B[49m\u001B[43m(\u001B[49m\u001B[43mobj\u001B[49m\u001B[43m)\u001B[49m:\n\u001B[0;32m    128\u001B[0m         \u001B[38;5;28;01mraise\u001B[39;00m attr_err\n\u001B[0;32m    129\u001B[0m     out \u001B[38;5;241m=\u001B[39m MethodType(\u001B[38;5;28mself\u001B[39m\u001B[38;5;241m.\u001B[39mfn, obj)\n",
      "File \u001B[1;32m~\\PycharmProjects\\ml_course\\venv\\lib\\site-packages\\sklearn\\svm\\_base.py:819\u001B[0m, in \u001B[0;36mBaseSVC._check_proba\u001B[1;34m(self)\u001B[0m\n\u001B[0;32m    817\u001B[0m \u001B[38;5;28;01mdef\u001B[39;00m \u001B[38;5;21m_check_proba\u001B[39m(\u001B[38;5;28mself\u001B[39m):\n\u001B[0;32m    818\u001B[0m     \u001B[38;5;28;01mif\u001B[39;00m \u001B[38;5;129;01mnot\u001B[39;00m \u001B[38;5;28mself\u001B[39m\u001B[38;5;241m.\u001B[39mprobability:\n\u001B[1;32m--> 819\u001B[0m         \u001B[38;5;28;01mraise\u001B[39;00m \u001B[38;5;167;01mAttributeError\u001B[39;00m(\n\u001B[0;32m    820\u001B[0m             \u001B[38;5;124m\"\u001B[39m\u001B[38;5;124mpredict_proba is not available when  probability=False\u001B[39m\u001B[38;5;124m\"\u001B[39m\n\u001B[0;32m    821\u001B[0m         )\n\u001B[0;32m    822\u001B[0m     \u001B[38;5;28;01mif\u001B[39;00m \u001B[38;5;28mself\u001B[39m\u001B[38;5;241m.\u001B[39m_impl \u001B[38;5;129;01mnot\u001B[39;00m \u001B[38;5;129;01min\u001B[39;00m (\u001B[38;5;124m\"\u001B[39m\u001B[38;5;124mc_svc\u001B[39m\u001B[38;5;124m\"\u001B[39m, \u001B[38;5;124m\"\u001B[39m\u001B[38;5;124mnu_svc\u001B[39m\u001B[38;5;124m\"\u001B[39m):\n\u001B[0;32m    823\u001B[0m         \u001B[38;5;28;01mraise\u001B[39;00m \u001B[38;5;167;01mAttributeError\u001B[39;00m(\u001B[38;5;124m\"\u001B[39m\u001B[38;5;124mpredict_proba only implemented for SVC and NuSVC\u001B[39m\u001B[38;5;124m\"\u001B[39m)\n",
      "\u001B[1;31mAttributeError\u001B[0m: predict_proba is not available when  probability=False"
     ]
    }
   ],
   "source": [
    "from sklearn.metrics import confusion_matrix\n",
    "from sklearn.ensemble import VotingClassifier\n",
    "\n",
    "# 1. Dыбираем модели, включенные в голосование\n",
    "model1 = RandomForestClassifier()\n",
    "model2 = SVC()\n",
    "model3 = KNeighborsClassifier()\n",
    "\n",
    "\n",
    "# 2. Сам \"голосующий\" классификатор\n",
    "model = VotingClassifier(estimators=[('perceptron', model1), ('sdg', model2), ('nb', model3)], voting='soft')\n",
    "model.fit(x_train,y_train)\n",
    "\n",
    "# 3. Confusion Matrix\n",
    "y_pred_voter = model.predict(x_train)\n",
    "acc_voter = round(model.score(x_train, y_train) * 100, 2)\n",
    "print (\"Accuracy: %i %% \\n\"%acc_voter)\n",
    "\n",
    "#class_names = ['Survived', 'Not Survived']\n",
    "\n",
    "# Compute confusion matrix\n",
    "cnf_matrix = confusion_matrix(y_train, y_pred_voter)\n",
    "cnf_matrix_percent = cnf_matrix.astype('float') / cnf_matrix.sum(axis=1)[:, np.newaxis]\n",
    "\n",
    "true_class_names = ['True Survived', 'True Not Survived']\n",
    "predicted_class_names = ['Predicted Survived', 'Predicted Not Survived']\n",
    "\n",
    "df_cnf_matrix = pd.DataFrame(cnf_matrix,\n",
    "                             index = true_class_names,\n",
    "                             columns = predicted_class_names)\n",
    "\n",
    "df_cnf_matrix_percent = pd.DataFrame(cnf_matrix_percent,\n",
    "                                     index = true_class_names,\n",
    "                                     columns = predicted_class_names)\n",
    "\n",
    "plt.figure(figsize = (15,5))\n",
    "\n",
    "ax1 = plt.subplot(121)\n",
    "sns.heatmap(df_cnf_matrix, annot=True, fmt='d')\n",
    "ax1.title.set_text('Voting: values')\n",
    "\n",
    "ax2 = plt.subplot(122)\n",
    "sns.heatmap(df_cnf_matrix_percent, annot=True)\n",
    "ax2.title.set_text('Voting: %')"
   ],
   "metadata": {
    "collapsed": false
   }
  },
  {
   "cell_type": "code",
   "execution_count": null,
   "outputs": [],
   "source": [
    "test.head()"
   ],
   "metadata": {
    "collapsed": false
   }
  },
  {
   "cell_type": "code",
   "execution_count": null,
   "outputs": [],
   "source": [
    "x_test = test.drop('PassengerId', axis=1)"
   ],
   "metadata": {
    "collapsed": false
   }
  },
  {
   "cell_type": "code",
   "execution_count": null,
   "outputs": [],
   "source": [
    "x_test"
   ],
   "metadata": {
    "collapsed": false
   }
  },
  {
   "cell_type": "code",
   "execution_count": null,
   "outputs": [],
   "source": [
    "x_test = sc.fit_transform(x_test)"
   ],
   "metadata": {
    "collapsed": false
   }
  },
  {
   "cell_type": "code",
   "execution_count": null,
   "outputs": [],
   "source": [
    "# rf_pred = rf.predict(x_test)\n",
    "# vote_pred = rf.predict(x_test)\n",
    "# dt_pred = decision_tree.predict(x_test)\n",
    "model_pred = model.predict(x_test)\n",
    "submission = pd.DataFrame({\n",
    "    \"PassengerId\": test[\"PassengerId\"],\n",
    "    \"Transported\": model_pred\n",
    "})"
   ],
   "metadata": {
    "collapsed": false
   }
  },
  {
   "cell_type": "code",
   "execution_count": null,
   "outputs": [],
   "source": [
    "submission.loc[submission.Transported == 0, 'Transported'] = False\n",
    "submission.loc[submission.Transported == 1, 'Transported'] = True"
   ],
   "metadata": {
    "collapsed": false
   }
  },
  {
   "cell_type": "code",
   "execution_count": null,
   "outputs": [],
   "source": [
    "submission.to_csv('submission.csv', index=False)\n",
    "submission"
   ],
   "metadata": {
    "collapsed": false
   }
  },
  {
   "cell_type": "code",
   "execution_count": null,
   "outputs": [],
   "source": [],
   "metadata": {
    "collapsed": false
   }
  }
 ],
 "metadata": {
  "kernelspec": {
   "display_name": "Python 3",
   "language": "python",
   "name": "python3"
  },
  "language_info": {
   "codemirror_mode": {
    "name": "ipython",
    "version": 2
   },
   "file_extension": ".py",
   "mimetype": "text/x-python",
   "name": "python",
   "nbconvert_exporter": "python",
   "pygments_lexer": "ipython2",
   "version": "2.7.6"
  }
 },
 "nbformat": 4,
 "nbformat_minor": 0
}
